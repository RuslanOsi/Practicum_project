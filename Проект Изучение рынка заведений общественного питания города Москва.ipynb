{
 "cells": [
  {
   "cell_type": "markdown",
   "id": "e06910dd",
   "metadata": {
    "id": "e06910dd"
   },
   "source": [
    "# Изучение рынка заведений общественного питания города Москва\n",
    "\n",
    "- Автор:Осипов Руслан\n",
    "- Дата: 10.04.2025"
   ]
  },
  {
   "cell_type": "markdown",
   "id": "4149134c",
   "metadata": {
    "id": "4149134c"
   },
   "source": [
    "### Цели и задачи проекта\n",
    "\n",
    "**Цель:** Провести исследовательский анализ провести исследовательский анализ рынка общественного притания города Москва.\n",
    "\n",
    "**Задачи:**\n",
    "1. Загрузить данные и познакомиться с их содержимым.\n",
    "2. Провести предобработку данных.\n",
    "3. Провести исследовательский анализ данных:\n",
    "   - категории заведений;\n",
    "   - административные районы Москвы;\n",
    "   - соотношение сетевых и несетевых заведений;\n",
    "   - количество посадочных мест в заведениях;\n",
    "   - рейтинг заведений;\n",
    "   - кореляция данных с рейтингом завдений;\n",
    "   - топ-15 популярных сетей в Москве;\n",
    "   - средний чек(столбец `middle_avg_bill`) в районах Москвы.\n",
    "4. Сформулировать итоговый вывод и рекомендации."
   ]
  },
  {
   "cell_type": "markdown",
   "id": "728986ea",
   "metadata": {
    "id": "728986ea"
   },
   "source": [
    "### Описание данных\n",
    "\n",
    "Для анализа доступны данные с заведениями общественного питания Москвы, составленный на основе данных сервисов Яндекс Карты и Яндекс Бизнес на лето 2022 года. Данные состоят из двух дадасетов:\n",
    "\n",
    "- `/datasets/rest_info.csv` - содержит информацию о заведениях общественного питания;\n",
    "- `/datasets/rest_price.csv` - содержит информацию о среднем чеке в заведениях общественного питания.\n"
   ]
  },
  {
   "cell_type": "markdown",
   "id": "93bde25c",
   "metadata": {},
   "source": [
    "### Описание датасета rest_info\n",
    "\n",
    "- `name` — название заведения;\n",
    "- `address` — адрес заведения;\n",
    "- `district` — административный район, в котором находится заведение, например Центральный административный округ;\n",
    "- `category` — категория заведения, например «кафе», «пиццерия» или «кофейня»;\n",
    "- `hours` — информация о днях и часах работы;\n",
    "- `rating` — рейтинг заведения по оценкам пользователей в Яндекс Картах (высшая оценка — 5.0);\n",
    "- `chain` — число, выраженное 0 или 1, которое показывает, является ли заведение сетевым (для маленьких сетей могут встречаться ошибки):\n",
    "   - 0 — *заведение не является сетевым;*\n",
    "   - 1 — *заведение является сетевым.*\n",
    "- `seats` — количество посадочных мест.\n",
    "\n",
    "### Описание датасета rest_price\n",
    "\n",
    "- `price` — категория цен в заведении, например «средние», «ниже среднего», «выше среднего» и так далее;\n",
    "- `avg_bill` — строка, которая хранит среднюю стоимость заказа в виде диапазона, например:\n",
    "  - *«Средний счёт: 1000–1500 ₽»;*\n",
    "  - *«Цена чашки капучино: 130–220 ₽»;*\n",
    "  - *«Цена бокала пива: 400–600 ₽».*\n",
    "  - и так далее;\n",
    "- `middle_avg_bill` — число с оценкой среднего чека, которое указано только для значений из столбца avg_bill, начинающихся с подстроки «Средний счёт»:\n",
    "  - *Если в строке указан ценовой диапазон из двух значений, в столбец войдёт медиана этих двух значений.*\n",
    "  - *Если в строке указано одно число — цена без диапазона, то в столбец войдёт это число.*\n",
    "  - *Если значения нет или оно не начинается с подстроки «Средний счёт», то в столбец ничего не войдёт.*\n",
    "- `middle_coffee_cup` — число с оценкой одной чашки капучино, которое указано только для значений из столбца avg_bill, начинающихся с подстроки «Цена одной чашки капучино»:\n",
    "  - *Если в строке указан ценовой диапазон из двух значений, в столбец войдёт медиана этих двух значений.*\n",
    "  - *Если в строке указано одно число — цена без диапазона, то в столбец войдёт это число.*\n",
    "  - *Если значения нет или оно не начинается с подстроки «Цена одной чашки капучино», то в столбец ничего не войдёт.*\n",
    "\n"
   ]
  },
  {
   "cell_type": "markdown",
   "id": "4fecaf95",
   "metadata": {
    "id": "4fecaf95"
   },
   "source": [
    "### Содержимое проекта\n",
    "\n",
    "1. Загрузка данных и знакомство с ними.\n",
    "2. Предобработка данных.\n",
    "3. Исследовательский анализ данных.\n",
    "4. Итоговые выводы."
   ]
  },
  {
   "cell_type": "markdown",
   "id": "6f7d21d6",
   "metadata": {
    "id": "6f7d21d6"
   },
   "source": [
    "## 1. Загрузка данных и знакомство с ними\n",
    "\n",
    "- Загрузите данные о заведениях общественного питания Москвы. Путь к файлам: `/datasets/rest_info.csv` и `/datasets/rest_price.csv`."
   ]
  },
  {
   "cell_type": "code",
   "execution_count": 1,
   "id": "a85b4b5e",
   "metadata": {},
   "outputs": [
    {
     "name": "stdout",
     "output_type": "stream",
     "text": [
      "Requirement already satisfied: phik in /opt/conda/lib/python3.9/site-packages (0.12.5)\n",
      "Requirement already satisfied: joblib>=0.14.1 in /opt/conda/lib/python3.9/site-packages (from phik) (1.1.0)\n",
      "Requirement already satisfied: pandas>=0.25.1 in /opt/conda/lib/python3.9/site-packages (from phik) (1.2.4)\n",
      "Requirement already satisfied: numpy>=1.18.0 in /opt/conda/lib/python3.9/site-packages (from phik) (1.21.1)\n",
      "Requirement already satisfied: scipy>=1.5.2 in /opt/conda/lib/python3.9/site-packages (from phik) (1.9.1)\n",
      "Requirement already satisfied: matplotlib>=2.2.3 in /opt/conda/lib/python3.9/site-packages (from phik) (3.3.4)\n",
      "Requirement already satisfied: cycler>=0.10 in /opt/conda/lib/python3.9/site-packages (from matplotlib>=2.2.3->phik) (0.11.0)\n",
      "Requirement already satisfied: kiwisolver>=1.0.1 in /opt/conda/lib/python3.9/site-packages (from matplotlib>=2.2.3->phik) (1.4.4)\n",
      "Requirement already satisfied: python-dateutil>=2.1 in /opt/conda/lib/python3.9/site-packages (from matplotlib>=2.2.3->phik) (2.8.1)\n",
      "Requirement already satisfied: pyparsing!=2.0.4,!=2.1.2,!=2.1.6,>=2.0.3 in /opt/conda/lib/python3.9/site-packages (from matplotlib>=2.2.3->phik) (2.4.7)\n",
      "Requirement already satisfied: pillow>=6.2.0 in /opt/conda/lib/python3.9/site-packages (from matplotlib>=2.2.3->phik) (8.4.0)\n",
      "Requirement already satisfied: pytz>=2017.3 in /opt/conda/lib/python3.9/site-packages (from pandas>=0.25.1->phik) (2021.1)\n",
      "Requirement already satisfied: six>=1.5 in /opt/conda/lib/python3.9/site-packages (from python-dateutil>=2.1->matplotlib>=2.2.3->phik) (1.16.0)\n"
     ]
    }
   ],
   "source": [
    "!pip install phik -U"
   ]
  },
  {
   "cell_type": "code",
   "execution_count": 2,
   "id": "05faf34b",
   "metadata": {
    "id": "05faf34b"
   },
   "outputs": [],
   "source": [
    "# Импортируем библиотеки\n",
    "import pandas as pd\n",
    "\n",
    "# Загружаем библиотеки для визуализации данных\n",
    "import matplotlib.pyplot as plt\n",
    "import seaborn as sns\n",
    "\n",
    "# Загружаем библиотеку для расчёта коэффициента корреляции phi_k\n",
    "from phik import phik_matrix"
   ]
  },
  {
   "cell_type": "code",
   "execution_count": 3,
   "id": "ce87c1db",
   "metadata": {
    "id": "ce87c1db"
   },
   "outputs": [],
   "source": [
    "# Выгружаем данные в переменные bank_df и clients_df\n",
    "rest_info = pd.read_csv('https://code.s3.yandex.net//datasets/rest_info.csv')\n",
    "rest_price = pd.read_csv('https://code.s3.yandex.net/datasets/rest_price.csv')"
   ]
  },
  {
   "cell_type": "markdown",
   "id": "18b5dfff",
   "metadata": {
    "id": "18b5dfff"
   },
   "source": [
    "Познакомимся с данными датасета `rest_info.csv` — выведем первые строки методом `head()`, а информацию о датафрейме методом `info()`:"
   ]
  },
  {
   "cell_type": "code",
   "execution_count": 4,
   "id": "f68a7419",
   "metadata": {
    "id": "f68a7419"
   },
   "outputs": [
    {
     "data": {
      "text/html": [
       "<div>\n",
       "<style scoped>\n",
       "    .dataframe tbody tr th:only-of-type {\n",
       "        vertical-align: middle;\n",
       "    }\n",
       "\n",
       "    .dataframe tbody tr th {\n",
       "        vertical-align: top;\n",
       "    }\n",
       "\n",
       "    .dataframe thead th {\n",
       "        text-align: right;\n",
       "    }\n",
       "</style>\n",
       "<table border=\"1\" class=\"dataframe\">\n",
       "  <thead>\n",
       "    <tr style=\"text-align: right;\">\n",
       "      <th></th>\n",
       "      <th>id</th>\n",
       "      <th>name</th>\n",
       "      <th>category</th>\n",
       "      <th>address</th>\n",
       "      <th>district</th>\n",
       "      <th>hours</th>\n",
       "      <th>rating</th>\n",
       "      <th>chain</th>\n",
       "      <th>seats</th>\n",
       "    </tr>\n",
       "  </thead>\n",
       "  <tbody>\n",
       "    <tr>\n",
       "      <th>0</th>\n",
       "      <td>0c3e3439a8c64ea5bf6ecd6ca6ae19f0</td>\n",
       "      <td>WoWфли</td>\n",
       "      <td>кафе</td>\n",
       "      <td>Москва, улица Дыбенко, 7/1</td>\n",
       "      <td>Северный административный округ</td>\n",
       "      <td>ежедневно, 10:00–22:00</td>\n",
       "      <td>5.0</td>\n",
       "      <td>0</td>\n",
       "      <td>NaN</td>\n",
       "    </tr>\n",
       "    <tr>\n",
       "      <th>1</th>\n",
       "      <td>045780ada3474c57a2112e505d74b633</td>\n",
       "      <td>Четыре комнаты</td>\n",
       "      <td>ресторан</td>\n",
       "      <td>Москва, улица Дыбенко, 36, корп. 1</td>\n",
       "      <td>Северный административный округ</td>\n",
       "      <td>ежедневно, 10:00–22:00</td>\n",
       "      <td>4.5</td>\n",
       "      <td>0</td>\n",
       "      <td>4.0</td>\n",
       "    </tr>\n",
       "    <tr>\n",
       "      <th>2</th>\n",
       "      <td>1070b6b59144425896c65889347fcff6</td>\n",
       "      <td>Хазри</td>\n",
       "      <td>кафе</td>\n",
       "      <td>Москва, Клязьминская улица, 15</td>\n",
       "      <td>Северный административный округ</td>\n",
       "      <td>пн-чт 11:00–02:00; пт,сб 11:00–05:00; вс 11:00...</td>\n",
       "      <td>4.6</td>\n",
       "      <td>0</td>\n",
       "      <td>45.0</td>\n",
       "    </tr>\n",
       "    <tr>\n",
       "      <th>3</th>\n",
       "      <td>03ac7cd772104f65b58b349dc59f03ee</td>\n",
       "      <td>Dormouse Coffee Shop</td>\n",
       "      <td>кофейня</td>\n",
       "      <td>Москва, улица Маршала Федоренко, 12</td>\n",
       "      <td>Северный административный округ</td>\n",
       "      <td>ежедневно, 09:00–22:00</td>\n",
       "      <td>5.0</td>\n",
       "      <td>0</td>\n",
       "      <td>NaN</td>\n",
       "    </tr>\n",
       "    <tr>\n",
       "      <th>4</th>\n",
       "      <td>a163aada139c4c7f87b0b1c0b466a50f</td>\n",
       "      <td>Иль Марко</td>\n",
       "      <td>пиццерия</td>\n",
       "      <td>Москва, Правобережная улица, 1Б</td>\n",
       "      <td>Северный административный округ</td>\n",
       "      <td>ежедневно, 10:00–22:00</td>\n",
       "      <td>5.0</td>\n",
       "      <td>1</td>\n",
       "      <td>148.0</td>\n",
       "    </tr>\n",
       "  </tbody>\n",
       "</table>\n",
       "</div>"
      ],
      "text/plain": [
       "                                 id                  name  category  \\\n",
       "0  0c3e3439a8c64ea5bf6ecd6ca6ae19f0                WoWфли      кафе   \n",
       "1  045780ada3474c57a2112e505d74b633        Четыре комнаты  ресторан   \n",
       "2  1070b6b59144425896c65889347fcff6                 Хазри      кафе   \n",
       "3  03ac7cd772104f65b58b349dc59f03ee  Dormouse Coffee Shop   кофейня   \n",
       "4  a163aada139c4c7f87b0b1c0b466a50f             Иль Марко  пиццерия   \n",
       "\n",
       "                               address                         district  \\\n",
       "0           Москва, улица Дыбенко, 7/1  Северный административный округ   \n",
       "1   Москва, улица Дыбенко, 36, корп. 1  Северный административный округ   \n",
       "2       Москва, Клязьминская улица, 15  Северный административный округ   \n",
       "3  Москва, улица Маршала Федоренко, 12  Северный административный округ   \n",
       "4      Москва, Правобережная улица, 1Б  Северный административный округ   \n",
       "\n",
       "                                               hours  rating  chain  seats  \n",
       "0                             ежедневно, 10:00–22:00     5.0      0    NaN  \n",
       "1                             ежедневно, 10:00–22:00     4.5      0    4.0  \n",
       "2  пн-чт 11:00–02:00; пт,сб 11:00–05:00; вс 11:00...     4.6      0   45.0  \n",
       "3                             ежедневно, 09:00–22:00     5.0      0    NaN  \n",
       "4                             ежедневно, 10:00–22:00     5.0      1  148.0  "
      ]
     },
     "execution_count": 4,
     "metadata": {},
     "output_type": "execute_result"
    }
   ],
   "source": [
    "# Выводим первые строки датафрейма на экран\n",
    "rest_info.head()"
   ]
  },
  {
   "cell_type": "code",
   "execution_count": 5,
   "id": "dd415c80",
   "metadata": {
    "id": "dd415c80"
   },
   "outputs": [
    {
     "name": "stdout",
     "output_type": "stream",
     "text": [
      "<class 'pandas.core.frame.DataFrame'>\n",
      "RangeIndex: 8406 entries, 0 to 8405\n",
      "Data columns (total 9 columns):\n",
      " #   Column    Non-Null Count  Dtype  \n",
      "---  ------    --------------  -----  \n",
      " 0   id        8406 non-null   object \n",
      " 1   name      8406 non-null   object \n",
      " 2   category  8406 non-null   object \n",
      " 3   address   8406 non-null   object \n",
      " 4   district  8406 non-null   object \n",
      " 5   hours     7870 non-null   object \n",
      " 6   rating    8406 non-null   float64\n",
      " 7   chain     8406 non-null   int64  \n",
      " 8   seats     4795 non-null   float64\n",
      "dtypes: float64(2), int64(1), object(6)\n",
      "memory usage: 591.2+ KB\n"
     ]
    }
   ],
   "source": [
    "# Выводим информацию о датафрейме\n",
    "rest_info.info()"
   ]
  },
  {
   "cell_type": "markdown",
   "id": "8c8bf559",
   "metadata": {
    "id": "3158ad37"
   },
   "source": [
    "Теперь познакомимся с данными датасета `rest_price.csv` — выведем первые строки методом head(), а информацию о датафрейме методом `info()`:"
   ]
  },
  {
   "cell_type": "code",
   "execution_count": 6,
   "id": "4bbaca39",
   "metadata": {},
   "outputs": [
    {
     "data": {
      "text/html": [
       "<div>\n",
       "<style scoped>\n",
       "    .dataframe tbody tr th:only-of-type {\n",
       "        vertical-align: middle;\n",
       "    }\n",
       "\n",
       "    .dataframe tbody tr th {\n",
       "        vertical-align: top;\n",
       "    }\n",
       "\n",
       "    .dataframe thead th {\n",
       "        text-align: right;\n",
       "    }\n",
       "</style>\n",
       "<table border=\"1\" class=\"dataframe\">\n",
       "  <thead>\n",
       "    <tr style=\"text-align: right;\">\n",
       "      <th></th>\n",
       "      <th>id</th>\n",
       "      <th>price</th>\n",
       "      <th>avg_bill</th>\n",
       "      <th>middle_avg_bill</th>\n",
       "      <th>middle_coffee_cup</th>\n",
       "    </tr>\n",
       "  </thead>\n",
       "  <tbody>\n",
       "    <tr>\n",
       "      <th>0</th>\n",
       "      <td>045780ada3474c57a2112e505d74b633</td>\n",
       "      <td>выше среднего</td>\n",
       "      <td>Средний счёт:1500–1600 ₽</td>\n",
       "      <td>1550.0</td>\n",
       "      <td>NaN</td>\n",
       "    </tr>\n",
       "    <tr>\n",
       "      <th>1</th>\n",
       "      <td>1070b6b59144425896c65889347fcff6</td>\n",
       "      <td>средние</td>\n",
       "      <td>Средний счёт:от 1000 ₽</td>\n",
       "      <td>1000.0</td>\n",
       "      <td>NaN</td>\n",
       "    </tr>\n",
       "    <tr>\n",
       "      <th>2</th>\n",
       "      <td>03ac7cd772104f65b58b349dc59f03ee</td>\n",
       "      <td>NaN</td>\n",
       "      <td>Цена чашки капучино:155–185 ₽</td>\n",
       "      <td>NaN</td>\n",
       "      <td>170.0</td>\n",
       "    </tr>\n",
       "    <tr>\n",
       "      <th>3</th>\n",
       "      <td>a163aada139c4c7f87b0b1c0b466a50f</td>\n",
       "      <td>средние</td>\n",
       "      <td>Средний счёт:400–600 ₽</td>\n",
       "      <td>500.0</td>\n",
       "      <td>NaN</td>\n",
       "    </tr>\n",
       "    <tr>\n",
       "      <th>4</th>\n",
       "      <td>8a343546b24e4a499ad96eb7d0797a8a</td>\n",
       "      <td>средние</td>\n",
       "      <td>NaN</td>\n",
       "      <td>NaN</td>\n",
       "      <td>NaN</td>\n",
       "    </tr>\n",
       "  </tbody>\n",
       "</table>\n",
       "</div>"
      ],
      "text/plain": [
       "                                 id          price  \\\n",
       "0  045780ada3474c57a2112e505d74b633  выше среднего   \n",
       "1  1070b6b59144425896c65889347fcff6        средние   \n",
       "2  03ac7cd772104f65b58b349dc59f03ee            NaN   \n",
       "3  a163aada139c4c7f87b0b1c0b466a50f        средние   \n",
       "4  8a343546b24e4a499ad96eb7d0797a8a        средние   \n",
       "\n",
       "                        avg_bill  middle_avg_bill  middle_coffee_cup  \n",
       "0       Средний счёт:1500–1600 ₽           1550.0                NaN  \n",
       "1         Средний счёт:от 1000 ₽           1000.0                NaN  \n",
       "2  Цена чашки капучино:155–185 ₽              NaN              170.0  \n",
       "3         Средний счёт:400–600 ₽            500.0                NaN  \n",
       "4                            NaN              NaN                NaN  "
      ]
     },
     "execution_count": 6,
     "metadata": {},
     "output_type": "execute_result"
    }
   ],
   "source": [
    "# Выводим первые строки датафрейма на экран\n",
    "rest_price.head()"
   ]
  },
  {
   "cell_type": "code",
   "execution_count": 7,
   "id": "8d5b66f3",
   "metadata": {},
   "outputs": [
    {
     "name": "stdout",
     "output_type": "stream",
     "text": [
      "<class 'pandas.core.frame.DataFrame'>\n",
      "RangeIndex: 4058 entries, 0 to 4057\n",
      "Data columns (total 5 columns):\n",
      " #   Column             Non-Null Count  Dtype  \n",
      "---  ------             --------------  -----  \n",
      " 0   id                 4058 non-null   object \n",
      " 1   price              3315 non-null   object \n",
      " 2   avg_bill           3816 non-null   object \n",
      " 3   middle_avg_bill    3149 non-null   float64\n",
      " 4   middle_coffee_cup  535 non-null    float64\n",
      "dtypes: float64(2), object(3)\n",
      "memory usage: 158.6+ KB\n"
     ]
    }
   ],
   "source": [
    "# Выводим информацию о датафрейме\n",
    "rest_price.info()"
   ]
  },
  {
   "cell_type": "markdown",
   "id": "2c614a62",
   "metadata": {
    "id": "2c614a62"
   },
   "source": [
    "---\n",
    "\n",
    "### Промежуточный вывод"
   ]
  },
  {
   "cell_type": "markdown",
   "id": "6ee161a8",
   "metadata": {
    "id": "3593b7d5"
   },
   "source": [
    "Датасет `rest_info.csv` содержит 9 столбцов и 8406 строк, в которых содержит информацию о заведениях общественного питания.\n",
    "\n",
    "После первичного анализа данных можно сделать следующие выводы:\n",
    "- Названия стобцов находятся в корректном виде snake case. \n",
    "- Столбцы `id`, `name`, `category`, `address`, `district`, `hours` содержат текстовые данные `object`. Для оптимизации анализа столбцы `category`, `district` надо привезти к типу данных `category`.\n",
    "- Столбцы `rating`, `chain`, `seats` содержат числовые данныее `float64` и `int64`. Для оптимизации анализа колонку `seats` можно привезти к целочисленному типу данных, а по данным в колонке `chain` понизить разрядность.\n",
    "- Прпопуски сожержатся в столбцах `hours`, `seats`. Ппопуски в часах работы могут говорить о том, что заведение работает 24 часа без выходных или ыграл человечский фактор и данные просто не были заполнены, Пропуски в в колонке с числом посадочных мест не удивительно, это говорит о том. что посадочных мест в заведении нет. Данные пропуски необходимо заполнить значениями-индитткаторами."
   ]
  },
  {
   "cell_type": "markdown",
   "id": "834bf5fa",
   "metadata": {
    "id": "c2cc7f38"
   },
   "source": [
    "Датасет `rest_price.csv` содержит 5 столбцов и 4058 строк, в которых содержит информацию о среднем чеке в заведениях общественного питания.\n",
    "\n",
    "После первичного анализа данных можно сделать следующие выводы:\n",
    "- Названия стобцов находятся в корректном виде snake case. \n",
    "- Столбцы `id`, `price`, `avg_bill` содержат текстовые данные `object`. Для оптимизации анализа столбец `price` надо привезти к типу данных `category`, а пропуски заполнить значением-индикатором `неизвестно`.\n",
    "- Столбцы `middle_avg_bill `, `middle_coffee_cup ` содержат числовые данныее `float64`. \n",
    "- Прпопуски сожержатся в столбцах `price`, `avg_bill`, `middle_avg_bill`, `middle_coffee_cup` содержат пропуски. В зависимости от объема пропущенных данных в предобработке данных выберем метод их устранения."
   ]
  },
  {
   "cell_type": "markdown",
   "id": "622a28e5",
   "metadata": {
    "id": "84e2bdab"
   },
   "source": [
    "Первичное знакомство с данными показывает, что данные неплохого качества. Пропущенные данные имеются, но в большинстве случаев, судя по условиям заполнения этих данных, это нормально. данные пропуски устраним на следующем этапе предобработки данных. "
   ]
  },
  {
   "cell_type": "markdown",
   "id": "8a8d1491",
   "metadata": {
    "id": "8a8d1491"
   },
   "source": [
    "### Подготовка единого датафрейма\n",
    "\n",
    "- Объединим данные двух датасетов в один."
   ]
  },
  {
   "cell_type": "code",
   "execution_count": 8,
   "id": "3408e303",
   "metadata": {
    "id": "3408e303"
   },
   "outputs": [],
   "source": [
    "# Соединяем данные в единый датафрейм df\n",
    "df = rest_info.merge(rest_price, on='id', how='left')"
   ]
  },
  {
   "cell_type": "code",
   "execution_count": 9,
   "id": "5695950b",
   "metadata": {
    "id": "5695950b"
   },
   "outputs": [
    {
     "data": {
      "text/html": [
       "<div>\n",
       "<style scoped>\n",
       "    .dataframe tbody tr th:only-of-type {\n",
       "        vertical-align: middle;\n",
       "    }\n",
       "\n",
       "    .dataframe tbody tr th {\n",
       "        vertical-align: top;\n",
       "    }\n",
       "\n",
       "    .dataframe thead th {\n",
       "        text-align: right;\n",
       "    }\n",
       "</style>\n",
       "<table border=\"1\" class=\"dataframe\">\n",
       "  <thead>\n",
       "    <tr style=\"text-align: right;\">\n",
       "      <th></th>\n",
       "      <th>id</th>\n",
       "      <th>name</th>\n",
       "      <th>category</th>\n",
       "      <th>address</th>\n",
       "      <th>district</th>\n",
       "      <th>hours</th>\n",
       "      <th>rating</th>\n",
       "      <th>chain</th>\n",
       "      <th>seats</th>\n",
       "      <th>price</th>\n",
       "      <th>avg_bill</th>\n",
       "      <th>middle_avg_bill</th>\n",
       "      <th>middle_coffee_cup</th>\n",
       "    </tr>\n",
       "  </thead>\n",
       "  <tbody>\n",
       "    <tr>\n",
       "      <th>0</th>\n",
       "      <td>0c3e3439a8c64ea5bf6ecd6ca6ae19f0</td>\n",
       "      <td>WoWфли</td>\n",
       "      <td>кафе</td>\n",
       "      <td>Москва, улица Дыбенко, 7/1</td>\n",
       "      <td>Северный административный округ</td>\n",
       "      <td>ежедневно, 10:00–22:00</td>\n",
       "      <td>5.0</td>\n",
       "      <td>0</td>\n",
       "      <td>NaN</td>\n",
       "      <td>NaN</td>\n",
       "      <td>NaN</td>\n",
       "      <td>NaN</td>\n",
       "      <td>NaN</td>\n",
       "    </tr>\n",
       "    <tr>\n",
       "      <th>1</th>\n",
       "      <td>045780ada3474c57a2112e505d74b633</td>\n",
       "      <td>Четыре комнаты</td>\n",
       "      <td>ресторан</td>\n",
       "      <td>Москва, улица Дыбенко, 36, корп. 1</td>\n",
       "      <td>Северный административный округ</td>\n",
       "      <td>ежедневно, 10:00–22:00</td>\n",
       "      <td>4.5</td>\n",
       "      <td>0</td>\n",
       "      <td>4.0</td>\n",
       "      <td>выше среднего</td>\n",
       "      <td>Средний счёт:1500–1600 ₽</td>\n",
       "      <td>1550.0</td>\n",
       "      <td>NaN</td>\n",
       "    </tr>\n",
       "    <tr>\n",
       "      <th>2</th>\n",
       "      <td>1070b6b59144425896c65889347fcff6</td>\n",
       "      <td>Хазри</td>\n",
       "      <td>кафе</td>\n",
       "      <td>Москва, Клязьминская улица, 15</td>\n",
       "      <td>Северный административный округ</td>\n",
       "      <td>пн-чт 11:00–02:00; пт,сб 11:00–05:00; вс 11:00...</td>\n",
       "      <td>4.6</td>\n",
       "      <td>0</td>\n",
       "      <td>45.0</td>\n",
       "      <td>средние</td>\n",
       "      <td>Средний счёт:от 1000 ₽</td>\n",
       "      <td>1000.0</td>\n",
       "      <td>NaN</td>\n",
       "    </tr>\n",
       "    <tr>\n",
       "      <th>3</th>\n",
       "      <td>03ac7cd772104f65b58b349dc59f03ee</td>\n",
       "      <td>Dormouse Coffee Shop</td>\n",
       "      <td>кофейня</td>\n",
       "      <td>Москва, улица Маршала Федоренко, 12</td>\n",
       "      <td>Северный административный округ</td>\n",
       "      <td>ежедневно, 09:00–22:00</td>\n",
       "      <td>5.0</td>\n",
       "      <td>0</td>\n",
       "      <td>NaN</td>\n",
       "      <td>NaN</td>\n",
       "      <td>Цена чашки капучино:155–185 ₽</td>\n",
       "      <td>NaN</td>\n",
       "      <td>170.0</td>\n",
       "    </tr>\n",
       "    <tr>\n",
       "      <th>4</th>\n",
       "      <td>a163aada139c4c7f87b0b1c0b466a50f</td>\n",
       "      <td>Иль Марко</td>\n",
       "      <td>пиццерия</td>\n",
       "      <td>Москва, Правобережная улица, 1Б</td>\n",
       "      <td>Северный административный округ</td>\n",
       "      <td>ежедневно, 10:00–22:00</td>\n",
       "      <td>5.0</td>\n",
       "      <td>1</td>\n",
       "      <td>148.0</td>\n",
       "      <td>средние</td>\n",
       "      <td>Средний счёт:400–600 ₽</td>\n",
       "      <td>500.0</td>\n",
       "      <td>NaN</td>\n",
       "    </tr>\n",
       "  </tbody>\n",
       "</table>\n",
       "</div>"
      ],
      "text/plain": [
       "                                 id                  name  category  \\\n",
       "0  0c3e3439a8c64ea5bf6ecd6ca6ae19f0                WoWфли      кафе   \n",
       "1  045780ada3474c57a2112e505d74b633        Четыре комнаты  ресторан   \n",
       "2  1070b6b59144425896c65889347fcff6                 Хазри      кафе   \n",
       "3  03ac7cd772104f65b58b349dc59f03ee  Dormouse Coffee Shop   кофейня   \n",
       "4  a163aada139c4c7f87b0b1c0b466a50f             Иль Марко  пиццерия   \n",
       "\n",
       "                               address                         district  \\\n",
       "0           Москва, улица Дыбенко, 7/1  Северный административный округ   \n",
       "1   Москва, улица Дыбенко, 36, корп. 1  Северный административный округ   \n",
       "2       Москва, Клязьминская улица, 15  Северный административный округ   \n",
       "3  Москва, улица Маршала Федоренко, 12  Северный административный округ   \n",
       "4      Москва, Правобережная улица, 1Б  Северный административный округ   \n",
       "\n",
       "                                               hours  rating  chain  seats  \\\n",
       "0                             ежедневно, 10:00–22:00     5.0      0    NaN   \n",
       "1                             ежедневно, 10:00–22:00     4.5      0    4.0   \n",
       "2  пн-чт 11:00–02:00; пт,сб 11:00–05:00; вс 11:00...     4.6      0   45.0   \n",
       "3                             ежедневно, 09:00–22:00     5.0      0    NaN   \n",
       "4                             ежедневно, 10:00–22:00     5.0      1  148.0   \n",
       "\n",
       "           price                       avg_bill  middle_avg_bill  \\\n",
       "0            NaN                            NaN              NaN   \n",
       "1  выше среднего       Средний счёт:1500–1600 ₽           1550.0   \n",
       "2        средние         Средний счёт:от 1000 ₽           1000.0   \n",
       "3            NaN  Цена чашки капучино:155–185 ₽              NaN   \n",
       "4        средние         Средний счёт:400–600 ₽            500.0   \n",
       "\n",
       "   middle_coffee_cup  \n",
       "0                NaN  \n",
       "1                NaN  \n",
       "2                NaN  \n",
       "3              170.0  \n",
       "4                NaN  "
      ]
     },
     "execution_count": 9,
     "metadata": {},
     "output_type": "execute_result"
    }
   ],
   "source": [
    "# Выводим первые строки датафрейма на экран\n",
    "df.head()"
   ]
  },
  {
   "cell_type": "code",
   "execution_count": 10,
   "id": "a4ffea09",
   "metadata": {},
   "outputs": [
    {
     "name": "stdout",
     "output_type": "stream",
     "text": [
      "<class 'pandas.core.frame.DataFrame'>\n",
      "Int64Index: 8406 entries, 0 to 8405\n",
      "Data columns (total 13 columns):\n",
      " #   Column             Non-Null Count  Dtype  \n",
      "---  ------             --------------  -----  \n",
      " 0   id                 8406 non-null   object \n",
      " 1   name               8406 non-null   object \n",
      " 2   category           8406 non-null   object \n",
      " 3   address            8406 non-null   object \n",
      " 4   district           8406 non-null   object \n",
      " 5   hours              7870 non-null   object \n",
      " 6   rating             8406 non-null   float64\n",
      " 7   chain              8406 non-null   int64  \n",
      " 8   seats              4795 non-null   float64\n",
      " 9   price              3315 non-null   object \n",
      " 10  avg_bill           3816 non-null   object \n",
      " 11  middle_avg_bill    3149 non-null   float64\n",
      " 12  middle_coffee_cup  535 non-null    float64\n",
      "dtypes: float64(4), int64(1), object(8)\n",
      "memory usage: 919.4+ KB\n"
     ]
    }
   ],
   "source": [
    "# Выводим информацию о датафрейме\n",
    "df.info()"
   ]
  },
  {
   "cell_type": "markdown",
   "id": "9aff3b61",
   "metadata": {
    "id": "6577c71c"
   },
   "source": [
    "Данные соединены, и информация обо всех пользователях сохранилась."
   ]
  },
  {
   "cell_type": "markdown",
   "id": "956e82e2",
   "metadata": {
    "id": "956e82e2"
   },
   "source": [
    "## 2. Предобработка данных\n",
    "\n",
    "### Корректность типов данных и их преобразование."
   ]
  },
  {
   "cell_type": "code",
   "execution_count": 11,
   "id": "67956690",
   "metadata": {
    "id": "67956690"
   },
   "outputs": [
    {
     "data": {
      "text/plain": [
       "id                    object\n",
       "name                  object\n",
       "category              object\n",
       "address               object\n",
       "district              object\n",
       "hours                 object\n",
       "rating               float64\n",
       "chain                  int64\n",
       "seats                float64\n",
       "price                 object\n",
       "avg_bill              object\n",
       "middle_avg_bill      float64\n",
       "middle_coffee_cup    float64\n",
       "dtype: object"
      ]
     },
     "execution_count": 11,
     "metadata": {},
     "output_type": "execute_result"
    }
   ],
   "source": [
    "# Проверим типы данных в датафрейме df с помощью атрибута dtypes\n",
    "df.dtypes"
   ]
  },
  {
   "cell_type": "code",
   "execution_count": 12,
   "id": "b5f2a94d",
   "metadata": {
    "id": "b5f2a94d"
   },
   "outputs": [],
   "source": [
    "# Преобразуем столбцы 'category', 'district' и 'price' в тип category\n",
    "df['category'] = df['category'].astype('category')\n",
    "df['district'] = df['district'].astype('category')\n",
    "df['price'] = df['price'].astype('category')"
   ]
  },
  {
   "cell_type": "code",
   "execution_count": 13,
   "id": "620d2f08",
   "metadata": {
    "id": "620d2f08"
   },
   "outputs": [],
   "source": [
    "# Преобразуем 'seats' в целочисленный тип данных\n",
    "df['seats'] = pd.to_numeric(df['seats'], errors='coerce').astype('Int64')"
   ]
  },
  {
   "cell_type": "code",
   "execution_count": 14,
   "id": "e1a16b6e",
   "metadata": {},
   "outputs": [],
   "source": [
    "# Преобразуем 'chain' в тип int8\n",
    "df['chain'] = df['chain'].astype('int8')"
   ]
  },
  {
   "cell_type": "code",
   "execution_count": 15,
   "id": "ffb78815",
   "metadata": {},
   "outputs": [
    {
     "data": {
      "text/plain": [
       "id                     object\n",
       "name                   object\n",
       "category             category\n",
       "address                object\n",
       "district             category\n",
       "hours                  object\n",
       "rating                float64\n",
       "chain                    int8\n",
       "seats                   Int64\n",
       "price                category\n",
       "avg_bill               object\n",
       "middle_avg_bill       float64\n",
       "middle_coffee_cup     float64\n",
       "dtype: object"
      ]
     },
     "execution_count": 15,
     "metadata": {},
     "output_type": "execute_result"
    }
   ],
   "source": [
    "# Проверим результат преобразования типов данных\n",
    "df.dtypes"
   ]
  },
  {
   "cell_type": "markdown",
   "id": "4b7ee469",
   "metadata": {
    "id": "4b7ee469"
   },
   "source": [
    "Данные в общем датасете приведены к корректному типу."
   ]
  },
  {
   "cell_type": "markdown",
   "id": "8550b237",
   "metadata": {},
   "source": [
    "### Наличие пропусков в данных"
   ]
  },
  {
   "cell_type": "code",
   "execution_count": 16,
   "id": "3d8840ca",
   "metadata": {
    "id": "3d8840ca"
   },
   "outputs": [
    {
     "data": {
      "text/plain": [
       "id                      0\n",
       "name                    0\n",
       "category                0\n",
       "address                 0\n",
       "district                0\n",
       "hours                 536\n",
       "rating                  0\n",
       "chain                   0\n",
       "seats                3611\n",
       "price                5091\n",
       "avg_bill             4590\n",
       "middle_avg_bill      5257\n",
       "middle_coffee_cup    7871\n",
       "dtype: int64"
      ]
     },
     "execution_count": 16,
     "metadata": {},
     "output_type": "execute_result"
    }
   ],
   "source": [
    "# Выводим количество пропущенных строк в датасете\n",
    "df.isna().sum()"
   ]
  },
  {
   "cell_type": "code",
   "execution_count": 17,
   "id": "2ea145ca",
   "metadata": {
    "id": "2ea145ca"
   },
   "outputs": [
    {
     "data": {
      "text/plain": [
       "id                   0.000000\n",
       "name                 0.000000\n",
       "category             0.000000\n",
       "address              0.000000\n",
       "district             0.000000\n",
       "hours                0.063764\n",
       "rating               0.000000\n",
       "chain                0.000000\n",
       "seats                0.429574\n",
       "price                0.605639\n",
       "avg_bill             0.546039\n",
       "middle_avg_bill      0.625387\n",
       "middle_coffee_cup    0.936355\n",
       "dtype: float64"
      ]
     },
     "execution_count": 17,
     "metadata": {},
     "output_type": "execute_result"
    }
   ],
   "source": [
    "# Подсчитываем процент строк с пропусками\n",
    "df.isna().mean()"
   ]
  },
  {
   "cell_type": "markdown",
   "id": "80fb14be",
   "metadata": {
    "id": "d9e7c358"
   },
   "source": [
    "- `hours`: в  536 строках(6,37 % данных) отсутствует информация по времени работы заведения. \n",
    "\n",
    "- `seats`: в 3611 строках(43% данных) есть пропуски.\n",
    "\n",
    "- `price`: в 5091 строке(60 % данных) пропущены данные. \n",
    "\n",
    "- `avg_bill`: в 4590 строках(54,6 % данных) данные отсуствуют.\n",
    "\n",
    "- `middle_avg_bill`: в 5257(62,5 % данных) есть пропуски. Это большое количество.\n",
    "\n",
    "- `middle_coffee_cup`: в 7871 строке(93,6 % данных) отсутствует информация. "
   ]
  },
  {
   "cell_type": "markdown",
   "id": "7cfa0de9",
   "metadata": {},
   "source": [
    "Данные пропуски убирать не будем, так как их устранение может привезти к некорректному анализу данных. Можем приступать к следующему этапу, устранению явных и неявных дубликатов."
   ]
  },
  {
   "cell_type": "markdown",
   "id": "3d632d55",
   "metadata": {},
   "source": [
    "### Явные и неявные дубликаты"
   ]
  },
  {
   "cell_type": "markdown",
   "id": "f44ef87b",
   "metadata": {
    "id": "0769b681"
   },
   "source": [
    "#### Поиск неявных дубликатов"
   ]
  },
  {
   "cell_type": "code",
   "execution_count": 18,
   "id": "4486690c",
   "metadata": {},
   "outputs": [
    {
     "name": "stdout",
     "output_type": "stream",
     "text": [
      "['WoWфли' 'Четыре комнаты' 'Хазри' ... 'Миславнес' 'Самовар' 'Kebab Time']\n"
     ]
    }
   ],
   "source": [
    "# Проверяем данные  в name на наличие неявных дубликатов\n",
    "print(df['name'].unique())"
   ]
  },
  {
   "cell_type": "code",
   "execution_count": 19,
   "id": "f44f475f",
   "metadata": {},
   "outputs": [],
   "source": [
    "# Приводим name к нижнему регистру и убираем лишние пробелы\n",
    "df['name'] = df['name'].str.strip().str.lower()"
   ]
  },
  {
   "cell_type": "code",
   "execution_count": 20,
   "id": "b78d6e5a",
   "metadata": {},
   "outputs": [
    {
     "name": "stdout",
     "output_type": "stream",
     "text": [
      "['wowфли' 'четыре комнаты' 'хазри' ... 'миславнес' 'самовар' 'kebab time']\n"
     ]
    }
   ],
   "source": [
    "# Проверяем результат\n",
    "print(df['name'].unique())"
   ]
  },
  {
   "cell_type": "code",
   "execution_count": 21,
   "id": "e8e2300e",
   "metadata": {},
   "outputs": [],
   "source": [
    "#  Приводим address к нижнему регистру и убираем лишние пробелы\n",
    "df['address'] = df['address'].str.strip().str.lower()"
   ]
  },
  {
   "cell_type": "code",
   "execution_count": 22,
   "id": "bf2f6b0c",
   "metadata": {},
   "outputs": [
    {
     "name": "stdout",
     "output_type": "stream",
     "text": [
      "['москва, улица дыбенко, 7/1' 'москва, улица дыбенко, 36, корп. 1'\n",
      " 'москва, клязьминская улица, 15' ...\n",
      " 'москва, улица лобачевского, 52, корп. 1'\n",
      " 'москва, болотниковская улица, 52, корп. 2'\n",
      " 'москва, чонгарский бульвар, 26а, корп. 1']\n"
     ]
    }
   ],
   "source": [
    "# Проверяем результат\n",
    "print(df['address'].unique())"
   ]
  },
  {
   "cell_type": "code",
   "execution_count": 23,
   "id": "800d0787",
   "metadata": {},
   "outputs": [
    {
     "name": "stdout",
     "output_type": "stream",
     "text": [
      "4\n"
     ]
    }
   ],
   "source": [
    "# Ищем неявные дубликаты в комбинациях значений name и address\n",
    "dupl_name_adr = df.duplicated(subset=['name', 'address'], keep='first')\n",
    "dupl_sum = dupl_name_adr.sum()\n",
    "print(dupl_sum)"
   ]
  },
  {
   "cell_type": "code",
   "execution_count": 24,
   "id": "f404f04d",
   "metadata": {},
   "outputs": [],
   "source": [
    "# Удаляем дубликаты в комбинациях name и address\n",
    "df.drop_duplicates(subset=['name', 'address'], keep='first', inplace=True)"
   ]
  },
  {
   "cell_type": "code",
   "execution_count": 25,
   "id": "95b15cd0",
   "metadata": {
    "id": "95b15cd0"
   },
   "outputs": [
    {
     "name": "stdout",
     "output_type": "stream",
     "text": [
      "['кафе', 'ресторан', 'кофейня', 'пиццерия', 'бар,паб', 'быстрое питание', 'булочная', 'столовая']\n",
      "Categories (8, object): ['кафе', 'ресторан', 'кофейня', 'пиццерия', 'бар,паб', 'быстрое питание', 'булочная', 'столовая']\n"
     ]
    }
   ],
   "source": [
    "# Проверяем данные  в category на наличие неявных дубликатов\n",
    "print(df['category'].unique())"
   ]
  },
  {
   "cell_type": "code",
   "execution_count": 26,
   "id": "d58819f4",
   "metadata": {},
   "outputs": [
    {
     "name": "stdout",
     "output_type": "stream",
     "text": [
      "[NaN, 'выше среднего', 'средние', 'высокие', 'низкие']\n",
      "Categories (4, object): ['выше среднего', 'средние', 'высокие', 'низкие']\n"
     ]
    }
   ],
   "source": [
    "# Проверяем данные  в price на наличие неявных дубликатов\n",
    "print(df['price'].unique())"
   ]
  },
  {
   "cell_type": "code",
   "execution_count": 27,
   "id": "b52bae9a",
   "metadata": {
    "id": "b52bae9a"
   },
   "outputs": [
    {
     "name": "stdout",
     "output_type": "stream",
     "text": [
      "Центральный административный округ         2242\n",
      "Северный административный округ             898\n",
      "Южный административный округ                892\n",
      "Северо-Восточный административный округ     890\n",
      "Западный административный округ             850\n",
      "Восточный административный округ            798\n",
      "Юго-Восточный административный округ        714\n",
      "Юго-Западный административный округ         709\n",
      "Северо-Западный административный округ      409\n",
      "Name: district, dtype: int64\n",
      "8402\n"
     ]
    }
   ],
   "source": [
    "# Проверяем данные  в district на наличие неявных дубликатов\n",
    "district_counts = df['district'].value_counts()\n",
    "print(district_counts)\n",
    "print(district_counts.sum())"
   ]
  },
  {
   "cell_type": "code",
   "execution_count": 28,
   "id": "52b0512f",
   "metadata": {},
   "outputs": [
    {
     "name": "stdout",
     "output_type": "stream",
     "text": [
      "ежедневно, 10:00–22:00                                               758\n",
      "ежедневно, круглосуточно                                             730\n",
      "ежедневно, 11:00–23:00                                               396\n",
      "ежедневно, 10:00–23:00                                               310\n",
      "ежедневно, 12:00–00:00                                               254\n",
      "                                                                    ... \n",
      "пн-пт 08:00–22:00; сб 08:00–19:00                                      1\n",
      "пн-пт 08:30–20:30; сб,вс 10:00–21:00                                   1\n",
      "пн-чт 08:00–22:00; пт 08:00–23:00; сб 09:00–23:00; вс 10:00–22:00      1\n",
      "пн-ср 15:00–00:00; чт-сб 15:00–05:00; вс 13:00–05:00                   1\n",
      "пн-чт 08:30–21:00; пт 08:30–22:00; сб,вс 09:00–21:00                   1\n",
      "Name: hours, Length: 1306, dtype: int64\n",
      "7867\n"
     ]
    }
   ],
   "source": [
    "# Проверяем данные  в hours на наличие неявных дубликатов\n",
    "hours_counts = df['hours'].value_counts()\n",
    "print(hours_counts)\n",
    "print(hours_counts.sum())"
   ]
  },
  {
   "cell_type": "code",
   "execution_count": 29,
   "id": "9d5a17f5",
   "metadata": {},
   "outputs": [
    {
     "name": "stdout",
     "output_type": "stream",
     "text": [
      "<class 'pandas.core.frame.DataFrame'>\n",
      "Int64Index: 8402 entries, 0 to 8405\n",
      "Data columns (total 13 columns):\n",
      " #   Column             Non-Null Count  Dtype   \n",
      "---  ------             --------------  -----   \n",
      " 0   id                 8402 non-null   object  \n",
      " 1   name               8402 non-null   object  \n",
      " 2   category           8402 non-null   category\n",
      " 3   address            8402 non-null   object  \n",
      " 4   district           8402 non-null   category\n",
      " 5   hours              7867 non-null   object  \n",
      " 6   rating             8402 non-null   float64 \n",
      " 7   chain              8402 non-null   int8    \n",
      " 8   seats              4792 non-null   Int64   \n",
      " 9   price              3315 non-null   category\n",
      " 10  avg_bill           3816 non-null   object  \n",
      " 11  middle_avg_bill    3149 non-null   float64 \n",
      " 12  middle_coffee_cup  535 non-null    float64 \n",
      "dtypes: Int64(1), category(3), float64(3), int8(1), object(5)\n",
      "memory usage: 698.3+ KB\n"
     ]
    }
   ],
   "source": [
    "# Проверяем резултат.\n",
    "df.info()"
   ]
  },
  {
   "cell_type": "markdown",
   "id": "eb576b3f",
   "metadata": {},
   "source": [
    "Неявные дубликаты(4) были найдены в комбинациях значений в столбцах name и address. Неявные дубликаты были удалены."
   ]
  },
  {
   "cell_type": "markdown",
   "id": "6af75f48",
   "metadata": {},
   "source": [
    "#### Поиск явных дубликатов"
   ]
  },
  {
   "cell_type": "code",
   "execution_count": 30,
   "id": "583678a5",
   "metadata": {},
   "outputs": [
    {
     "data": {
      "text/plain": [
       "0"
      ]
     },
     "execution_count": 30,
     "metadata": {},
     "output_type": "execute_result"
    }
   ],
   "source": [
    "# Ищем количество явных дубликатов\n",
    "df.duplicated().sum()"
   ]
  },
  {
   "cell_type": "markdown",
   "id": "29875e1c",
   "metadata": {},
   "source": [
    "Явных дубликатов не обнаружено."
   ]
  },
  {
   "cell_type": "code",
   "execution_count": 31,
   "id": "0e59cccf",
   "metadata": {},
   "outputs": [
    {
     "name": "stdout",
     "output_type": "stream",
     "text": [
      "Абсолютное количество удаленных строк: 4\n",
      "Отсносительное количество удаленных строк: 0.05%\n"
     ]
    }
   ],
   "source": [
    "# Количество удаленных строк\n",
    "delet_str = 8406 - len(df)\n",
    "delet_str_prc = (delet_str / 8406) * 100\n",
    "\n",
    "print(f'Абсолютное количество удаленных строк: {delet_str}')\n",
    "print(f'Отсносительное количество удаленных строк: {delet_str_prc:.2f}%')"
   ]
  },
  {
   "cell_type": "markdown",
   "id": "4c0563f2",
   "metadata": {
    "id": "4c0563f2"
   },
   "source": [
    "Для дальнейшей работы создадим столбец `is_24_7` с обозначением того, что заведение работает ежедневно и круглосуточно, то есть 24/7:\n",
    "  - логическое значение `True` — если заведение работает ежедневно и круглосуточно;\n",
    "  - логическое значение `False` — в противоположном случае."
   ]
  },
  {
   "cell_type": "code",
   "execution_count": 32,
   "id": "d8a8a963",
   "metadata": {
    "id": "d8a8a963"
   },
   "outputs": [
    {
     "name": "stdout",
     "output_type": "stream",
     "text": [
      "Количество заведений, работающих круглосуточно (True): 730\n",
      "<class 'pandas.core.frame.DataFrame'>\n",
      "Int64Index: 8402 entries, 0 to 8405\n",
      "Data columns (total 14 columns):\n",
      " #   Column             Non-Null Count  Dtype   \n",
      "---  ------             --------------  -----   \n",
      " 0   id                 8402 non-null   object  \n",
      " 1   name               8402 non-null   object  \n",
      " 2   category           8402 non-null   category\n",
      " 3   address            8402 non-null   object  \n",
      " 4   district           8402 non-null   category\n",
      " 5   hours              7867 non-null   object  \n",
      " 6   rating             8402 non-null   float64 \n",
      " 7   chain              8402 non-null   int8    \n",
      " 8   seats              4792 non-null   Int64   \n",
      " 9   price              3315 non-null   category\n",
      " 10  avg_bill           3816 non-null   object  \n",
      " 11  middle_avg_bill    3149 non-null   float64 \n",
      " 12  middle_coffee_cup  535 non-null    float64 \n",
      " 13  is_24_7            8402 non-null   bool    \n",
      "dtypes: Int64(1), bool(1), category(3), float64(3), int8(1), object(5)\n",
      "memory usage: 706.6+ KB\n"
     ]
    }
   ],
   "source": [
    "# Добавляем в дадасет новый столбец is_24_7 с обозначением того, что заведение работает ежедневно и круглосуточно, то есть 24/7\n",
    "\n",
    "is_24_7_values = []\n",
    "\n",
    "for value in df['hours']:\n",
    "    if value == 'ежедневно, круглосуточно':\n",
    "       is_24_7_values.append(True)\n",
    "    else:\n",
    "        is_24_7_values.append(False)\n",
    "        \n",
    "df['is_24_7'] = is_24_7_values\n",
    "\n",
    "# Проверяем результат\n",
    "all_count = df['is_24_7'].sum()\n",
    "print(\"Количество заведений, работающих круглосуточно (True):\", all_count)\n",
    "df.info()\n"
   ]
  },
  {
   "cell_type": "markdown",
   "id": "3834a4b1",
   "metadata": {
    "id": "42d1e685"
   },
   "source": [
    "Новый столбец `is_24_7` успешно добавлен."
   ]
  },
  {
   "cell_type": "markdown",
   "id": "562f30ab",
   "metadata": {
    "id": "562f30ab"
   },
   "source": [
    "---\n",
    "\n",
    "### Промежуточный вывод"
   ]
  },
  {
   "cell_type": "markdown",
   "id": "117eab22",
   "metadata": {
    "id": "4e587ce1"
   },
   "source": [
    "Исходный объеденнный дадасет содержал 8406 строк  и 13 столбцов. После прохождения всех этапов предобработки, устранения пропусков и дубликатов, осталось 8402 строки. Так же был добавлен дополнительный столбец `is_24_7`, значение `True` котрого указывает на то, что заведение работает круглосуточно. Количество столбцов в преобработанном датасете - 14. Абсолютное количество удаленных строк равно 4, что является 0,05 % от исходного объема данных."
   ]
  },
  {
   "cell_type": "markdown",
   "id": "b5934723",
   "metadata": {
    "id": "e3388762"
   },
   "source": [
    "Пропуски присутствовали в столбцах `hours`, `price`, `avg_bill`, `middle_avg_bill`, `middle_coffee_cup`. Незначительное количество пропусков(6,37 % данных) в столбце `hours` были заполнены значением-индикатором `неизвестно`. В остальных столбцах пропуски были заполнены значениями-индикаторами, `price`, `avg_bill` - значением `неизвестно`, `middle_avg_bill`, `middle_coffee_cup` - значением `-1`."
   ]
  },
  {
   "cell_type": "code",
   "execution_count": 33,
   "id": "dad4e89d",
   "metadata": {},
   "outputs": [
    {
     "name": "stdout",
     "output_type": "stream",
     "text": [
      "<class 'pandas.core.frame.DataFrame'>\n",
      "Int64Index: 8402 entries, 0 to 8405\n",
      "Data columns (total 14 columns):\n",
      " #   Column             Non-Null Count  Dtype   \n",
      "---  ------             --------------  -----   \n",
      " 0   id                 8402 non-null   object  \n",
      " 1   name               8402 non-null   object  \n",
      " 2   category           8402 non-null   category\n",
      " 3   address            8402 non-null   object  \n",
      " 4   district           8402 non-null   category\n",
      " 5   hours              7867 non-null   object  \n",
      " 6   rating             8402 non-null   float64 \n",
      " 7   chain              8402 non-null   int8    \n",
      " 8   seats              4792 non-null   Int64   \n",
      " 9   price              3315 non-null   category\n",
      " 10  avg_bill           3816 non-null   object  \n",
      " 11  middle_avg_bill    3149 non-null   float64 \n",
      " 12  middle_coffee_cup  535 non-null    float64 \n",
      " 13  is_24_7            8402 non-null   bool    \n",
      "dtypes: Int64(1), bool(1), category(3), float64(3), int8(1), object(5)\n",
      "memory usage: 706.6+ KB\n"
     ]
    },
    {
     "data": {
      "text/html": [
       "<div>\n",
       "<style scoped>\n",
       "    .dataframe tbody tr th:only-of-type {\n",
       "        vertical-align: middle;\n",
       "    }\n",
       "\n",
       "    .dataframe tbody tr th {\n",
       "        vertical-align: top;\n",
       "    }\n",
       "\n",
       "    .dataframe thead th {\n",
       "        text-align: right;\n",
       "    }\n",
       "</style>\n",
       "<table border=\"1\" class=\"dataframe\">\n",
       "  <thead>\n",
       "    <tr style=\"text-align: right;\">\n",
       "      <th></th>\n",
       "      <th>id</th>\n",
       "      <th>name</th>\n",
       "      <th>category</th>\n",
       "      <th>address</th>\n",
       "      <th>district</th>\n",
       "      <th>hours</th>\n",
       "      <th>rating</th>\n",
       "      <th>chain</th>\n",
       "      <th>seats</th>\n",
       "      <th>price</th>\n",
       "      <th>avg_bill</th>\n",
       "      <th>middle_avg_bill</th>\n",
       "      <th>middle_coffee_cup</th>\n",
       "      <th>is_24_7</th>\n",
       "    </tr>\n",
       "  </thead>\n",
       "  <tbody>\n",
       "    <tr>\n",
       "      <th>0</th>\n",
       "      <td>0c3e3439a8c64ea5bf6ecd6ca6ae19f0</td>\n",
       "      <td>wowфли</td>\n",
       "      <td>кафе</td>\n",
       "      <td>москва, улица дыбенко, 7/1</td>\n",
       "      <td>Северный административный округ</td>\n",
       "      <td>ежедневно, 10:00–22:00</td>\n",
       "      <td>5.0</td>\n",
       "      <td>0</td>\n",
       "      <td>&lt;NA&gt;</td>\n",
       "      <td>NaN</td>\n",
       "      <td>NaN</td>\n",
       "      <td>NaN</td>\n",
       "      <td>NaN</td>\n",
       "      <td>False</td>\n",
       "    </tr>\n",
       "    <tr>\n",
       "      <th>1</th>\n",
       "      <td>045780ada3474c57a2112e505d74b633</td>\n",
       "      <td>четыре комнаты</td>\n",
       "      <td>ресторан</td>\n",
       "      <td>москва, улица дыбенко, 36, корп. 1</td>\n",
       "      <td>Северный административный округ</td>\n",
       "      <td>ежедневно, 10:00–22:00</td>\n",
       "      <td>4.5</td>\n",
       "      <td>0</td>\n",
       "      <td>4</td>\n",
       "      <td>выше среднего</td>\n",
       "      <td>Средний счёт:1500–1600 ₽</td>\n",
       "      <td>1550.0</td>\n",
       "      <td>NaN</td>\n",
       "      <td>False</td>\n",
       "    </tr>\n",
       "    <tr>\n",
       "      <th>2</th>\n",
       "      <td>1070b6b59144425896c65889347fcff6</td>\n",
       "      <td>хазри</td>\n",
       "      <td>кафе</td>\n",
       "      <td>москва, клязьминская улица, 15</td>\n",
       "      <td>Северный административный округ</td>\n",
       "      <td>пн-чт 11:00–02:00; пт,сб 11:00–05:00; вс 11:00...</td>\n",
       "      <td>4.6</td>\n",
       "      <td>0</td>\n",
       "      <td>45</td>\n",
       "      <td>средние</td>\n",
       "      <td>Средний счёт:от 1000 ₽</td>\n",
       "      <td>1000.0</td>\n",
       "      <td>NaN</td>\n",
       "      <td>False</td>\n",
       "    </tr>\n",
       "    <tr>\n",
       "      <th>3</th>\n",
       "      <td>03ac7cd772104f65b58b349dc59f03ee</td>\n",
       "      <td>dormouse coffee shop</td>\n",
       "      <td>кофейня</td>\n",
       "      <td>москва, улица маршала федоренко, 12</td>\n",
       "      <td>Северный административный округ</td>\n",
       "      <td>ежедневно, 09:00–22:00</td>\n",
       "      <td>5.0</td>\n",
       "      <td>0</td>\n",
       "      <td>&lt;NA&gt;</td>\n",
       "      <td>NaN</td>\n",
       "      <td>Цена чашки капучино:155–185 ₽</td>\n",
       "      <td>NaN</td>\n",
       "      <td>170.0</td>\n",
       "      <td>False</td>\n",
       "    </tr>\n",
       "    <tr>\n",
       "      <th>4</th>\n",
       "      <td>a163aada139c4c7f87b0b1c0b466a50f</td>\n",
       "      <td>иль марко</td>\n",
       "      <td>пиццерия</td>\n",
       "      <td>москва, правобережная улица, 1б</td>\n",
       "      <td>Северный административный округ</td>\n",
       "      <td>ежедневно, 10:00–22:00</td>\n",
       "      <td>5.0</td>\n",
       "      <td>1</td>\n",
       "      <td>148</td>\n",
       "      <td>средние</td>\n",
       "      <td>Средний счёт:400–600 ₽</td>\n",
       "      <td>500.0</td>\n",
       "      <td>NaN</td>\n",
       "      <td>False</td>\n",
       "    </tr>\n",
       "  </tbody>\n",
       "</table>\n",
       "</div>"
      ],
      "text/plain": [
       "                                 id                  name  category  \\\n",
       "0  0c3e3439a8c64ea5bf6ecd6ca6ae19f0                wowфли      кафе   \n",
       "1  045780ada3474c57a2112e505d74b633        четыре комнаты  ресторан   \n",
       "2  1070b6b59144425896c65889347fcff6                 хазри      кафе   \n",
       "3  03ac7cd772104f65b58b349dc59f03ee  dormouse coffee shop   кофейня   \n",
       "4  a163aada139c4c7f87b0b1c0b466a50f             иль марко  пиццерия   \n",
       "\n",
       "                               address                         district  \\\n",
       "0           москва, улица дыбенко, 7/1  Северный административный округ   \n",
       "1   москва, улица дыбенко, 36, корп. 1  Северный административный округ   \n",
       "2       москва, клязьминская улица, 15  Северный административный округ   \n",
       "3  москва, улица маршала федоренко, 12  Северный административный округ   \n",
       "4      москва, правобережная улица, 1б  Северный административный округ   \n",
       "\n",
       "                                               hours  rating  chain  seats  \\\n",
       "0                             ежедневно, 10:00–22:00     5.0      0   <NA>   \n",
       "1                             ежедневно, 10:00–22:00     4.5      0      4   \n",
       "2  пн-чт 11:00–02:00; пт,сб 11:00–05:00; вс 11:00...     4.6      0     45   \n",
       "3                             ежедневно, 09:00–22:00     5.0      0   <NA>   \n",
       "4                             ежедневно, 10:00–22:00     5.0      1    148   \n",
       "\n",
       "           price                       avg_bill  middle_avg_bill  \\\n",
       "0            NaN                            NaN              NaN   \n",
       "1  выше среднего       Средний счёт:1500–1600 ₽           1550.0   \n",
       "2        средние         Средний счёт:от 1000 ₽           1000.0   \n",
       "3            NaN  Цена чашки капучино:155–185 ₽              NaN   \n",
       "4        средние         Средний счёт:400–600 ₽            500.0   \n",
       "\n",
       "   middle_coffee_cup  is_24_7  \n",
       "0                NaN    False  \n",
       "1                NaN    False  \n",
       "2                NaN    False  \n",
       "3              170.0    False  \n",
       "4                NaN    False  "
      ]
     },
     "execution_count": 33,
     "metadata": {},
     "output_type": "execute_result"
    }
   ],
   "source": [
    "# Выводим первые строки датафрейма на экран и информацию о нем\n",
    "df.info()\n",
    "\n",
    "df.head()"
   ]
  },
  {
   "cell_type": "markdown",
   "id": "72cb108b",
   "metadata": {
    "id": "b55c46cb"
   },
   "source": [
    "Все столбцы были приведены к корректному типу данных."
   ]
  },
  {
   "cell_type": "markdown",
   "id": "6953e84c",
   "metadata": {
    "id": "6953e84c"
   },
   "source": [
    "## 3. Исследовательский анализ данных\n"
   ]
  },
  {
   "cell_type": "markdown",
   "id": "8555d840",
   "metadata": {
    "id": "8555d840"
   },
   "source": [
    "---\n",
    "\n",
    "### Задача 1\n",
    "\n",
    "Исследуем количество объектов общественного питания по каждой категории. Результат сопроводим подходящей визуализацией."
   ]
  },
  {
   "cell_type": "code",
   "execution_count": 34,
   "id": "ef2bffe9",
   "metadata": {
    "id": "ef2bffe9"
   },
   "outputs": [
    {
     "data": {
      "image/png": "[encoded data removed]",
      "text/plain": [
       "<Figure size 864x720 with 1 Axes>"
      ]
     },
     "metadata": {
      "needs_background": "light"
     },
     "output_type": "display_data"
    },
    {
     "name": "stdout",
     "output_type": "stream",
     "text": [
      "кафе               2376\n",
      "ресторан           2042\n",
      "кофейня            1413\n",
      "бар,паб             764\n",
      "пиццерия            633\n",
      "быстрое питание     603\n",
      "столовая            315\n",
      "булочная            256\n",
      "Name: category, dtype: int64\n"
     ]
    }
   ],
   "source": [
    "# Для данной задачи лучше всего подходит столбчатая диаграмма.Создадим ее.\n",
    "\n",
    "category_counts = df['category'].value_counts()\n",
    "plt.figure(figsize=(12, 10))\n",
    "category_counts.plot(kind='bar', color='lightgreen')\n",
    "plt.title('Количество объектов общественного питания по категориям')\n",
    "plt.xlabel('Категории')\n",
    "plt.ylabel('Количество объектов')\n",
    "plt.xticks(rotation=45, ha='right')\n",
    "plt.grid(axis='y')\n",
    "plt.tight_layout()\n",
    "plt.show()\n",
    "print(category_counts)"
   ]
  },
  {
   "cell_type": "markdown",
   "id": "8d4510f7",
   "metadata": {
    "id": "71ab5e91"
   },
   "source": [
    "Как показывает диаграмма c сильным отрывом лидируют категории `кафе`, `ресторан` и `кофейня`. Данные категории общественного питания занимают более половины рынка по заведениям общепита."
   ]
  },
  {
   "cell_type": "markdown",
   "id": "6821e1d0",
   "metadata": {
    "id": "6821e1d0"
   },
   "source": [
    "---\n",
    "\n",
    "### Задача 2\n",
    "\n",
    "#### Распределение количества заведений по административным районам Москвы."
   ]
  },
  {
   "cell_type": "markdown",
   "id": "58c91250",
   "metadata": {},
   "source": [
    "Исследуем распределение количества заведений по административным районам Москвы."
   ]
  },
  {
   "cell_type": "code",
   "execution_count": 35,
   "id": "70d23ece",
   "metadata": {},
   "outputs": [
    {
     "data": {
      "image/png": "[encoded data removed]",
      "text/plain": [
       "<Figure size 864x720 with 1 Axes>"
      ]
     },
     "metadata": {
      "needs_background": "light"
     },
     "output_type": "display_data"
    },
    {
     "name": "stdout",
     "output_type": "stream",
     "text": [
      "Центральный административный округ         2242\n",
      "Северный административный округ             898\n",
      "Южный административный округ                892\n",
      "Северо-Восточный административный округ     890\n",
      "Западный административный округ             850\n",
      "Восточный административный округ            798\n",
      "Юго-Восточный административный округ        714\n",
      "Юго-Западный административный округ         709\n",
      "Северо-Западный административный округ      409\n",
      "Name: district, dtype: int64\n"
     ]
    }
   ],
   "source": [
    "# Для данной задачи лучше всего подходит столбчатая диаграмма.Создадим ее.\n",
    "\n",
    "district_counts = df['district'].value_counts()\n",
    "plt.figure(figsize=(12, 10))\n",
    "district_counts.plot(kind='bar', color='lightgreen')\n",
    "plt.title('Количество объектов общественного питания по по административным районам')\n",
    "plt.xlabel('Административные районы')\n",
    "plt.ylabel('Количество объектов')\n",
    "plt.xticks(rotation=45, ha='right')\n",
    "plt.grid(axis='y')\n",
    "plt.tight_layout()\n",
    "plt.show()\n",
    "print(district_counts)"
   ]
  },
  {
   "cell_type": "markdown",
   "id": "6a108190",
   "metadata": {},
   "source": [
    "По диаграмме, что ЦАО находится в сильном отрыве от остальных. Следом идут САО и СВАО. Самое меньшее количество завдений общепита нахолится в с Северо-Западном административном округе"
   ]
  },
  {
   "cell_type": "markdown",
   "id": "2f8447d9",
   "metadata": {},
   "source": [
    "#### Распределение заведений каждой категории в Центральном административном округе Москвы."
   ]
  },
  {
   "cell_type": "markdown",
   "id": "b33ecf40",
   "metadata": {},
   "source": [
    "Исследуем распределение заведений каждой категории в Центральном административном округе Москвы."
   ]
  },
  {
   "cell_type": "code",
   "execution_count": 36,
   "id": "e62f31be",
   "metadata": {
    "id": "e62f31be"
   },
   "outputs": [
    {
     "data": {
      "image/png": "[encoded data removed]",
      "text/plain": [
       "<Figure size 864x720 with 1 Axes>"
      ]
     },
     "metadata": {
      "needs_background": "light"
     },
     "output_type": "display_data"
    },
    {
     "name": "stdout",
     "output_type": "stream",
     "text": [
      "ресторан           670\n",
      "кафе               464\n",
      "кофейня            428\n",
      "бар,паб            364\n",
      "пиццерия           113\n",
      "быстрое питание     87\n",
      "столовая            66\n",
      "булочная            50\n",
      "Name: category, dtype: int64\n"
     ]
    }
   ],
   "source": [
    "# Для данной задачи так же лучше всего подходит столбчатая диаграмма.\n",
    "\n",
    "centr_district = df[df['district'] == 'Центральный административный округ']\n",
    "category_counts = centr_district['category'].value_counts()\n",
    "plt.figure(figsize=(12, 10))\n",
    "category_counts.plot(kind='bar', color='lightgreen')\n",
    "plt.title('Количество объектов общественного питания в  Центральном административном округе Москвы')\n",
    "plt.xlabel('Категории')\n",
    "plt.ylabel('Количество объектов')\n",
    "plt.xticks(rotation=45, ha='right')\n",
    "plt.grid(axis='y')\n",
    "plt.tight_layout()\n",
    "plt.show()\n",
    "print(category_counts)"
   ]
  },
  {
   "cell_type": "markdown",
   "id": "5d616187",
   "metadata": {
    "id": "0a290cd1"
   },
   "source": [
    "Тройка лидеров по категориям наблюдается и на уровне отельно взятого округа. Категории с самым большим количеством заведений это - рестораны, кафе и кофейни."
   ]
  },
  {
   "cell_type": "markdown",
   "id": "7c824f58",
   "metadata": {
    "id": "7c824f58"
   },
   "source": [
    "---\n",
    "\n",
    "### Задача 3\n",
    "\n",
    "#### Cоотношение сетевых и несетевых заведений в целом по всем данным и в разрезе категорий заведения."
   ]
  },
  {
   "cell_type": "markdown",
   "id": "08902636",
   "metadata": {},
   "source": [
    "Изучим соотношение сетевых и несетевых заведений в целом по всем данным и в разрезе категорий заведения."
   ]
  },
  {
   "cell_type": "code",
   "execution_count": 37,
   "id": "ef442d1a",
   "metadata": {
    "id": "ef442d1a"
   },
   "outputs": [
    {
     "data": {
      "image/png": "[encoded data removed]",
      "text/plain": [
       "<Figure size 864x720 with 1 Axes>"
      ]
     },
     "metadata": {},
     "output_type": "display_data"
    },
    {
     "name": "stdout",
     "output_type": "stream",
     "text": [
      "Количество несетевых заведений: 5199\n",
      "Количество сетевых заведений: 3203\n",
      "Доля несетевых заведений: 61.88%\n",
      "Доля сетевых заведений: 38.12%\n"
     ]
    }
   ],
   "source": [
    "# Для этого построим столбцатую диаграмму по количеству несетевых и сетевых заведений, а так же посчитаем их долю\n",
    "\n",
    "no_chain_count = (df['chain']==0).sum()\n",
    "total_chain_count = df['chain'].count()\n",
    "ye_chain_count = (df['chain']==1).sum()\n",
    "no_chain_share = no_chain_count/total_chain_count\n",
    "ye_chain_share = ye_chain_count/total_chain_count\n",
    "chain_counts = df['chain'].value_counts()\n",
    "chain_data = pd.Series([no_chain_count, ye_chain_count], index=['Несетевые', 'Сетевые'])\n",
    "plt.figure(figsize=(12, 10))\n",
    "chain_data.plot(kind='pie', autopct='%1.1f%%', colors=['lightgreen', 'lightblue'], startangle=90)\n",
    "plt.title('Количество  сетевых и несетевых заведений в целом по всем данным')\n",
    "plt.ylabel('')\n",
    "plt.tight_layout()\n",
    "plt.show()\n",
    "\n",
    "# Вывод долей\n",
    "print(f'Количество несетевых заведений: {no_chain_count}')\n",
    "print(f'Количество сетевых заведений: {ye_chain_count}')\n",
    "print(f'Доля несетевых заведений: {no_chain_share:.2%}')\n",
    "print(f'Доля сетевых заведений: {ye_chain_share:.2%}')"
   ]
  },
  {
   "cell_type": "markdown",
   "id": "cfab8905",
   "metadata": {},
   "source": [
    "Как видно по диаграмме количество несетвых заведений значительно больше, чем сетевых. Доля несетевых заведений от общего количества: 61.88%, доля сетевых заведений: 38.12%"
   ]
  },
  {
   "cell_type": "markdown",
   "id": "da651c11",
   "metadata": {},
   "source": [
    "#### Категории в несетевых заведениях"
   ]
  },
  {
   "cell_type": "markdown",
   "id": "6a752fa8",
   "metadata": {},
   "source": [
    "Исследуем какую долю занимают категории заведений в несетевых от общего числа заведений в категориях."
   ]
  },
  {
   "cell_type": "code",
   "execution_count": 38,
   "id": "0de29fa2",
   "metadata": {
    "id": "0de29fa2"
   },
   "outputs": [
    {
     "data": {
      "image/png": "[encoded data removed]",
      "text/plain": [
       "<Figure size 864x720 with 1 Axes>"
      ]
     },
     "metadata": {
      "needs_background": "light"
     },
     "output_type": "display_data"
    },
    {
     "name": "stdout",
     "output_type": "stream",
     "text": [
      "Доли несетевых заведений по категориям:\n",
      "бар,паб            0.78\n",
      "столовая           0.72\n",
      "кафе               0.67\n",
      "ресторан           0.64\n",
      "быстрое питание    0.62\n",
      "кофейня            0.49\n",
      "пиццерия           0.48\n",
      "булочная           0.39\n",
      "Name: category, dtype: float64\n"
     ]
    }
   ],
   "source": [
    "# Построим диагарамму с долей несетевых заведений по категориям от общего числа заведений по категориям \n",
    "no_chain = df[df['chain'] == 0]\n",
    "category_counts = no_chain['category'].value_counts()\n",
    "total_category_counts = df['category'].value_counts()\n",
    "share_category_counts = category_counts / total_category_counts\n",
    "share_category_counts = share_category_counts.sort_values(ascending=False)\n",
    "plt.figure(figsize=(12, 10))\n",
    "share_category_counts.plot(kind='bar', color='lightgreen')\n",
    "plt.title('Доля несетевых заведениях по категориям от общего числа заведений по категориям')\n",
    "plt.xlabel('Категории')\n",
    "plt.ylabel('Количество объектов')\n",
    "plt.xticks(rotation=45, ha='right')\n",
    "plt.grid(axis='y')\n",
    "plt.tight_layout()\n",
    "plt.show()\n",
    "print(\"Доли несетевых заведений по категориям:\")\n",
    "print(round(share_category_counts, 2))"
   ]
  },
  {
   "cell_type": "markdown",
   "id": "b47adfe7",
   "metadata": {
    "id": "a139bd72"
   },
   "source": [
    "Судя по диаграмме с точки зрения распределния долей по категориям несетевых завдений, лидирующие позиции занимают бары(0,78), столовые(0,72) и кафе(0,67). Самыми меньшими долями обладают булочные(0,39), пиццерии(0,48) и кофейни(0,49).  "
   ]
  },
  {
   "cell_type": "markdown",
   "id": "6e18dbb7",
   "metadata": {},
   "source": [
    "#### Категории в сетевых заведениях"
   ]
  },
  {
   "cell_type": "markdown",
   "id": "83dddeb2",
   "metadata": {},
   "source": [
    "Исследуем какие категории заведений чаще являются сетевыми."
   ]
  },
  {
   "cell_type": "code",
   "execution_count": 39,
   "id": "5b85563c",
   "metadata": {},
   "outputs": [
    {
     "data": {
      "image/png": "[encoded data removed]",
      "text/plain": [
       "<Figure size 864x720 with 1 Axes>"
      ]
     },
     "metadata": {
      "needs_background": "light"
     },
     "output_type": "display_data"
    },
    {
     "name": "stdout",
     "output_type": "stream",
     "text": [
      "Доли сетевых заведений по категориям:\n",
      "булочная           0.61\n",
      "пиццерия           0.52\n",
      "кофейня            0.51\n",
      "быстрое питание    0.38\n",
      "ресторан           0.36\n",
      "кафе               0.33\n",
      "столовая           0.28\n",
      "бар,паб            0.22\n",
      "Name: category, dtype: float64\n"
     ]
    }
   ],
   "source": [
    "# Построим диагарамму с долей сетевых заведений по категориям от общего числа заведений по категориям \n",
    "ya_chain = df[df['chain'] == 1]\n",
    "category_counts = ya_chain['category'].value_counts()\n",
    "total_category_counts = df['category'].value_counts()\n",
    "share_category_counts = category_counts / total_category_counts\n",
    "share_category_counts = share_category_counts.sort_values(ascending=False)\n",
    "plt.figure(figsize=(12, 10))\n",
    "share_category_counts.plot(kind='bar', color='lightgreen')\n",
    "plt.title('Доля в сетевых заведениях по категориям от общего числа заведений по категориям')\n",
    "plt.xlabel('Категории')\n",
    "plt.ylabel('Количество объектов')\n",
    "plt.xticks(rotation=45, ha='right')\n",
    "plt.grid(axis='y')\n",
    "plt.tight_layout()\n",
    "plt.show()\n",
    "print(\"Доли сетевых заведений по категориям:\")\n",
    "print(round(share_category_counts, 2))"
   ]
  },
  {
   "cell_type": "markdown",
   "id": "96a8c18f",
   "metadata": {},
   "source": [
    "В сетевых заведениях наблюдается абсолютно проивоположная картина. доли больше всего у булочных(0,61), пиццерий(0,52) и кофеен(0,51). И меньше всего у баров(0,22), столовых(0,28) и кафе(0,33)"
   ]
  },
  {
   "cell_type": "markdown",
   "id": "5913c3e3",
   "metadata": {
    "id": "5913c3e3"
   },
   "source": [
    "---\n",
    "\n",
    "### Задача 4\n",
    "\n",
    "#### Исследование количества посадочных мест в заведениях. \n",
    "\n",
    "Исследуем количество посадочных мест в заведениях. \n"
   ]
  },
  {
   "cell_type": "code",
   "execution_count": 40,
   "id": "6cb238d2",
   "metadata": {
    "id": "6cb238d2"
   },
   "outputs": [
    {
     "name": "stdout",
     "output_type": "stream",
     "text": [
      "Статистические показатели столбца seats:\n"
     ]
    },
    {
     "data": {
      "text/plain": [
       "count    4792.000000\n",
       "mean      108.361436\n",
       "std       122.841130\n",
       "min         0.000000\n",
       "25%        40.000000\n",
       "50%        75.000000\n",
       "75%       140.000000\n",
       "max      1288.000000\n",
       "Name: seats, dtype: float64"
      ]
     },
     "execution_count": 40,
     "metadata": {},
     "output_type": "execute_result"
    }
   ],
   "source": [
    "# Изучим статистические показатели столбца seats\n",
    "print('Статистические показатели столбца seats:')\n",
    "df['seats'].describe()"
   ]
  },
  {
   "cell_type": "markdown",
   "id": "7baa362b",
   "metadata": {},
   "source": [
    "Макссимальное количество посдочных мест, 1288, значительно превышает среднее значение, 94, которое не совпадает с медианой. Стандартное отклонение 91,54 имеет высокое значение, что указывает на большой разброс данных. "
   ]
  },
  {
   "cell_type": "markdown",
   "id": "241c5740",
   "metadata": {},
   "source": [
    "#### Аномальные значения или выбросы в столбце `seats`"
   ]
  },
  {
   "cell_type": "markdown",
   "id": "a6d4f05c",
   "metadata": {},
   "source": [
    "Проверим разброс данных ипостроим гистограмму распределения значений и диаграмму размаха для столбца seats."
   ]
  },
  {
   "cell_type": "code",
   "execution_count": 41,
   "id": "062b55d8",
   "metadata": {
    "id": "062b55d8"
   },
   "outputs": [
    {
     "data": {
      "image/png": "[encoded data removed]",
      "text/plain": [
       "<Figure size 432x288 with 1 Axes>"
      ]
     },
     "metadata": {
      "needs_background": "light"
     },
     "output_type": "display_data"
    }
   ],
   "source": [
    "df['seats'].plot(\n",
    "                kind='hist',\n",
    "                bins=25, \n",
    "                alpha=0.75,\n",
    "                edgecolor='black',\n",
    "                rot=0,\n",
    ")\n",
    "plt.title('Распределение значений посадочных мест')\n",
    "plt.xlabel('посадочные места')\n",
    "plt.ylabel('Частота')\n",
    "plt.grid()\n",
    "plt.show()"
   ]
  },
  {
   "cell_type": "code",
   "execution_count": 42,
   "id": "ceadf25b",
   "metadata": {
    "id": "ceadf25b"
   },
   "outputs": [
    {
     "data": {
      "image/png": "[encoded data removed]",
      "text/plain": [
       "<Figure size 1008x144 with 1 Axes>"
      ]
     },
     "metadata": {
      "needs_background": "light"
     },
     "output_type": "display_data"
    }
   ],
   "source": [
    "# Создаём контейнер графика matplotlib и задаём его размер\n",
    "plt.figure(figsize=(14, 2))\n",
    "df.boxplot(column='seats', vert=False)\n",
    "plt.title('Распределение значений seats')\n",
    "plt.xlabel('Количество посадочных мест')\n",
    "plt.show()"
   ]
  },
  {
   "cell_type": "markdown",
   "id": "ad6c95ad",
   "metadata": {},
   "source": [
    "Большое количество значений сконцентрировано на левой стороне графика и меньше 200. Чаще всего встречаются значения меньше 100. По гистограмме видно что большое количество заведений имеет небольшое количество посадочных мест. Есть несколько очень больших значений больше 500. Это явно говорит о выбросах. Хоть фудкорты и банкетные залы могут иметь такие показатели, но для корректного анализа выбросы лучше убрать."
   ]
  },
  {
   "cell_type": "markdown",
   "id": "5880106f",
   "metadata": {},
   "source": [
    "#### Типичное количество посадочных мест для каждой категории заведений."
   ]
  },
  {
   "cell_type": "markdown",
   "id": "ac1ce172",
   "metadata": {},
   "source": [
    "Приведем для каждой категории заведений наиболее типичное для него количество посадочных мест, а именно среднее значение."
   ]
  },
  {
   "cell_type": "code",
   "execution_count": 43,
   "id": "aea19ff5",
   "metadata": {},
   "outputs": [
    {
     "data": {
      "image/png": "[encoded data removed]",
      "text/plain": [
       "<Figure size 864x720 with 1 Axes>"
      ]
     },
     "metadata": {
      "needs_background": "light"
     },
     "output_type": "display_data"
    },
    {
     "name": "stdout",
     "output_type": "stream",
     "text": [
      "Среднее количество посадочных мест по категориям:\n",
      "category\n",
      "ресторан           114.90\n",
      "бар,паб            108.95\n",
      "кофейня            100.43\n",
      "быстрое питание     96.19\n",
      "столовая            89.72\n",
      "кафе                89.42\n",
      "пиццерия            87.91\n",
      "булочная            85.74\n",
      "Name: seats, dtype: float64\n"
     ]
    }
   ],
   "source": [
    "# Фильтрация данных: оставляем только заведения с seats <= 500\n",
    "filtr_seats = df[(df['seats'] <= 500) & (df['seats'].notna())]\n",
    "mean_seats = filtr_seats.groupby('category')['seats'].mean().sort_values(ascending=False)\n",
    "mean_seats = mean_seats.astype(float)\n",
    "plt.figure(figsize=(12, 10))\n",
    "mean_seats.plot(kind='bar', color='lightgreen')\n",
    "\n",
    "plt.title('Среднее количество посадочных мест по категориям')\n",
    "plt.xlabel('Категории')\n",
    "plt.ylabel('Среднее количество посадочных мест')\n",
    "plt.xticks(rotation=45, ha='right')\n",
    "plt.grid(axis='y')\n",
    "plt.tight_layout()\n",
    "plt.show()\n",
    "print('Среднее количество посадочных мест по категориям:')\n",
    "print(round(mean_seats, 2))\n"
   ]
  },
  {
   "cell_type": "markdown",
   "id": "149688b3",
   "metadata": {},
   "source": [
    "По количеству посадочных мест лидируют рестораны(114,9), бары(108,95) и кофейни(100,43). Меньше всего в среднем посдочных мест в булочных(85,74)."
   ]
  },
  {
   "cell_type": "markdown",
   "id": "8ed065ea",
   "metadata": {
    "id": "8ed065ea"
   },
   "source": [
    "---\n",
    "\n",
    "### Задача 5\n",
    "\n",
    "#### Исследование рейтинга заведений."
   ]
  },
  {
   "cell_type": "markdown",
   "id": "06cb5e03",
   "metadata": {},
   "source": [
    "Исследуем рейтинги завдений общественного питания."
   ]
  },
  {
   "cell_type": "code",
   "execution_count": 44,
   "id": "cc5206f8",
   "metadata": {
    "id": "cc5206f8"
   },
   "outputs": [
    {
     "name": "stdout",
     "output_type": "stream",
     "text": [
      "Статистические показатели столбца rating:\n"
     ]
    },
    {
     "data": {
      "text/plain": [
       "count    8402.000000\n",
       "mean        4.230017\n",
       "std         0.470320\n",
       "min         1.000000\n",
       "25%         4.100000\n",
       "50%         4.300000\n",
       "75%         4.400000\n",
       "max         5.000000\n",
       "Name: rating, dtype: float64"
      ]
     },
     "execution_count": 44,
     "metadata": {},
     "output_type": "execute_result"
    }
   ],
   "source": [
    "# Изучим статистические показатели столбца rating\n",
    "print('Статистические показатели столбца rating:')\n",
    "df['rating'].describe()"
   ]
  },
  {
   "cell_type": "code",
   "execution_count": 45,
   "id": "6b838afb",
   "metadata": {},
   "outputs": [
    {
     "data": {
      "image/png": "[encoded data removed]",
      "text/plain": [
       "<Figure size 1008x144 with 1 Axes>"
      ]
     },
     "metadata": {
      "needs_background": "light"
     },
     "output_type": "display_data"
    }
   ],
   "source": [
    "# Создаём контейнер графика matplotlib и задаём его размер\n",
    "plt.figure(figsize=(14, 2))\n",
    "df.boxplot(column='rating', vert=False)\n",
    "plt.title('Распределение значений rating')\n",
    "plt.xlabel('Рейтинг')\n",
    "plt.show()"
   ]
  },
  {
   "cell_type": "markdown",
   "id": "676a67c2",
   "metadata": {
    "id": "3e0ec5d7"
   },
   "source": [
    "Судя по статичтическим показателям с данными в столбце rating все в порядке. Среднее значение 4,24 совападает с медианой 4,30. Максимальное значение 5,00 так же в норме. Встречаются значение ниже певого квартиля,но не ниже значения 1,00, это скорее всего это связано с тем, что в выборке есть заведения с низким рейтингом."
   ]
  },
  {
   "cell_type": "markdown",
   "id": "683f844b",
   "metadata": {},
   "source": [
    "#### Средний рейтинг по категориям заведений."
   ]
  },
  {
   "cell_type": "markdown",
   "id": "69accbaa",
   "metadata": {},
   "source": [
    "Проведем исследование среднего рейтирнга в разрезе категорий заведений."
   ]
  },
  {
   "cell_type": "code",
   "execution_count": 46,
   "id": "766c86cb",
   "metadata": {
    "id": "766c86cb"
   },
   "outputs": [
    {
     "data": {
      "image/png": "[encoded data removed]",
      "text/plain": [
       "<Figure size 864x432 with 1 Axes>"
      ]
     },
     "metadata": {
      "needs_background": "light"
     },
     "output_type": "display_data"
    },
    {
     "name": "stdout",
     "output_type": "stream",
     "text": [
      "category\n",
      "бар,паб            4.39\n",
      "пиццерия           4.30\n",
      "ресторан           4.29\n",
      "кофейня            4.28\n",
      "булочная           4.27\n",
      "столовая           4.21\n",
      "кафе               4.12\n",
      "быстрое питание    4.05\n",
      "Name: rating, dtype: float64\n"
     ]
    }
   ],
   "source": [
    "# Фильтрация данных: оставляем только заведения с seats <= 500\n",
    "mean_rating = df.groupby('category')['rating'].mean().sort_values(ascending=False)\n",
    "\n",
    "plt.figure(figsize=(12, 6))\n",
    "mean_rating.plot(kind='bar', color='lightgreen')\n",
    "\n",
    "plt.title('Средний рейтинг заведений по категориям')\n",
    "plt.xlabel('Категории')\n",
    "plt.ylabel('Средний рейтинг')\n",
    "plt.xticks(rotation=45, ha='right')\n",
    "plt.grid(axis='y')\n",
    "plt.tight_layout()\n",
    "plt.show()\n",
    "print(mean_rating.round(2))"
   ]
  },
  {
   "cell_type": "markdown",
   "id": "74942cd1",
   "metadata": {},
   "source": [
    "Большое количество категорий общепита обладает средним рейтингом выше 4,00. Самое высокое значение среднего рейтинга у баров(4,39), самое низкое у быстрого питания(4,05)."
   ]
  },
  {
   "cell_type": "markdown",
   "id": "dd9702d9",
   "metadata": {
    "id": "dd9702d9"
   },
   "source": [
    "---\n",
    "\n",
    "### Задача 6  Корреляция рейтингов заведений\n",
    "\n",
    "Изучим, с какими данными показывают самую сильную корреляцию рейтинги заведений.  Выберите самую сильную связь и проверьте её."
   ]
  },
  {
   "cell_type": "markdown",
   "id": "df8220da",
   "metadata": {},
   "source": [
    "Построим и визуализируем матрицу корреляции рейтинга заведения с разными данными: его категория, положение (административный район Москвы), статус сетевого заведения, количество мест, ценовая категория и признак, является ли заведения круглосуточным."
   ]
  },
  {
   "cell_type": "code",
   "execution_count": 47,
   "id": "15400eb9",
   "metadata": {
    "id": "15400eb9"
   },
   "outputs": [
    {
     "name": "stdout",
     "output_type": "stream",
     "text": [
      "                                 id                  name  category  \\\n",
      "0  0c3e3439a8c64ea5bf6ecd6ca6ae19f0                wowфли      кафе   \n",
      "1  045780ada3474c57a2112e505d74b633        четыре комнаты  ресторан   \n",
      "2  1070b6b59144425896c65889347fcff6                 хазри      кафе   \n",
      "3  03ac7cd772104f65b58b349dc59f03ee  dormouse coffee shop   кофейня   \n",
      "4  a163aada139c4c7f87b0b1c0b466a50f             иль марко  пиццерия   \n",
      "\n",
      "                               address                         district  \\\n",
      "0           москва, улица дыбенко, 7/1  Северный административный округ   \n",
      "1   москва, улица дыбенко, 36, корп. 1  Северный административный округ   \n",
      "2       москва, клязьминская улица, 15  Северный административный округ   \n",
      "3  москва, улица маршала федоренко, 12  Северный административный округ   \n",
      "4      москва, правобережная улица, 1б  Северный административный округ   \n",
      "\n",
      "                                               hours  rating  chain  seats  \\\n",
      "0                             ежедневно, 10:00–22:00     5.0      0   <NA>   \n",
      "1                             ежедневно, 10:00–22:00     4.5      0      4   \n",
      "2  пн-чт 11:00–02:00; пт,сб 11:00–05:00; вс 11:00...     4.6      0     45   \n",
      "3                             ежедневно, 09:00–22:00     5.0      0   <NA>   \n",
      "4                             ежедневно, 10:00–22:00     5.0      1    148   \n",
      "\n",
      "           price                       avg_bill  middle_avg_bill  \\\n",
      "0            NaN                            NaN              NaN   \n",
      "1  выше среднего       Средний счёт:1500–1600 ₽           1550.0   \n",
      "2        средние         Средний счёт:от 1000 ₽           1000.0   \n",
      "3            NaN  Цена чашки капучино:155–185 ₽              NaN   \n",
      "4        средние         Средний счёт:400–600 ₽            500.0   \n",
      "\n",
      "   middle_coffee_cup  is_24_7  category_number  district_number  price_number  \n",
      "0                NaN    False                1                2             0  \n",
      "1                NaN    False                2                2             3  \n",
      "2                NaN    False                1                2             2  \n",
      "3              170.0    False                3                2             0  \n",
      "4                NaN    False                4                2             2  \n"
     ]
    }
   ],
   "source": [
    "# Матрица корреляции работает только с числовыми данными.\n",
    "# Поэтому добавим 3 новых столбца в датасет.\n",
    "\n",
    "# Новый столбец category_number будет числовым отражением категориальных данных столбца сategory\n",
    "category_number = []\n",
    "\n",
    "for value in df['category']:\n",
    "    if value == 'кафе':\n",
    "        category_number.append(1)\n",
    "    elif value == 'ресторан':\n",
    "        category_number.append(2)\n",
    "    elif value == 'кофейня':\n",
    "        category_number.append(3)\n",
    "    elif value == 'пиццерия':\n",
    "        category_number.append(4)\n",
    "    elif value == 'бар,паб':\n",
    "        category_number.append(5)\n",
    "    elif value == 'быстрое питание':\n",
    "        category_number.append(6)\n",
    "    elif value == 'булочная':\n",
    "        category_number.append(7)\n",
    "    elif value == 'столовая':\n",
    "        category_number.append(8)\n",
    "    else:\n",
    "        category_number.append(0)\n",
    "df['category_number'] = category_number    \n",
    "\n",
    "# Новый столбец district_number будет числовым отражением категориальных данных столбца district\n",
    "district_number = []\n",
    "\n",
    "for value in df['district']:\n",
    "    if value == 'Центральный административный округ':\n",
    "        district_number.append(1)\n",
    "    elif value == 'Северный административный округ':\n",
    "        district_number.append(2)\n",
    "    elif value == 'Северо-Восточный административный округ':\n",
    "        district_number.append(3)\n",
    "    elif value == 'Южный административный округ':\n",
    "        district_number.append(4)\n",
    "    elif value == 'Западный административный округ':\n",
    "        district_number.append(5)\n",
    "    elif value == 'Восточный административный округ':\n",
    "        district_number.append(6)\n",
    "    elif value == 'Юго-Западный административный округ':\n",
    "        district_number.append(7)\n",
    "    elif value == 'Юго-Восточный административный округ':\n",
    "        district_number.append(8)\n",
    "    elif value == 'Северо-Западный административный округ':\n",
    "        district_number.append(9)\n",
    "    else:\n",
    "        district_number.append(0)\n",
    "\n",
    "df['district_number'] = district_number\n",
    "\n",
    "# Новый столбец price_number будет числовым отражением категориальных данных столбца price\n",
    "price_number = []\n",
    "\n",
    "for value in df['price']:\n",
    "    if value == 'низкие':\n",
    "        price_number.append(1)\n",
    "    elif value == 'средние':\n",
    "        price_number.append(2)\n",
    "    elif value == 'выше среднего':\n",
    "        price_number.append(3)\n",
    "    elif value == 'высокие':\n",
    "        price_number.append(4)\n",
    "    elif value == 'неизвестно':\n",
    "        price_number.append(-1)\n",
    "    else:\n",
    "        price_number.append(0)\n",
    "\n",
    "df['price_number'] = price_number\n",
    "\n",
    "# Проверяем результат\n",
    "print(df.head())\n"
   ]
  },
  {
   "cell_type": "code",
   "execution_count": 48,
   "id": "8f0379af",
   "metadata": {
    "id": "8f0379af"
   },
   "outputs": [
    {
     "name": "stdout",
     "output_type": "stream",
     "text": [
      "interval columns not set, guessing: ['rating', 'chain', 'seats', 'category_number', 'district_number', 'price_number']\n",
      "Корреляционная матрица с коэффициентом phi_k для переменной rating\n"
     ]
    },
    {
     "data": {
      "text/html": [
       "<div>\n",
       "<style scoped>\n",
       "    .dataframe tbody tr th:only-of-type {\n",
       "        vertical-align: middle;\n",
       "    }\n",
       "\n",
       "    .dataframe tbody tr th {\n",
       "        vertical-align: top;\n",
       "    }\n",
       "\n",
       "    .dataframe thead th {\n",
       "        text-align: right;\n",
       "    }\n",
       "</style>\n",
       "<table border=\"1\" class=\"dataframe\">\n",
       "  <thead>\n",
       "    <tr style=\"text-align: right;\">\n",
       "      <th></th>\n",
       "      <th>rating</th>\n",
       "    </tr>\n",
       "  </thead>\n",
       "  <tbody>\n",
       "    <tr>\n",
       "      <th>price_number</th>\n",
       "      <td>0.281253</td>\n",
       "    </tr>\n",
       "    <tr>\n",
       "      <th>district_number</th>\n",
       "      <td>0.200761</td>\n",
       "    </tr>\n",
       "    <tr>\n",
       "      <th>category_number</th>\n",
       "      <td>0.189716</td>\n",
       "    </tr>\n",
       "    <tr>\n",
       "      <th>is_24_7</th>\n",
       "      <td>0.150365</td>\n",
       "    </tr>\n",
       "    <tr>\n",
       "      <th>chain</th>\n",
       "      <td>0.107833</td>\n",
       "    </tr>\n",
       "    <tr>\n",
       "      <th>seats</th>\n",
       "      <td>0.000000</td>\n",
       "    </tr>\n",
       "  </tbody>\n",
       "</table>\n",
       "</div>"
      ],
      "text/plain": [
       "                   rating\n",
       "price_number     0.281253\n",
       "district_number  0.200761\n",
       "category_number  0.189716\n",
       "is_24_7          0.150365\n",
       "chain            0.107833\n",
       "seats            0.000000"
      ]
     },
     "execution_count": 48,
     "metadata": {},
     "output_type": "execute_result"
    }
   ],
   "source": [
    "# Отфильтруем данные в столбце price_number, чтобы в корреляцию не попали данные с заглушкой \"неизвестно\"\n",
    "df_filtr = df[(df['price_number'] != -1)]\n",
    "# Вычисляем корреляционную матрицу с использованием phi_k\n",
    "correlation_matrix = df_filtr[['rating', 'chain', 'seats', 'is_24_7',\n",
    "                         'category_number', 'district_number', 'price_number']].phik_matrix()\n",
    "\n",
    "# Выводим результат\n",
    "print('Корреляционная матрица с коэффициентом phi_k для переменной rating')\n",
    "correlation_matrix.loc[correlation_matrix.index != 'rating'][['rating']].sort_values(by='rating', ascending=False)"
   ]
  },
  {
   "cell_type": "code",
   "execution_count": 49,
   "id": "1a65a84d",
   "metadata": {
    "id": "1a65a84d"
   },
   "outputs": [
    {
     "data": {
      "image/png": "[encoded data removed]",
      "text/plain": [
       "<Figure size 144x432 with 1 Axes>"
      ]
     },
     "metadata": {
      "needs_background": "light"
     },
     "output_type": "display_data"
    }
   ],
   "source": [
    "# Строим тепловую карту\n",
    "plt.figure(figsize=(2, 6))\n",
    "\n",
    "data_heatmap = correlation_matrix.loc[correlation_matrix.index != 'rating'][['rating']].sort_values(by='rating', ascending=False)\n",
    "sns.heatmap(data_heatmap,\n",
    "            annot=True,\n",
    "            fmt='.2f',\n",
    "            cmap='coolwarm',\n",
    "            linewidths=0.5,\n",
    "            cbar=False)\n",
    "plt.title('Тепловая карта коэффициента phi_k \\n для данных rating')\n",
    "plt.xlabel('Рейтинг')\n",
    "plt.show()"
   ]
  },
  {
   "cell_type": "markdown",
   "id": "dbd1ed0c",
   "metadata": {},
   "source": [
    "По тепловой карте видно, что самая сильная корреляция у рейтинга наблюдается с ценой. "
   ]
  },
  {
   "cell_type": "markdown",
   "id": "bd07b9a5",
   "metadata": {},
   "source": [
    "Проверим это утверждение и построим сводную таблицу с группировкой по ценым категориям и убыванием рейтинга"
   ]
  },
  {
   "cell_type": "code",
   "execution_count": 50,
   "id": "aca04c84",
   "metadata": {},
   "outputs": [
    {
     "name": "stdout",
     "output_type": "stream",
     "text": [
      "           price  avg_rating\n",
      "0        высокие    4.436611\n",
      "1  выше среднего    4.386348\n",
      "3        средние    4.297874\n",
      "2         низкие    4.173077\n"
     ]
    }
   ],
   "source": [
    "# Создадим сводную таблицу с группировкой по ценовым категориям и найдем их средний рейтинг\n",
    "avg_rating_table = pd.pivot_table(df_filtr,\n",
    "    index=['price'], \n",
    "    values='rating',\n",
    "    aggfunc={'rating': 'mean'}).reset_index()\n",
    "avg_rating_table.columns = ['price','avg_rating']\n",
    "sorted_rating = avg_rating_table.sort_values(by='avg_rating', ascending=False)\n",
    "print(sorted_rating)"
   ]
  },
  {
   "cell_type": "markdown",
   "id": "b0fd5283",
   "metadata": {},
   "source": [
    "Как видно по сводной таблице в десятке категорий общепита с самым выскоми рейтингом преобладают ценовые категории как высокие и выше среднего. В заведениях с низким рейтингом ситауция другая - преобладает низкие цены. Возможно такая корреляция связано с тем, что в в заведениях с высокими ценами, больше внимания уделяется меню, обстановке и сервису, отсюда и объясняются высокие рейтинги. "
   ]
  },
  {
   "cell_type": "markdown",
   "id": "370de703",
   "metadata": {
    "id": "370de703"
   },
   "source": [
    "---\n",
    "\n",
    "### Задача 7"
   ]
  },
  {
   "cell_type": "markdown",
   "id": "05612fe5",
   "metadata": {},
   "source": [
    "#### Топ-15 популярных сетей в Москве"
   ]
  },
  {
   "cell_type": "markdown",
   "id": "e8dd18b8",
   "metadata": {},
   "source": [
    "Сгруппируем данные по названиям заведений и найдем топ-15 популярных сетей в Москве. Для них посчитаем значения среднего рейтинга. Под популярностью понимается количество заведений этой сети в регионе."
   ]
  },
  {
   "cell_type": "code",
   "execution_count": 51,
   "id": "5d828a9a",
   "metadata": {
    "id": "5d828a9a"
   },
   "outputs": [
    {
     "name": "stdout",
     "output_type": "stream",
     "text": [
      "Топ-15 сетей по кличеству заведений:\n",
      "                                     name  category  count  avg_rating\n",
      "5836                          шоколадница   кофейня    119    4.178151\n",
      "2685                       домино'с пицца  пиццерия     76    4.169737\n",
      "2653                           додо пицца  пиццерия     74    4.286486\n",
      "1172                     one price coffee   кофейня     71    4.064789\n",
      "5942                         яндекс лавка  ресторан     69    3.872464\n",
      "468                                 cofix   кофейня     65    4.075385\n",
      "1350                                prime  ресторан     49    4.114286\n",
      "3276                             кофепорт   кофейня     42    4.147619\n",
      "3347  кулинарная лавка братьев караваевых      кафе     39    4.394872\n",
      "5030                              теремок  ресторан     36    4.105556\n",
      "316                              cofefest   кофейня     31    3.977419\n",
      "5467                              чайхана      кафе     26    3.946154\n",
      "2137                              буханка  булочная     25    4.416000\n",
      "555                            drive café      кафе     24    4.025000\n",
      "3268                            кофемания   кофейня     22    4.463636\n"
     ]
    },
    {
     "data": {
      "text/plain": [
       "Text(0.5, 0, 'Средний рейтинг')"
      ]
     },
     "execution_count": 51,
     "metadata": {},
     "output_type": "execute_result"
    },
    {
     "data": {
      "image/png": "[encoded data removed]",
      "text/plain": [
       "<Figure size 864x720 with 1 Axes>"
      ]
     },
     "metadata": {
      "needs_background": "light"
     },
     "output_type": "display_data"
    },
    {
     "data": {
      "image/png": "[encoded data removed]",
      "text/plain": [
       "<Figure size 864x720 with 1 Axes>"
      ]
     },
     "metadata": {
      "needs_background": "light"
     },
     "output_type": "display_data"
    }
   ],
   "source": [
    "# Отфильтруем значение по столбцу chain, чтобы выделить сетевые завдеения\n",
    "# Построим сводную таблицу с name, category c количеством заведений и средним рейтингом\n",
    "df_chain = df[(df['chain'] == 1)]\n",
    "chain_sales = pd.pivot_table(df_chain,\n",
    "    index=['name', 'category'], \n",
    "    values='rating',\n",
    "    aggfunc={'rating': ['count', 'mean']}).reset_index()\n",
    "chain_sales.columns = ['name', 'category', 'count', 'avg_rating']\n",
    "\n",
    "top_15_chains = chain_sales.sort_values(by='count', ascending=False).head(15)\n",
    "print('Топ-15 сетей по кличеству заведений:')\n",
    "print(top_15_chains)\n",
    "\n",
    "\n",
    "top_15_chains.sort_values('count').plot(\n",
    "    kind='barh', \n",
    "    x='name',\n",
    "    y='count',\n",
    "    color='lightgreen', \n",
    "    figsize=(12, 10))\n",
    "plt.title('Топ-15 сетей по количеству заведений')\n",
    "plt.xlabel('Количество заведений')\n",
    "\n",
    "top_15_chains.sort_values('avg_rating').plot(\n",
    "    kind='barh', \n",
    "    x='name',\n",
    "    y='avg_rating',\n",
    "    color='lightblue', \n",
    "    figsize=(12, 10))\n",
    "plt.title('Средний рейтинг топ-15 сетей по количеству заведений')\n",
    "plt.xlabel('Средний рейтинг')"
   ]
  },
  {
   "cell_type": "markdown",
   "id": "4a921a97",
   "metadata": {
    "id": "d013c598"
   },
   "source": [
    "С точки зрения количества заведений самыми популярными заведениями являются: шоколадница(119), доминос пицца(76) и додо пицца(74). Но количество заведений не вляиет на средний рейтинг. И в топ-15 популярных сетей лидерами среднему рейтингу являются: кофемания(4,46), буханка(4,42) и кулинарная лавка братьев караваевых(4,40)."
   ]
  },
  {
   "cell_type": "markdown",
   "id": "85a90a94",
   "metadata": {
    "id": "85a90a94"
   },
   "source": [
    "---\n",
    "\n",
    "### Задача 8\n"
   ]
  },
  {
   "cell_type": "markdown",
   "id": "824e22e4",
   "metadata": {},
   "source": [
    "#### Вариации среднего чека в зависимости от района Москвы"
   ]
  },
  {
   "cell_type": "markdown",
   "id": "6c8c5aee",
   "metadata": {},
   "source": [
    "Изучим вариации среднего чека заведения (столбец middle_avg_bill) в зависимости от района Москвы"
   ]
  },
  {
   "cell_type": "code",
   "execution_count": 53,
   "id": "5fb4ffc6",
   "metadata": {
    "id": "5fb4ffc6"
   },
   "outputs": [
    {
     "name": "stdout",
     "output_type": "stream",
     "text": [
      "Средний чек по районам\n",
      "                                  district  avg_middle_avg_bill\n",
      "5       Центральный административный округ              1191.06\n",
      "1          Западный административный округ              1053.23\n",
      "2          Северный административный округ               927.96\n",
      "8             Южный административный округ               834.40\n",
      "4   Северо-Западный административный округ               822.22\n",
      "0         Восточный административный округ               820.63\n",
      "7      Юго-Западный административный округ               792.56\n",
      "3  Северо-Восточный административный округ               716.61\n",
      "6     Юго-Восточный административный округ               654.10\n"
     ]
    },
    {
     "data": {
      "image/png": "[encoded data removed]",
      "text/plain": [
       "<Figure size 864x720 with 1 Axes>"
      ]
     },
     "metadata": {
      "needs_background": "light"
     },
     "output_type": "display_data"
    }
   ],
   "source": [
    "# Отфильтруем значения заглушки по middle_avg_bill и построим сводную таблицу с районами Москвы и средним чеком по middle_avg_bill\n",
    "df_avg_bill = df[df['middle_avg_bill'] != -1]\n",
    "\n",
    "\n",
    "district_table = pd.pivot_table(\n",
    "    df_avg_bill,\n",
    "    index='district', \n",
    "    values='middle_avg_bill',\n",
    "    aggfunc={'middle_avg_bill': 'mean'}\n",
    ").reset_index()\n",
    "\n",
    "district_table.columns = ['district', 'avg_middle_avg_bill']\n",
    "\n",
    "district_table['avg_middle_avg_bill'] = district_table['avg_middle_avg_bill'].round(2)\n",
    "district_table_sort = district_table.sort_values(by='avg_middle_avg_bill', ascending=False)\n",
    "\n",
    "print(\"Средний чек по районам\")\n",
    "print(district_table_sort)\n",
    "\n",
    "district_table_sort.plot(\n",
    "    kind='barh', \n",
    "    x='district', \n",
    "    y='avg_middle_avg_bill',\n",
    "    color='lightgreen', \n",
    "    figsize=(12, 10))\n",
    "plt.title('Средний чек по районам')\n",
    "plt.xlabel('Средний чек')\n",
    "plt.ylabel('Район')\n",
    "plt.grid(axis='x')\n",
    "plt.tight_layout()\n",
    "plt.show()"
   ]
  },
  {
   "cell_type": "markdown",
   "id": "62c43710",
   "metadata": {
    "id": "b98066c1"
   },
   "source": [
    "Судя по диаграмме можно уверенно утверждать, что в центральном районе средний чек, а в последствии цены, выше всего. И чем дальше от центра, тем меньше будет средний чек и цены. В тройке лидеров Центральный административный округ(средний чек 1191.06), Западный административный округ(1053.23), Северный административный округ(927.96). А ниже всего средний чек в  Юго-Западном административном округе(792.56), Северо-Восточном административном округе(716.61), Юго-Восточном административном округе(654.10)."
   ]
  },
  {
   "cell_type": "markdown",
   "id": "c150bd4f",
   "metadata": {
    "id": "c150bd4f"
   },
   "source": [
    "---\n"
   ]
  },
  {
   "cell_type": "markdown",
   "id": "f2c54e9a",
   "metadata": {
    "id": "f2c54e9a"
   },
   "source": [
    "---\n",
    "\n",
    "### Промежуточный вывод\n"
   ]
  },
  {
   "cell_type": "markdown",
   "id": "2079897c",
   "metadata": {
    "id": "c8869609"
   },
   "source": [
    "Исходя из проведенного исследования можно сказать следующее. \n",
    "- Самыми популярными категориями заведений общественного питания являются кафе, ресторан и кофейня. заведения данных категорий занимают более половины всего количестве заведений в Москве.\n",
    "- Больше всего заведений(2211) общественного питания в Центральном административном округе, в котром больше всего рапростанены рестораны(665), кафе(444) и кофейни(426).\n",
    "- В Москве несетевых заведений(60,75% от общего числа заведений) больше чем сетевых(39,25% от общего числа заведений).\n",
    "- В несетевых заведениях так же преобладают кафе(1292), рестораны(1257) и кофейни(684). Самыми непопулярными категориями заведений у несетевого общепита явялются булочные(95), столовые(221) и пиццерии(298).\n",
    "- В сетевых заведениях картина аналогична несетевым. Лидерами являются кофейня(714), ресторан(712) и кафе(711). Меньше всего заведений в категориях столовая(85), булочная(154) и бар(159).\n",
    "- В среднем посадочных мест больше всего в ресторанах(100), барах(95) и кофейнях(89).\n",
    "- Средний рейтинг выше всего у баров(4,39), пиццерий(4,30) и ресторанов(4,30). Ниже всего у быстрого питания(4,06).\n",
    "- Рейтинг коррелирует с прайсом. В среднем в завдениях с высоким прайсом средний рейтинг(4,44) выше чем в заведениях с выше среднего(4,4), средние(4,3) и низким(4,2). данный момент скорее всего связан с тем, что в заведениях с прайсом выше больше внимания уделяется меню, обстановке и сервису.\n",
    " -  В топ-15 сетей по количеству заведений входят шоколадница(119,средний рейтинг 4.178151), домино'с пицца(76, средний рейтинг 4.169737), додо пицца(74, средний рейтинг 4.286486), one price coffee(71, средний рейтинг 4.064789), яндекс лавка(68, средний рейтинг 3.870588), cofix(65, средний рейтинг 4.075385), prime(49, средний рейтинг 4.114286), кофепорт(42, средний рейтинг 4.147619), кулинарная лавка братьев караваевых(39, средний рейтинг 4.394872), теремок(36, средний рейтинг 4.105556), cofefest(31, средний рейтинг 3.977419), буханка(24, средний рейтинг 4.425000), drive cafё(24, средний рейтинг(4.025000),кофемания(22, средний рейтинг 4.463636), cinnabon(20, средний рейтинг 3.920000).\n",
    "- Средний чек выше всего в Центральном административном округе(1190,56), а нижен всего в Юго-восточном административном округе.Чем дальше от центра, тем меньше средний чек.\n",
    " "
   ]
  },
  {
   "cell_type": "markdown",
   "id": "480f3422",
   "metadata": {
    "id": "480f3422"
   },
   "source": [
    "## 4. Итоговый вывод и рекомендации\n",
    "\n",
    "По результатам проведённого исследовательского анализа данных сформулируйте итоговый вывод и рекомендации для заказчика. Старайтесь акцентировать внимание на ключевых моментах исследования.\n",
    "\n",
    "При составлении вывода придерживайтесь такой структуры:\n",
    "\n",
    "1. Общий обзор проделанной работы.\n",
    "2. Ответы на исследовательские вопросы, или главные выводы.\n",
    "3. Рекомендации на основе анализа данных."
   ]
  },
  {
   "cell_type": "markdown",
   "id": "60731112",
   "metadata": {},
   "source": [
    "#### Общий обзор проделанной работы"
   ]
  },
  {
   "cell_type": "markdown",
   "id": "2808cc7f",
   "metadata": {},
   "source": [
    "Общий обзор:"
   ]
  },
  {
   "cell_type": "markdown",
   "id": "20ba4463",
   "metadata": {},
   "source": [
    "1. Для анализа были загружны данные датасетов `/datasets/rest_info.csv` и `/datasets/rest_price.csv`. Датасет rest_info.csv содержал 9 столбцов и 8406 строк, а rest_price.csv 5 столбцов и 4058 строк."
   ]
  },
  {
   "cell_type": "markdown",
   "id": "a4789409",
   "metadata": {},
   "source": [
    "2. Датасеты `/datasets/rest_info.csv` и `/datasets/rest_price.csv` были объедены в один датасет `df`"
   ]
  },
  {
   "cell_type": "markdown",
   "id": "11162c0b",
   "metadata": {},
   "source": [
    "3. Типы данных столбцов `category`, `district` и `price`  были преобразованы в тип category. `seats` преобразован в целочисленный тип данных, int32, `chain` в тип int8."
   ]
  },
  {
   "cell_type": "markdown",
   "id": "908066a0",
   "metadata": {},
   "source": [
    "4. Пропуски:\n",
    "  - `hours`: в 536 строках(6,37 % данных) отсутствует информация.\n",
    "  - `seats`: в 3611 строках(43% данных) есть пропуски\n",
    "  - `price`: в 5091 строке(60 % данных) пропущены данные.\n",
    "  - `avg_bill`: в 4590 строках(54,6 % данных) данные отсуствуют.\n",
    "  - `middle_avg_bill`: в 5257(62,6 % данных) есть пропуски.\n",
    "  - `middle_coffee_cup`: в 7871 строке(93,6 % данных) отсутствует информация.\n",
    "  \n",
    "Данные пропуски не устранены, так как их устранение могло повлиять на корректность анализа данных."
   ]
  },
  {
   "cell_type": "markdown",
   "id": "d38360c5",
   "metadata": {},
   "source": [
    "5. Неявные и явные дубликаты:\n",
    "  - в столбцах `name`, `adress` данные приведены к нижнему регистру и убраны лишние пробелы для устранения невявных дубликатов.\n",
    "  - в комбинациях значений столбцов `name`, `adress` было найдено 4 неявных дубликата, которые были удалены.\n",
    "  - столбцы `category`, `price`, `district`, `hours` так же прошли проверку на неявные дубликаты, которых обнаружено не было.\n",
    "  - датасет был проверен на явные дубликаты. Явных дубликатов нет."
   ]
  },
  {
   "cell_type": "markdown",
   "id": "3db1b703",
   "metadata": {},
   "source": [
    "6. Исходный объеденнный дадасет содержал 8406 строк и 13 столбцов. После прохождения всех этапов предобработки, устранения пропусков и дубликатов, осталось 8402 строки. Так же был добавлен дополнительный столбец `is_24_7`, значение `True` котрого указывает на то, что заведение работает круглосуточно. Количество столбцов в преобработанном датасете - 14. Абсолютное количество удаленных строк равно 4, что является 5,05 % от исходного объема данных."
   ]
  },
  {
   "cell_type": "markdown",
   "id": "613612a0",
   "metadata": {},
   "source": [
    "7. Был проведен исследовательский анализ:\n",
    "   - Количество объектов общественного питания по `category`.\n",
    "   - Распределение количества заведений по административным районам Москвы.\n",
    "   - Распределение заведений каждой категории `category` в Центральном административном округе Москвы.\n",
    "   - Cоотношение сетевых и несетевых заведений в целом по всем данным и в разрезе категорий заведения:\n",
    "     - соотношение сетевых и несетевых заведений в целом по всем данным\n",
    "     - какие категории заведений чаще являются не сетевыми\n",
    "     - какие категории заведений чаще являются сетевыми\n",
    "   - Типичное количество посадочных мест для каждой категории заведений.\n",
    "   - Средний рейтинг по категориям заведений.\n",
    "   - Корреляция рейтингов заведений.\n",
    "   - Топ-15 популярных сетей в Москве.\n",
    "   - Вариации среднего чека в зависимости от района Москвы"
   ]
  },
  {
   "cell_type": "markdown",
   "id": "6082181f",
   "metadata": {},
   "source": [
    "#### Главные выводы"
   ]
  },
  {
   "cell_type": "markdown",
   "id": "46c4eae9",
   "metadata": {},
   "source": [
    "1. Самыми популярными категориями заведений общественного питания являются кафе, ресторан и кофейня. заведения данных категорий занимают более половины всего количестве заведений в Москве.  "
   ]
  },
  {
   "cell_type": "markdown",
   "id": "a70fec99",
   "metadata": {},
   "source": [
    "2. Больше всего заведений(2242) общественного питания в Центральном административном округе, в котром больше всего рапростанены рестораны(670), кафе(464) и кофейни(428)."
   ]
  },
  {
   "cell_type": "markdown",
   "id": "5c88b311",
   "metadata": {},
   "source": [
    "3. В Москве несетевых заведений(61,9% от общего числа заведений) больше чем сетевых(38,1% от общего числа заведений).\n"
   ]
  },
  {
   "cell_type": "markdown",
   "id": "5f8bbf1e",
   "metadata": {},
   "source": [
    "4. с точки зрения распределния долей по категориям несетевых завдений, лидирующие позиции занимают бары(0,78),столовые(0,72) и кафе(0,67). Самыми меньшими долями обладают булочные(0,39), пиццерии(0,48) и кофейни(0,49).\n"
   ]
  },
  {
   "cell_type": "markdown",
   "id": "74875e13",
   "metadata": {},
   "source": [
    "\n",
    "5. В сетевых заведениях наблюдается абсолютно проивоположная картина. доли больше всего у булочных(0,61), пиццерий(0,52) икофеен(0,51). И меньше всего у баров(0,22), столовых(0,28) и кафе(0,33)\n",
    "\n"
   ]
  },
  {
   "cell_type": "markdown",
   "id": "3675ddf2",
   "metadata": {},
   "source": [
    "6. В среднем посадочных мест больше всего в ресторанах(114), барах(108,95) и кофейнях(100,43).\n"
   ]
  },
  {
   "cell_type": "markdown",
   "id": "1f28a5c3",
   "metadata": {},
   "source": [
    "7. Средний рейтинг выше всего у баров(4,39), пиццерий(4,30) и ресторанов(4,30). Ниже всего у быстрого питания(4,06). \n",
    "\n"
   ]
  },
  {
   "cell_type": "markdown",
   "id": "06f55638",
   "metadata": {},
   "source": [
    "8. Рейтинг коррелирует с прайсом. В среднем в завдениях с высоким прайсом средний рейтинг(4,43) выше чем в заведениях с выше среднего(4,38), средние(4,29) и низким(4,17). данный момент скорее всего связан с тем, что в заведениях с прайсом выше больше внимания уделяется меню, обстановке и сервису.\n",
    "\n"
   ]
  },
  {
   "cell_type": "markdown",
   "id": "29de5ea7",
   "metadata": {},
   "source": [
    "9. В топ-15 сетей по количеству заведений входят шоколадница(119), домино'с пицца(76), додо пицца(74), one price coffee(71), яндекс лавка(69), cofix(65), prime(49), кофепорт(42), кулинарная лавка братьев караваевых(39),теремок(36), cofefest(31), чайхана(26), буханка(25), drive café(24)б кофемания(22).\n",
    "Сетевые бренды, такие как шоколадница, домино'с пицца и додо пицца, занимают лидирующие позиции по количеству заведений, но лидирующие позиции по рейтингам принадлежат кофемании, буханке и кулинарной лавке братьев караваевых. Что говорит о том, что количество не всегда равно качеству.\n",
    "\n"
   ]
  },
  {
   "cell_type": "markdown",
   "id": "4f6f14dc",
   "metadata": {},
   "source": [
    "10. Средний чек выше всего в Центральном административном округе(1191,06), а ниже всего в Юго-восточном административном округе(654,1).Чем дальше от центра, тем меньше средний чек. Это связано с более высокой концентрацией дорогих заведений в центральном районе и преобладанием недорогих форматов (например, быстрое питание) на окраинах."
   ]
  },
  {
   "cell_type": "markdown",
   "id": "95bd91e1",
   "metadata": {},
   "source": [
    "#### Рекомендации на основе анализа данных."
   ]
  },
  {
   "cell_type": "markdown",
   "id": "77b7a955",
   "metadata": {},
   "source": [
    "На основе анализа можно дать следующие рекомендации:\n",
    "\n",
    "**Категория заведения**: кафе, рестораны и кофейни занимают больше половины рынка, что говорит о их популярности среди клиентов. Поэтому если заведение будет ориентировано на большую аудиторию, то лучше рассмотреть эти категории заведения.\n",
    "\n",
    "**Местоположение**: в Центральном административном округе сконцентрировано больше всего заведений(2211) по сравнению с другими районами, что говорит о высокой концкуренции. Но в данном районе и самый высокий средний чек.\n",
    "В остальных районах Москвы средний чек уменьшается по мере отдаления от центра, но при этом и снижается кокуренция. Поэтому если целью является заведение с высоким прайсом, то лучше рассмотреть именно ЦАО и категории заведений: рестораны, кафе и кофейни.\n",
    "\n",
    "**Сетевое или несетевое заведение**: несетевые заведения занимают 61,9% рынка, сетевые 38,1. Так же стоит помнить, что у несетевых заведений самыми популярными котегориями являются бар, столовая, кафе и ресторан. У сетевых: булочная, пиццерия, кофейня и быстрое питание. Поэтому если целью является открытие уникального заведения, то стоит рассмотреть рассмотреть данный форматы несетевых заведений, если же нужен быстрый старт и узнаваемость, то рекомендуется рассмотреть Топ-15 сетевых заведений и популярные форматые у сетевиков. \n",
    "\n",
    "**Цена и рейтинг**: как показал анализ данных в большинстве случаев цена коррелирует с рейтингом. Высокий прайс равно высокий рейтинг, но только в случае если большое внимание уделяется качеству меню, обстановке и сервису. Но стоит помнить, что высокий прайс в таком формате работает только в определенных локациях, например в ЦАО. Поэтому если планируется высокобюджетный формат, то рекомендуется использовать именно высокий прайс, но с обязательным котролем высокого качества сервиса, меню и интерьера заведения.\n",
    "\n",
    "**Посадочные места**: рестораны, бары и кофейни в среднем предлагают больше посдочных мест. Что может сыграть в пользу привлечения клиентов, особенно в Центральном административном округе. Если же целью является небольшое зведение, то рекмендуется рассмотреть открытие булочной. столовой или точки быстрого питания. "
   ]
  }
 ],
 "metadata": {
  "ExecuteTimeLog": [
   {
    "duration": 3,
    "start_time": "2025-04-05T11:08:28.606Z"
   },
   {
    "duration": 43,
    "start_time": "2025-04-05T11:08:28.611Z"
   },
   {
    "duration": 3,
    "start_time": "2025-04-05T11:08:28.656Z"
   },
   {
    "duration": 1541,
    "start_time": "2025-04-05T11:15:12.230Z"
   },
   {
    "duration": 51,
    "start_time": "2025-04-05T11:16:41.853Z"
   },
   {
    "duration": 339,
    "start_time": "2025-04-05T11:18:20.821Z"
   },
   {
    "duration": 16,
    "start_time": "2025-04-05T11:22:24.664Z"
   },
   {
    "duration": 17,
    "start_time": "2025-04-05T11:23:03.457Z"
   },
   {
    "duration": 10,
    "start_time": "2025-04-05T11:43:39.312Z"
   },
   {
    "duration": 13,
    "start_time": "2025-04-05T11:44:08.472Z"
   },
   {
    "duration": 1271,
    "start_time": "2025-04-05T11:45:00.540Z"
   },
   {
    "duration": 256,
    "start_time": "2025-04-05T11:45:01.813Z"
   },
   {
    "duration": 16,
    "start_time": "2025-04-05T11:45:02.071Z"
   },
   {
    "duration": 174,
    "start_time": "2025-04-05T11:45:02.089Z"
   },
   {
    "duration": 10,
    "start_time": "2025-04-05T11:45:02.265Z"
   },
   {
    "duration": 43,
    "start_time": "2025-04-05T11:45:02.277Z"
   },
   {
    "duration": 11,
    "start_time": "2025-04-05T12:38:47.197Z"
   },
   {
    "duration": 15,
    "start_time": "2025-04-05T12:38:47.807Z"
   },
   {
    "duration": 1307,
    "start_time": "2025-04-05T12:39:55.996Z"
   },
   {
    "duration": 228,
    "start_time": "2025-04-05T12:39:57.306Z"
   },
   {
    "duration": 16,
    "start_time": "2025-04-05T12:39:57.535Z"
   },
   {
    "duration": 17,
    "start_time": "2025-04-05T12:39:57.553Z"
   },
   {
    "duration": 17,
    "start_time": "2025-04-05T12:39:57.572Z"
   },
   {
    "duration": 27,
    "start_time": "2025-04-05T12:39:57.591Z"
   },
   {
    "duration": 13,
    "start_time": "2025-04-05T12:39:57.619Z"
   },
   {
    "duration": 16,
    "start_time": "2025-04-05T12:39:57.634Z"
   },
   {
    "duration": 6,
    "start_time": "2025-04-05T12:41:37.073Z"
   },
   {
    "duration": 17,
    "start_time": "2025-04-05T12:47:49.290Z"
   },
   {
    "duration": 10,
    "start_time": "2025-04-05T12:50:16.792Z"
   },
   {
    "duration": 5,
    "start_time": "2025-04-05T12:53:11.151Z"
   },
   {
    "duration": 4,
    "start_time": "2025-04-05T12:53:34.256Z"
   },
   {
    "duration": 5,
    "start_time": "2025-04-05T12:54:31.866Z"
   },
   {
    "duration": 10,
    "start_time": "2025-04-05T12:55:52.122Z"
   },
   {
    "duration": 13,
    "start_time": "2025-04-05T12:56:07.355Z"
   },
   {
    "duration": 5,
    "start_time": "2025-04-05T12:56:52.215Z"
   },
   {
    "duration": 1324,
    "start_time": "2025-04-05T12:56:58.506Z"
   },
   {
    "duration": 196,
    "start_time": "2025-04-05T12:56:59.831Z"
   },
   {
    "duration": 18,
    "start_time": "2025-04-05T12:57:00.028Z"
   },
   {
    "duration": 50,
    "start_time": "2025-04-05T12:57:00.048Z"
   },
   {
    "duration": 88,
    "start_time": "2025-04-05T12:57:00.101Z"
   },
   {
    "duration": 53,
    "start_time": "2025-04-05T12:57:00.191Z"
   },
   {
    "duration": 37,
    "start_time": "2025-04-05T12:57:00.246Z"
   },
   {
    "duration": 52,
    "start_time": "2025-04-05T12:57:00.284Z"
   },
   {
    "duration": 39,
    "start_time": "2025-04-05T12:57:00.338Z"
   },
   {
    "duration": 90,
    "start_time": "2025-04-05T12:57:00.379Z"
   },
   {
    "duration": 120,
    "start_time": "2025-04-05T12:57:00.470Z"
   },
   {
    "duration": 62,
    "start_time": "2025-04-05T12:57:00.591Z"
   },
   {
    "duration": 7,
    "start_time": "2025-04-05T12:57:00.655Z"
   },
   {
    "duration": 30,
    "start_time": "2025-04-05T12:57:00.665Z"
   },
   {
    "duration": 59,
    "start_time": "2025-04-05T12:57:00.697Z"
   },
   {
    "duration": 111,
    "start_time": "2025-04-05T12:57:00.758Z"
   },
   {
    "duration": 9,
    "start_time": "2025-04-05T13:44:03.544Z"
   },
   {
    "duration": 123,
    "start_time": "2025-04-05T13:45:02.171Z"
   },
   {
    "duration": 1239,
    "start_time": "2025-04-05T13:45:30.949Z"
   },
   {
    "duration": 147,
    "start_time": "2025-04-05T13:45:32.190Z"
   },
   {
    "duration": 16,
    "start_time": "2025-04-05T13:45:32.341Z"
   },
   {
    "duration": 46,
    "start_time": "2025-04-05T13:45:32.359Z"
   },
   {
    "duration": 25,
    "start_time": "2025-04-05T13:45:32.407Z"
   },
   {
    "duration": 13,
    "start_time": "2025-04-05T13:45:32.434Z"
   },
   {
    "duration": 12,
    "start_time": "2025-04-05T13:45:32.448Z"
   },
   {
    "duration": 18,
    "start_time": "2025-04-05T13:45:32.462Z"
   },
   {
    "duration": 47,
    "start_time": "2025-04-05T13:45:32.481Z"
   },
   {
    "duration": 19,
    "start_time": "2025-04-05T13:45:32.529Z"
   },
   {
    "duration": 16,
    "start_time": "2025-04-05T13:45:32.550Z"
   },
   {
    "duration": 10,
    "start_time": "2025-04-05T13:45:32.568Z"
   },
   {
    "duration": 19,
    "start_time": "2025-04-05T13:45:32.580Z"
   },
   {
    "duration": 80,
    "start_time": "2025-04-05T13:45:32.601Z"
   },
   {
    "duration": 79,
    "start_time": "2025-04-05T13:45:32.683Z"
   },
   {
    "duration": 76,
    "start_time": "2025-04-05T13:45:32.763Z"
   },
   {
    "duration": 9,
    "start_time": "2025-04-05T13:45:32.841Z"
   },
   {
    "duration": 118,
    "start_time": "2025-04-05T13:45:32.852Z"
   },
   {
    "duration": 17,
    "start_time": "2025-04-05T13:45:58.527Z"
   },
   {
    "duration": 5,
    "start_time": "2025-04-05T13:47:29.048Z"
   },
   {
    "duration": 4,
    "start_time": "2025-04-05T13:49:25.395Z"
   },
   {
    "duration": 13,
    "start_time": "2025-04-05T13:49:57.660Z"
   },
   {
    "duration": 14,
    "start_time": "2025-04-05T13:50:09.644Z"
   },
   {
    "duration": 1293,
    "start_time": "2025-04-05T13:50:15.407Z"
   },
   {
    "duration": 162,
    "start_time": "2025-04-05T13:50:16.702Z"
   },
   {
    "duration": 16,
    "start_time": "2025-04-05T13:50:16.865Z"
   },
   {
    "duration": 13,
    "start_time": "2025-04-05T13:50:16.883Z"
   },
   {
    "duration": 10,
    "start_time": "2025-04-05T13:50:16.898Z"
   },
   {
    "duration": 100,
    "start_time": "2025-04-05T13:50:16.909Z"
   },
   {
    "duration": 17,
    "start_time": "2025-04-05T13:50:17.011Z"
   },
   {
    "duration": 15,
    "start_time": "2025-04-05T13:50:17.029Z"
   },
   {
    "duration": 17,
    "start_time": "2025-04-05T13:50:17.046Z"
   },
   {
    "duration": 5,
    "start_time": "2025-04-05T13:50:17.064Z"
   },
   {
    "duration": 15,
    "start_time": "2025-04-05T13:50:17.070Z"
   },
   {
    "duration": 20,
    "start_time": "2025-04-05T13:50:17.087Z"
   },
   {
    "duration": 11,
    "start_time": "2025-04-05T13:50:17.109Z"
   },
   {
    "duration": 8,
    "start_time": "2025-04-05T13:50:17.123Z"
   },
   {
    "duration": 11,
    "start_time": "2025-04-05T13:50:17.132Z"
   },
   {
    "duration": 17,
    "start_time": "2025-04-05T13:50:17.145Z"
   },
   {
    "duration": 10,
    "start_time": "2025-04-05T13:50:17.165Z"
   },
   {
    "duration": 6,
    "start_time": "2025-04-05T13:50:17.177Z"
   },
   {
    "duration": 4,
    "start_time": "2025-04-05T13:50:17.206Z"
   },
   {
    "duration": 115,
    "start_time": "2025-04-05T13:50:39.560Z"
   },
   {
    "duration": 1243,
    "start_time": "2025-04-05T13:50:44.358Z"
   },
   {
    "duration": 280,
    "start_time": "2025-04-05T13:50:45.603Z"
   },
   {
    "duration": 17,
    "start_time": "2025-04-05T13:50:45.885Z"
   },
   {
    "duration": 24,
    "start_time": "2025-04-05T13:50:45.903Z"
   },
   {
    "duration": 16,
    "start_time": "2025-04-05T13:50:45.929Z"
   },
   {
    "duration": 15,
    "start_time": "2025-04-05T13:50:45.946Z"
   },
   {
    "duration": 11,
    "start_time": "2025-04-05T13:50:45.962Z"
   },
   {
    "duration": 19,
    "start_time": "2025-04-05T13:50:45.975Z"
   },
   {
    "duration": 25,
    "start_time": "2025-04-05T13:50:45.996Z"
   },
   {
    "duration": 10,
    "start_time": "2025-04-05T13:50:46.023Z"
   },
   {
    "duration": 15,
    "start_time": "2025-04-05T13:50:46.034Z"
   },
   {
    "duration": 8,
    "start_time": "2025-04-05T13:50:46.053Z"
   },
   {
    "duration": 5,
    "start_time": "2025-04-05T13:50:46.065Z"
   },
   {
    "duration": 9,
    "start_time": "2025-04-05T13:50:46.074Z"
   },
   {
    "duration": 37,
    "start_time": "2025-04-05T13:50:46.106Z"
   },
   {
    "duration": 21,
    "start_time": "2025-04-05T13:50:46.145Z"
   },
   {
    "duration": 15,
    "start_time": "2025-04-05T13:50:46.168Z"
   },
   {
    "duration": 11,
    "start_time": "2025-04-05T13:50:46.185Z"
   },
   {
    "duration": 18,
    "start_time": "2025-04-05T13:50:46.198Z"
   },
   {
    "duration": 3,
    "start_time": "2025-04-05T13:51:27.670Z"
   },
   {
    "duration": 4,
    "start_time": "2025-04-05T13:52:09.747Z"
   },
   {
    "duration": 26,
    "start_time": "2025-04-05T13:52:59.195Z"
   },
   {
    "duration": 5,
    "start_time": "2025-04-05T13:56:26.881Z"
   },
   {
    "duration": 5,
    "start_time": "2025-04-05T13:57:41.308Z"
   },
   {
    "duration": 5,
    "start_time": "2025-04-05T13:58:46.311Z"
   },
   {
    "duration": 5,
    "start_time": "2025-04-05T13:59:31.451Z"
   },
   {
    "duration": 112,
    "start_time": "2025-04-05T14:06:02.381Z"
   },
   {
    "duration": 6,
    "start_time": "2025-04-05T14:06:24.826Z"
   },
   {
    "duration": 4,
    "start_time": "2025-04-05T14:09:14.867Z"
   },
   {
    "duration": 7,
    "start_time": "2025-04-05T14:10:29.321Z"
   },
   {
    "duration": 13,
    "start_time": "2025-04-05T14:11:41.882Z"
   },
   {
    "duration": 7,
    "start_time": "2025-04-05T14:12:26.930Z"
   },
   {
    "duration": 8,
    "start_time": "2025-04-05T14:14:35.439Z"
   },
   {
    "duration": 8,
    "start_time": "2025-04-05T14:15:07.719Z"
   },
   {
    "duration": 7,
    "start_time": "2025-04-05T14:15:47.472Z"
   },
   {
    "duration": 1361,
    "start_time": "2025-04-05T14:15:58.880Z"
   },
   {
    "duration": 232,
    "start_time": "2025-04-05T14:16:00.243Z"
   },
   {
    "duration": 16,
    "start_time": "2025-04-05T14:16:00.477Z"
   },
   {
    "duration": 24,
    "start_time": "2025-04-05T14:16:00.494Z"
   },
   {
    "duration": 31,
    "start_time": "2025-04-05T14:16:00.520Z"
   },
   {
    "duration": 53,
    "start_time": "2025-04-05T14:16:00.553Z"
   },
   {
    "duration": 29,
    "start_time": "2025-04-05T14:16:00.607Z"
   },
   {
    "duration": 26,
    "start_time": "2025-04-05T14:16:00.638Z"
   },
   {
    "duration": 35,
    "start_time": "2025-04-05T14:16:00.666Z"
   },
   {
    "duration": 16,
    "start_time": "2025-04-05T14:16:00.703Z"
   },
   {
    "duration": 116,
    "start_time": "2025-04-05T14:16:00.720Z"
   },
   {
    "duration": 6,
    "start_time": "2025-04-05T14:16:00.838Z"
   },
   {
    "duration": 104,
    "start_time": "2025-04-05T14:16:00.846Z"
   },
   {
    "duration": 11,
    "start_time": "2025-04-05T14:16:00.955Z"
   },
   {
    "duration": 23,
    "start_time": "2025-04-05T14:16:00.968Z"
   },
   {
    "duration": 106,
    "start_time": "2025-04-05T14:16:00.993Z"
   },
   {
    "duration": 39,
    "start_time": "2025-04-05T14:16:01.101Z"
   },
   {
    "duration": 7,
    "start_time": "2025-04-05T14:16:01.142Z"
   },
   {
    "duration": 9,
    "start_time": "2025-04-05T14:16:01.152Z"
   },
   {
    "duration": 10,
    "start_time": "2025-04-05T14:16:01.164Z"
   },
   {
    "duration": 35,
    "start_time": "2025-04-05T14:16:01.176Z"
   },
   {
    "duration": 47,
    "start_time": "2025-04-05T14:16:01.213Z"
   },
   {
    "duration": 6,
    "start_time": "2025-04-05T14:16:01.263Z"
   },
   {
    "duration": 22,
    "start_time": "2025-04-05T14:16:01.271Z"
   },
   {
    "duration": 40,
    "start_time": "2025-04-05T14:16:01.295Z"
   },
   {
    "duration": 19,
    "start_time": "2025-04-05T14:18:36.481Z"
   },
   {
    "duration": 294,
    "start_time": "2025-04-05T14:33:03.526Z"
   },
   {
    "duration": 10,
    "start_time": "2025-04-05T14:33:13.670Z"
   },
   {
    "duration": 10,
    "start_time": "2025-04-05T14:34:33.221Z"
   },
   {
    "duration": 8,
    "start_time": "2025-04-05T14:35:57.899Z"
   },
   {
    "duration": 7,
    "start_time": "2025-04-05T14:36:29.675Z"
   },
   {
    "duration": 15,
    "start_time": "2025-04-05T14:38:01.178Z"
   },
   {
    "duration": 14,
    "start_time": "2025-04-05T14:39:25.800Z"
   },
   {
    "duration": 28,
    "start_time": "2025-04-05T14:43:53.121Z"
   },
   {
    "duration": 1246,
    "start_time": "2025-04-05T14:48:37.951Z"
   },
   {
    "duration": 229,
    "start_time": "2025-04-05T14:48:39.198Z"
   },
   {
    "duration": 17,
    "start_time": "2025-04-05T14:48:39.428Z"
   },
   {
    "duration": 23,
    "start_time": "2025-04-05T14:48:39.447Z"
   },
   {
    "duration": 26,
    "start_time": "2025-04-05T14:48:39.472Z"
   },
   {
    "duration": 30,
    "start_time": "2025-04-05T14:48:39.500Z"
   },
   {
    "duration": 35,
    "start_time": "2025-04-05T14:48:39.532Z"
   },
   {
    "duration": 34,
    "start_time": "2025-04-05T14:48:39.569Z"
   },
   {
    "duration": 16,
    "start_time": "2025-04-05T14:48:39.605Z"
   },
   {
    "duration": 5,
    "start_time": "2025-04-05T14:48:39.623Z"
   },
   {
    "duration": 14,
    "start_time": "2025-04-05T14:48:39.630Z"
   },
   {
    "duration": 5,
    "start_time": "2025-04-05T14:48:39.645Z"
   },
   {
    "duration": 3,
    "start_time": "2025-04-05T14:48:39.652Z"
   },
   {
    "duration": 5,
    "start_time": "2025-04-05T14:48:39.658Z"
   },
   {
    "duration": 41,
    "start_time": "2025-04-05T14:48:39.665Z"
   },
   {
    "duration": 13,
    "start_time": "2025-04-05T14:48:39.708Z"
   },
   {
    "duration": 8,
    "start_time": "2025-04-05T14:48:39.723Z"
   },
   {
    "duration": 12,
    "start_time": "2025-04-05T14:48:39.732Z"
   },
   {
    "duration": 10,
    "start_time": "2025-04-05T14:48:39.745Z"
   },
   {
    "duration": 6,
    "start_time": "2025-04-05T14:48:39.757Z"
   },
   {
    "duration": 4,
    "start_time": "2025-04-05T14:48:39.764Z"
   },
   {
    "duration": 49,
    "start_time": "2025-04-05T14:48:39.769Z"
   },
   {
    "duration": 4,
    "start_time": "2025-04-05T14:48:39.820Z"
   },
   {
    "duration": 22,
    "start_time": "2025-04-05T14:48:39.826Z"
   },
   {
    "duration": 8,
    "start_time": "2025-04-05T14:48:39.849Z"
   },
   {
    "duration": 17,
    "start_time": "2025-04-05T14:48:39.859Z"
   },
   {
    "duration": 62,
    "start_time": "2025-04-05T14:48:39.878Z"
   },
   {
    "duration": 0,
    "start_time": "2025-04-05T14:48:39.941Z"
   },
   {
    "duration": 4,
    "start_time": "2025-04-05T14:49:32.025Z"
   },
   {
    "duration": 1376,
    "start_time": "2025-04-05T14:52:01.611Z"
   },
   {
    "duration": 165,
    "start_time": "2025-04-05T14:52:02.989Z"
   },
   {
    "duration": 39,
    "start_time": "2025-04-05T14:52:03.156Z"
   },
   {
    "duration": 33,
    "start_time": "2025-04-05T14:52:03.198Z"
   },
   {
    "duration": 10,
    "start_time": "2025-04-05T14:52:03.234Z"
   },
   {
    "duration": 12,
    "start_time": "2025-04-05T14:52:03.247Z"
   },
   {
    "duration": 45,
    "start_time": "2025-04-05T14:52:03.261Z"
   },
   {
    "duration": 30,
    "start_time": "2025-04-05T14:52:03.308Z"
   },
   {
    "duration": 17,
    "start_time": "2025-04-05T14:52:03.340Z"
   },
   {
    "duration": 6,
    "start_time": "2025-04-05T14:52:03.359Z"
   },
   {
    "duration": 66,
    "start_time": "2025-04-05T14:52:03.367Z"
   },
   {
    "duration": 17,
    "start_time": "2025-04-05T14:52:03.435Z"
   },
   {
    "duration": 11,
    "start_time": "2025-04-05T14:52:03.454Z"
   },
   {
    "duration": 38,
    "start_time": "2025-04-05T14:52:03.469Z"
   },
   {
    "duration": 20,
    "start_time": "2025-04-05T14:52:03.509Z"
   },
   {
    "duration": 12,
    "start_time": "2025-04-05T14:52:03.531Z"
   },
   {
    "duration": 10,
    "start_time": "2025-04-05T14:52:03.545Z"
   },
   {
    "duration": 8,
    "start_time": "2025-04-05T14:52:03.557Z"
   },
   {
    "duration": 72,
    "start_time": "2025-04-05T14:52:03.567Z"
   },
   {
    "duration": 59,
    "start_time": "2025-04-05T14:52:03.641Z"
   },
   {
    "duration": 29,
    "start_time": "2025-04-05T14:52:03.702Z"
   },
   {
    "duration": 30,
    "start_time": "2025-04-05T14:52:03.733Z"
   },
   {
    "duration": 5,
    "start_time": "2025-04-05T14:52:03.765Z"
   },
   {
    "duration": 41,
    "start_time": "2025-04-05T14:52:03.772Z"
   },
   {
    "duration": 10,
    "start_time": "2025-04-05T14:52:03.815Z"
   },
   {
    "duration": 25,
    "start_time": "2025-04-05T14:52:03.827Z"
   },
   {
    "duration": 5,
    "start_time": "2025-04-05T14:52:03.855Z"
   },
   {
    "duration": 60,
    "start_time": "2025-04-05T14:52:03.862Z"
   },
   {
    "duration": 64,
    "start_time": "2025-04-05T14:52:03.924Z"
   },
   {
    "duration": 5,
    "start_time": "2025-04-05T14:52:36.051Z"
   },
   {
    "duration": 184,
    "start_time": "2025-04-05T14:52:46.631Z"
   },
   {
    "duration": 17,
    "start_time": "2025-04-05T14:52:47.543Z"
   },
   {
    "duration": 13,
    "start_time": "2025-04-05T14:52:47.929Z"
   },
   {
    "duration": 9,
    "start_time": "2025-04-05T14:52:48.711Z"
   },
   {
    "duration": 11,
    "start_time": "2025-04-05T14:52:49.069Z"
   },
   {
    "duration": 11,
    "start_time": "2025-04-05T14:52:51.460Z"
   },
   {
    "duration": 25,
    "start_time": "2025-04-05T14:52:52.019Z"
   },
   {
    "duration": 28,
    "start_time": "2025-04-05T14:52:52.497Z"
   },
   {
    "duration": 5,
    "start_time": "2025-04-05T14:52:53.736Z"
   },
   {
    "duration": 10,
    "start_time": "2025-04-05T14:52:54.167Z"
   },
   {
    "duration": 5,
    "start_time": "2025-04-05T14:52:54.569Z"
   },
   {
    "duration": 7,
    "start_time": "2025-04-05T14:52:54.938Z"
   },
   {
    "duration": 7,
    "start_time": "2025-04-05T14:52:55.304Z"
   },
   {
    "duration": 12,
    "start_time": "2025-04-05T14:52:56.537Z"
   },
   {
    "duration": 10,
    "start_time": "2025-04-05T14:52:56.937Z"
   },
   {
    "duration": 10,
    "start_time": "2025-04-05T14:52:58.414Z"
   },
   {
    "duration": 9,
    "start_time": "2025-04-05T14:52:59.119Z"
   },
   {
    "duration": 11,
    "start_time": "2025-04-05T14:53:41.085Z"
   },
   {
    "duration": 1316,
    "start_time": "2025-04-05T14:53:47.932Z"
   },
   {
    "duration": 185,
    "start_time": "2025-04-05T14:53:49.250Z"
   },
   {
    "duration": 18,
    "start_time": "2025-04-05T14:53:49.436Z"
   },
   {
    "duration": 15,
    "start_time": "2025-04-05T14:53:49.456Z"
   },
   {
    "duration": 10,
    "start_time": "2025-04-05T14:53:49.475Z"
   },
   {
    "duration": 35,
    "start_time": "2025-04-05T14:53:49.488Z"
   },
   {
    "duration": 12,
    "start_time": "2025-04-05T14:53:49.525Z"
   },
   {
    "duration": 27,
    "start_time": "2025-04-05T14:53:49.539Z"
   },
   {
    "duration": 49,
    "start_time": "2025-04-05T14:53:49.568Z"
   },
   {
    "duration": 29,
    "start_time": "2025-04-05T14:53:49.620Z"
   },
   {
    "duration": 16,
    "start_time": "2025-04-05T14:53:49.650Z"
   },
   {
    "duration": 5,
    "start_time": "2025-04-05T14:53:49.667Z"
   },
   {
    "duration": 17,
    "start_time": "2025-04-05T14:53:49.674Z"
   },
   {
    "duration": 6,
    "start_time": "2025-04-05T14:53:49.694Z"
   },
   {
    "duration": 32,
    "start_time": "2025-04-05T14:53:49.702Z"
   },
   {
    "duration": 12,
    "start_time": "2025-04-05T14:53:49.735Z"
   },
   {
    "duration": 20,
    "start_time": "2025-04-05T14:53:49.749Z"
   },
   {
    "duration": 19,
    "start_time": "2025-04-05T14:53:49.770Z"
   },
   {
    "duration": 9,
    "start_time": "2025-04-05T14:53:49.791Z"
   },
   {
    "duration": 15,
    "start_time": "2025-04-05T14:53:49.801Z"
   },
   {
    "duration": 10,
    "start_time": "2025-04-05T14:53:49.818Z"
   },
   {
    "duration": 30,
    "start_time": "2025-04-05T14:53:49.829Z"
   },
   {
    "duration": 5,
    "start_time": "2025-04-05T14:53:49.861Z"
   },
   {
    "duration": 13,
    "start_time": "2025-04-05T14:53:49.868Z"
   },
   {
    "duration": 12,
    "start_time": "2025-04-05T14:53:49.882Z"
   },
   {
    "duration": 32,
    "start_time": "2025-04-05T14:53:49.895Z"
   },
   {
    "duration": 122,
    "start_time": "2025-04-05T14:53:49.929Z"
   },
   {
    "duration": 0,
    "start_time": "2025-04-05T14:53:50.052Z"
   },
   {
    "duration": 0,
    "start_time": "2025-04-05T14:53:50.054Z"
   },
   {
    "duration": 1341,
    "start_time": "2025-04-05T14:54:11.946Z"
   },
   {
    "duration": 254,
    "start_time": "2025-04-05T14:54:13.289Z"
   },
   {
    "duration": 22,
    "start_time": "2025-04-05T14:54:13.545Z"
   },
   {
    "duration": 20,
    "start_time": "2025-04-05T14:54:13.569Z"
   },
   {
    "duration": 121,
    "start_time": "2025-04-05T14:54:13.592Z"
   },
   {
    "duration": 13,
    "start_time": "2025-04-05T14:54:13.715Z"
   },
   {
    "duration": 14,
    "start_time": "2025-04-05T14:54:13.730Z"
   },
   {
    "duration": 37,
    "start_time": "2025-04-05T14:54:13.745Z"
   },
   {
    "duration": 39,
    "start_time": "2025-04-05T14:54:13.784Z"
   },
   {
    "duration": 5,
    "start_time": "2025-04-05T14:54:13.825Z"
   },
   {
    "duration": 11,
    "start_time": "2025-04-05T14:54:13.832Z"
   },
   {
    "duration": 4,
    "start_time": "2025-04-05T14:54:13.845Z"
   },
   {
    "duration": 9,
    "start_time": "2025-04-05T14:54:13.851Z"
   },
   {
    "duration": 32,
    "start_time": "2025-04-05T14:54:13.863Z"
   },
   {
    "duration": 32,
    "start_time": "2025-04-05T14:54:13.898Z"
   },
   {
    "duration": 18,
    "start_time": "2025-04-05T14:54:13.932Z"
   },
   {
    "duration": 26,
    "start_time": "2025-04-05T14:54:13.952Z"
   },
   {
    "duration": 5,
    "start_time": "2025-04-05T14:54:13.980Z"
   },
   {
    "duration": 32,
    "start_time": "2025-04-05T14:54:13.987Z"
   },
   {
    "duration": 69,
    "start_time": "2025-04-05T14:54:14.022Z"
   },
   {
    "duration": 33,
    "start_time": "2025-04-05T14:54:14.093Z"
   },
   {
    "duration": 18,
    "start_time": "2025-04-05T14:54:14.128Z"
   },
   {
    "duration": 4,
    "start_time": "2025-04-05T14:54:14.148Z"
   },
   {
    "duration": 5,
    "start_time": "2025-04-05T14:54:14.154Z"
   },
   {
    "duration": 11,
    "start_time": "2025-04-05T14:54:14.161Z"
   },
   {
    "duration": 24,
    "start_time": "2025-04-05T14:54:14.174Z"
   },
   {
    "duration": 127,
    "start_time": "2025-04-05T14:54:14.199Z"
   },
   {
    "duration": 0,
    "start_time": "2025-04-05T14:54:14.328Z"
   },
   {
    "duration": 0,
    "start_time": "2025-04-05T14:54:14.329Z"
   },
   {
    "duration": 4,
    "start_time": "2025-04-05T14:55:10.367Z"
   },
   {
    "duration": 4,
    "start_time": "2025-04-05T14:55:17.124Z"
   },
   {
    "duration": 1402,
    "start_time": "2025-04-06T06:19:59.096Z"
   },
   {
    "duration": 0,
    "start_time": "2025-04-06T06:20:00.500Z"
   },
   {
    "duration": 0,
    "start_time": "2025-04-06T06:20:00.502Z"
   },
   {
    "duration": 0,
    "start_time": "2025-04-06T06:20:00.503Z"
   },
   {
    "duration": 0,
    "start_time": "2025-04-06T06:20:00.504Z"
   },
   {
    "duration": 0,
    "start_time": "2025-04-06T06:20:00.505Z"
   },
   {
    "duration": 0,
    "start_time": "2025-04-06T06:20:00.506Z"
   },
   {
    "duration": 0,
    "start_time": "2025-04-06T06:20:00.507Z"
   },
   {
    "duration": 0,
    "start_time": "2025-04-06T06:20:00.508Z"
   },
   {
    "duration": 0,
    "start_time": "2025-04-06T06:20:00.510Z"
   },
   {
    "duration": 0,
    "start_time": "2025-04-06T06:20:00.511Z"
   },
   {
    "duration": 0,
    "start_time": "2025-04-06T06:20:00.512Z"
   },
   {
    "duration": 0,
    "start_time": "2025-04-06T06:20:00.513Z"
   },
   {
    "duration": 0,
    "start_time": "2025-04-06T06:20:00.514Z"
   },
   {
    "duration": 0,
    "start_time": "2025-04-06T06:20:00.515Z"
   },
   {
    "duration": 0,
    "start_time": "2025-04-06T06:20:00.517Z"
   },
   {
    "duration": 0,
    "start_time": "2025-04-06T06:20:00.518Z"
   },
   {
    "duration": 0,
    "start_time": "2025-04-06T06:20:00.519Z"
   },
   {
    "duration": 0,
    "start_time": "2025-04-06T06:20:00.520Z"
   },
   {
    "duration": 0,
    "start_time": "2025-04-06T06:20:00.521Z"
   },
   {
    "duration": 0,
    "start_time": "2025-04-06T06:20:00.523Z"
   },
   {
    "duration": 0,
    "start_time": "2025-04-06T06:20:00.524Z"
   },
   {
    "duration": 0,
    "start_time": "2025-04-06T06:20:00.525Z"
   },
   {
    "duration": 0,
    "start_time": "2025-04-06T06:20:00.526Z"
   },
   {
    "duration": 0,
    "start_time": "2025-04-06T06:20:00.527Z"
   },
   {
    "duration": 0,
    "start_time": "2025-04-06T06:20:00.572Z"
   },
   {
    "duration": 0,
    "start_time": "2025-04-06T06:20:00.574Z"
   },
   {
    "duration": 0,
    "start_time": "2025-04-06T06:20:00.575Z"
   },
   {
    "duration": 1199,
    "start_time": "2025-04-06T06:21:00.644Z"
   },
   {
    "duration": 386,
    "start_time": "2025-04-06T06:21:01.845Z"
   },
   {
    "duration": 15,
    "start_time": "2025-04-06T06:21:02.232Z"
   },
   {
    "duration": 21,
    "start_time": "2025-04-06T06:21:02.249Z"
   },
   {
    "duration": 10,
    "start_time": "2025-04-06T06:21:02.273Z"
   },
   {
    "duration": 31,
    "start_time": "2025-04-06T06:21:02.285Z"
   },
   {
    "duration": 17,
    "start_time": "2025-04-06T06:21:02.318Z"
   },
   {
    "duration": 15,
    "start_time": "2025-04-06T06:21:02.336Z"
   },
   {
    "duration": 28,
    "start_time": "2025-04-06T06:21:02.353Z"
   },
   {
    "duration": 33,
    "start_time": "2025-04-06T06:21:02.383Z"
   },
   {
    "duration": 31,
    "start_time": "2025-04-06T06:21:02.418Z"
   },
   {
    "duration": 13,
    "start_time": "2025-04-06T06:21:02.451Z"
   },
   {
    "duration": 5,
    "start_time": "2025-04-06T06:21:02.465Z"
   },
   {
    "duration": 18,
    "start_time": "2025-04-06T06:21:02.475Z"
   },
   {
    "duration": 44,
    "start_time": "2025-04-06T06:21:02.495Z"
   },
   {
    "duration": 28,
    "start_time": "2025-04-06T06:21:02.541Z"
   },
   {
    "duration": 11,
    "start_time": "2025-04-06T06:21:02.571Z"
   },
   {
    "duration": 13,
    "start_time": "2025-04-06T06:21:02.584Z"
   },
   {
    "duration": 6,
    "start_time": "2025-04-06T06:21:02.599Z"
   },
   {
    "duration": 20,
    "start_time": "2025-04-06T06:21:02.606Z"
   },
   {
    "duration": 4,
    "start_time": "2025-04-06T06:21:02.628Z"
   },
   {
    "duration": 42,
    "start_time": "2025-04-06T06:21:02.633Z"
   },
   {
    "duration": 5,
    "start_time": "2025-04-06T06:21:02.677Z"
   },
   {
    "duration": 16,
    "start_time": "2025-04-06T06:21:02.683Z"
   },
   {
    "duration": 41,
    "start_time": "2025-04-06T06:21:02.701Z"
   },
   {
    "duration": 41,
    "start_time": "2025-04-06T06:21:02.743Z"
   },
   {
    "duration": 8,
    "start_time": "2025-04-06T06:21:02.785Z"
   },
   {
    "duration": 42,
    "start_time": "2025-04-06T06:21:02.795Z"
   },
   {
    "duration": 1189,
    "start_time": "2025-04-06T06:21:36.339Z"
   },
   {
    "duration": 169,
    "start_time": "2025-04-06T06:21:37.530Z"
   },
   {
    "duration": 16,
    "start_time": "2025-04-06T06:21:37.700Z"
   },
   {
    "duration": 13,
    "start_time": "2025-04-06T06:21:37.717Z"
   },
   {
    "duration": 9,
    "start_time": "2025-04-06T06:21:37.732Z"
   },
   {
    "duration": 10,
    "start_time": "2025-04-06T06:21:37.743Z"
   },
   {
    "duration": 28,
    "start_time": "2025-04-06T06:21:37.754Z"
   },
   {
    "duration": 14,
    "start_time": "2025-04-06T06:21:37.783Z"
   },
   {
    "duration": 13,
    "start_time": "2025-04-06T06:21:37.798Z"
   },
   {
    "duration": 5,
    "start_time": "2025-04-06T06:21:37.813Z"
   },
   {
    "duration": 9,
    "start_time": "2025-04-06T06:21:37.820Z"
   },
   {
    "duration": 5,
    "start_time": "2025-04-06T06:21:37.831Z"
   },
   {
    "duration": 36,
    "start_time": "2025-04-06T06:21:37.838Z"
   },
   {
    "duration": 5,
    "start_time": "2025-04-06T06:21:37.877Z"
   },
   {
    "duration": 9,
    "start_time": "2025-04-06T06:21:37.884Z"
   },
   {
    "duration": 12,
    "start_time": "2025-04-06T06:21:37.895Z"
   },
   {
    "duration": 8,
    "start_time": "2025-04-06T06:21:37.908Z"
   },
   {
    "duration": 4,
    "start_time": "2025-04-06T06:21:37.918Z"
   },
   {
    "duration": 5,
    "start_time": "2025-04-06T06:21:37.924Z"
   },
   {
    "duration": 43,
    "start_time": "2025-04-06T06:21:37.930Z"
   },
   {
    "duration": 3,
    "start_time": "2025-04-06T06:21:37.975Z"
   },
   {
    "duration": 18,
    "start_time": "2025-04-06T06:21:37.980Z"
   },
   {
    "duration": 6,
    "start_time": "2025-04-06T06:21:38.000Z"
   },
   {
    "duration": 6,
    "start_time": "2025-04-06T06:21:38.008Z"
   },
   {
    "duration": 8,
    "start_time": "2025-04-06T06:21:38.016Z"
   },
   {
    "duration": 54,
    "start_time": "2025-04-06T06:21:38.026Z"
   },
   {
    "duration": 4,
    "start_time": "2025-04-06T06:21:38.082Z"
   },
   {
    "duration": 23,
    "start_time": "2025-04-06T06:21:38.088Z"
   },
   {
    "duration": 16,
    "start_time": "2025-04-06T06:25:13.842Z"
   },
   {
    "duration": 17,
    "start_time": "2025-04-06T06:27:03.904Z"
   },
   {
    "duration": 17,
    "start_time": "2025-04-06T06:27:23.413Z"
   },
   {
    "duration": 28,
    "start_time": "2025-04-06T06:27:43.012Z"
   },
   {
    "duration": 124,
    "start_time": "2025-04-06T06:41:29.408Z"
   },
   {
    "duration": 318,
    "start_time": "2025-04-06T06:42:13.076Z"
   },
   {
    "duration": 286,
    "start_time": "2025-04-06T06:43:47.673Z"
   },
   {
    "duration": 313,
    "start_time": "2025-04-06T06:45:38.193Z"
   },
   {
    "duration": 297,
    "start_time": "2025-04-06T06:46:19.458Z"
   },
   {
    "duration": 301,
    "start_time": "2025-04-06T06:46:31.078Z"
   },
   {
    "duration": 189,
    "start_time": "2025-04-06T06:47:18.163Z"
   },
   {
    "duration": 298,
    "start_time": "2025-04-06T06:47:32.558Z"
   },
   {
    "duration": 208,
    "start_time": "2025-04-06T06:47:56.640Z"
   },
   {
    "duration": 203,
    "start_time": "2025-04-06T06:48:12.259Z"
   },
   {
    "duration": 189,
    "start_time": "2025-04-06T06:48:21.500Z"
   },
   {
    "duration": 202,
    "start_time": "2025-04-06T06:49:44.743Z"
   },
   {
    "duration": 211,
    "start_time": "2025-04-06T06:51:22.851Z"
   },
   {
    "duration": 209,
    "start_time": "2025-04-06T06:54:10.405Z"
   },
   {
    "duration": 187,
    "start_time": "2025-04-06T06:57:12.644Z"
   },
   {
    "duration": 192,
    "start_time": "2025-04-06T06:59:36.762Z"
   },
   {
    "duration": 248,
    "start_time": "2025-04-06T07:00:03.455Z"
   },
   {
    "duration": 278,
    "start_time": "2025-04-06T07:00:40.637Z"
   },
   {
    "duration": 347,
    "start_time": "2025-04-06T07:01:15.486Z"
   },
   {
    "duration": 250,
    "start_time": "2025-04-06T07:02:41.333Z"
   },
   {
    "duration": 260,
    "start_time": "2025-04-06T07:03:14.231Z"
   },
   {
    "duration": 276,
    "start_time": "2025-04-06T07:03:32.708Z"
   },
   {
    "duration": 232,
    "start_time": "2025-04-06T07:03:49.209Z"
   },
   {
    "duration": 193,
    "start_time": "2025-04-06T07:04:08.668Z"
   },
   {
    "duration": 241,
    "start_time": "2025-04-06T07:05:05.852Z"
   },
   {
    "duration": 307,
    "start_time": "2025-04-06T07:09:06.296Z"
   },
   {
    "duration": 3739,
    "start_time": "2025-04-06T07:09:31.223Z"
   },
   {
    "duration": 548,
    "start_time": "2025-04-06T07:10:57.298Z"
   },
   {
    "duration": 501,
    "start_time": "2025-04-06T07:12:39.123Z"
   },
   {
    "duration": 148,
    "start_time": "2025-04-06T07:13:14.755Z"
   },
   {
    "duration": 514,
    "start_time": "2025-04-06T07:13:29.210Z"
   },
   {
    "duration": 724,
    "start_time": "2025-04-06T07:15:12.496Z"
   },
   {
    "duration": 613,
    "start_time": "2025-04-06T07:16:00.935Z"
   },
   {
    "duration": 532,
    "start_time": "2025-04-06T07:16:28.715Z"
   },
   {
    "duration": 199,
    "start_time": "2025-04-06T07:18:44.484Z"
   },
   {
    "duration": 193,
    "start_time": "2025-04-06T07:19:19.401Z"
   },
   {
    "duration": 567,
    "start_time": "2025-04-06T07:19:34.355Z"
   },
   {
    "duration": 565,
    "start_time": "2025-04-06T07:20:01.071Z"
   },
   {
    "duration": 603,
    "start_time": "2025-04-06T07:22:19.002Z"
   },
   {
    "duration": 531,
    "start_time": "2025-04-06T07:22:54.533Z"
   },
   {
    "duration": 191,
    "start_time": "2025-04-06T07:23:19.061Z"
   },
   {
    "duration": 527,
    "start_time": "2025-04-06T07:24:14.496Z"
   },
   {
    "duration": 505,
    "start_time": "2025-04-06T07:25:23.312Z"
   },
   {
    "duration": 1226,
    "start_time": "2025-04-06T07:25:33.170Z"
   },
   {
    "duration": 419,
    "start_time": "2025-04-06T07:25:34.399Z"
   },
   {
    "duration": 15,
    "start_time": "2025-04-06T07:25:34.820Z"
   },
   {
    "duration": 23,
    "start_time": "2025-04-06T07:25:34.836Z"
   },
   {
    "duration": 9,
    "start_time": "2025-04-06T07:25:34.861Z"
   },
   {
    "duration": 11,
    "start_time": "2025-04-06T07:25:34.872Z"
   },
   {
    "duration": 10,
    "start_time": "2025-04-06T07:25:34.884Z"
   },
   {
    "duration": 18,
    "start_time": "2025-04-06T07:25:34.896Z"
   },
   {
    "duration": 33,
    "start_time": "2025-04-06T07:25:34.915Z"
   },
   {
    "duration": 7,
    "start_time": "2025-04-06T07:25:34.950Z"
   },
   {
    "duration": 18,
    "start_time": "2025-04-06T07:25:34.958Z"
   },
   {
    "duration": 5,
    "start_time": "2025-04-06T07:25:34.977Z"
   },
   {
    "duration": 20,
    "start_time": "2025-04-06T07:25:34.983Z"
   },
   {
    "duration": 17,
    "start_time": "2025-04-06T07:25:35.005Z"
   },
   {
    "duration": 14,
    "start_time": "2025-04-06T07:25:35.024Z"
   },
   {
    "duration": 91,
    "start_time": "2025-04-06T07:25:35.040Z"
   },
   {
    "duration": 7,
    "start_time": "2025-04-06T07:25:35.133Z"
   },
   {
    "duration": 5,
    "start_time": "2025-04-06T07:25:35.142Z"
   },
   {
    "duration": 9,
    "start_time": "2025-04-06T07:25:35.148Z"
   },
   {
    "duration": 4,
    "start_time": "2025-04-06T07:25:35.158Z"
   },
   {
    "duration": 119,
    "start_time": "2025-04-06T07:25:35.163Z"
   },
   {
    "duration": 33,
    "start_time": "2025-04-06T07:25:35.284Z"
   },
   {
    "duration": 9,
    "start_time": "2025-04-06T07:25:35.318Z"
   },
   {
    "duration": 5,
    "start_time": "2025-04-06T07:25:35.328Z"
   },
   {
    "duration": 6,
    "start_time": "2025-04-06T07:25:35.335Z"
   },
   {
    "duration": 22,
    "start_time": "2025-04-06T07:25:35.342Z"
   },
   {
    "duration": 4,
    "start_time": "2025-04-06T07:25:35.365Z"
   },
   {
    "duration": 18,
    "start_time": "2025-04-06T07:25:35.371Z"
   },
   {
    "duration": 26,
    "start_time": "2025-04-06T07:25:35.391Z"
   },
   {
    "duration": 358,
    "start_time": "2025-04-06T07:25:35.419Z"
   },
   {
    "duration": 544,
    "start_time": "2025-04-06T07:25:35.779Z"
   },
   {
    "duration": 257,
    "start_time": "2025-04-06T07:25:52.349Z"
   },
   {
    "duration": 344,
    "start_time": "2025-04-06T07:26:24.811Z"
   },
   {
    "duration": 301,
    "start_time": "2025-04-06T07:26:52.272Z"
   },
   {
    "duration": 610,
    "start_time": "2025-04-06T07:28:05.210Z"
   },
   {
    "duration": 12,
    "start_time": "2025-04-06T07:28:14.454Z"
   },
   {
    "duration": 526,
    "start_time": "2025-04-06T07:28:36.523Z"
   },
   {
    "duration": 531,
    "start_time": "2025-04-06T08:14:04.903Z"
   },
   {
    "duration": 504,
    "start_time": "2025-04-06T08:23:59.118Z"
   },
   {
    "duration": 546,
    "start_time": "2025-04-06T08:24:52.109Z"
   },
   {
    "duration": 550,
    "start_time": "2025-04-06T08:25:06.459Z"
   },
   {
    "duration": 605,
    "start_time": "2025-04-06T08:25:55.335Z"
   },
   {
    "duration": 304,
    "start_time": "2025-04-06T08:26:29.390Z"
   },
   {
    "duration": 342,
    "start_time": "2025-04-06T08:30:23.157Z"
   },
   {
    "duration": 541,
    "start_time": "2025-04-06T08:32:36.963Z"
   },
   {
    "duration": 588,
    "start_time": "2025-04-06T08:34:03.151Z"
   },
   {
    "duration": 530,
    "start_time": "2025-04-06T08:38:34.990Z"
   },
   {
    "duration": 609,
    "start_time": "2025-04-06T08:39:10.432Z"
   },
   {
    "duration": 515,
    "start_time": "2025-04-06T08:39:18.033Z"
   },
   {
    "duration": 4051,
    "start_time": "2025-04-06T08:39:37.968Z"
   },
   {
    "duration": 573,
    "start_time": "2025-04-06T08:40:01.861Z"
   },
   {
    "duration": 591,
    "start_time": "2025-04-06T08:41:22.219Z"
   },
   {
    "duration": 725,
    "start_time": "2025-04-06T08:41:36.993Z"
   },
   {
    "duration": 509,
    "start_time": "2025-04-06T08:41:43.000Z"
   },
   {
    "duration": 16,
    "start_time": "2025-04-06T08:42:16.007Z"
   },
   {
    "duration": 11,
    "start_time": "2025-04-06T08:42:27.387Z"
   },
   {
    "duration": 511,
    "start_time": "2025-04-06T08:42:33.314Z"
   },
   {
    "duration": 537,
    "start_time": "2025-04-06T08:43:59.776Z"
   },
   {
    "duration": 558,
    "start_time": "2025-04-06T08:44:10.739Z"
   },
   {
    "duration": 601,
    "start_time": "2025-04-06T08:44:20.911Z"
   },
   {
    "duration": 512,
    "start_time": "2025-04-06T08:44:43.155Z"
   },
   {
    "duration": 568,
    "start_time": "2025-04-06T08:45:09.980Z"
   },
   {
    "duration": 553,
    "start_time": "2025-04-06T08:45:25.347Z"
   },
   {
    "duration": 529,
    "start_time": "2025-04-06T08:45:35.522Z"
   },
   {
    "duration": 479,
    "start_time": "2025-04-06T08:46:33.311Z"
   },
   {
    "duration": 641,
    "start_time": "2025-04-06T08:46:49.790Z"
   },
   {
    "duration": 332,
    "start_time": "2025-04-06T08:48:40.880Z"
   },
   {
    "duration": 357,
    "start_time": "2025-04-06T08:48:52.898Z"
   },
   {
    "duration": 1150,
    "start_time": "2025-04-06T08:48:58.286Z"
   },
   {
    "duration": 154,
    "start_time": "2025-04-06T08:48:59.437Z"
   },
   {
    "duration": 15,
    "start_time": "2025-04-06T08:48:59.593Z"
   },
   {
    "duration": 12,
    "start_time": "2025-04-06T08:48:59.609Z"
   },
   {
    "duration": 8,
    "start_time": "2025-04-06T08:48:59.623Z"
   },
   {
    "duration": 9,
    "start_time": "2025-04-06T08:48:59.633Z"
   },
   {
    "duration": 31,
    "start_time": "2025-04-06T08:48:59.644Z"
   },
   {
    "duration": 14,
    "start_time": "2025-04-06T08:48:59.677Z"
   },
   {
    "duration": 14,
    "start_time": "2025-04-06T08:48:59.692Z"
   },
   {
    "duration": 5,
    "start_time": "2025-04-06T08:48:59.707Z"
   },
   {
    "duration": 9,
    "start_time": "2025-04-06T08:48:59.713Z"
   },
   {
    "duration": 4,
    "start_time": "2025-04-06T08:48:59.723Z"
   },
   {
    "duration": 5,
    "start_time": "2025-04-06T08:48:59.729Z"
   },
   {
    "duration": 5,
    "start_time": "2025-04-06T08:48:59.737Z"
   },
   {
    "duration": 9,
    "start_time": "2025-04-06T08:48:59.772Z"
   },
   {
    "duration": 66,
    "start_time": "2025-04-06T08:48:59.783Z"
   },
   {
    "duration": 8,
    "start_time": "2025-04-06T08:48:59.851Z"
   },
   {
    "duration": 4,
    "start_time": "2025-04-06T08:48:59.861Z"
   },
   {
    "duration": 4,
    "start_time": "2025-04-06T08:48:59.867Z"
   },
   {
    "duration": 13,
    "start_time": "2025-04-06T08:48:59.873Z"
   },
   {
    "duration": 4,
    "start_time": "2025-04-06T08:48:59.888Z"
   },
   {
    "duration": 18,
    "start_time": "2025-04-06T08:48:59.893Z"
   },
   {
    "duration": 5,
    "start_time": "2025-04-06T08:48:59.912Z"
   },
   {
    "duration": 19,
    "start_time": "2025-04-06T08:48:59.918Z"
   },
   {
    "duration": 6,
    "start_time": "2025-04-06T08:48:59.939Z"
   },
   {
    "duration": 17,
    "start_time": "2025-04-06T08:48:59.946Z"
   },
   {
    "duration": 10,
    "start_time": "2025-04-06T08:48:59.964Z"
   },
   {
    "duration": 20,
    "start_time": "2025-04-06T08:48:59.975Z"
   },
   {
    "duration": 28,
    "start_time": "2025-04-06T08:48:59.996Z"
   },
   {
    "duration": 384,
    "start_time": "2025-04-06T08:49:00.025Z"
   },
   {
    "duration": 385,
    "start_time": "2025-04-06T08:49:00.411Z"
   },
   {
    "duration": 696,
    "start_time": "2025-04-06T08:49:00.799Z"
   },
   {
    "duration": 530,
    "start_time": "2025-04-06T08:49:26.486Z"
   },
   {
    "duration": 641,
    "start_time": "2025-04-06T08:49:35.959Z"
   },
   {
    "duration": 551,
    "start_time": "2025-04-06T08:50:34.233Z"
   },
   {
    "duration": 75,
    "start_time": "2025-04-06T08:52:43.059Z"
   },
   {
    "duration": 527,
    "start_time": "2025-04-06T08:55:08.902Z"
   },
   {
    "duration": 244,
    "start_time": "2025-04-06T08:55:34.649Z"
   },
   {
    "duration": 314,
    "start_time": "2025-04-06T08:56:18.943Z"
   },
   {
    "duration": 355,
    "start_time": "2025-04-06T08:57:15.710Z"
   },
   {
    "duration": 323,
    "start_time": "2025-04-06T08:57:53.583Z"
   },
   {
    "duration": 364,
    "start_time": "2025-04-06T09:02:05.719Z"
   },
   {
    "duration": 336,
    "start_time": "2025-04-06T09:03:06.949Z"
   },
   {
    "duration": 1221,
    "start_time": "2025-04-06T09:03:13.093Z"
   },
   {
    "duration": 177,
    "start_time": "2025-04-06T09:03:14.316Z"
   },
   {
    "duration": 17,
    "start_time": "2025-04-06T09:03:14.494Z"
   },
   {
    "duration": 15,
    "start_time": "2025-04-06T09:03:14.513Z"
   },
   {
    "duration": 11,
    "start_time": "2025-04-06T09:03:14.530Z"
   },
   {
    "duration": 43,
    "start_time": "2025-04-06T09:03:14.543Z"
   },
   {
    "duration": 14,
    "start_time": "2025-04-06T09:03:14.588Z"
   },
   {
    "duration": 25,
    "start_time": "2025-04-06T09:03:14.605Z"
   },
   {
    "duration": 15,
    "start_time": "2025-04-06T09:03:14.632Z"
   },
   {
    "duration": 27,
    "start_time": "2025-04-06T09:03:14.648Z"
   },
   {
    "duration": 9,
    "start_time": "2025-04-06T09:03:14.677Z"
   },
   {
    "duration": 5,
    "start_time": "2025-04-06T09:03:14.687Z"
   },
   {
    "duration": 3,
    "start_time": "2025-04-06T09:03:14.693Z"
   },
   {
    "duration": 7,
    "start_time": "2025-04-06T09:03:14.699Z"
   },
   {
    "duration": 13,
    "start_time": "2025-04-06T09:03:14.708Z"
   },
   {
    "duration": 10,
    "start_time": "2025-04-06T09:03:14.723Z"
   },
   {
    "duration": 44,
    "start_time": "2025-04-06T09:03:14.734Z"
   },
   {
    "duration": 5,
    "start_time": "2025-04-06T09:03:14.780Z"
   },
   {
    "duration": 6,
    "start_time": "2025-04-06T09:03:14.786Z"
   },
   {
    "duration": 4,
    "start_time": "2025-04-06T09:03:14.793Z"
   },
   {
    "duration": 5,
    "start_time": "2025-04-06T09:03:14.798Z"
   },
   {
    "duration": 16,
    "start_time": "2025-04-06T09:03:14.805Z"
   },
   {
    "duration": 5,
    "start_time": "2025-04-06T09:03:14.822Z"
   },
   {
    "duration": 7,
    "start_time": "2025-04-06T09:03:14.828Z"
   },
   {
    "duration": 41,
    "start_time": "2025-04-06T09:03:14.836Z"
   },
   {
    "duration": 29,
    "start_time": "2025-04-06T09:03:14.878Z"
   },
   {
    "duration": 4,
    "start_time": "2025-04-06T09:03:14.908Z"
   },
   {
    "duration": 20,
    "start_time": "2025-04-06T09:03:14.913Z"
   },
   {
    "duration": 46,
    "start_time": "2025-04-06T09:03:14.935Z"
   },
   {
    "duration": 375,
    "start_time": "2025-04-06T09:03:14.982Z"
   },
   {
    "duration": 353,
    "start_time": "2025-04-06T09:03:15.358Z"
   },
   {
    "duration": 341,
    "start_time": "2025-04-06T09:03:15.713Z"
   },
   {
    "duration": 470,
    "start_time": "2025-04-06T09:06:51.852Z"
   },
   {
    "duration": 390,
    "start_time": "2025-04-06T09:07:21.402Z"
   },
   {
    "duration": 278,
    "start_time": "2025-04-06T09:12:31.660Z"
   },
   {
    "duration": 11,
    "start_time": "2025-04-06T09:17:15.450Z"
   },
   {
    "duration": 287,
    "start_time": "2025-04-06T09:20:13.641Z"
   },
   {
    "duration": 382,
    "start_time": "2025-04-06T09:20:26.032Z"
   },
   {
    "duration": 257,
    "start_time": "2025-04-06T09:21:06.691Z"
   },
   {
    "duration": 278,
    "start_time": "2025-04-06T09:22:22.299Z"
   },
   {
    "duration": 288,
    "start_time": "2025-04-06T09:22:29.871Z"
   },
   {
    "duration": 321,
    "start_time": "2025-04-06T09:24:24.637Z"
   },
   {
    "duration": 271,
    "start_time": "2025-04-06T09:25:30.102Z"
   },
   {
    "duration": 332,
    "start_time": "2025-04-06T09:26:58.108Z"
   },
   {
    "duration": 292,
    "start_time": "2025-04-06T09:31:04.367Z"
   },
   {
    "duration": 339,
    "start_time": "2025-04-06T09:36:07.419Z"
   },
   {
    "duration": 327,
    "start_time": "2025-04-06T09:37:18.522Z"
   },
   {
    "duration": 60,
    "start_time": "2025-04-06T09:38:34.938Z"
   },
   {
    "duration": 66,
    "start_time": "2025-04-06T09:41:55.945Z"
   },
   {
    "duration": 351,
    "start_time": "2025-04-06T09:42:39.727Z"
   },
   {
    "duration": 423,
    "start_time": "2025-04-06T09:44:29.212Z"
   },
   {
    "duration": 309,
    "start_time": "2025-04-06T09:44:44.881Z"
   },
   {
    "duration": 9,
    "start_time": "2025-04-06T09:54:30.012Z"
   },
   {
    "duration": 168,
    "start_time": "2025-04-06T09:56:46.820Z"
   },
   {
    "duration": 119,
    "start_time": "2025-04-06T09:57:25.117Z"
   },
   {
    "duration": 119,
    "start_time": "2025-04-06T09:57:38.842Z"
   },
   {
    "duration": 166,
    "start_time": "2025-04-06T09:58:49.944Z"
   },
   {
    "duration": 8,
    "start_time": "2025-04-06T10:13:40.214Z"
   },
   {
    "duration": 58,
    "start_time": "2025-04-06T10:13:43.895Z"
   },
   {
    "duration": 128,
    "start_time": "2025-04-06T10:25:19.267Z"
   },
   {
    "duration": 128,
    "start_time": "2025-04-06T10:25:25.111Z"
   },
   {
    "duration": 121,
    "start_time": "2025-04-06T10:25:33.794Z"
   },
   {
    "duration": 1285,
    "start_time": "2025-04-06T10:29:45.166Z"
   },
   {
    "duration": 212,
    "start_time": "2025-04-06T10:29:46.453Z"
   },
   {
    "duration": 22,
    "start_time": "2025-04-06T10:29:46.668Z"
   },
   {
    "duration": 13,
    "start_time": "2025-04-06T10:29:46.692Z"
   },
   {
    "duration": 9,
    "start_time": "2025-04-06T10:29:46.707Z"
   },
   {
    "duration": 11,
    "start_time": "2025-04-06T10:29:46.718Z"
   },
   {
    "duration": 10,
    "start_time": "2025-04-06T10:29:46.730Z"
   },
   {
    "duration": 46,
    "start_time": "2025-04-06T10:29:46.741Z"
   },
   {
    "duration": 14,
    "start_time": "2025-04-06T10:29:46.788Z"
   },
   {
    "duration": 5,
    "start_time": "2025-04-06T10:29:46.803Z"
   },
   {
    "duration": 18,
    "start_time": "2025-04-06T10:29:46.809Z"
   },
   {
    "duration": 4,
    "start_time": "2025-04-06T10:29:46.829Z"
   },
   {
    "duration": 9,
    "start_time": "2025-04-06T10:29:46.835Z"
   },
   {
    "duration": 5,
    "start_time": "2025-04-06T10:29:46.847Z"
   },
   {
    "duration": 17,
    "start_time": "2025-04-06T10:29:46.873Z"
   },
   {
    "duration": 10,
    "start_time": "2025-04-06T10:29:46.893Z"
   },
   {
    "duration": 7,
    "start_time": "2025-04-06T10:29:46.904Z"
   },
   {
    "duration": 4,
    "start_time": "2025-04-06T10:29:46.913Z"
   },
   {
    "duration": 5,
    "start_time": "2025-04-06T10:29:46.918Z"
   },
   {
    "duration": 5,
    "start_time": "2025-04-06T10:29:46.924Z"
   },
   {
    "duration": 4,
    "start_time": "2025-04-06T10:29:46.931Z"
   },
   {
    "duration": 54,
    "start_time": "2025-04-06T10:29:46.936Z"
   },
   {
    "duration": 4,
    "start_time": "2025-04-06T10:29:46.992Z"
   },
   {
    "duration": 6,
    "start_time": "2025-04-06T10:29:46.998Z"
   },
   {
    "duration": 8,
    "start_time": "2025-04-06T10:29:47.005Z"
   },
   {
    "duration": 16,
    "start_time": "2025-04-06T10:29:47.014Z"
   },
   {
    "duration": 4,
    "start_time": "2025-04-06T10:29:47.031Z"
   },
   {
    "duration": 53,
    "start_time": "2025-04-06T10:29:47.036Z"
   },
   {
    "duration": 28,
    "start_time": "2025-04-06T10:29:47.090Z"
   },
   {
    "duration": 372,
    "start_time": "2025-04-06T10:29:47.119Z"
   },
   {
    "duration": 426,
    "start_time": "2025-04-06T10:29:47.492Z"
   },
   {
    "duration": 336,
    "start_time": "2025-04-06T10:29:47.920Z"
   },
   {
    "duration": 297,
    "start_time": "2025-04-06T10:29:48.258Z"
   },
   {
    "duration": 327,
    "start_time": "2025-04-06T10:29:48.557Z"
   },
   {
    "duration": 324,
    "start_time": "2025-04-06T10:29:48.886Z"
   },
   {
    "duration": 10,
    "start_time": "2025-04-06T10:29:49.211Z"
   },
   {
    "duration": 184,
    "start_time": "2025-04-06T10:29:49.222Z"
   },
   {
    "duration": 205,
    "start_time": "2025-04-06T10:29:49.407Z"
   },
   {
    "duration": 1250,
    "start_time": "2025-04-06T10:31:04.811Z"
   },
   {
    "duration": 154,
    "start_time": "2025-04-06T10:31:06.063Z"
   },
   {
    "duration": 17,
    "start_time": "2025-04-06T10:31:06.219Z"
   },
   {
    "duration": 23,
    "start_time": "2025-04-06T10:31:06.237Z"
   },
   {
    "duration": 18,
    "start_time": "2025-04-06T10:31:06.263Z"
   },
   {
    "duration": 13,
    "start_time": "2025-04-06T10:31:06.285Z"
   },
   {
    "duration": 40,
    "start_time": "2025-04-06T10:31:06.299Z"
   },
   {
    "duration": 15,
    "start_time": "2025-04-06T10:31:06.340Z"
   },
   {
    "duration": 35,
    "start_time": "2025-04-06T10:31:06.357Z"
   },
   {
    "duration": 6,
    "start_time": "2025-04-06T10:31:06.393Z"
   },
   {
    "duration": 15,
    "start_time": "2025-04-06T10:31:06.400Z"
   },
   {
    "duration": 5,
    "start_time": "2025-04-06T10:31:06.417Z"
   },
   {
    "duration": 7,
    "start_time": "2025-04-06T10:31:06.423Z"
   },
   {
    "duration": 8,
    "start_time": "2025-04-06T10:31:06.433Z"
   },
   {
    "duration": 37,
    "start_time": "2025-04-06T10:31:06.443Z"
   },
   {
    "duration": 16,
    "start_time": "2025-04-06T10:31:06.482Z"
   },
   {
    "duration": 9,
    "start_time": "2025-04-06T10:31:06.499Z"
   },
   {
    "duration": 5,
    "start_time": "2025-04-06T10:31:06.510Z"
   },
   {
    "duration": 20,
    "start_time": "2025-04-06T10:31:06.516Z"
   },
   {
    "duration": 21,
    "start_time": "2025-04-06T10:31:06.538Z"
   },
   {
    "duration": 4,
    "start_time": "2025-04-06T10:31:06.560Z"
   },
   {
    "duration": 36,
    "start_time": "2025-04-06T10:31:06.565Z"
   },
   {
    "duration": 5,
    "start_time": "2025-04-06T10:31:06.602Z"
   },
   {
    "duration": 9,
    "start_time": "2025-04-06T10:31:06.608Z"
   },
   {
    "duration": 7,
    "start_time": "2025-04-06T10:31:06.618Z"
   },
   {
    "duration": 23,
    "start_time": "2025-04-06T10:31:06.626Z"
   },
   {
    "duration": 4,
    "start_time": "2025-04-06T10:31:06.650Z"
   },
   {
    "duration": 24,
    "start_time": "2025-04-06T10:31:06.679Z"
   },
   {
    "duration": 30,
    "start_time": "2025-04-06T10:31:06.705Z"
   },
   {
    "duration": 374,
    "start_time": "2025-04-06T10:31:06.737Z"
   },
   {
    "duration": 402,
    "start_time": "2025-04-06T10:31:07.113Z"
   },
   {
    "duration": 370,
    "start_time": "2025-04-06T10:31:07.517Z"
   },
   {
    "duration": 267,
    "start_time": "2025-04-06T10:31:07.889Z"
   },
   {
    "duration": 344,
    "start_time": "2025-04-06T10:31:08.158Z"
   },
   {
    "duration": 377,
    "start_time": "2025-04-06T10:31:08.504Z"
   },
   {
    "duration": 9,
    "start_time": "2025-04-06T10:31:08.886Z"
   },
   {
    "duration": 171,
    "start_time": "2025-04-06T10:31:08.897Z"
   },
   {
    "duration": 225,
    "start_time": "2025-04-06T10:31:09.070Z"
   },
   {
    "duration": 334,
    "start_time": "2025-04-06T10:31:09.296Z"
   },
   {
    "duration": 324,
    "start_time": "2025-04-06T10:32:05.596Z"
   },
   {
    "duration": 324,
    "start_time": "2025-04-06T10:32:27.365Z"
   },
   {
    "duration": 383,
    "start_time": "2025-04-06T10:32:34.708Z"
   },
   {
    "duration": 317,
    "start_time": "2025-04-06T10:36:41.187Z"
   },
   {
    "duration": 362,
    "start_time": "2025-04-06T10:36:58.627Z"
   },
   {
    "duration": 314,
    "start_time": "2025-04-06T10:37:50.349Z"
   },
   {
    "duration": 298,
    "start_time": "2025-04-06T10:38:43.278Z"
   },
   {
    "duration": 347,
    "start_time": "2025-04-06T10:39:38.912Z"
   },
   {
    "duration": 303,
    "start_time": "2025-04-06T10:39:45.596Z"
   },
   {
    "duration": 482,
    "start_time": "2025-04-06T10:40:09.711Z"
   },
   {
    "duration": 315,
    "start_time": "2025-04-06T10:40:22.975Z"
   },
   {
    "duration": 306,
    "start_time": "2025-04-06T10:40:45.581Z"
   },
   {
    "duration": 306,
    "start_time": "2025-04-06T10:41:34.249Z"
   },
   {
    "duration": 295,
    "start_time": "2025-04-06T10:42:27.098Z"
   },
   {
    "duration": 325,
    "start_time": "2025-04-06T10:42:42.833Z"
   },
   {
    "duration": 379,
    "start_time": "2025-04-06T10:44:40.172Z"
   },
   {
    "duration": 298,
    "start_time": "2025-04-06T10:44:52.976Z"
   },
   {
    "duration": 322,
    "start_time": "2025-04-06T10:45:13.928Z"
   },
   {
    "duration": 277,
    "start_time": "2025-04-06T10:45:41.075Z"
   },
   {
    "duration": 295,
    "start_time": "2025-04-06T10:46:14.330Z"
   },
   {
    "duration": 417,
    "start_time": "2025-04-06T10:46:40.041Z"
   },
   {
    "duration": 325,
    "start_time": "2025-04-06T10:47:01.628Z"
   },
   {
    "duration": 327,
    "start_time": "2025-04-06T10:47:38.610Z"
   },
   {
    "duration": 304,
    "start_time": "2025-04-06T10:48:51.544Z"
   },
   {
    "duration": 111,
    "start_time": "2025-04-06T10:49:56.741Z"
   },
   {
    "duration": 161,
    "start_time": "2025-04-06T10:53:10.823Z"
   },
   {
    "duration": 112,
    "start_time": "2025-04-06T10:53:26.704Z"
   },
   {
    "duration": 59,
    "start_time": "2025-04-06T10:55:46.260Z"
   },
   {
    "duration": 301,
    "start_time": "2025-04-06T11:01:16.757Z"
   },
   {
    "duration": 77,
    "start_time": "2025-04-06T11:03:07.280Z"
   },
   {
    "duration": 10,
    "start_time": "2025-04-06T11:04:15.289Z"
   },
   {
    "duration": 301,
    "start_time": "2025-04-06T11:06:06.575Z"
   },
   {
    "duration": 293,
    "start_time": "2025-04-06T11:06:41.092Z"
   },
   {
    "duration": 305,
    "start_time": "2025-04-06T11:10:01.272Z"
   },
   {
    "duration": 375,
    "start_time": "2025-04-06T11:10:58.480Z"
   },
   {
    "duration": 336,
    "start_time": "2025-04-06T11:11:08.537Z"
   },
   {
    "duration": 342,
    "start_time": "2025-04-06T11:11:22.402Z"
   },
   {
    "duration": 122,
    "start_time": "2025-04-06T11:17:40.494Z"
   },
   {
    "duration": 61,
    "start_time": "2025-04-06T11:21:58.039Z"
   },
   {
    "duration": 9,
    "start_time": "2025-04-06T11:22:04.725Z"
   },
   {
    "duration": 126,
    "start_time": "2025-04-06T11:22:05.318Z"
   },
   {
    "duration": 56,
    "start_time": "2025-04-06T11:23:14.875Z"
   },
   {
    "duration": 501,
    "start_time": "2025-04-06T11:36:51.525Z"
   },
   {
    "duration": 512,
    "start_time": "2025-04-06T11:37:56.437Z"
   },
   {
    "duration": 126,
    "start_time": "2025-04-06T11:38:40.491Z"
   },
   {
    "duration": 506,
    "start_time": "2025-04-06T11:38:46.130Z"
   },
   {
    "duration": 595,
    "start_time": "2025-04-06T11:39:34.563Z"
   },
   {
    "duration": 59,
    "start_time": "2025-04-06T11:41:17.435Z"
   },
   {
    "duration": 516,
    "start_time": "2025-04-06T11:41:32.094Z"
   },
   {
    "duration": 12,
    "start_time": "2025-04-06T11:52:39.346Z"
   },
   {
    "duration": 13,
    "start_time": "2025-04-06T11:53:17.494Z"
   },
   {
    "duration": 15,
    "start_time": "2025-04-06T12:01:15.090Z"
   },
   {
    "duration": 298,
    "start_time": "2025-04-06T12:02:58.612Z"
   },
   {
    "duration": 13,
    "start_time": "2025-04-06T12:04:29.972Z"
   },
   {
    "duration": 5,
    "start_time": "2025-04-06T12:09:10.996Z"
   },
   {
    "duration": 19,
    "start_time": "2025-04-06T12:12:08.592Z"
   },
   {
    "duration": 1247,
    "start_time": "2025-04-06T12:12:15.070Z"
   },
   {
    "duration": 149,
    "start_time": "2025-04-06T12:12:16.318Z"
   },
   {
    "duration": 15,
    "start_time": "2025-04-06T12:12:16.468Z"
   },
   {
    "duration": 15,
    "start_time": "2025-04-06T12:12:16.484Z"
   },
   {
    "duration": 9,
    "start_time": "2025-04-06T12:12:16.501Z"
   },
   {
    "duration": 11,
    "start_time": "2025-04-06T12:12:16.512Z"
   },
   {
    "duration": 12,
    "start_time": "2025-04-06T12:12:16.524Z"
   },
   {
    "duration": 45,
    "start_time": "2025-04-06T12:12:16.537Z"
   },
   {
    "duration": 14,
    "start_time": "2025-04-06T12:12:16.584Z"
   },
   {
    "duration": 5,
    "start_time": "2025-04-06T12:12:16.600Z"
   },
   {
    "duration": 11,
    "start_time": "2025-04-06T12:12:16.607Z"
   },
   {
    "duration": 6,
    "start_time": "2025-04-06T12:12:16.619Z"
   },
   {
    "duration": 3,
    "start_time": "2025-04-06T12:12:16.627Z"
   },
   {
    "duration": 6,
    "start_time": "2025-04-06T12:12:16.672Z"
   },
   {
    "duration": 9,
    "start_time": "2025-04-06T12:12:16.680Z"
   },
   {
    "duration": 12,
    "start_time": "2025-04-06T12:12:16.691Z"
   },
   {
    "duration": 9,
    "start_time": "2025-04-06T12:12:16.704Z"
   },
   {
    "duration": 6,
    "start_time": "2025-04-06T12:12:16.714Z"
   },
   {
    "duration": 6,
    "start_time": "2025-04-06T12:12:16.721Z"
   },
   {
    "duration": 46,
    "start_time": "2025-04-06T12:12:16.728Z"
   },
   {
    "duration": 3,
    "start_time": "2025-04-06T12:12:16.776Z"
   },
   {
    "duration": 28,
    "start_time": "2025-04-06T12:12:16.781Z"
   },
   {
    "duration": 5,
    "start_time": "2025-04-06T12:12:16.811Z"
   },
   {
    "duration": 18,
    "start_time": "2025-04-06T12:12:16.818Z"
   },
   {
    "duration": 6,
    "start_time": "2025-04-06T12:12:16.837Z"
   },
   {
    "duration": 32,
    "start_time": "2025-04-06T12:12:16.844Z"
   },
   {
    "duration": 13,
    "start_time": "2025-04-06T12:12:16.877Z"
   },
   {
    "duration": 22,
    "start_time": "2025-04-06T12:12:16.892Z"
   },
   {
    "duration": 4,
    "start_time": "2025-04-06T12:12:16.916Z"
   },
   {
    "duration": 25,
    "start_time": "2025-04-06T12:12:16.921Z"
   },
   {
    "duration": 51,
    "start_time": "2025-04-06T12:12:16.948Z"
   },
   {
    "duration": 379,
    "start_time": "2025-04-06T12:12:17.001Z"
   },
   {
    "duration": 394,
    "start_time": "2025-04-06T12:12:17.382Z"
   },
   {
    "duration": 310,
    "start_time": "2025-04-06T12:12:17.778Z"
   },
   {
    "duration": 263,
    "start_time": "2025-04-06T12:12:18.090Z"
   },
   {
    "duration": 326,
    "start_time": "2025-04-06T12:12:18.354Z"
   },
   {
    "duration": 316,
    "start_time": "2025-04-06T12:12:18.681Z"
   },
   {
    "duration": 8,
    "start_time": "2025-04-06T12:12:18.999Z"
   },
   {
    "duration": 175,
    "start_time": "2025-04-06T12:12:19.009Z"
   },
   {
    "duration": 209,
    "start_time": "2025-04-06T12:12:19.186Z"
   },
   {
    "duration": 358,
    "start_time": "2025-04-06T12:12:19.399Z"
   },
   {
    "duration": 10,
    "start_time": "2025-04-06T12:12:19.772Z"
   },
   {
    "duration": 136,
    "start_time": "2025-04-06T12:12:19.783Z"
   },
   {
    "duration": 310,
    "start_time": "2025-04-06T12:12:19.921Z"
   },
   {
    "duration": 5,
    "start_time": "2025-04-06T12:13:33.315Z"
   },
   {
    "duration": 1173,
    "start_time": "2025-04-06T12:16:16.270Z"
   },
   {
    "duration": 148,
    "start_time": "2025-04-06T12:16:17.445Z"
   },
   {
    "duration": 15,
    "start_time": "2025-04-06T12:16:17.595Z"
   },
   {
    "duration": 13,
    "start_time": "2025-04-06T12:16:17.611Z"
   },
   {
    "duration": 9,
    "start_time": "2025-04-06T12:16:17.626Z"
   },
   {
    "duration": 28,
    "start_time": "2025-04-06T12:16:17.636Z"
   },
   {
    "duration": 14,
    "start_time": "2025-04-06T12:16:17.666Z"
   },
   {
    "duration": 15,
    "start_time": "2025-04-06T12:16:17.681Z"
   },
   {
    "duration": 14,
    "start_time": "2025-04-06T12:16:17.697Z"
   },
   {
    "duration": 6,
    "start_time": "2025-04-06T12:16:17.713Z"
   },
   {
    "duration": 9,
    "start_time": "2025-04-06T12:16:17.720Z"
   },
   {
    "duration": 4,
    "start_time": "2025-04-06T12:16:17.731Z"
   },
   {
    "duration": 36,
    "start_time": "2025-04-06T12:16:17.737Z"
   },
   {
    "duration": 70,
    "start_time": "2025-04-06T12:16:17.776Z"
   },
   {
    "duration": 11,
    "start_time": "2025-04-06T12:16:17.847Z"
   },
   {
    "duration": 14,
    "start_time": "2025-04-06T12:16:17.859Z"
   },
   {
    "duration": 11,
    "start_time": "2025-04-06T12:16:17.875Z"
   },
   {
    "duration": 7,
    "start_time": "2025-04-06T12:16:17.888Z"
   },
   {
    "duration": 5,
    "start_time": "2025-04-06T12:16:17.898Z"
   },
   {
    "duration": 11,
    "start_time": "2025-04-06T12:16:17.905Z"
   },
   {
    "duration": 11,
    "start_time": "2025-04-06T12:16:17.917Z"
   },
   {
    "duration": 18,
    "start_time": "2025-04-06T12:16:17.930Z"
   },
   {
    "duration": 4,
    "start_time": "2025-04-06T12:16:17.973Z"
   },
   {
    "duration": 98,
    "start_time": "2025-04-06T12:16:17.979Z"
   },
   {
    "duration": 12,
    "start_time": "2025-04-06T12:16:18.079Z"
   },
   {
    "duration": 29,
    "start_time": "2025-04-06T12:16:18.092Z"
   },
   {
    "duration": 5,
    "start_time": "2025-04-06T12:16:18.123Z"
   },
   {
    "duration": 10,
    "start_time": "2025-04-06T12:16:18.130Z"
   },
   {
    "duration": 18,
    "start_time": "2025-04-06T12:16:18.142Z"
   },
   {
    "duration": 4,
    "start_time": "2025-04-06T12:16:18.162Z"
   },
   {
    "duration": 34,
    "start_time": "2025-04-06T12:16:18.167Z"
   },
   {
    "duration": 27,
    "start_time": "2025-04-06T12:16:18.203Z"
   },
   {
    "duration": 345,
    "start_time": "2025-04-06T12:16:18.231Z"
   },
   {
    "duration": 335,
    "start_time": "2025-04-06T12:16:18.578Z"
   },
   {
    "duration": 361,
    "start_time": "2025-04-06T12:16:18.915Z"
   },
   {
    "duration": 266,
    "start_time": "2025-04-06T12:16:19.278Z"
   },
   {
    "duration": 320,
    "start_time": "2025-04-06T12:16:19.545Z"
   },
   {
    "duration": 313,
    "start_time": "2025-04-06T12:16:19.867Z"
   },
   {
    "duration": 8,
    "start_time": "2025-04-06T12:16:20.182Z"
   },
   {
    "duration": 159,
    "start_time": "2025-04-06T12:16:20.192Z"
   },
   {
    "duration": 200,
    "start_time": "2025-04-06T12:16:20.355Z"
   },
   {
    "duration": 317,
    "start_time": "2025-04-06T12:16:20.557Z"
   },
   {
    "duration": 9,
    "start_time": "2025-04-06T12:16:20.875Z"
   },
   {
    "duration": 132,
    "start_time": "2025-04-06T12:16:20.886Z"
   },
   {
    "duration": 303,
    "start_time": "2025-04-06T12:16:21.020Z"
   },
   {
    "duration": 1182,
    "start_time": "2025-04-06T12:25:02.810Z"
   },
   {
    "duration": 1053,
    "start_time": "2025-04-06T12:25:45.851Z"
   },
   {
    "duration": 1181,
    "start_time": "2025-04-06T12:26:01.716Z"
   },
   {
    "duration": 1086,
    "start_time": "2025-04-06T12:26:36.467Z"
   },
   {
    "duration": 265,
    "start_time": "2025-04-06T12:30:28.980Z"
   },
   {
    "duration": 253,
    "start_time": "2025-04-06T12:37:22.655Z"
   },
   {
    "duration": 241,
    "start_time": "2025-04-06T12:39:18.471Z"
   },
   {
    "duration": 186,
    "start_time": "2025-04-06T12:39:49.033Z"
   },
   {
    "duration": 1154,
    "start_time": "2025-04-06T12:39:57.378Z"
   },
   {
    "duration": 143,
    "start_time": "2025-04-06T12:39:58.534Z"
   },
   {
    "duration": 14,
    "start_time": "2025-04-06T12:39:58.679Z"
   },
   {
    "duration": 13,
    "start_time": "2025-04-06T12:39:58.695Z"
   },
   {
    "duration": 9,
    "start_time": "2025-04-06T12:39:58.710Z"
   },
   {
    "duration": 11,
    "start_time": "2025-04-06T12:39:58.720Z"
   },
   {
    "duration": 43,
    "start_time": "2025-04-06T12:39:58.732Z"
   },
   {
    "duration": 14,
    "start_time": "2025-04-06T12:39:58.777Z"
   },
   {
    "duration": 13,
    "start_time": "2025-04-06T12:39:58.793Z"
   },
   {
    "duration": 5,
    "start_time": "2025-04-06T12:39:58.808Z"
   },
   {
    "duration": 24,
    "start_time": "2025-04-06T12:39:58.814Z"
   },
   {
    "duration": 5,
    "start_time": "2025-04-06T12:39:58.840Z"
   },
   {
    "duration": 4,
    "start_time": "2025-04-06T12:39:58.846Z"
   },
   {
    "duration": 21,
    "start_time": "2025-04-06T12:39:58.853Z"
   },
   {
    "duration": 9,
    "start_time": "2025-04-06T12:39:58.875Z"
   },
   {
    "duration": 11,
    "start_time": "2025-04-06T12:39:58.885Z"
   },
   {
    "duration": 7,
    "start_time": "2025-04-06T12:39:58.898Z"
   },
   {
    "duration": 5,
    "start_time": "2025-04-06T12:39:58.906Z"
   },
   {
    "duration": 4,
    "start_time": "2025-04-06T12:39:58.912Z"
   },
   {
    "duration": 3,
    "start_time": "2025-04-06T12:39:58.918Z"
   },
   {
    "duration": 4,
    "start_time": "2025-04-06T12:39:58.922Z"
   },
   {
    "duration": 59,
    "start_time": "2025-04-06T12:39:58.927Z"
   },
   {
    "duration": 9,
    "start_time": "2025-04-06T12:39:58.987Z"
   },
   {
    "duration": 17,
    "start_time": "2025-04-06T12:39:58.997Z"
   },
   {
    "duration": 6,
    "start_time": "2025-04-06T12:39:59.016Z"
   },
   {
    "duration": 7,
    "start_time": "2025-04-06T12:39:59.023Z"
   },
   {
    "duration": 14,
    "start_time": "2025-04-06T12:39:59.031Z"
   },
   {
    "duration": 28,
    "start_time": "2025-04-06T12:39:59.047Z"
   },
   {
    "duration": 16,
    "start_time": "2025-04-06T12:39:59.077Z"
   },
   {
    "duration": 3,
    "start_time": "2025-04-06T12:39:59.095Z"
   },
   {
    "duration": 34,
    "start_time": "2025-04-06T12:39:59.100Z"
   },
   {
    "duration": 49,
    "start_time": "2025-04-06T12:39:59.137Z"
   },
   {
    "duration": 368,
    "start_time": "2025-04-06T12:39:59.188Z"
   },
   {
    "duration": 349,
    "start_time": "2025-04-06T12:39:59.558Z"
   },
   {
    "duration": 344,
    "start_time": "2025-04-06T12:39:59.909Z"
   },
   {
    "duration": 283,
    "start_time": "2025-04-06T12:40:00.255Z"
   },
   {
    "duration": 327,
    "start_time": "2025-04-06T12:40:00.540Z"
   },
   {
    "duration": 309,
    "start_time": "2025-04-06T12:40:00.873Z"
   },
   {
    "duration": 11,
    "start_time": "2025-04-06T12:40:01.184Z"
   },
   {
    "duration": 183,
    "start_time": "2025-04-06T12:40:01.196Z"
   },
   {
    "duration": 220,
    "start_time": "2025-04-06T12:40:01.383Z"
   },
   {
    "duration": 372,
    "start_time": "2025-04-06T12:40:01.605Z"
   },
   {
    "duration": 9,
    "start_time": "2025-04-06T12:40:01.979Z"
   },
   {
    "duration": 153,
    "start_time": "2025-04-06T12:40:01.990Z"
   },
   {
    "duration": 322,
    "start_time": "2025-04-06T12:40:02.144Z"
   },
   {
    "duration": 474,
    "start_time": "2025-04-06T12:40:02.468Z"
   },
   {
    "duration": 1470,
    "start_time": "2025-04-07T05:54:00.109Z"
   },
   {
    "duration": 0,
    "start_time": "2025-04-07T05:54:01.582Z"
   },
   {
    "duration": 0,
    "start_time": "2025-04-07T05:54:01.583Z"
   },
   {
    "duration": 0,
    "start_time": "2025-04-07T05:54:01.584Z"
   },
   {
    "duration": 0,
    "start_time": "2025-04-07T05:54:01.585Z"
   },
   {
    "duration": 0,
    "start_time": "2025-04-07T05:54:01.586Z"
   },
   {
    "duration": 0,
    "start_time": "2025-04-07T05:54:01.587Z"
   },
   {
    "duration": 0,
    "start_time": "2025-04-07T05:54:01.588Z"
   },
   {
    "duration": 0,
    "start_time": "2025-04-07T05:54:01.589Z"
   },
   {
    "duration": 0,
    "start_time": "2025-04-07T05:54:01.591Z"
   },
   {
    "duration": 0,
    "start_time": "2025-04-07T05:54:01.592Z"
   },
   {
    "duration": 0,
    "start_time": "2025-04-07T05:54:01.593Z"
   },
   {
    "duration": 0,
    "start_time": "2025-04-07T05:54:01.594Z"
   },
   {
    "duration": 0,
    "start_time": "2025-04-07T05:54:01.595Z"
   },
   {
    "duration": 0,
    "start_time": "2025-04-07T05:54:01.596Z"
   },
   {
    "duration": 0,
    "start_time": "2025-04-07T05:54:01.597Z"
   },
   {
    "duration": 0,
    "start_time": "2025-04-07T05:54:01.598Z"
   },
   {
    "duration": 0,
    "start_time": "2025-04-07T05:54:01.599Z"
   },
   {
    "duration": 0,
    "start_time": "2025-04-07T05:54:01.600Z"
   },
   {
    "duration": 0,
    "start_time": "2025-04-07T05:54:01.601Z"
   },
   {
    "duration": 0,
    "start_time": "2025-04-07T05:54:01.636Z"
   },
   {
    "duration": 0,
    "start_time": "2025-04-07T05:54:01.636Z"
   },
   {
    "duration": 0,
    "start_time": "2025-04-07T05:54:01.638Z"
   },
   {
    "duration": 0,
    "start_time": "2025-04-07T05:54:01.638Z"
   },
   {
    "duration": 0,
    "start_time": "2025-04-07T05:54:01.640Z"
   },
   {
    "duration": 0,
    "start_time": "2025-04-07T05:54:01.640Z"
   },
   {
    "duration": 0,
    "start_time": "2025-04-07T05:54:01.641Z"
   },
   {
    "duration": 0,
    "start_time": "2025-04-07T05:54:01.642Z"
   },
   {
    "duration": 0,
    "start_time": "2025-04-07T05:54:01.643Z"
   },
   {
    "duration": 0,
    "start_time": "2025-04-07T05:54:01.644Z"
   },
   {
    "duration": 0,
    "start_time": "2025-04-07T05:54:01.645Z"
   },
   {
    "duration": 0,
    "start_time": "2025-04-07T05:54:01.646Z"
   },
   {
    "duration": 0,
    "start_time": "2025-04-07T05:54:01.647Z"
   },
   {
    "duration": 0,
    "start_time": "2025-04-07T05:54:01.648Z"
   },
   {
    "duration": 0,
    "start_time": "2025-04-07T05:54:01.649Z"
   },
   {
    "duration": 0,
    "start_time": "2025-04-07T05:54:01.650Z"
   },
   {
    "duration": 0,
    "start_time": "2025-04-07T05:54:01.651Z"
   },
   {
    "duration": 0,
    "start_time": "2025-04-07T05:54:01.652Z"
   },
   {
    "duration": 0,
    "start_time": "2025-04-07T05:54:01.653Z"
   },
   {
    "duration": 0,
    "start_time": "2025-04-07T05:54:01.654Z"
   },
   {
    "duration": 0,
    "start_time": "2025-04-07T05:54:01.655Z"
   },
   {
    "duration": 0,
    "start_time": "2025-04-07T05:54:01.656Z"
   },
   {
    "duration": 0,
    "start_time": "2025-04-07T05:54:01.657Z"
   },
   {
    "duration": 0,
    "start_time": "2025-04-07T05:54:01.658Z"
   },
   {
    "duration": 0,
    "start_time": "2025-04-07T05:54:01.659Z"
   },
   {
    "duration": 0,
    "start_time": "2025-04-07T05:54:01.660Z"
   },
   {
    "duration": 1139,
    "start_time": "2025-04-07T05:54:51.536Z"
   },
   {
    "duration": 354,
    "start_time": "2025-04-07T05:54:52.676Z"
   },
   {
    "duration": 15,
    "start_time": "2025-04-07T05:54:53.032Z"
   },
   {
    "duration": 14,
    "start_time": "2025-04-07T05:54:53.049Z"
   },
   {
    "duration": 10,
    "start_time": "2025-04-07T05:54:53.064Z"
   },
   {
    "duration": 38,
    "start_time": "2025-04-07T05:54:53.075Z"
   },
   {
    "duration": 11,
    "start_time": "2025-04-07T05:54:53.114Z"
   },
   {
    "duration": 16,
    "start_time": "2025-04-07T05:54:53.127Z"
   },
   {
    "duration": 16,
    "start_time": "2025-04-07T05:54:53.145Z"
   },
   {
    "duration": 5,
    "start_time": "2025-04-07T05:54:53.164Z"
   },
   {
    "duration": 19,
    "start_time": "2025-04-07T05:54:53.171Z"
   },
   {
    "duration": 21,
    "start_time": "2025-04-07T05:54:53.192Z"
   },
   {
    "duration": 16,
    "start_time": "2025-04-07T05:54:53.214Z"
   },
   {
    "duration": 14,
    "start_time": "2025-04-07T05:54:53.231Z"
   },
   {
    "duration": 23,
    "start_time": "2025-04-07T05:54:53.246Z"
   },
   {
    "duration": 10,
    "start_time": "2025-04-07T05:54:53.271Z"
   },
   {
    "duration": 22,
    "start_time": "2025-04-07T05:54:53.283Z"
   },
   {
    "duration": 13,
    "start_time": "2025-04-07T05:54:53.307Z"
   },
   {
    "duration": 16,
    "start_time": "2025-04-07T05:54:53.322Z"
   },
   {
    "duration": 6,
    "start_time": "2025-04-07T05:54:53.340Z"
   },
   {
    "duration": 4,
    "start_time": "2025-04-07T05:54:53.347Z"
   },
   {
    "duration": 16,
    "start_time": "2025-04-07T05:54:53.353Z"
   },
   {
    "duration": 5,
    "start_time": "2025-04-07T05:54:53.371Z"
   },
   {
    "duration": 34,
    "start_time": "2025-04-07T05:54:53.378Z"
   },
   {
    "duration": 12,
    "start_time": "2025-04-07T05:54:53.414Z"
   },
   {
    "duration": 10,
    "start_time": "2025-04-07T05:54:53.427Z"
   },
   {
    "duration": 6,
    "start_time": "2025-04-07T05:54:53.439Z"
   },
   {
    "duration": 6,
    "start_time": "2025-04-07T05:54:53.449Z"
   },
   {
    "duration": 17,
    "start_time": "2025-04-07T05:54:53.457Z"
   },
   {
    "duration": 21,
    "start_time": "2025-04-07T05:54:53.476Z"
   },
   {
    "duration": 40,
    "start_time": "2025-04-07T05:54:53.499Z"
   },
   {
    "duration": 28,
    "start_time": "2025-04-07T05:54:53.541Z"
   },
   {
    "duration": 381,
    "start_time": "2025-04-07T05:54:53.571Z"
   },
   {
    "duration": 374,
    "start_time": "2025-04-07T05:54:53.953Z"
   },
   {
    "duration": 301,
    "start_time": "2025-04-07T05:54:54.328Z"
   },
   {
    "duration": 266,
    "start_time": "2025-04-07T05:54:54.636Z"
   },
   {
    "duration": 316,
    "start_time": "2025-04-07T05:54:54.903Z"
   },
   {
    "duration": 314,
    "start_time": "2025-04-07T05:54:55.221Z"
   },
   {
    "duration": 8,
    "start_time": "2025-04-07T05:54:55.537Z"
   },
   {
    "duration": 160,
    "start_time": "2025-04-07T05:54:55.546Z"
   },
   {
    "duration": 187,
    "start_time": "2025-04-07T05:54:55.708Z"
   },
   {
    "duration": 316,
    "start_time": "2025-04-07T05:54:55.896Z"
   },
   {
    "duration": 9,
    "start_time": "2025-04-07T05:54:56.213Z"
   },
   {
    "duration": 125,
    "start_time": "2025-04-07T05:54:56.236Z"
   },
   {
    "duration": 327,
    "start_time": "2025-04-07T05:54:56.363Z"
   },
   {
    "duration": 454,
    "start_time": "2025-04-07T05:54:56.691Z"
   },
   {
    "duration": 4,
    "start_time": "2025-04-07T05:56:18.856Z"
   },
   {
    "duration": 1144,
    "start_time": "2025-04-07T05:56:40.873Z"
   },
   {
    "duration": 141,
    "start_time": "2025-04-07T05:56:42.019Z"
   },
   {
    "duration": 15,
    "start_time": "2025-04-07T05:56:42.162Z"
   },
   {
    "duration": 13,
    "start_time": "2025-04-07T05:56:42.179Z"
   },
   {
    "duration": 9,
    "start_time": "2025-04-07T05:56:42.194Z"
   },
   {
    "duration": 9,
    "start_time": "2025-04-07T05:56:42.205Z"
   },
   {
    "duration": 33,
    "start_time": "2025-04-07T05:56:42.216Z"
   },
   {
    "duration": 13,
    "start_time": "2025-04-07T05:56:42.251Z"
   },
   {
    "duration": 26,
    "start_time": "2025-04-07T05:56:42.265Z"
   },
   {
    "duration": 5,
    "start_time": "2025-04-07T05:56:42.292Z"
   },
   {
    "duration": 9,
    "start_time": "2025-04-07T05:56:42.298Z"
   },
   {
    "duration": 4,
    "start_time": "2025-04-07T05:56:42.308Z"
   },
   {
    "duration": 2,
    "start_time": "2025-04-07T05:56:42.314Z"
   },
   {
    "duration": 4,
    "start_time": "2025-04-07T05:56:42.335Z"
   },
   {
    "duration": 8,
    "start_time": "2025-04-07T05:56:42.341Z"
   },
   {
    "duration": 9,
    "start_time": "2025-04-07T05:56:42.350Z"
   },
   {
    "duration": 7,
    "start_time": "2025-04-07T05:56:42.361Z"
   },
   {
    "duration": 5,
    "start_time": "2025-04-07T05:56:42.369Z"
   },
   {
    "duration": 5,
    "start_time": "2025-04-07T05:56:42.375Z"
   },
   {
    "duration": 4,
    "start_time": "2025-04-07T05:56:42.381Z"
   },
   {
    "duration": 6,
    "start_time": "2025-04-07T05:56:42.386Z"
   },
   {
    "duration": 49,
    "start_time": "2025-04-07T05:56:42.393Z"
   },
   {
    "duration": 5,
    "start_time": "2025-04-07T05:56:42.444Z"
   },
   {
    "duration": 30,
    "start_time": "2025-04-07T05:56:42.450Z"
   },
   {
    "duration": 12,
    "start_time": "2025-04-07T05:56:42.482Z"
   },
   {
    "duration": 4,
    "start_time": "2025-04-07T05:56:42.496Z"
   },
   {
    "duration": 9,
    "start_time": "2025-04-07T05:56:42.502Z"
   },
   {
    "duration": 6,
    "start_time": "2025-04-07T05:56:42.512Z"
   },
   {
    "duration": 20,
    "start_time": "2025-04-07T05:56:42.520Z"
   },
   {
    "duration": 15,
    "start_time": "2025-04-07T05:56:42.541Z"
   },
   {
    "duration": 3,
    "start_time": "2025-04-07T05:56:42.558Z"
   },
   {
    "duration": 18,
    "start_time": "2025-04-07T05:56:42.562Z"
   },
   {
    "duration": 59,
    "start_time": "2025-04-07T05:56:42.581Z"
   },
   {
    "duration": 353,
    "start_time": "2025-04-07T05:56:42.641Z"
   },
   {
    "duration": 370,
    "start_time": "2025-04-07T05:56:42.996Z"
   },
   {
    "duration": 348,
    "start_time": "2025-04-07T05:56:43.368Z"
   },
   {
    "duration": 277,
    "start_time": "2025-04-07T05:56:43.718Z"
   },
   {
    "duration": 339,
    "start_time": "2025-04-07T05:56:43.997Z"
   },
   {
    "duration": 304,
    "start_time": "2025-04-07T05:56:44.337Z"
   },
   {
    "duration": 8,
    "start_time": "2025-04-07T05:56:44.643Z"
   },
   {
    "duration": 163,
    "start_time": "2025-04-07T05:56:44.656Z"
   },
   {
    "duration": 195,
    "start_time": "2025-04-07T05:56:44.821Z"
   },
   {
    "duration": 306,
    "start_time": "2025-04-07T05:56:45.018Z"
   },
   {
    "duration": 16,
    "start_time": "2025-04-07T05:56:45.325Z"
   },
   {
    "duration": 137,
    "start_time": "2025-04-07T05:56:45.343Z"
   },
   {
    "duration": 299,
    "start_time": "2025-04-07T05:56:45.481Z"
   },
   {
    "duration": 421,
    "start_time": "2025-04-07T05:56:45.781Z"
   },
   {
    "duration": 1473,
    "start_time": "2025-04-07T06:10:26.837Z"
   },
   {
    "duration": 25,
    "start_time": "2025-04-07T06:10:46.551Z"
   },
   {
    "duration": 1367,
    "start_time": "2025-04-07T06:11:09.617Z"
   },
   {
    "duration": 213,
    "start_time": "2025-04-07T06:11:10.986Z"
   },
   {
    "duration": 14,
    "start_time": "2025-04-07T06:11:11.203Z"
   },
   {
    "duration": 12,
    "start_time": "2025-04-07T06:11:11.219Z"
   },
   {
    "duration": 9,
    "start_time": "2025-04-07T06:11:11.232Z"
   },
   {
    "duration": 10,
    "start_time": "2025-04-07T06:11:11.242Z"
   },
   {
    "duration": 9,
    "start_time": "2025-04-07T06:11:11.253Z"
   },
   {
    "duration": 13,
    "start_time": "2025-04-07T06:11:11.264Z"
   },
   {
    "duration": 13,
    "start_time": "2025-04-07T06:11:11.278Z"
   },
   {
    "duration": 4,
    "start_time": "2025-04-07T06:11:11.293Z"
   },
   {
    "duration": 41,
    "start_time": "2025-04-07T06:11:11.298Z"
   },
   {
    "duration": 5,
    "start_time": "2025-04-07T06:11:11.340Z"
   },
   {
    "duration": 3,
    "start_time": "2025-04-07T06:11:11.347Z"
   },
   {
    "duration": 6,
    "start_time": "2025-04-07T06:11:11.351Z"
   },
   {
    "duration": 9,
    "start_time": "2025-04-07T06:11:11.358Z"
   },
   {
    "duration": 9,
    "start_time": "2025-04-07T06:11:11.368Z"
   },
   {
    "duration": 7,
    "start_time": "2025-04-07T06:11:11.379Z"
   },
   {
    "duration": 5,
    "start_time": "2025-04-07T06:11:11.387Z"
   },
   {
    "duration": 44,
    "start_time": "2025-04-07T06:11:11.393Z"
   },
   {
    "duration": 5,
    "start_time": "2025-04-07T06:11:11.439Z"
   },
   {
    "duration": 3,
    "start_time": "2025-04-07T06:11:11.446Z"
   },
   {
    "duration": 14,
    "start_time": "2025-04-07T06:11:11.450Z"
   },
   {
    "duration": 4,
    "start_time": "2025-04-07T06:11:11.465Z"
   },
   {
    "duration": 16,
    "start_time": "2025-04-07T06:11:11.470Z"
   },
   {
    "duration": 4,
    "start_time": "2025-04-07T06:11:11.487Z"
   },
   {
    "duration": 3,
    "start_time": "2025-04-07T06:11:11.493Z"
   },
   {
    "duration": 37,
    "start_time": "2025-04-07T06:11:11.498Z"
   },
   {
    "duration": 5,
    "start_time": "2025-04-07T06:11:11.537Z"
   },
   {
    "duration": 6,
    "start_time": "2025-04-07T06:11:11.543Z"
   },
   {
    "duration": 14,
    "start_time": "2025-04-07T06:11:11.550Z"
   },
   {
    "duration": 3,
    "start_time": "2025-04-07T06:11:11.566Z"
   },
   {
    "duration": 19,
    "start_time": "2025-04-07T06:11:11.570Z"
   },
   {
    "duration": 59,
    "start_time": "2025-04-07T06:11:11.590Z"
   },
   {
    "duration": 358,
    "start_time": "2025-04-07T06:11:11.651Z"
   },
   {
    "duration": 350,
    "start_time": "2025-04-07T06:11:12.011Z"
   },
   {
    "duration": 348,
    "start_time": "2025-04-07T06:11:12.363Z"
   },
   {
    "duration": 281,
    "start_time": "2025-04-07T06:11:12.713Z"
   },
   {
    "duration": 325,
    "start_time": "2025-04-07T06:11:12.995Z"
   },
   {
    "duration": 315,
    "start_time": "2025-04-07T06:11:13.321Z"
   },
   {
    "duration": 9,
    "start_time": "2025-04-07T06:11:13.640Z"
   },
   {
    "duration": 165,
    "start_time": "2025-04-07T06:11:13.650Z"
   },
   {
    "duration": 190,
    "start_time": "2025-04-07T06:11:13.816Z"
   },
   {
    "duration": 330,
    "start_time": "2025-04-07T06:11:14.008Z"
   },
   {
    "duration": 9,
    "start_time": "2025-04-07T06:11:14.340Z"
   },
   {
    "duration": 134,
    "start_time": "2025-04-07T06:11:14.350Z"
   },
   {
    "duration": 295,
    "start_time": "2025-04-07T06:11:14.486Z"
   },
   {
    "duration": 15,
    "start_time": "2025-04-07T06:11:14.783Z"
   },
   {
    "duration": 20,
    "start_time": "2025-04-07T06:13:04.944Z"
   },
   {
    "duration": 24,
    "start_time": "2025-04-07T06:18:44.131Z"
   },
   {
    "duration": 53,
    "start_time": "2025-04-07T06:32:45.697Z"
   },
   {
    "duration": 11,
    "start_time": "2025-04-07T06:34:13.973Z"
   },
   {
    "duration": 11,
    "start_time": "2025-04-07T06:34:24.337Z"
   },
   {
    "duration": 1242,
    "start_time": "2025-04-07T06:34:37.022Z"
   },
   {
    "duration": 212,
    "start_time": "2025-04-07T06:34:38.266Z"
   },
   {
    "duration": 13,
    "start_time": "2025-04-07T06:34:38.480Z"
   },
   {
    "duration": 12,
    "start_time": "2025-04-07T06:34:38.495Z"
   },
   {
    "duration": 9,
    "start_time": "2025-04-07T06:34:38.509Z"
   },
   {
    "duration": 10,
    "start_time": "2025-04-07T06:34:38.519Z"
   },
   {
    "duration": 9,
    "start_time": "2025-04-07T06:34:38.530Z"
   },
   {
    "duration": 12,
    "start_time": "2025-04-07T06:34:38.541Z"
   },
   {
    "duration": 12,
    "start_time": "2025-04-07T06:34:38.555Z"
   },
   {
    "duration": 73,
    "start_time": "2025-04-07T06:34:38.569Z"
   },
   {
    "duration": 8,
    "start_time": "2025-04-07T06:34:38.644Z"
   },
   {
    "duration": 5,
    "start_time": "2025-04-07T06:34:38.653Z"
   },
   {
    "duration": 3,
    "start_time": "2025-04-07T06:34:38.659Z"
   },
   {
    "duration": 5,
    "start_time": "2025-04-07T06:34:38.665Z"
   },
   {
    "duration": 9,
    "start_time": "2025-04-07T06:34:38.671Z"
   },
   {
    "duration": 9,
    "start_time": "2025-04-07T06:34:38.681Z"
   },
   {
    "duration": 7,
    "start_time": "2025-04-07T06:34:38.691Z"
   },
   {
    "duration": 4,
    "start_time": "2025-04-07T06:34:38.735Z"
   },
   {
    "duration": 4,
    "start_time": "2025-04-07T06:34:38.741Z"
   },
   {
    "duration": 4,
    "start_time": "2025-04-07T06:34:38.746Z"
   },
   {
    "duration": 3,
    "start_time": "2025-04-07T06:34:38.751Z"
   },
   {
    "duration": 15,
    "start_time": "2025-04-07T06:34:38.756Z"
   },
   {
    "duration": 3,
    "start_time": "2025-04-07T06:34:38.773Z"
   },
   {
    "duration": 17,
    "start_time": "2025-04-07T06:34:38.777Z"
   },
   {
    "duration": 42,
    "start_time": "2025-04-07T06:34:38.795Z"
   },
   {
    "duration": 77,
    "start_time": "2025-04-07T06:34:38.838Z"
   },
   {
    "duration": 19,
    "start_time": "2025-04-07T06:34:38.916Z"
   },
   {
    "duration": 6,
    "start_time": "2025-04-07T06:34:38.936Z"
   },
   {
    "duration": 8,
    "start_time": "2025-04-07T06:34:38.943Z"
   },
   {
    "duration": 15,
    "start_time": "2025-04-07T06:34:38.953Z"
   },
   {
    "duration": 4,
    "start_time": "2025-04-07T06:34:38.969Z"
   },
   {
    "duration": 25,
    "start_time": "2025-04-07T06:34:38.975Z"
   },
   {
    "duration": 58,
    "start_time": "2025-04-07T06:34:39.002Z"
   },
   {
    "duration": 366,
    "start_time": "2025-04-07T06:34:39.062Z"
   },
   {
    "duration": 330,
    "start_time": "2025-04-07T06:34:39.430Z"
   },
   {
    "duration": 362,
    "start_time": "2025-04-07T06:34:39.762Z"
   },
   {
    "duration": 291,
    "start_time": "2025-04-07T06:34:40.125Z"
   },
   {
    "duration": 307,
    "start_time": "2025-04-07T06:34:40.418Z"
   },
   {
    "duration": 316,
    "start_time": "2025-04-07T06:34:40.726Z"
   },
   {
    "duration": 9,
    "start_time": "2025-04-07T06:34:41.044Z"
   },
   {
    "duration": 167,
    "start_time": "2025-04-07T06:34:41.058Z"
   },
   {
    "duration": 194,
    "start_time": "2025-04-07T06:34:41.227Z"
   },
   {
    "duration": 302,
    "start_time": "2025-04-07T06:34:41.423Z"
   },
   {
    "duration": 14,
    "start_time": "2025-04-07T06:34:41.727Z"
   },
   {
    "duration": 136,
    "start_time": "2025-04-07T06:34:41.743Z"
   },
   {
    "duration": 326,
    "start_time": "2025-04-07T06:34:41.880Z"
   },
   {
    "duration": 38,
    "start_time": "2025-04-07T06:34:42.208Z"
   },
   {
    "duration": 164,
    "start_time": "2025-04-07T06:34:42.248Z"
   },
   {
    "duration": 216,
    "start_time": "2025-04-07T06:36:48.964Z"
   },
   {
    "duration": 279,
    "start_time": "2025-04-07T06:38:25.274Z"
   },
   {
    "duration": 24,
    "start_time": "2025-04-07T06:42:46.301Z"
   },
   {
    "duration": 1163,
    "start_time": "2025-04-07T06:44:31.534Z"
   },
   {
    "duration": 199,
    "start_time": "2025-04-07T06:44:32.699Z"
   },
   {
    "duration": 14,
    "start_time": "2025-04-07T06:44:32.900Z"
   },
   {
    "duration": 53,
    "start_time": "2025-04-07T06:44:32.916Z"
   },
   {
    "duration": 9,
    "start_time": "2025-04-07T06:44:32.971Z"
   },
   {
    "duration": 12,
    "start_time": "2025-04-07T06:44:32.982Z"
   },
   {
    "duration": 10,
    "start_time": "2025-04-07T06:44:32.996Z"
   },
   {
    "duration": 30,
    "start_time": "2025-04-07T06:44:33.008Z"
   },
   {
    "duration": 13,
    "start_time": "2025-04-07T06:44:33.039Z"
   },
   {
    "duration": 5,
    "start_time": "2025-04-07T06:44:33.054Z"
   },
   {
    "duration": 9,
    "start_time": "2025-04-07T06:44:33.060Z"
   },
   {
    "duration": 6,
    "start_time": "2025-04-07T06:44:33.071Z"
   },
   {
    "duration": 18,
    "start_time": "2025-04-07T06:44:33.078Z"
   },
   {
    "duration": 6,
    "start_time": "2025-04-07T06:44:33.098Z"
   },
   {
    "duration": 8,
    "start_time": "2025-04-07T06:44:33.105Z"
   },
   {
    "duration": 12,
    "start_time": "2025-04-07T06:44:33.135Z"
   },
   {
    "duration": 7,
    "start_time": "2025-04-07T06:44:33.149Z"
   },
   {
    "duration": 5,
    "start_time": "2025-04-07T06:44:33.157Z"
   },
   {
    "duration": 4,
    "start_time": "2025-04-07T06:44:33.163Z"
   },
   {
    "duration": 3,
    "start_time": "2025-04-07T06:44:33.168Z"
   },
   {
    "duration": 19,
    "start_time": "2025-04-07T06:44:33.173Z"
   },
   {
    "duration": 16,
    "start_time": "2025-04-07T06:44:33.194Z"
   },
   {
    "duration": 24,
    "start_time": "2025-04-07T06:44:33.212Z"
   },
   {
    "duration": 16,
    "start_time": "2025-04-07T06:44:33.237Z"
   },
   {
    "duration": 8,
    "start_time": "2025-04-07T06:44:33.254Z"
   },
   {
    "duration": 6,
    "start_time": "2025-04-07T06:44:33.263Z"
   },
   {
    "duration": 15,
    "start_time": "2025-04-07T06:44:33.270Z"
   },
   {
    "duration": 19,
    "start_time": "2025-04-07T06:44:33.287Z"
   },
   {
    "duration": 7,
    "start_time": "2025-04-07T06:44:33.308Z"
   },
   {
    "duration": 31,
    "start_time": "2025-04-07T06:44:33.317Z"
   },
   {
    "duration": 3,
    "start_time": "2025-04-07T06:44:33.350Z"
   },
   {
    "duration": 21,
    "start_time": "2025-04-07T06:44:33.354Z"
   },
   {
    "duration": 27,
    "start_time": "2025-04-07T06:44:33.377Z"
   },
   {
    "duration": 356,
    "start_time": "2025-04-07T06:44:33.406Z"
   },
   {
    "duration": 388,
    "start_time": "2025-04-07T06:44:33.763Z"
   },
   {
    "duration": 356,
    "start_time": "2025-04-07T06:44:34.153Z"
   },
   {
    "duration": 275,
    "start_time": "2025-04-07T06:44:34.510Z"
   },
   {
    "duration": 365,
    "start_time": "2025-04-07T06:44:34.788Z"
   },
   {
    "duration": 326,
    "start_time": "2025-04-07T06:44:35.155Z"
   },
   {
    "duration": 8,
    "start_time": "2025-04-07T06:44:35.483Z"
   },
   {
    "duration": 174,
    "start_time": "2025-04-07T06:44:35.494Z"
   },
   {
    "duration": 194,
    "start_time": "2025-04-07T06:44:35.670Z"
   },
   {
    "duration": 340,
    "start_time": "2025-04-07T06:44:35.865Z"
   },
   {
    "duration": 9,
    "start_time": "2025-04-07T06:44:36.206Z"
   },
   {
    "duration": 239,
    "start_time": "2025-04-07T06:44:36.216Z"
   },
   {
    "duration": 337,
    "start_time": "2025-04-07T06:44:36.457Z"
   },
   {
    "duration": 41,
    "start_time": "2025-04-07T06:44:36.796Z"
   },
   {
    "duration": 122,
    "start_time": "2025-04-07T06:44:36.838Z"
   },
   {
    "duration": 22,
    "start_time": "2025-04-07T06:45:48.634Z"
   },
   {
    "duration": 20,
    "start_time": "2025-04-07T06:46:48.973Z"
   },
   {
    "duration": 276,
    "start_time": "2025-04-07T06:46:56.909Z"
   },
   {
    "duration": 15,
    "start_time": "2025-04-07T06:53:42.147Z"
   },
   {
    "duration": 201,
    "start_time": "2025-04-07T06:55:32.196Z"
   },
   {
    "duration": 214,
    "start_time": "2025-04-07T07:05:25.502Z"
   },
   {
    "duration": 202,
    "start_time": "2025-04-07T07:05:28.975Z"
   },
   {
    "duration": 142,
    "start_time": "2025-04-07T07:06:41.321Z"
   },
   {
    "duration": 225,
    "start_time": "2025-04-07T07:06:45.540Z"
   },
   {
    "duration": 150,
    "start_time": "2025-04-07T07:09:30.422Z"
   },
   {
    "duration": 237,
    "start_time": "2025-04-07T07:09:31.127Z"
   },
   {
    "duration": 1102,
    "start_time": "2025-04-07T07:28:15.838Z"
   },
   {
    "duration": 104,
    "start_time": "2025-04-07T07:30:01.031Z"
   },
   {
    "duration": 663,
    "start_time": "2025-04-07T07:30:09.358Z"
   },
   {
    "duration": 17,
    "start_time": "2025-04-07T07:33:31.626Z"
   },
   {
    "duration": 542,
    "start_time": "2025-04-07T07:33:45.219Z"
   },
   {
    "duration": 29,
    "start_time": "2025-04-07T07:35:04.920Z"
   },
   {
    "duration": 581,
    "start_time": "2025-04-07T07:36:25.072Z"
   },
   {
    "duration": 562,
    "start_time": "2025-04-07T07:37:24.130Z"
   },
   {
    "duration": 64,
    "start_time": "2025-04-07T07:41:53.072Z"
   },
   {
    "duration": 61,
    "start_time": "2025-04-07T07:42:29.584Z"
   },
   {
    "duration": 80,
    "start_time": "2025-04-07T07:44:22.754Z"
   },
   {
    "duration": 151,
    "start_time": "2025-04-07T07:44:35.363Z"
   },
   {
    "duration": 79,
    "start_time": "2025-04-07T07:45:57.754Z"
   },
   {
    "duration": 78,
    "start_time": "2025-04-07T07:48:18.955Z"
   },
   {
    "duration": 79,
    "start_time": "2025-04-07T07:51:42.282Z"
   },
   {
    "duration": 420,
    "start_time": "2025-04-07T07:53:45.067Z"
   },
   {
    "duration": 385,
    "start_time": "2025-04-07T07:54:39.350Z"
   },
   {
    "duration": 479,
    "start_time": "2025-04-07T07:55:06.671Z"
   },
   {
    "duration": 99,
    "start_time": "2025-04-07T07:55:32.313Z"
   },
   {
    "duration": 526,
    "start_time": "2025-04-07T07:55:56.526Z"
   },
   {
    "duration": 455,
    "start_time": "2025-04-07T07:56:06.239Z"
   },
   {
    "duration": 449,
    "start_time": "2025-04-07T07:56:32.205Z"
   },
   {
    "duration": 439,
    "start_time": "2025-04-07T07:57:08.831Z"
   },
   {
    "duration": 901,
    "start_time": "2025-04-07T07:57:47.676Z"
   },
   {
    "duration": 819,
    "start_time": "2025-04-07T07:58:14.504Z"
   },
   {
    "duration": 923,
    "start_time": "2025-04-07T07:58:45.306Z"
   },
   {
    "duration": 48,
    "start_time": "2025-04-07T13:38:29.857Z"
   },
   {
    "duration": 1337,
    "start_time": "2025-04-07T13:38:43.506Z"
   },
   {
    "duration": 0,
    "start_time": "2025-04-07T13:38:44.846Z"
   },
   {
    "duration": 0,
    "start_time": "2025-04-07T13:38:44.847Z"
   },
   {
    "duration": 0,
    "start_time": "2025-04-07T13:38:44.848Z"
   },
   {
    "duration": 0,
    "start_time": "2025-04-07T13:38:44.849Z"
   },
   {
    "duration": 0,
    "start_time": "2025-04-07T13:38:44.850Z"
   },
   {
    "duration": 0,
    "start_time": "2025-04-07T13:38:44.862Z"
   },
   {
    "duration": 0,
    "start_time": "2025-04-07T13:38:44.863Z"
   },
   {
    "duration": 0,
    "start_time": "2025-04-07T13:38:44.864Z"
   },
   {
    "duration": 0,
    "start_time": "2025-04-07T13:38:44.865Z"
   },
   {
    "duration": 0,
    "start_time": "2025-04-07T13:38:44.866Z"
   },
   {
    "duration": 0,
    "start_time": "2025-04-07T13:38:44.867Z"
   },
   {
    "duration": 0,
    "start_time": "2025-04-07T13:38:44.868Z"
   },
   {
    "duration": 0,
    "start_time": "2025-04-07T13:38:44.869Z"
   },
   {
    "duration": 0,
    "start_time": "2025-04-07T13:38:44.870Z"
   },
   {
    "duration": 0,
    "start_time": "2025-04-07T13:38:44.871Z"
   },
   {
    "duration": 0,
    "start_time": "2025-04-07T13:38:44.872Z"
   },
   {
    "duration": 0,
    "start_time": "2025-04-07T13:38:44.873Z"
   },
   {
    "duration": 0,
    "start_time": "2025-04-07T13:38:44.874Z"
   },
   {
    "duration": 0,
    "start_time": "2025-04-07T13:38:44.876Z"
   },
   {
    "duration": 0,
    "start_time": "2025-04-07T13:38:44.877Z"
   },
   {
    "duration": 0,
    "start_time": "2025-04-07T13:38:44.879Z"
   },
   {
    "duration": 0,
    "start_time": "2025-04-07T13:38:44.880Z"
   },
   {
    "duration": 0,
    "start_time": "2025-04-07T13:38:44.881Z"
   },
   {
    "duration": 0,
    "start_time": "2025-04-07T13:38:44.882Z"
   },
   {
    "duration": 0,
    "start_time": "2025-04-07T13:38:44.883Z"
   },
   {
    "duration": 0,
    "start_time": "2025-04-07T13:38:44.884Z"
   },
   {
    "duration": 0,
    "start_time": "2025-04-07T13:38:44.885Z"
   },
   {
    "duration": 0,
    "start_time": "2025-04-07T13:38:44.886Z"
   },
   {
    "duration": 0,
    "start_time": "2025-04-07T13:38:44.887Z"
   },
   {
    "duration": 0,
    "start_time": "2025-04-07T13:38:44.888Z"
   },
   {
    "duration": 0,
    "start_time": "2025-04-07T13:38:44.889Z"
   },
   {
    "duration": 0,
    "start_time": "2025-04-07T13:38:44.890Z"
   },
   {
    "duration": 0,
    "start_time": "2025-04-07T13:38:44.891Z"
   },
   {
    "duration": 0,
    "start_time": "2025-04-07T13:38:44.892Z"
   },
   {
    "duration": 0,
    "start_time": "2025-04-07T13:38:44.893Z"
   },
   {
    "duration": 0,
    "start_time": "2025-04-07T13:38:44.894Z"
   },
   {
    "duration": 0,
    "start_time": "2025-04-07T13:38:44.894Z"
   },
   {
    "duration": 0,
    "start_time": "2025-04-07T13:38:44.895Z"
   },
   {
    "duration": 0,
    "start_time": "2025-04-07T13:38:44.896Z"
   },
   {
    "duration": 0,
    "start_time": "2025-04-07T13:38:44.897Z"
   },
   {
    "duration": 0,
    "start_time": "2025-04-07T13:38:44.963Z"
   },
   {
    "duration": 0,
    "start_time": "2025-04-07T13:38:44.964Z"
   },
   {
    "duration": 0,
    "start_time": "2025-04-07T13:38:44.966Z"
   },
   {
    "duration": 0,
    "start_time": "2025-04-07T13:38:44.968Z"
   },
   {
    "duration": 0,
    "start_time": "2025-04-07T13:38:44.970Z"
   },
   {
    "duration": 0,
    "start_time": "2025-04-07T13:38:44.972Z"
   },
   {
    "duration": 0,
    "start_time": "2025-04-07T13:38:44.973Z"
   },
   {
    "duration": 0,
    "start_time": "2025-04-07T13:38:44.975Z"
   },
   {
    "duration": 0,
    "start_time": "2025-04-07T13:38:44.977Z"
   },
   {
    "duration": 10,
    "start_time": "2025-04-07T13:38:52.841Z"
   },
   {
    "duration": 1095,
    "start_time": "2025-04-07T13:39:28.509Z"
   },
   {
    "duration": 423,
    "start_time": "2025-04-07T13:39:29.606Z"
   },
   {
    "duration": 17,
    "start_time": "2025-04-07T13:39:30.032Z"
   },
   {
    "duration": 77,
    "start_time": "2025-04-07T13:39:30.052Z"
   },
   {
    "duration": 69,
    "start_time": "2025-04-07T13:39:30.130Z"
   },
   {
    "duration": 132,
    "start_time": "2025-04-07T13:39:30.200Z"
   },
   {
    "duration": 164,
    "start_time": "2025-04-07T13:39:30.334Z"
   },
   {
    "duration": 27,
    "start_time": "2025-04-07T13:39:30.499Z"
   },
   {
    "duration": 110,
    "start_time": "2025-04-07T13:39:30.528Z"
   },
   {
    "duration": 5,
    "start_time": "2025-04-07T13:39:30.639Z"
   },
   {
    "duration": 27,
    "start_time": "2025-04-07T13:39:30.646Z"
   },
   {
    "duration": 6,
    "start_time": "2025-04-07T13:39:30.674Z"
   },
   {
    "duration": 10,
    "start_time": "2025-04-07T13:39:30.684Z"
   },
   {
    "duration": 15,
    "start_time": "2025-04-07T13:39:30.696Z"
   },
   {
    "duration": 33,
    "start_time": "2025-04-07T13:39:30.712Z"
   },
   {
    "duration": 22,
    "start_time": "2025-04-07T13:39:30.747Z"
   },
   {
    "duration": 29,
    "start_time": "2025-04-07T13:39:30.770Z"
   },
   {
    "duration": 11,
    "start_time": "2025-04-07T13:39:30.801Z"
   },
   {
    "duration": 18,
    "start_time": "2025-04-07T13:39:30.813Z"
   },
   {
    "duration": 10,
    "start_time": "2025-04-07T13:39:30.833Z"
   },
   {
    "duration": 11,
    "start_time": "2025-04-07T13:39:30.844Z"
   },
   {
    "duration": 20,
    "start_time": "2025-04-07T13:39:30.856Z"
   },
   {
    "duration": 4,
    "start_time": "2025-04-07T13:39:30.878Z"
   },
   {
    "duration": 26,
    "start_time": "2025-04-07T13:39:30.883Z"
   },
   {
    "duration": 5,
    "start_time": "2025-04-07T13:39:30.911Z"
   },
   {
    "duration": 5,
    "start_time": "2025-04-07T13:39:30.918Z"
   },
   {
    "duration": 4,
    "start_time": "2025-04-07T13:39:30.925Z"
   },
   {
    "duration": 5,
    "start_time": "2025-04-07T13:39:30.931Z"
   },
   {
    "duration": 37,
    "start_time": "2025-04-07T13:39:30.938Z"
   },
   {
    "duration": 29,
    "start_time": "2025-04-07T13:39:30.977Z"
   },
   {
    "duration": 3,
    "start_time": "2025-04-07T13:39:31.008Z"
   },
   {
    "duration": 25,
    "start_time": "2025-04-07T13:39:31.013Z"
   },
   {
    "duration": 26,
    "start_time": "2025-04-07T13:39:31.040Z"
   },
   {
    "duration": 330,
    "start_time": "2025-04-07T13:39:31.068Z"
   },
   {
    "duration": 375,
    "start_time": "2025-04-07T13:39:31.400Z"
   },
   {
    "duration": 294,
    "start_time": "2025-04-07T13:39:31.777Z"
   },
   {
    "duration": 253,
    "start_time": "2025-04-07T13:39:32.073Z"
   },
   {
    "duration": 323,
    "start_time": "2025-04-07T13:39:32.328Z"
   },
   {
    "duration": 321,
    "start_time": "2025-04-07T13:39:32.653Z"
   },
   {
    "duration": 8,
    "start_time": "2025-04-07T13:39:32.978Z"
   },
   {
    "duration": 165,
    "start_time": "2025-04-07T13:39:32.987Z"
   },
   {
    "duration": 181,
    "start_time": "2025-04-07T13:39:33.154Z"
   },
   {
    "duration": 337,
    "start_time": "2025-04-07T13:39:33.336Z"
   },
   {
    "duration": 8,
    "start_time": "2025-04-07T13:39:33.674Z"
   },
   {
    "duration": 148,
    "start_time": "2025-04-07T13:39:33.683Z"
   },
   {
    "duration": 304,
    "start_time": "2025-04-07T13:39:33.833Z"
   },
   {
    "duration": 35,
    "start_time": "2025-04-07T13:39:34.138Z"
   },
   {
    "duration": 340,
    "start_time": "2025-04-07T13:39:34.175Z"
   },
   {
    "duration": 209,
    "start_time": "2025-04-07T13:39:34.516Z"
   },
   {
    "duration": 95,
    "start_time": "2025-04-07T13:39:34.727Z"
   },
   {
    "duration": 768,
    "start_time": "2025-04-07T13:44:55.959Z"
   },
   {
    "duration": 712,
    "start_time": "2025-04-07T13:45:35.721Z"
   },
   {
    "duration": 73,
    "start_time": "2025-04-07T13:46:14.007Z"
   },
   {
    "duration": 686,
    "start_time": "2025-04-07T13:46:20.126Z"
   },
   {
    "duration": 726,
    "start_time": "2025-04-07T13:47:28.997Z"
   },
   {
    "duration": 180,
    "start_time": "2025-04-07T13:48:31.148Z"
   },
   {
    "duration": 679,
    "start_time": "2025-04-07T13:49:54.935Z"
   },
   {
    "duration": 487,
    "start_time": "2025-04-07T13:55:37.664Z"
   },
   {
    "duration": 365,
    "start_time": "2025-04-07T13:55:52.268Z"
   },
   {
    "duration": 373,
    "start_time": "2025-04-07T13:56:02.606Z"
   },
   {
    "duration": 471,
    "start_time": "2025-04-07T13:56:57.630Z"
   },
   {
    "duration": 457,
    "start_time": "2025-04-07T13:57:30.709Z"
   },
   {
    "duration": 411,
    "start_time": "2025-04-07T13:57:54.423Z"
   },
   {
    "duration": 343,
    "start_time": "2025-04-07T13:59:07.873Z"
   },
   {
    "duration": 346,
    "start_time": "2025-04-07T14:00:20.639Z"
   },
   {
    "duration": 88,
    "start_time": "2025-04-07T14:00:40.190Z"
   },
   {
    "duration": 589,
    "start_time": "2025-04-07T14:03:08.675Z"
   },
   {
    "duration": 637,
    "start_time": "2025-04-07T14:04:27.861Z"
   },
   {
    "duration": 103,
    "start_time": "2025-04-07T14:05:32.959Z"
   },
   {
    "duration": 561,
    "start_time": "2025-04-07T14:06:04.829Z"
   },
   {
    "duration": 252,
    "start_time": "2025-04-07T14:07:56.327Z"
   },
   {
    "duration": 79,
    "start_time": "2025-04-07T14:08:49.752Z"
   },
   {
    "duration": 140,
    "start_time": "2025-04-07T14:08:52.153Z"
   },
   {
    "duration": 1092,
    "start_time": "2025-04-07T14:09:00.895Z"
   },
   {
    "duration": 340,
    "start_time": "2025-04-07T14:09:01.989Z"
   },
   {
    "duration": 14,
    "start_time": "2025-04-07T14:09:02.330Z"
   },
   {
    "duration": 77,
    "start_time": "2025-04-07T14:09:02.346Z"
   },
   {
    "duration": 13,
    "start_time": "2025-04-07T14:09:02.426Z"
   },
   {
    "duration": 9,
    "start_time": "2025-04-07T14:09:02.441Z"
   },
   {
    "duration": 27,
    "start_time": "2025-04-07T14:09:02.451Z"
   },
   {
    "duration": 77,
    "start_time": "2025-04-07T14:09:02.480Z"
   },
   {
    "duration": 24,
    "start_time": "2025-04-07T14:09:02.559Z"
   },
   {
    "duration": 44,
    "start_time": "2025-04-07T14:09:02.587Z"
   },
   {
    "duration": 63,
    "start_time": "2025-04-07T14:09:02.633Z"
   },
   {
    "duration": 36,
    "start_time": "2025-04-07T14:09:02.698Z"
   },
   {
    "duration": 9,
    "start_time": "2025-04-07T14:09:02.736Z"
   },
   {
    "duration": 9,
    "start_time": "2025-04-07T14:09:02.748Z"
   },
   {
    "duration": 60,
    "start_time": "2025-04-07T14:09:02.759Z"
   },
   {
    "duration": 12,
    "start_time": "2025-04-07T14:09:02.820Z"
   },
   {
    "duration": 13,
    "start_time": "2025-04-07T14:09:02.833Z"
   },
   {
    "duration": 7,
    "start_time": "2025-04-07T14:09:02.847Z"
   },
   {
    "duration": 32,
    "start_time": "2025-04-07T14:09:02.855Z"
   },
   {
    "duration": 14,
    "start_time": "2025-04-07T14:09:02.888Z"
   },
   {
    "duration": 12,
    "start_time": "2025-04-07T14:09:02.903Z"
   },
   {
    "duration": 25,
    "start_time": "2025-04-07T14:09:02.916Z"
   },
   {
    "duration": 27,
    "start_time": "2025-04-07T14:09:02.943Z"
   },
   {
    "duration": 33,
    "start_time": "2025-04-07T14:09:02.972Z"
   },
   {
    "duration": 6,
    "start_time": "2025-04-07T14:09:03.007Z"
   },
   {
    "duration": 7,
    "start_time": "2025-04-07T14:09:03.014Z"
   },
   {
    "duration": 27,
    "start_time": "2025-04-07T14:09:03.023Z"
   },
   {
    "duration": 6,
    "start_time": "2025-04-07T14:09:03.051Z"
   },
   {
    "duration": 11,
    "start_time": "2025-04-07T14:09:03.058Z"
   },
   {
    "duration": 20,
    "start_time": "2025-04-07T14:09:03.070Z"
   },
   {
    "duration": 5,
    "start_time": "2025-04-07T14:09:03.092Z"
   },
   {
    "duration": 32,
    "start_time": "2025-04-07T14:09:03.098Z"
   },
   {
    "duration": 25,
    "start_time": "2025-04-07T14:09:03.132Z"
   },
   {
    "duration": 310,
    "start_time": "2025-04-07T14:09:03.159Z"
   },
   {
    "duration": 334,
    "start_time": "2025-04-07T14:09:03.470Z"
   },
   {
    "duration": 328,
    "start_time": "2025-04-07T14:09:03.805Z"
   },
   {
    "duration": 295,
    "start_time": "2025-04-07T14:09:04.135Z"
   },
   {
    "duration": 320,
    "start_time": "2025-04-07T14:09:04.432Z"
   },
   {
    "duration": 288,
    "start_time": "2025-04-07T14:09:04.761Z"
   },
   {
    "duration": 9,
    "start_time": "2025-04-07T14:09:05.061Z"
   },
   {
    "duration": 154,
    "start_time": "2025-04-07T14:09:05.074Z"
   },
   {
    "duration": 189,
    "start_time": "2025-04-07T14:09:05.229Z"
   },
   {
    "duration": 316,
    "start_time": "2025-04-07T14:09:05.420Z"
   },
   {
    "duration": 8,
    "start_time": "2025-04-07T14:09:05.737Z"
   },
   {
    "duration": 125,
    "start_time": "2025-04-07T14:09:05.746Z"
   },
   {
    "duration": 243,
    "start_time": "2025-04-07T14:09:05.873Z"
   },
   {
    "duration": 26,
    "start_time": "2025-04-07T14:09:06.117Z"
   },
   {
    "duration": 151,
    "start_time": "2025-04-07T14:09:06.144Z"
   },
   {
    "duration": 209,
    "start_time": "2025-04-07T14:09:06.297Z"
   },
   {
    "duration": 92,
    "start_time": "2025-04-07T14:09:06.508Z"
   },
   {
    "duration": 70,
    "start_time": "2025-04-07T14:09:14.696Z"
   },
   {
    "duration": 135,
    "start_time": "2025-04-07T14:09:53.294Z"
   },
   {
    "duration": 1068,
    "start_time": "2025-04-07T14:10:08.714Z"
   },
   {
    "duration": 235,
    "start_time": "2025-04-07T14:10:09.784Z"
   },
   {
    "duration": 17,
    "start_time": "2025-04-07T14:10:10.020Z"
   },
   {
    "duration": 15,
    "start_time": "2025-04-07T14:10:10.039Z"
   },
   {
    "duration": 24,
    "start_time": "2025-04-07T14:10:10.056Z"
   },
   {
    "duration": 14,
    "start_time": "2025-04-07T14:10:10.081Z"
   },
   {
    "duration": 13,
    "start_time": "2025-04-07T14:10:10.097Z"
   },
   {
    "duration": 14,
    "start_time": "2025-04-07T14:10:10.111Z"
   },
   {
    "duration": 18,
    "start_time": "2025-04-07T14:10:10.126Z"
   },
   {
    "duration": 5,
    "start_time": "2025-04-07T14:10:10.145Z"
   },
   {
    "duration": 19,
    "start_time": "2025-04-07T14:10:10.151Z"
   },
   {
    "duration": 6,
    "start_time": "2025-04-07T14:10:10.171Z"
   },
   {
    "duration": 9,
    "start_time": "2025-04-07T14:10:10.178Z"
   },
   {
    "duration": 8,
    "start_time": "2025-04-07T14:10:10.190Z"
   },
   {
    "duration": 9,
    "start_time": "2025-04-07T14:10:10.199Z"
   },
   {
    "duration": 15,
    "start_time": "2025-04-07T14:10:10.209Z"
   },
   {
    "duration": 13,
    "start_time": "2025-04-07T14:10:10.225Z"
   },
   {
    "duration": 5,
    "start_time": "2025-04-07T14:10:10.239Z"
   },
   {
    "duration": 18,
    "start_time": "2025-04-07T14:10:10.246Z"
   },
   {
    "duration": 6,
    "start_time": "2025-04-07T14:10:10.266Z"
   },
   {
    "duration": 19,
    "start_time": "2025-04-07T14:10:10.273Z"
   },
   {
    "duration": 119,
    "start_time": "2025-04-07T14:10:10.294Z"
   },
   {
    "duration": 4,
    "start_time": "2025-04-07T14:10:10.415Z"
   },
   {
    "duration": 17,
    "start_time": "2025-04-07T14:10:10.421Z"
   },
   {
    "duration": 8,
    "start_time": "2025-04-07T14:10:10.440Z"
   },
   {
    "duration": 10,
    "start_time": "2025-04-07T14:10:10.450Z"
   },
   {
    "duration": 75,
    "start_time": "2025-04-07T14:10:10.462Z"
   },
   {
    "duration": 8,
    "start_time": "2025-04-07T14:10:10.539Z"
   },
   {
    "duration": 9,
    "start_time": "2025-04-07T14:10:10.549Z"
   },
   {
    "duration": 16,
    "start_time": "2025-04-07T14:10:10.560Z"
   },
   {
    "duration": 4,
    "start_time": "2025-04-07T14:10:10.578Z"
   },
   {
    "duration": 24,
    "start_time": "2025-04-07T14:10:10.583Z"
   },
   {
    "duration": 25,
    "start_time": "2025-04-07T14:10:10.608Z"
   },
   {
    "duration": 328,
    "start_time": "2025-04-07T14:10:10.634Z"
   },
   {
    "duration": 315,
    "start_time": "2025-04-07T14:10:10.964Z"
   },
   {
    "duration": 297,
    "start_time": "2025-04-07T14:10:11.280Z"
   },
   {
    "duration": 246,
    "start_time": "2025-04-07T14:10:11.579Z"
   },
   {
    "duration": 315,
    "start_time": "2025-04-07T14:10:11.827Z"
   },
   {
    "duration": 309,
    "start_time": "2025-04-07T14:10:12.143Z"
   },
   {
    "duration": 8,
    "start_time": "2025-04-07T14:10:12.461Z"
   },
   {
    "duration": 201,
    "start_time": "2025-04-07T14:10:12.472Z"
   },
   {
    "duration": 172,
    "start_time": "2025-04-07T14:10:12.675Z"
   },
   {
    "duration": 293,
    "start_time": "2025-04-07T14:10:12.848Z"
   },
   {
    "duration": 20,
    "start_time": "2025-04-07T14:10:13.143Z"
   },
   {
    "duration": 121,
    "start_time": "2025-04-07T14:10:13.164Z"
   },
   {
    "duration": 279,
    "start_time": "2025-04-07T14:10:13.287Z"
   },
   {
    "duration": 27,
    "start_time": "2025-04-07T14:10:13.567Z"
   },
   {
    "duration": 154,
    "start_time": "2025-04-07T14:10:13.596Z"
   },
   {
    "duration": 237,
    "start_time": "2025-04-07T14:10:13.752Z"
   },
   {
    "duration": 84,
    "start_time": "2025-04-07T14:10:13.991Z"
   },
   {
    "duration": 4,
    "start_time": "2025-04-07T14:11:29.517Z"
   },
   {
    "duration": 20,
    "start_time": "2025-04-07T14:11:55.056Z"
   },
   {
    "duration": 19,
    "start_time": "2025-04-07T14:12:29.287Z"
   },
   {
    "duration": 19,
    "start_time": "2025-04-07T14:12:33.274Z"
   },
   {
    "duration": 71,
    "start_time": "2025-04-07T14:13:08.260Z"
   },
   {
    "duration": 145,
    "start_time": "2025-04-07T14:13:17.629Z"
   },
   {
    "duration": 76,
    "start_time": "2025-04-07T14:13:34.598Z"
   },
   {
    "duration": 77,
    "start_time": "2025-04-07T14:13:46.539Z"
   },
   {
    "duration": 76,
    "start_time": "2025-04-07T14:13:55.656Z"
   },
   {
    "duration": 813,
    "start_time": "2025-04-07T14:17:56.521Z"
   },
   {
    "duration": 765,
    "start_time": "2025-04-07T14:18:31.417Z"
   },
   {
    "duration": 799,
    "start_time": "2025-04-07T14:19:55.282Z"
   },
   {
    "duration": 544,
    "start_time": "2025-04-07T14:20:38.897Z"
   },
   {
    "duration": 433,
    "start_time": "2025-04-07T14:20:56.229Z"
   },
   {
    "duration": 447,
    "start_time": "2025-04-07T14:21:56.559Z"
   },
   {
    "duration": 533,
    "start_time": "2025-04-07T14:22:18.146Z"
   },
   {
    "duration": 516,
    "start_time": "2025-04-07T14:22:43.948Z"
   },
   {
    "duration": 540,
    "start_time": "2025-04-07T14:22:53.181Z"
   },
   {
    "duration": 573,
    "start_time": "2025-04-07T14:23:00.901Z"
   },
   {
    "duration": 530,
    "start_time": "2025-04-07T14:23:37.343Z"
   },
   {
    "duration": 529,
    "start_time": "2025-04-07T14:25:18.007Z"
   },
   {
    "duration": 644,
    "start_time": "2025-04-07T14:26:03.736Z"
   },
   {
    "duration": 502,
    "start_time": "2025-04-07T14:29:12.417Z"
   },
   {
    "duration": 1569,
    "start_time": "2025-04-08T05:41:03.796Z"
   },
   {
    "duration": 254,
    "start_time": "2025-04-08T05:41:05.367Z"
   },
   {
    "duration": 20,
    "start_time": "2025-04-08T05:41:05.623Z"
   },
   {
    "duration": 53,
    "start_time": "2025-04-08T05:41:05.645Z"
   },
   {
    "duration": 60,
    "start_time": "2025-04-08T05:41:05.700Z"
   },
   {
    "duration": 45,
    "start_time": "2025-04-08T05:41:05.763Z"
   },
   {
    "duration": 40,
    "start_time": "2025-04-08T05:41:05.810Z"
   },
   {
    "duration": 25,
    "start_time": "2025-04-08T05:41:05.855Z"
   },
   {
    "duration": 16,
    "start_time": "2025-04-08T05:41:05.882Z"
   },
   {
    "duration": 26,
    "start_time": "2025-04-08T05:41:05.900Z"
   },
   {
    "duration": 33,
    "start_time": "2025-04-08T05:41:05.929Z"
   },
   {
    "duration": 27,
    "start_time": "2025-04-08T05:41:05.963Z"
   },
   {
    "duration": 35,
    "start_time": "2025-04-08T05:41:05.992Z"
   },
   {
    "duration": 29,
    "start_time": "2025-04-08T05:41:06.030Z"
   },
   {
    "duration": 23,
    "start_time": "2025-04-08T05:41:06.061Z"
   },
   {
    "duration": 23,
    "start_time": "2025-04-08T05:41:06.087Z"
   },
   {
    "duration": 56,
    "start_time": "2025-04-08T05:41:06.111Z"
   },
   {
    "duration": 16,
    "start_time": "2025-04-08T05:41:06.169Z"
   },
   {
    "duration": 29,
    "start_time": "2025-04-08T05:41:06.187Z"
   },
   {
    "duration": 40,
    "start_time": "2025-04-08T05:41:06.218Z"
   },
   {
    "duration": 7,
    "start_time": "2025-04-08T05:41:06.261Z"
   },
   {
    "duration": 16,
    "start_time": "2025-04-08T05:41:06.270Z"
   },
   {
    "duration": 33,
    "start_time": "2025-04-08T05:41:06.288Z"
   },
   {
    "duration": 52,
    "start_time": "2025-04-08T05:41:06.322Z"
   },
   {
    "duration": 5,
    "start_time": "2025-04-08T05:41:06.376Z"
   },
   {
    "duration": 5,
    "start_time": "2025-04-08T05:41:06.383Z"
   },
   {
    "duration": 34,
    "start_time": "2025-04-08T05:41:06.389Z"
   },
   {
    "duration": 39,
    "start_time": "2025-04-08T05:41:06.425Z"
   },
   {
    "duration": 16,
    "start_time": "2025-04-08T05:41:06.466Z"
   },
   {
    "duration": 18,
    "start_time": "2025-04-08T05:41:06.484Z"
   },
   {
    "duration": 4,
    "start_time": "2025-04-08T05:41:06.503Z"
   },
   {
    "duration": 64,
    "start_time": "2025-04-08T05:41:06.509Z"
   },
   {
    "duration": 112,
    "start_time": "2025-04-08T05:41:06.574Z"
   },
   {
    "duration": 433,
    "start_time": "2025-04-08T05:41:06.688Z"
   },
   {
    "duration": 428,
    "start_time": "2025-04-08T05:41:07.124Z"
   },
   {
    "duration": 409,
    "start_time": "2025-04-08T05:41:07.557Z"
   },
   {
    "duration": 361,
    "start_time": "2025-04-08T05:41:07.970Z"
   },
   {
    "duration": 366,
    "start_time": "2025-04-08T05:41:08.332Z"
   },
   {
    "duration": 398,
    "start_time": "2025-04-08T05:41:08.699Z"
   },
   {
    "duration": 9,
    "start_time": "2025-04-08T05:41:09.099Z"
   },
   {
    "duration": 323,
    "start_time": "2025-04-08T05:41:09.112Z"
   },
   {
    "duration": 247,
    "start_time": "2025-04-08T05:41:09.439Z"
   },
   {
    "duration": 390,
    "start_time": "2025-04-08T05:41:09.688Z"
   },
   {
    "duration": 11,
    "start_time": "2025-04-08T05:41:10.081Z"
   },
   {
    "duration": 172,
    "start_time": "2025-04-08T05:41:10.094Z"
   },
   {
    "duration": 347,
    "start_time": "2025-04-08T05:41:10.274Z"
   },
   {
    "duration": 58,
    "start_time": "2025-04-08T05:41:10.623Z"
   },
   {
    "duration": 204,
    "start_time": "2025-04-08T05:41:10.683Z"
   },
   {
    "duration": 237,
    "start_time": "2025-04-08T05:41:10.889Z"
   },
   {
    "duration": 659,
    "start_time": "2025-04-08T05:41:11.144Z"
   },
   {
    "duration": 1856,
    "start_time": "2025-04-08T05:44:07.221Z"
   },
   {
    "duration": 10,
    "start_time": "2025-04-08T05:46:04.498Z"
   },
   {
    "duration": 394,
    "start_time": "2025-04-08T05:48:59.184Z"
   },
   {
    "duration": 11,
    "start_time": "2025-04-08T05:50:02.804Z"
   },
   {
    "duration": 16,
    "start_time": "2025-04-08T05:51:29.370Z"
   },
   {
    "duration": 21,
    "start_time": "2025-04-08T06:06:12.063Z"
   },
   {
    "duration": 25,
    "start_time": "2025-04-08T06:06:36.413Z"
   },
   {
    "duration": 27,
    "start_time": "2025-04-08T06:08:49.768Z"
   },
   {
    "duration": 26,
    "start_time": "2025-04-08T06:10:39.358Z"
   },
   {
    "duration": 23,
    "start_time": "2025-04-08T06:11:50.292Z"
   },
   {
    "duration": 388,
    "start_time": "2025-04-08T06:26:52.774Z"
   },
   {
    "duration": 25,
    "start_time": "2025-04-08T06:27:41.797Z"
   },
   {
    "duration": 21,
    "start_time": "2025-04-08T06:28:18.693Z"
   },
   {
    "duration": 21,
    "start_time": "2025-04-08T06:28:48.259Z"
   },
   {
    "duration": 19,
    "start_time": "2025-04-08T06:30:26.102Z"
   },
   {
    "duration": 1449,
    "start_time": "2025-04-08T06:33:45.934Z"
   },
   {
    "duration": 435,
    "start_time": "2025-04-08T06:36:09.251Z"
   },
   {
    "duration": 74,
    "start_time": "2025-04-08T06:37:24.733Z"
   },
   {
    "duration": 402,
    "start_time": "2025-04-08T06:38:50.314Z"
   },
   {
    "duration": 1312,
    "start_time": "2025-04-08T06:42:21.806Z"
   },
   {
    "duration": 347,
    "start_time": "2025-04-08T06:42:23.120Z"
   },
   {
    "duration": 19,
    "start_time": "2025-04-08T06:42:23.469Z"
   },
   {
    "duration": 20,
    "start_time": "2025-04-08T06:42:23.490Z"
   },
   {
    "duration": 48,
    "start_time": "2025-04-08T06:42:23.512Z"
   },
   {
    "duration": 18,
    "start_time": "2025-04-08T06:42:23.562Z"
   },
   {
    "duration": 14,
    "start_time": "2025-04-08T06:42:23.582Z"
   },
   {
    "duration": 15,
    "start_time": "2025-04-08T06:42:23.598Z"
   },
   {
    "duration": 36,
    "start_time": "2025-04-08T06:42:23.615Z"
   },
   {
    "duration": 6,
    "start_time": "2025-04-08T06:42:23.653Z"
   },
   {
    "duration": 12,
    "start_time": "2025-04-08T06:42:23.660Z"
   },
   {
    "duration": 5,
    "start_time": "2025-04-08T06:42:23.673Z"
   },
   {
    "duration": 24,
    "start_time": "2025-04-08T06:42:23.680Z"
   },
   {
    "duration": 46,
    "start_time": "2025-04-08T06:42:23.707Z"
   },
   {
    "duration": 16,
    "start_time": "2025-04-08T06:42:23.755Z"
   },
   {
    "duration": 12,
    "start_time": "2025-04-08T06:42:23.773Z"
   },
   {
    "duration": 30,
    "start_time": "2025-04-08T06:42:23.786Z"
   },
   {
    "duration": 24,
    "start_time": "2025-04-08T06:42:23.818Z"
   },
   {
    "duration": 10,
    "start_time": "2025-04-08T06:42:23.852Z"
   },
   {
    "duration": 14,
    "start_time": "2025-04-08T06:42:23.864Z"
   },
   {
    "duration": 4,
    "start_time": "2025-04-08T06:42:23.880Z"
   },
   {
    "duration": 38,
    "start_time": "2025-04-08T06:42:23.886Z"
   },
   {
    "duration": 28,
    "start_time": "2025-04-08T06:42:23.926Z"
   },
   {
    "duration": 46,
    "start_time": "2025-04-08T06:42:23.956Z"
   },
   {
    "duration": 33,
    "start_time": "2025-04-08T06:42:24.004Z"
   },
   {
    "duration": 31,
    "start_time": "2025-04-08T06:42:24.043Z"
   },
   {
    "duration": 30,
    "start_time": "2025-04-08T06:42:24.076Z"
   },
   {
    "duration": 25,
    "start_time": "2025-04-08T06:42:24.108Z"
   },
   {
    "duration": 51,
    "start_time": "2025-04-08T06:42:24.136Z"
   },
   {
    "duration": 33,
    "start_time": "2025-04-08T06:42:24.188Z"
   },
   {
    "duration": 4,
    "start_time": "2025-04-08T06:42:24.223Z"
   },
   {
    "duration": 46,
    "start_time": "2025-04-08T06:42:24.229Z"
   },
   {
    "duration": 46,
    "start_time": "2025-04-08T06:42:24.276Z"
   },
   {
    "duration": 405,
    "start_time": "2025-04-08T06:42:24.323Z"
   },
   {
    "duration": 369,
    "start_time": "2025-04-08T06:42:24.730Z"
   },
   {
    "duration": 359,
    "start_time": "2025-04-08T06:42:25.100Z"
   },
   {
    "duration": 313,
    "start_time": "2025-04-08T06:42:25.461Z"
   },
   {
    "duration": 386,
    "start_time": "2025-04-08T06:42:25.776Z"
   },
   {
    "duration": 361,
    "start_time": "2025-04-08T06:42:26.164Z"
   },
   {
    "duration": 25,
    "start_time": "2025-04-08T06:42:26.527Z"
   },
   {
    "duration": 197,
    "start_time": "2025-04-08T06:42:26.556Z"
   },
   {
    "duration": 234,
    "start_time": "2025-04-08T06:42:26.755Z"
   },
   {
    "duration": 373,
    "start_time": "2025-04-08T06:42:26.990Z"
   },
   {
    "duration": 9,
    "start_time": "2025-04-08T06:42:27.365Z"
   },
   {
    "duration": 235,
    "start_time": "2025-04-08T06:42:27.376Z"
   },
   {
    "duration": 311,
    "start_time": "2025-04-08T06:42:27.613Z"
   },
   {
    "duration": 44,
    "start_time": "2025-04-08T06:42:27.926Z"
   },
   {
    "duration": 206,
    "start_time": "2025-04-08T06:42:27.972Z"
   },
   {
    "duration": 232,
    "start_time": "2025-04-08T06:42:28.179Z"
   },
   {
    "duration": 38,
    "start_time": "2025-04-08T06:42:28.413Z"
   },
   {
    "duration": 650,
    "start_time": "2025-04-08T06:42:28.452Z"
   },
   {
    "duration": 405,
    "start_time": "2025-04-08T06:42:29.104Z"
   },
   {
    "duration": 218,
    "start_time": "2025-04-08T06:50:01.487Z"
   },
   {
    "duration": 32,
    "start_time": "2025-04-08T06:54:14.642Z"
   },
   {
    "duration": 757,
    "start_time": "2025-04-08T07:17:29.729Z"
   },
   {
    "duration": 417,
    "start_time": "2025-04-08T07:18:35.183Z"
   },
   {
    "duration": 469,
    "start_time": "2025-04-08T07:21:16.858Z"
   },
   {
    "duration": 68,
    "start_time": "2025-04-08T07:29:46.893Z"
   },
   {
    "duration": 644,
    "start_time": "2025-04-08T07:32:09.063Z"
   },
   {
    "duration": 764,
    "start_time": "2025-04-08T07:32:37.423Z"
   },
   {
    "duration": 727,
    "start_time": "2025-04-08T08:01:37.266Z"
   },
   {
    "duration": 817,
    "start_time": "2025-04-08T08:04:33.158Z"
   },
   {
    "duration": 1563,
    "start_time": "2025-04-08T14:07:27.208Z"
   },
   {
    "duration": 232,
    "start_time": "2025-04-08T14:07:28.774Z"
   },
   {
    "duration": 17,
    "start_time": "2025-04-08T14:07:29.008Z"
   },
   {
    "duration": 20,
    "start_time": "2025-04-08T14:07:29.027Z"
   },
   {
    "duration": 14,
    "start_time": "2025-04-08T14:07:29.050Z"
   },
   {
    "duration": 17,
    "start_time": "2025-04-08T14:07:29.067Z"
   },
   {
    "duration": 16,
    "start_time": "2025-04-08T14:07:29.089Z"
   },
   {
    "duration": 16,
    "start_time": "2025-04-08T14:07:29.107Z"
   },
   {
    "duration": 43,
    "start_time": "2025-04-08T14:07:29.125Z"
   },
   {
    "duration": 8,
    "start_time": "2025-04-08T14:07:29.170Z"
   },
   {
    "duration": 23,
    "start_time": "2025-04-08T14:07:29.180Z"
   },
   {
    "duration": 5,
    "start_time": "2025-04-08T14:07:29.204Z"
   },
   {
    "duration": 3,
    "start_time": "2025-04-08T14:07:29.211Z"
   },
   {
    "duration": 10,
    "start_time": "2025-04-08T14:07:29.217Z"
   },
   {
    "duration": 85,
    "start_time": "2025-04-08T14:07:29.229Z"
   },
   {
    "duration": 23,
    "start_time": "2025-04-08T14:07:29.316Z"
   },
   {
    "duration": 8,
    "start_time": "2025-04-08T14:07:29.341Z"
   },
   {
    "duration": 6,
    "start_time": "2025-04-08T14:07:29.351Z"
   },
   {
    "duration": 9,
    "start_time": "2025-04-08T14:07:29.358Z"
   },
   {
    "duration": 6,
    "start_time": "2025-04-08T14:07:29.369Z"
   },
   {
    "duration": 5,
    "start_time": "2025-04-08T14:07:29.377Z"
   },
   {
    "duration": 18,
    "start_time": "2025-04-08T14:07:29.384Z"
   },
   {
    "duration": 6,
    "start_time": "2025-04-08T14:07:29.404Z"
   },
   {
    "duration": 65,
    "start_time": "2025-04-08T14:07:29.411Z"
   },
   {
    "duration": 8,
    "start_time": "2025-04-08T14:07:29.479Z"
   },
   {
    "duration": 6,
    "start_time": "2025-04-08T14:07:29.489Z"
   },
   {
    "duration": 89,
    "start_time": "2025-04-08T14:07:29.496Z"
   },
   {
    "duration": 19,
    "start_time": "2025-04-08T14:07:29.587Z"
   },
   {
    "duration": 10,
    "start_time": "2025-04-08T14:07:29.607Z"
   },
   {
    "duration": 17,
    "start_time": "2025-04-08T14:07:29.619Z"
   },
   {
    "duration": 5,
    "start_time": "2025-04-08T14:07:29.637Z"
   },
   {
    "duration": 33,
    "start_time": "2025-04-08T14:07:29.643Z"
   },
   {
    "duration": 34,
    "start_time": "2025-04-08T14:07:29.678Z"
   },
   {
    "duration": 410,
    "start_time": "2025-04-08T14:07:29.713Z"
   },
   {
    "duration": 399,
    "start_time": "2025-04-08T14:07:30.125Z"
   },
   {
    "duration": 374,
    "start_time": "2025-04-08T14:07:30.526Z"
   },
   {
    "duration": 348,
    "start_time": "2025-04-08T14:07:30.902Z"
   },
   {
    "duration": 370,
    "start_time": "2025-04-08T14:07:31.252Z"
   },
   {
    "duration": 391,
    "start_time": "2025-04-08T14:07:31.624Z"
   },
   {
    "duration": 9,
    "start_time": "2025-04-08T14:07:32.017Z"
   },
   {
    "duration": 256,
    "start_time": "2025-04-08T14:07:32.030Z"
   },
   {
    "duration": 230,
    "start_time": "2025-04-08T14:07:32.288Z"
   },
   {
    "duration": 381,
    "start_time": "2025-04-08T14:07:32.520Z"
   },
   {
    "duration": 9,
    "start_time": "2025-04-08T14:07:32.902Z"
   },
   {
    "duration": 255,
    "start_time": "2025-04-08T14:07:32.912Z"
   },
   {
    "duration": 301,
    "start_time": "2025-04-08T14:07:33.169Z"
   },
   {
    "duration": 33,
    "start_time": "2025-04-08T14:07:33.473Z"
   },
   {
    "duration": 260,
    "start_time": "2025-04-08T14:07:33.508Z"
   },
   {
    "duration": 281,
    "start_time": "2025-04-08T14:07:33.771Z"
   },
   {
    "duration": 35,
    "start_time": "2025-04-08T14:07:34.054Z"
   },
   {
    "duration": 695,
    "start_time": "2025-04-08T14:07:34.091Z"
   },
   {
    "duration": 427,
    "start_time": "2025-04-08T14:07:34.788Z"
   },
   {
    "duration": 32,
    "start_time": "2025-04-08T14:08:16.692Z"
   },
   {
    "duration": 22,
    "start_time": "2025-04-08T14:08:50.904Z"
   },
   {
    "duration": 14,
    "start_time": "2025-04-08T14:09:29.326Z"
   },
   {
    "duration": 747,
    "start_time": "2025-04-08T14:33:23.679Z"
   },
   {
    "duration": 1556,
    "start_time": "2025-04-08T23:46:18.983Z"
   },
   {
    "duration": 219,
    "start_time": "2025-04-08T23:46:20.542Z"
   },
   {
    "duration": 17,
    "start_time": "2025-04-08T23:46:20.763Z"
   },
   {
    "duration": 15,
    "start_time": "2025-04-08T23:46:20.782Z"
   },
   {
    "duration": 10,
    "start_time": "2025-04-08T23:46:20.799Z"
   },
   {
    "duration": 35,
    "start_time": "2025-04-08T23:46:20.811Z"
   },
   {
    "duration": 13,
    "start_time": "2025-04-08T23:46:20.848Z"
   },
   {
    "duration": 35,
    "start_time": "2025-04-08T23:46:20.862Z"
   },
   {
    "duration": 26,
    "start_time": "2025-04-08T23:46:20.898Z"
   },
   {
    "duration": 6,
    "start_time": "2025-04-08T23:46:20.926Z"
   },
   {
    "duration": 16,
    "start_time": "2025-04-08T23:46:20.933Z"
   },
   {
    "duration": 15,
    "start_time": "2025-04-08T23:46:20.950Z"
   },
   {
    "duration": 3,
    "start_time": "2025-04-08T23:46:20.967Z"
   },
   {
    "duration": 11,
    "start_time": "2025-04-08T23:46:20.973Z"
   },
   {
    "duration": 59,
    "start_time": "2025-04-08T23:46:20.986Z"
   },
   {
    "duration": 24,
    "start_time": "2025-04-08T23:46:21.047Z"
   },
   {
    "duration": 8,
    "start_time": "2025-04-08T23:46:21.073Z"
   },
   {
    "duration": 5,
    "start_time": "2025-04-08T23:46:21.083Z"
   },
   {
    "duration": 6,
    "start_time": "2025-04-08T23:46:21.089Z"
   },
   {
    "duration": 4,
    "start_time": "2025-04-08T23:46:21.096Z"
   },
   {
    "duration": 4,
    "start_time": "2025-04-08T23:46:21.101Z"
   },
   {
    "duration": 23,
    "start_time": "2025-04-08T23:46:21.107Z"
   },
   {
    "duration": 5,
    "start_time": "2025-04-08T23:46:21.132Z"
   },
   {
    "duration": 21,
    "start_time": "2025-04-08T23:46:21.138Z"
   },
   {
    "duration": 5,
    "start_time": "2025-04-08T23:46:21.160Z"
   },
   {
    "duration": 14,
    "start_time": "2025-04-08T23:46:21.167Z"
   },
   {
    "duration": 24,
    "start_time": "2025-04-08T23:46:21.183Z"
   },
   {
    "duration": 9,
    "start_time": "2025-04-08T23:46:21.209Z"
   },
   {
    "duration": 18,
    "start_time": "2025-04-08T23:46:21.220Z"
   },
   {
    "duration": 16,
    "start_time": "2025-04-08T23:46:21.240Z"
   },
   {
    "duration": 4,
    "start_time": "2025-04-08T23:46:21.258Z"
   },
   {
    "duration": 44,
    "start_time": "2025-04-08T23:46:21.263Z"
   },
   {
    "duration": 34,
    "start_time": "2025-04-08T23:46:21.309Z"
   },
   {
    "duration": 442,
    "start_time": "2025-04-08T23:46:21.344Z"
   },
   {
    "duration": 375,
    "start_time": "2025-04-08T23:46:21.787Z"
   },
   {
    "duration": 364,
    "start_time": "2025-04-08T23:46:22.163Z"
   },
   {
    "duration": 310,
    "start_time": "2025-04-08T23:46:22.529Z"
   },
   {
    "duration": 381,
    "start_time": "2025-04-08T23:46:22.841Z"
   },
   {
    "duration": 409,
    "start_time": "2025-04-08T23:46:23.225Z"
   },
   {
    "duration": 11,
    "start_time": "2025-04-08T23:46:23.636Z"
   },
   {
    "duration": 189,
    "start_time": "2025-04-08T23:46:23.650Z"
   },
   {
    "duration": 217,
    "start_time": "2025-04-08T23:46:23.841Z"
   },
   {
    "duration": 353,
    "start_time": "2025-04-08T23:46:24.059Z"
   },
   {
    "duration": 12,
    "start_time": "2025-04-08T23:46:24.413Z"
   },
   {
    "duration": 222,
    "start_time": "2025-04-08T23:46:24.427Z"
   },
   {
    "duration": 336,
    "start_time": "2025-04-08T23:46:24.651Z"
   },
   {
    "duration": 40,
    "start_time": "2025-04-08T23:46:24.990Z"
   },
   {
    "duration": 199,
    "start_time": "2025-04-08T23:46:25.032Z"
   },
   {
    "duration": 235,
    "start_time": "2025-04-08T23:46:25.233Z"
   },
   {
    "duration": 16,
    "start_time": "2025-04-08T23:46:25.469Z"
   },
   {
    "duration": 645,
    "start_time": "2025-04-08T23:46:25.506Z"
   },
   {
    "duration": 406,
    "start_time": "2025-04-08T23:46:26.154Z"
   },
   {
    "duration": 1301,
    "start_time": "2025-04-08T23:52:27.593Z"
   },
   {
    "duration": 175,
    "start_time": "2025-04-08T23:52:28.896Z"
   },
   {
    "duration": 17,
    "start_time": "2025-04-08T23:52:29.072Z"
   },
   {
    "duration": 15,
    "start_time": "2025-04-08T23:52:29.090Z"
   },
   {
    "duration": 10,
    "start_time": "2025-04-08T23:52:29.108Z"
   },
   {
    "duration": 12,
    "start_time": "2025-04-08T23:52:29.119Z"
   },
   {
    "duration": 11,
    "start_time": "2025-04-08T23:52:29.133Z"
   },
   {
    "duration": 66,
    "start_time": "2025-04-08T23:52:29.146Z"
   },
   {
    "duration": 15,
    "start_time": "2025-04-08T23:52:29.214Z"
   },
   {
    "duration": 10,
    "start_time": "2025-04-08T23:52:29.231Z"
   },
   {
    "duration": 13,
    "start_time": "2025-04-08T23:52:29.242Z"
   },
   {
    "duration": 6,
    "start_time": "2025-04-08T23:52:29.256Z"
   },
   {
    "duration": 9,
    "start_time": "2025-04-08T23:52:29.263Z"
   },
   {
    "duration": 6,
    "start_time": "2025-04-08T23:52:29.305Z"
   },
   {
    "duration": 10,
    "start_time": "2025-04-08T23:52:29.313Z"
   },
   {
    "duration": 13,
    "start_time": "2025-04-08T23:52:29.324Z"
   },
   {
    "duration": 45,
    "start_time": "2025-04-08T23:52:29.338Z"
   },
   {
    "duration": 49,
    "start_time": "2025-04-08T23:52:29.385Z"
   },
   {
    "duration": 8,
    "start_time": "2025-04-08T23:52:29.435Z"
   },
   {
    "duration": 5,
    "start_time": "2025-04-08T23:52:29.445Z"
   },
   {
    "duration": 7,
    "start_time": "2025-04-08T23:52:29.451Z"
   },
   {
    "duration": 19,
    "start_time": "2025-04-08T23:52:29.460Z"
   },
   {
    "duration": 5,
    "start_time": "2025-04-08T23:52:29.481Z"
   },
   {
    "duration": 25,
    "start_time": "2025-04-08T23:52:29.487Z"
   },
   {
    "duration": 6,
    "start_time": "2025-04-08T23:52:29.513Z"
   },
   {
    "duration": 18,
    "start_time": "2025-04-08T23:52:29.521Z"
   },
   {
    "duration": 15,
    "start_time": "2025-04-08T23:52:29.541Z"
   },
   {
    "duration": 7,
    "start_time": "2025-04-08T23:52:29.558Z"
   },
   {
    "duration": 8,
    "start_time": "2025-04-08T23:52:29.567Z"
   },
   {
    "duration": 35,
    "start_time": "2025-04-08T23:52:29.576Z"
   },
   {
    "duration": 4,
    "start_time": "2025-04-08T23:52:29.613Z"
   },
   {
    "duration": 29,
    "start_time": "2025-04-08T23:52:29.618Z"
   },
   {
    "duration": 30,
    "start_time": "2025-04-08T23:52:29.649Z"
   },
   {
    "duration": 402,
    "start_time": "2025-04-08T23:52:29.681Z"
   },
   {
    "duration": 388,
    "start_time": "2025-04-08T23:52:30.085Z"
   },
   {
    "duration": 360,
    "start_time": "2025-04-08T23:52:30.474Z"
   },
   {
    "duration": 304,
    "start_time": "2025-04-08T23:52:30.836Z"
   },
   {
    "duration": 357,
    "start_time": "2025-04-08T23:52:31.141Z"
   },
   {
    "duration": 339,
    "start_time": "2025-04-08T23:52:31.505Z"
   },
   {
    "duration": 9,
    "start_time": "2025-04-08T23:52:31.846Z"
   },
   {
    "duration": 186,
    "start_time": "2025-04-08T23:52:31.859Z"
   },
   {
    "duration": 214,
    "start_time": "2025-04-08T23:52:32.046Z"
   },
   {
    "duration": 356,
    "start_time": "2025-04-08T23:52:32.261Z"
   },
   {
    "duration": 9,
    "start_time": "2025-04-08T23:52:32.618Z"
   },
   {
    "duration": 157,
    "start_time": "2025-04-08T23:52:32.629Z"
   },
   {
    "duration": 296,
    "start_time": "2025-04-08T23:52:32.787Z"
   },
   {
    "duration": 40,
    "start_time": "2025-04-08T23:52:33.084Z"
   },
   {
    "duration": 293,
    "start_time": "2025-04-08T23:52:33.126Z"
   },
   {
    "duration": 239,
    "start_time": "2025-04-08T23:52:33.420Z"
   },
   {
    "duration": 15,
    "start_time": "2025-04-08T23:52:33.660Z"
   },
   {
    "duration": 640,
    "start_time": "2025-04-08T23:52:33.676Z"
   },
   {
    "duration": 415,
    "start_time": "2025-04-08T23:52:34.318Z"
   },
   {
    "duration": 71,
    "start_time": "2025-04-09T00:04:19.710Z"
   },
   {
    "duration": 69,
    "start_time": "2025-04-09T00:52:59.910Z"
   },
   {
    "duration": 1493,
    "start_time": "2025-04-09T04:26:56.698Z"
   },
   {
    "duration": 299,
    "start_time": "2025-04-09T04:26:58.193Z"
   },
   {
    "duration": 18,
    "start_time": "2025-04-09T04:26:58.493Z"
   },
   {
    "duration": 15,
    "start_time": "2025-04-09T04:26:58.514Z"
   },
   {
    "duration": 22,
    "start_time": "2025-04-09T04:26:58.531Z"
   },
   {
    "duration": 15,
    "start_time": "2025-04-09T04:26:58.555Z"
   },
   {
    "duration": 11,
    "start_time": "2025-04-09T04:26:58.572Z"
   },
   {
    "duration": 34,
    "start_time": "2025-04-09T04:26:58.584Z"
   },
   {
    "duration": 22,
    "start_time": "2025-04-09T04:26:58.620Z"
   },
   {
    "duration": 7,
    "start_time": "2025-04-09T04:26:58.645Z"
   },
   {
    "duration": 12,
    "start_time": "2025-04-09T04:26:58.654Z"
   },
   {
    "duration": 6,
    "start_time": "2025-04-09T04:26:58.668Z"
   },
   {
    "duration": 31,
    "start_time": "2025-04-09T04:26:58.676Z"
   },
   {
    "duration": 5,
    "start_time": "2025-04-09T04:26:58.711Z"
   },
   {
    "duration": 9,
    "start_time": "2025-04-09T04:26:58.718Z"
   },
   {
    "duration": 10,
    "start_time": "2025-04-09T04:26:58.729Z"
   },
   {
    "duration": 8,
    "start_time": "2025-04-09T04:26:58.741Z"
   },
   {
    "duration": 5,
    "start_time": "2025-04-09T04:26:58.751Z"
   },
   {
    "duration": 5,
    "start_time": "2025-04-09T04:26:58.758Z"
   },
   {
    "duration": 3,
    "start_time": "2025-04-09T04:26:58.765Z"
   },
   {
    "duration": 3,
    "start_time": "2025-04-09T04:26:58.806Z"
   },
   {
    "duration": 22,
    "start_time": "2025-04-09T04:26:58.810Z"
   },
   {
    "duration": 4,
    "start_time": "2025-04-09T04:26:58.833Z"
   },
   {
    "duration": 20,
    "start_time": "2025-04-09T04:26:58.839Z"
   },
   {
    "duration": 5,
    "start_time": "2025-04-09T04:26:58.861Z"
   },
   {
    "duration": 38,
    "start_time": "2025-04-09T04:26:58.867Z"
   },
   {
    "duration": 5,
    "start_time": "2025-04-09T04:26:58.907Z"
   },
   {
    "duration": 5,
    "start_time": "2025-04-09T04:26:58.914Z"
   },
   {
    "duration": 7,
    "start_time": "2025-04-09T04:26:58.921Z"
   },
   {
    "duration": 18,
    "start_time": "2025-04-09T04:26:58.929Z"
   },
   {
    "duration": 4,
    "start_time": "2025-04-09T04:26:58.949Z"
   },
   {
    "duration": 58,
    "start_time": "2025-04-09T04:26:58.955Z"
   },
   {
    "duration": 32,
    "start_time": "2025-04-09T04:26:59.015Z"
   },
   {
    "duration": 465,
    "start_time": "2025-04-09T04:26:59.049Z"
   },
   {
    "duration": 421,
    "start_time": "2025-04-09T04:26:59.516Z"
   },
   {
    "duration": 367,
    "start_time": "2025-04-09T04:26:59.939Z"
   },
   {
    "duration": 274,
    "start_time": "2025-04-09T04:27:00.309Z"
   },
   {
    "duration": 334,
    "start_time": "2025-04-09T04:27:00.585Z"
   },
   {
    "duration": 375,
    "start_time": "2025-04-09T04:27:00.921Z"
   },
   {
    "duration": 14,
    "start_time": "2025-04-09T04:27:01.298Z"
   },
   {
    "duration": 178,
    "start_time": "2025-04-09T04:27:01.316Z"
   },
   {
    "duration": 230,
    "start_time": "2025-04-09T04:27:01.495Z"
   },
   {
    "duration": 369,
    "start_time": "2025-04-09T04:27:01.727Z"
   },
   {
    "duration": 9,
    "start_time": "2025-04-09T04:27:02.106Z"
   },
   {
    "duration": 146,
    "start_time": "2025-04-09T04:27:02.117Z"
   },
   {
    "duration": 332,
    "start_time": "2025-04-09T04:27:02.265Z"
   },
   {
    "duration": 35,
    "start_time": "2025-04-09T04:27:02.599Z"
   },
   {
    "duration": 230,
    "start_time": "2025-04-09T04:27:02.636Z"
   },
   {
    "duration": 242,
    "start_time": "2025-04-09T04:27:02.868Z"
   },
   {
    "duration": 14,
    "start_time": "2025-04-09T04:27:03.112Z"
   },
   {
    "duration": 670,
    "start_time": "2025-04-09T04:27:03.128Z"
   },
   {
    "duration": 436,
    "start_time": "2025-04-09T04:27:03.800Z"
   },
   {
    "duration": 6,
    "start_time": "2025-04-09T04:28:47.637Z"
   },
   {
    "duration": 1511,
    "start_time": "2025-04-09T05:06:49.975Z"
   },
   {
    "duration": 170,
    "start_time": "2025-04-09T05:06:51.488Z"
   },
   {
    "duration": 15,
    "start_time": "2025-04-09T05:06:51.660Z"
   },
   {
    "duration": 20,
    "start_time": "2025-04-09T05:06:51.677Z"
   },
   {
    "duration": 9,
    "start_time": "2025-04-09T05:06:51.699Z"
   },
   {
    "duration": 12,
    "start_time": "2025-04-09T05:06:51.709Z"
   },
   {
    "duration": 11,
    "start_time": "2025-04-09T05:06:51.722Z"
   },
   {
    "duration": 16,
    "start_time": "2025-04-09T05:06:51.734Z"
   },
   {
    "duration": 15,
    "start_time": "2025-04-09T05:06:51.751Z"
   },
   {
    "duration": 5,
    "start_time": "2025-04-09T05:06:51.769Z"
   },
   {
    "duration": 38,
    "start_time": "2025-04-09T05:06:51.775Z"
   },
   {
    "duration": 5,
    "start_time": "2025-04-09T05:06:51.814Z"
   },
   {
    "duration": 5,
    "start_time": "2025-04-09T05:06:51.821Z"
   },
   {
    "duration": 18,
    "start_time": "2025-04-09T05:06:51.827Z"
   },
   {
    "duration": 17,
    "start_time": "2025-04-09T05:06:51.847Z"
   },
   {
    "duration": 47,
    "start_time": "2025-04-09T05:06:51.865Z"
   },
   {
    "duration": 17,
    "start_time": "2025-04-09T05:06:51.914Z"
   },
   {
    "duration": 11,
    "start_time": "2025-04-09T05:06:51.932Z"
   },
   {
    "duration": 6,
    "start_time": "2025-04-09T05:06:51.945Z"
   },
   {
    "duration": 32,
    "start_time": "2025-04-09T05:06:51.953Z"
   },
   {
    "duration": 15,
    "start_time": "2025-04-09T05:06:51.986Z"
   },
   {
    "duration": 21,
    "start_time": "2025-04-09T05:06:52.003Z"
   },
   {
    "duration": 5,
    "start_time": "2025-04-09T05:06:52.026Z"
   },
   {
    "duration": 30,
    "start_time": "2025-04-09T05:06:52.033Z"
   },
   {
    "duration": 6,
    "start_time": "2025-04-09T05:06:52.065Z"
   },
   {
    "duration": 17,
    "start_time": "2025-04-09T05:06:52.073Z"
   },
   {
    "duration": 14,
    "start_time": "2025-04-09T05:06:52.092Z"
   },
   {
    "duration": 9,
    "start_time": "2025-04-09T05:06:52.110Z"
   },
   {
    "duration": 81,
    "start_time": "2025-04-09T05:06:52.121Z"
   },
   {
    "duration": 30,
    "start_time": "2025-04-09T05:06:52.204Z"
   },
   {
    "duration": 4,
    "start_time": "2025-04-09T05:06:52.236Z"
   },
   {
    "duration": 22,
    "start_time": "2025-04-09T05:06:52.242Z"
   },
   {
    "duration": 41,
    "start_time": "2025-04-09T05:06:52.265Z"
   },
   {
    "duration": 453,
    "start_time": "2025-04-09T05:06:52.308Z"
   },
   {
    "duration": 380,
    "start_time": "2025-04-09T05:06:52.763Z"
   },
   {
    "duration": 354,
    "start_time": "2025-04-09T05:06:53.144Z"
   },
   {
    "duration": 283,
    "start_time": "2025-04-09T05:06:53.499Z"
   },
   {
    "duration": 349,
    "start_time": "2025-04-09T05:06:53.784Z"
   },
   {
    "duration": 384,
    "start_time": "2025-04-09T05:06:54.135Z"
   },
   {
    "duration": 9,
    "start_time": "2025-04-09T05:06:54.520Z"
   },
   {
    "duration": 186,
    "start_time": "2025-04-09T05:06:54.531Z"
   },
   {
    "duration": 221,
    "start_time": "2025-04-09T05:06:54.719Z"
   },
   {
    "duration": 387,
    "start_time": "2025-04-09T05:06:54.942Z"
   },
   {
    "duration": 10,
    "start_time": "2025-04-09T05:06:55.331Z"
   },
   {
    "duration": 154,
    "start_time": "2025-04-09T05:06:55.342Z"
   },
   {
    "duration": 290,
    "start_time": "2025-04-09T05:06:55.498Z"
   },
   {
    "duration": 34,
    "start_time": "2025-04-09T05:06:55.790Z"
   },
   {
    "duration": 190,
    "start_time": "2025-04-09T05:06:55.826Z"
   },
   {
    "duration": 261,
    "start_time": "2025-04-09T05:06:56.018Z"
   },
   {
    "duration": 26,
    "start_time": "2025-04-09T05:06:56.281Z"
   },
   {
    "duration": 627,
    "start_time": "2025-04-09T05:06:56.309Z"
   },
   {
    "duration": 402,
    "start_time": "2025-04-09T05:06:56.938Z"
   },
   {
    "duration": 1233,
    "start_time": "2025-04-09T05:27:33.552Z"
   },
   {
    "duration": 238,
    "start_time": "2025-04-09T05:27:34.787Z"
   },
   {
    "duration": 16,
    "start_time": "2025-04-09T05:27:35.026Z"
   },
   {
    "duration": 14,
    "start_time": "2025-04-09T05:27:35.043Z"
   },
   {
    "duration": 9,
    "start_time": "2025-04-09T05:27:35.060Z"
   },
   {
    "duration": 31,
    "start_time": "2025-04-09T05:27:35.070Z"
   },
   {
    "duration": 11,
    "start_time": "2025-04-09T05:27:35.104Z"
   },
   {
    "duration": 15,
    "start_time": "2025-04-09T05:27:35.117Z"
   },
   {
    "duration": 18,
    "start_time": "2025-04-09T05:27:35.133Z"
   },
   {
    "duration": 8,
    "start_time": "2025-04-09T05:27:35.153Z"
   },
   {
    "duration": 9,
    "start_time": "2025-04-09T05:27:35.162Z"
   },
   {
    "duration": 136,
    "start_time": "2025-04-09T05:27:35.173Z"
   },
   {
    "duration": 0,
    "start_time": "2025-04-09T05:27:35.312Z"
   },
   {
    "duration": 0,
    "start_time": "2025-04-09T05:27:35.313Z"
   },
   {
    "duration": 0,
    "start_time": "2025-04-09T05:27:35.314Z"
   },
   {
    "duration": 0,
    "start_time": "2025-04-09T05:27:35.315Z"
   },
   {
    "duration": 0,
    "start_time": "2025-04-09T05:27:35.316Z"
   },
   {
    "duration": 0,
    "start_time": "2025-04-09T05:27:35.317Z"
   },
   {
    "duration": 0,
    "start_time": "2025-04-09T05:27:35.318Z"
   },
   {
    "duration": 0,
    "start_time": "2025-04-09T05:27:35.319Z"
   },
   {
    "duration": 0,
    "start_time": "2025-04-09T05:27:35.321Z"
   },
   {
    "duration": 0,
    "start_time": "2025-04-09T05:27:35.322Z"
   },
   {
    "duration": 0,
    "start_time": "2025-04-09T05:27:35.323Z"
   },
   {
    "duration": 0,
    "start_time": "2025-04-09T05:27:35.325Z"
   },
   {
    "duration": 0,
    "start_time": "2025-04-09T05:27:35.326Z"
   },
   {
    "duration": 0,
    "start_time": "2025-04-09T05:27:35.328Z"
   },
   {
    "duration": 0,
    "start_time": "2025-04-09T05:27:35.329Z"
   },
   {
    "duration": 0,
    "start_time": "2025-04-09T05:27:35.330Z"
   },
   {
    "duration": 0,
    "start_time": "2025-04-09T05:27:35.331Z"
   },
   {
    "duration": 0,
    "start_time": "2025-04-09T05:27:35.332Z"
   },
   {
    "duration": 0,
    "start_time": "2025-04-09T05:27:35.333Z"
   },
   {
    "duration": 0,
    "start_time": "2025-04-09T05:27:35.334Z"
   },
   {
    "duration": 0,
    "start_time": "2025-04-09T05:27:35.335Z"
   },
   {
    "duration": 0,
    "start_time": "2025-04-09T05:27:35.337Z"
   },
   {
    "duration": 0,
    "start_time": "2025-04-09T05:27:35.338Z"
   },
   {
    "duration": 0,
    "start_time": "2025-04-09T05:27:35.339Z"
   },
   {
    "duration": 0,
    "start_time": "2025-04-09T05:27:35.340Z"
   },
   {
    "duration": 0,
    "start_time": "2025-04-09T05:27:35.341Z"
   },
   {
    "duration": 0,
    "start_time": "2025-04-09T05:27:35.342Z"
   },
   {
    "duration": 0,
    "start_time": "2025-04-09T05:27:35.344Z"
   },
   {
    "duration": 0,
    "start_time": "2025-04-09T05:27:35.345Z"
   },
   {
    "duration": 0,
    "start_time": "2025-04-09T05:27:35.346Z"
   },
   {
    "duration": 0,
    "start_time": "2025-04-09T05:27:35.348Z"
   },
   {
    "duration": 0,
    "start_time": "2025-04-09T05:27:35.405Z"
   },
   {
    "duration": 0,
    "start_time": "2025-04-09T05:27:35.407Z"
   },
   {
    "duration": 0,
    "start_time": "2025-04-09T05:27:35.408Z"
   },
   {
    "duration": 0,
    "start_time": "2025-04-09T05:27:35.409Z"
   },
   {
    "duration": 0,
    "start_time": "2025-04-09T05:27:35.411Z"
   },
   {
    "duration": 0,
    "start_time": "2025-04-09T05:27:35.412Z"
   },
   {
    "duration": 0,
    "start_time": "2025-04-09T05:27:35.413Z"
   },
   {
    "duration": 0,
    "start_time": "2025-04-09T05:27:35.415Z"
   },
   {
    "duration": 0,
    "start_time": "2025-04-09T05:27:35.416Z"
   },
   {
    "duration": 9,
    "start_time": "2025-04-09T05:28:17.213Z"
   },
   {
    "duration": 13,
    "start_time": "2025-04-09T05:28:46.177Z"
   },
   {
    "duration": 1313,
    "start_time": "2025-04-10T05:42:26.376Z"
   },
   {
    "duration": 195,
    "start_time": "2025-04-10T05:42:27.691Z"
   },
   {
    "duration": 16,
    "start_time": "2025-04-10T05:42:27.887Z"
   },
   {
    "duration": 14,
    "start_time": "2025-04-10T05:42:27.905Z"
   },
   {
    "duration": 9,
    "start_time": "2025-04-10T05:42:27.920Z"
   },
   {
    "duration": 24,
    "start_time": "2025-04-10T05:42:27.931Z"
   },
   {
    "duration": 11,
    "start_time": "2025-04-10T05:42:27.957Z"
   },
   {
    "duration": 15,
    "start_time": "2025-04-10T05:42:27.969Z"
   },
   {
    "duration": 14,
    "start_time": "2025-04-10T05:42:27.985Z"
   },
   {
    "duration": 5,
    "start_time": "2025-04-10T05:42:28.001Z"
   },
   {
    "duration": 29,
    "start_time": "2025-04-10T05:42:28.007Z"
   },
   {
    "duration": 6,
    "start_time": "2025-04-10T05:42:28.038Z"
   },
   {
    "duration": 5,
    "start_time": "2025-04-10T05:42:28.045Z"
   },
   {
    "duration": 86,
    "start_time": "2025-04-10T05:42:28.051Z"
   },
   {
    "duration": 11,
    "start_time": "2025-04-10T05:42:28.139Z"
   },
   {
    "duration": 15,
    "start_time": "2025-04-10T05:42:28.151Z"
   },
   {
    "duration": 8,
    "start_time": "2025-04-10T05:42:28.167Z"
   },
   {
    "duration": 6,
    "start_time": "2025-04-10T05:42:28.176Z"
   },
   {
    "duration": 11,
    "start_time": "2025-04-10T05:42:28.184Z"
   },
   {
    "duration": 21,
    "start_time": "2025-04-10T05:42:28.197Z"
   },
   {
    "duration": 6,
    "start_time": "2025-04-10T05:42:28.219Z"
   },
   {
    "duration": 16,
    "start_time": "2025-04-10T05:42:28.227Z"
   },
   {
    "duration": 6,
    "start_time": "2025-04-10T05:42:28.244Z"
   },
   {
    "duration": 18,
    "start_time": "2025-04-10T05:42:28.251Z"
   },
   {
    "duration": 5,
    "start_time": "2025-04-10T05:42:28.271Z"
   },
   {
    "duration": 6,
    "start_time": "2025-04-10T05:42:28.278Z"
   },
   {
    "duration": 5,
    "start_time": "2025-04-10T05:42:28.286Z"
   },
   {
    "duration": 6,
    "start_time": "2025-04-10T05:42:28.336Z"
   },
   {
    "duration": 72,
    "start_time": "2025-04-10T05:42:28.344Z"
   },
   {
    "duration": 43,
    "start_time": "2025-04-10T05:42:28.418Z"
   },
   {
    "duration": 4,
    "start_time": "2025-04-10T05:42:28.463Z"
   },
   {
    "duration": 23,
    "start_time": "2025-04-10T05:42:28.469Z"
   },
   {
    "duration": 27,
    "start_time": "2025-04-10T05:42:28.493Z"
   },
   {
    "duration": 378,
    "start_time": "2025-04-10T05:42:28.522Z"
   },
   {
    "duration": 350,
    "start_time": "2025-04-10T05:42:28.901Z"
   },
   {
    "duration": 302,
    "start_time": "2025-04-10T05:42:29.253Z"
   },
   {
    "duration": 250,
    "start_time": "2025-04-10T05:42:29.557Z"
   },
   {
    "duration": 311,
    "start_time": "2025-04-10T05:42:29.809Z"
   },
   {
    "duration": 307,
    "start_time": "2025-04-10T05:42:30.122Z"
   },
   {
    "duration": 10,
    "start_time": "2025-04-10T05:42:30.436Z"
   },
   {
    "duration": 171,
    "start_time": "2025-04-10T05:42:30.448Z"
   },
   {
    "duration": 197,
    "start_time": "2025-04-10T05:42:30.620Z"
   },
   {
    "duration": 404,
    "start_time": "2025-04-10T05:42:30.819Z"
   },
   {
    "duration": 0,
    "start_time": "2025-04-10T05:42:31.224Z"
   },
   {
    "duration": 0,
    "start_time": "2025-04-10T05:42:31.226Z"
   },
   {
    "duration": 0,
    "start_time": "2025-04-10T05:42:31.226Z"
   },
   {
    "duration": 0,
    "start_time": "2025-04-10T05:42:31.228Z"
   },
   {
    "duration": 0,
    "start_time": "2025-04-10T05:42:31.235Z"
   },
   {
    "duration": 0,
    "start_time": "2025-04-10T05:42:31.236Z"
   },
   {
    "duration": 0,
    "start_time": "2025-04-10T05:42:31.237Z"
   },
   {
    "duration": 0,
    "start_time": "2025-04-10T05:42:31.238Z"
   },
   {
    "duration": 0,
    "start_time": "2025-04-10T05:42:31.239Z"
   },
   {
    "duration": 10,
    "start_time": "2025-04-10T05:43:11.884Z"
   },
   {
    "duration": 1154,
    "start_time": "2025-04-10T05:43:28.834Z"
   },
   {
    "duration": 1184,
    "start_time": "2025-04-10T05:43:29.990Z"
   },
   {
    "duration": 16,
    "start_time": "2025-04-10T05:43:31.176Z"
   },
   {
    "duration": 13,
    "start_time": "2025-04-10T05:43:31.194Z"
   },
   {
    "duration": 8,
    "start_time": "2025-04-10T05:43:31.209Z"
   },
   {
    "duration": 16,
    "start_time": "2025-04-10T05:43:31.219Z"
   },
   {
    "duration": 10,
    "start_time": "2025-04-10T05:43:31.237Z"
   },
   {
    "duration": 14,
    "start_time": "2025-04-10T05:43:31.248Z"
   },
   {
    "duration": 14,
    "start_time": "2025-04-10T05:43:31.264Z"
   },
   {
    "duration": 13,
    "start_time": "2025-04-10T05:43:31.280Z"
   },
   {
    "duration": 14,
    "start_time": "2025-04-10T05:43:31.294Z"
   },
   {
    "duration": 25,
    "start_time": "2025-04-10T05:43:31.310Z"
   },
   {
    "duration": 4,
    "start_time": "2025-04-10T05:43:31.337Z"
   },
   {
    "duration": 5,
    "start_time": "2025-04-10T05:43:31.344Z"
   },
   {
    "duration": 10,
    "start_time": "2025-04-10T05:43:31.350Z"
   },
   {
    "duration": 10,
    "start_time": "2025-04-10T05:43:31.362Z"
   },
   {
    "duration": 23,
    "start_time": "2025-04-10T05:43:31.373Z"
   },
   {
    "duration": 6,
    "start_time": "2025-04-10T05:43:31.397Z"
   },
   {
    "duration": 8,
    "start_time": "2025-04-10T05:43:31.404Z"
   },
   {
    "duration": 22,
    "start_time": "2025-04-10T05:43:31.414Z"
   },
   {
    "duration": 6,
    "start_time": "2025-04-10T05:43:31.437Z"
   },
   {
    "duration": 15,
    "start_time": "2025-04-10T05:43:31.444Z"
   },
   {
    "duration": 4,
    "start_time": "2025-04-10T05:43:31.460Z"
   },
   {
    "duration": 27,
    "start_time": "2025-04-10T05:43:31.466Z"
   },
   {
    "duration": 5,
    "start_time": "2025-04-10T05:43:31.495Z"
   },
   {
    "duration": 6,
    "start_time": "2025-04-10T05:43:31.502Z"
   },
   {
    "duration": 30,
    "start_time": "2025-04-10T05:43:31.510Z"
   },
   {
    "duration": 21,
    "start_time": "2025-04-10T05:43:31.542Z"
   },
   {
    "duration": 9,
    "start_time": "2025-04-10T05:43:31.565Z"
   },
   {
    "duration": 30,
    "start_time": "2025-04-10T05:43:31.576Z"
   },
   {
    "duration": 4,
    "start_time": "2025-04-10T05:43:31.608Z"
   },
   {
    "duration": 23,
    "start_time": "2025-04-10T05:43:31.613Z"
   },
   {
    "duration": 28,
    "start_time": "2025-04-10T05:43:31.638Z"
   },
   {
    "duration": 380,
    "start_time": "2025-04-10T05:43:31.668Z"
   },
   {
    "duration": 347,
    "start_time": "2025-04-10T05:43:32.050Z"
   },
   {
    "duration": 320,
    "start_time": "2025-04-10T05:43:32.398Z"
   },
   {
    "duration": 284,
    "start_time": "2025-04-10T05:43:32.720Z"
   },
   {
    "duration": 317,
    "start_time": "2025-04-10T05:43:33.005Z"
   },
   {
    "duration": 316,
    "start_time": "2025-04-10T05:43:33.324Z"
   },
   {
    "duration": 10,
    "start_time": "2025-04-10T05:43:33.641Z"
   },
   {
    "duration": 174,
    "start_time": "2025-04-10T05:43:33.655Z"
   },
   {
    "duration": 404,
    "start_time": "2025-04-10T05:43:33.831Z"
   },
   {
    "duration": 700,
    "start_time": "2025-04-10T05:43:34.237Z"
   },
   {
    "duration": 0,
    "start_time": "2025-04-10T05:43:34.938Z"
   },
   {
    "duration": 0,
    "start_time": "2025-04-10T05:43:34.939Z"
   },
   {
    "duration": 0,
    "start_time": "2025-04-10T05:43:34.940Z"
   },
   {
    "duration": 0,
    "start_time": "2025-04-10T05:43:34.941Z"
   },
   {
    "duration": 0,
    "start_time": "2025-04-10T05:43:34.942Z"
   },
   {
    "duration": 0,
    "start_time": "2025-04-10T05:43:34.944Z"
   },
   {
    "duration": 0,
    "start_time": "2025-04-10T05:43:34.945Z"
   },
   {
    "duration": 0,
    "start_time": "2025-04-10T05:43:34.946Z"
   },
   {
    "duration": 0,
    "start_time": "2025-04-10T05:43:34.947Z"
   },
   {
    "duration": 1287,
    "start_time": "2025-04-10T05:49:08.027Z"
   },
   {
    "duration": 1098,
    "start_time": "2025-04-10T05:49:26.382Z"
   },
   {
    "duration": 174,
    "start_time": "2025-04-10T05:49:27.482Z"
   },
   {
    "duration": 15,
    "start_time": "2025-04-10T05:49:27.659Z"
   },
   {
    "duration": 14,
    "start_time": "2025-04-10T05:49:27.676Z"
   },
   {
    "duration": 9,
    "start_time": "2025-04-10T05:49:27.691Z"
   },
   {
    "duration": 9,
    "start_time": "2025-04-10T05:49:27.702Z"
   },
   {
    "duration": 10,
    "start_time": "2025-04-10T05:49:27.735Z"
   },
   {
    "duration": 14,
    "start_time": "2025-04-10T05:49:27.747Z"
   },
   {
    "duration": 16,
    "start_time": "2025-04-10T05:49:27.762Z"
   },
   {
    "duration": 16,
    "start_time": "2025-04-10T05:49:27.779Z"
   },
   {
    "duration": 8,
    "start_time": "2025-04-10T05:49:27.797Z"
   },
   {
    "duration": 4,
    "start_time": "2025-04-10T05:49:27.808Z"
   },
   {
    "duration": 3,
    "start_time": "2025-04-10T05:49:27.835Z"
   },
   {
    "duration": 5,
    "start_time": "2025-04-10T05:49:27.840Z"
   },
   {
    "duration": 15,
    "start_time": "2025-04-10T05:49:27.847Z"
   },
   {
    "duration": 9,
    "start_time": "2025-04-10T05:49:27.864Z"
   },
   {
    "duration": 1587,
    "start_time": "2025-04-10T05:49:27.874Z"
   },
   {
    "duration": 0,
    "start_time": "2025-04-10T05:49:29.463Z"
   },
   {
    "duration": 0,
    "start_time": "2025-04-10T05:49:29.464Z"
   },
   {
    "duration": 0,
    "start_time": "2025-04-10T05:49:29.465Z"
   },
   {
    "duration": 0,
    "start_time": "2025-04-10T05:49:29.467Z"
   },
   {
    "duration": 0,
    "start_time": "2025-04-10T05:49:29.468Z"
   },
   {
    "duration": 0,
    "start_time": "2025-04-10T05:49:29.469Z"
   },
   {
    "duration": 0,
    "start_time": "2025-04-10T05:49:29.470Z"
   },
   {
    "duration": 0,
    "start_time": "2025-04-10T05:49:29.471Z"
   },
   {
    "duration": 0,
    "start_time": "2025-04-10T05:49:29.472Z"
   },
   {
    "duration": 0,
    "start_time": "2025-04-10T05:49:29.473Z"
   },
   {
    "duration": 0,
    "start_time": "2025-04-10T05:49:29.474Z"
   },
   {
    "duration": 0,
    "start_time": "2025-04-10T05:49:29.476Z"
   },
   {
    "duration": 0,
    "start_time": "2025-04-10T05:49:29.477Z"
   },
   {
    "duration": 0,
    "start_time": "2025-04-10T05:49:29.478Z"
   },
   {
    "duration": 0,
    "start_time": "2025-04-10T05:49:29.479Z"
   },
   {
    "duration": 0,
    "start_time": "2025-04-10T05:49:29.480Z"
   },
   {
    "duration": 0,
    "start_time": "2025-04-10T05:49:29.481Z"
   },
   {
    "duration": 0,
    "start_time": "2025-04-10T05:49:29.482Z"
   },
   {
    "duration": 0,
    "start_time": "2025-04-10T05:49:29.483Z"
   },
   {
    "duration": 0,
    "start_time": "2025-04-10T05:49:29.484Z"
   },
   {
    "duration": 0,
    "start_time": "2025-04-10T05:49:29.485Z"
   },
   {
    "duration": 1,
    "start_time": "2025-04-10T05:49:29.486Z"
   },
   {
    "duration": 0,
    "start_time": "2025-04-10T05:49:29.488Z"
   },
   {
    "duration": 0,
    "start_time": "2025-04-10T05:49:29.489Z"
   },
   {
    "duration": 0,
    "start_time": "2025-04-10T05:49:29.490Z"
   },
   {
    "duration": 0,
    "start_time": "2025-04-10T05:49:29.491Z"
   },
   {
    "duration": 0,
    "start_time": "2025-04-10T05:49:29.492Z"
   },
   {
    "duration": 0,
    "start_time": "2025-04-10T05:49:29.493Z"
   },
   {
    "duration": 0,
    "start_time": "2025-04-10T05:49:29.494Z"
   },
   {
    "duration": 0,
    "start_time": "2025-04-10T05:49:29.495Z"
   },
   {
    "duration": 0,
    "start_time": "2025-04-10T05:49:29.496Z"
   },
   {
    "duration": 0,
    "start_time": "2025-04-10T05:49:29.497Z"
   },
   {
    "duration": 0,
    "start_time": "2025-04-10T05:49:29.498Z"
   },
   {
    "duration": 0,
    "start_time": "2025-04-10T05:49:29.499Z"
   },
   {
    "duration": 0,
    "start_time": "2025-04-10T05:49:29.500Z"
   },
   {
    "duration": 5,
    "start_time": "2025-04-10T05:50:44.919Z"
   },
   {
    "duration": 1231,
    "start_time": "2025-04-10T05:50:50.947Z"
   },
   {
    "duration": 218,
    "start_time": "2025-04-10T05:50:52.180Z"
   },
   {
    "duration": 14,
    "start_time": "2025-04-10T05:50:52.400Z"
   },
   {
    "duration": 43,
    "start_time": "2025-04-10T05:50:52.416Z"
   },
   {
    "duration": 9,
    "start_time": "2025-04-10T05:50:52.461Z"
   },
   {
    "duration": 33,
    "start_time": "2025-04-10T05:50:52.471Z"
   },
   {
    "duration": 16,
    "start_time": "2025-04-10T05:50:52.505Z"
   },
   {
    "duration": 28,
    "start_time": "2025-04-10T05:50:52.523Z"
   },
   {
    "duration": 22,
    "start_time": "2025-04-10T05:50:52.553Z"
   },
   {
    "duration": 8,
    "start_time": "2025-04-10T05:50:52.576Z"
   },
   {
    "duration": 35,
    "start_time": "2025-04-10T05:50:52.586Z"
   },
   {
    "duration": 4,
    "start_time": "2025-04-10T05:50:52.622Z"
   },
   {
    "duration": 22,
    "start_time": "2025-04-10T05:50:52.628Z"
   },
   {
    "duration": 5,
    "start_time": "2025-04-10T05:50:52.655Z"
   },
   {
    "duration": 22,
    "start_time": "2025-04-10T05:50:52.661Z"
   },
   {
    "duration": 9,
    "start_time": "2025-04-10T05:50:52.685Z"
   },
   {
    "duration": 4,
    "start_time": "2025-04-10T05:50:52.696Z"
   },
   {
    "duration": 7,
    "start_time": "2025-04-10T05:50:52.701Z"
   },
   {
    "duration": 5,
    "start_time": "2025-04-10T05:50:52.709Z"
   },
   {
    "duration": 32,
    "start_time": "2025-04-10T05:50:52.716Z"
   },
   {
    "duration": 6,
    "start_time": "2025-04-10T05:50:52.751Z"
   },
   {
    "duration": 18,
    "start_time": "2025-04-10T05:50:52.758Z"
   },
   {
    "duration": 4,
    "start_time": "2025-04-10T05:50:52.778Z"
   },
   {
    "duration": 133,
    "start_time": "2025-04-10T05:50:52.784Z"
   },
   {
    "duration": 23,
    "start_time": "2025-04-10T05:50:52.919Z"
   },
   {
    "duration": 180,
    "start_time": "2025-04-10T05:50:52.944Z"
   },
   {
    "duration": 5,
    "start_time": "2025-04-10T05:50:53.126Z"
   },
   {
    "duration": 10,
    "start_time": "2025-04-10T05:50:53.133Z"
   },
   {
    "duration": 8,
    "start_time": "2025-04-10T05:50:53.146Z"
   },
   {
    "duration": 16,
    "start_time": "2025-04-10T05:50:53.156Z"
   },
   {
    "duration": 4,
    "start_time": "2025-04-10T05:50:53.173Z"
   },
   {
    "duration": 22,
    "start_time": "2025-04-10T05:50:53.178Z"
   },
   {
    "duration": 73,
    "start_time": "2025-04-10T05:50:53.202Z"
   },
   {
    "duration": 357,
    "start_time": "2025-04-10T05:50:53.277Z"
   },
   {
    "duration": 351,
    "start_time": "2025-04-10T05:50:53.643Z"
   },
   {
    "duration": 371,
    "start_time": "2025-04-10T05:50:53.995Z"
   },
   {
    "duration": 280,
    "start_time": "2025-04-10T05:50:54.368Z"
   },
   {
    "duration": 302,
    "start_time": "2025-04-10T05:50:54.649Z"
   },
   {
    "duration": 321,
    "start_time": "2025-04-10T05:50:54.953Z"
   },
   {
    "duration": 11,
    "start_time": "2025-04-10T05:50:55.275Z"
   },
   {
    "duration": 202,
    "start_time": "2025-04-10T05:50:55.289Z"
   },
   {
    "duration": 205,
    "start_time": "2025-04-10T05:50:55.493Z"
   },
   {
    "duration": 449,
    "start_time": "2025-04-10T05:50:55.700Z"
   },
   {
    "duration": 0,
    "start_time": "2025-04-10T05:50:56.150Z"
   },
   {
    "duration": 0,
    "start_time": "2025-04-10T05:50:56.152Z"
   },
   {
    "duration": 0,
    "start_time": "2025-04-10T05:50:56.152Z"
   },
   {
    "duration": 0,
    "start_time": "2025-04-10T05:50:56.153Z"
   },
   {
    "duration": 0,
    "start_time": "2025-04-10T05:50:56.154Z"
   },
   {
    "duration": 0,
    "start_time": "2025-04-10T05:50:56.155Z"
   },
   {
    "duration": 0,
    "start_time": "2025-04-10T05:50:56.156Z"
   },
   {
    "duration": 0,
    "start_time": "2025-04-10T05:50:56.157Z"
   },
   {
    "duration": 0,
    "start_time": "2025-04-10T05:50:56.158Z"
   },
   {
    "duration": 5,
    "start_time": "2025-04-10T05:52:41.773Z"
   },
   {
    "duration": 9,
    "start_time": "2025-04-10T05:52:42.273Z"
   },
   {
    "duration": 6,
    "start_time": "2025-04-10T05:52:48.064Z"
   },
   {
    "duration": 13,
    "start_time": "2025-04-10T05:53:21.176Z"
   },
   {
    "duration": 6,
    "start_time": "2025-04-10T05:54:27.500Z"
   },
   {
    "duration": 19,
    "start_time": "2025-04-10T06:00:24.397Z"
   },
   {
    "duration": 16,
    "start_time": "2025-04-10T06:03:40.066Z"
   },
   {
    "duration": 14,
    "start_time": "2025-04-10T06:04:33.339Z"
   },
   {
    "duration": 31,
    "start_time": "2025-04-10T06:21:57.286Z"
   },
   {
    "duration": 9,
    "start_time": "2025-04-10T06:22:36.082Z"
   },
   {
    "duration": 32,
    "start_time": "2025-04-10T06:23:11.563Z"
   },
   {
    "duration": 15,
    "start_time": "2025-04-10T06:24:45.217Z"
   },
   {
    "duration": 1257,
    "start_time": "2025-04-10T06:24:53.844Z"
   },
   {
    "duration": 157,
    "start_time": "2025-04-10T06:24:55.103Z"
   },
   {
    "duration": 14,
    "start_time": "2025-04-10T06:24:55.262Z"
   },
   {
    "duration": 13,
    "start_time": "2025-04-10T06:24:55.277Z"
   },
   {
    "duration": 10,
    "start_time": "2025-04-10T06:24:55.292Z"
   },
   {
    "duration": 14,
    "start_time": "2025-04-10T06:24:55.303Z"
   },
   {
    "duration": 27,
    "start_time": "2025-04-10T06:24:55.318Z"
   },
   {
    "duration": 15,
    "start_time": "2025-04-10T06:24:55.346Z"
   },
   {
    "duration": 13,
    "start_time": "2025-04-10T06:24:55.362Z"
   },
   {
    "duration": 4,
    "start_time": "2025-04-10T06:24:55.377Z"
   },
   {
    "duration": 8,
    "start_time": "2025-04-10T06:24:55.383Z"
   },
   {
    "duration": 12,
    "start_time": "2025-04-10T06:24:55.392Z"
   },
   {
    "duration": 30,
    "start_time": "2025-04-10T06:24:55.406Z"
   },
   {
    "duration": 5,
    "start_time": "2025-04-10T06:24:55.439Z"
   },
   {
    "duration": 12,
    "start_time": "2025-04-10T06:24:55.446Z"
   },
   {
    "duration": 9,
    "start_time": "2025-04-10T06:24:55.460Z"
   },
   {
    "duration": 3,
    "start_time": "2025-04-10T06:24:55.470Z"
   },
   {
    "duration": 4,
    "start_time": "2025-04-10T06:24:55.475Z"
   },
   {
    "duration": 31,
    "start_time": "2025-04-10T06:24:55.481Z"
   },
   {
    "duration": 24,
    "start_time": "2025-04-10T06:24:55.515Z"
   },
   {
    "duration": 8,
    "start_time": "2025-04-10T06:24:55.540Z"
   },
   {
    "duration": 21,
    "start_time": "2025-04-10T06:24:55.550Z"
   },
   {
    "duration": 4,
    "start_time": "2025-04-10T06:24:55.573Z"
   },
   {
    "duration": 13,
    "start_time": "2025-04-10T06:24:55.578Z"
   },
   {
    "duration": 6,
    "start_time": "2025-04-10T06:24:55.593Z"
   },
   {
    "duration": 12,
    "start_time": "2025-04-10T06:24:55.600Z"
   },
   {
    "duration": 24,
    "start_time": "2025-04-10T06:24:55.613Z"
   },
   {
    "duration": 33,
    "start_time": "2025-04-10T06:24:55.639Z"
   },
   {
    "duration": 5,
    "start_time": "2025-04-10T06:24:55.674Z"
   },
   {
    "duration": 5,
    "start_time": "2025-04-10T06:24:55.681Z"
   },
   {
    "duration": 5,
    "start_time": "2025-04-10T06:24:55.688Z"
   },
   {
    "duration": 45,
    "start_time": "2025-04-10T06:24:55.694Z"
   },
   {
    "duration": 30,
    "start_time": "2025-04-10T06:24:55.741Z"
   },
   {
    "duration": 13,
    "start_time": "2025-04-10T06:24:55.773Z"
   },
   {
    "duration": 4,
    "start_time": "2025-04-10T06:24:55.787Z"
   },
   {
    "duration": 24,
    "start_time": "2025-04-10T06:24:55.792Z"
   },
   {
    "duration": 43,
    "start_time": "2025-04-10T06:24:55.818Z"
   },
   {
    "duration": 343,
    "start_time": "2025-04-10T06:24:55.863Z"
   },
   {
    "duration": 374,
    "start_time": "2025-04-10T06:24:56.208Z"
   },
   {
    "duration": 340,
    "start_time": "2025-04-10T06:24:56.583Z"
   },
   {
    "duration": 269,
    "start_time": "2025-04-10T06:24:56.935Z"
   },
   {
    "duration": 319,
    "start_time": "2025-04-10T06:24:57.206Z"
   },
   {
    "duration": 319,
    "start_time": "2025-04-10T06:24:57.526Z"
   },
   {
    "duration": 12,
    "start_time": "2025-04-10T06:24:57.847Z"
   },
   {
    "duration": 194,
    "start_time": "2025-04-10T06:24:57.861Z"
   },
   {
    "duration": 199,
    "start_time": "2025-04-10T06:24:58.057Z"
   },
   {
    "duration": 424,
    "start_time": "2025-04-10T06:24:58.258Z"
   },
   {
    "duration": 0,
    "start_time": "2025-04-10T06:24:58.683Z"
   },
   {
    "duration": 0,
    "start_time": "2025-04-10T06:24:58.685Z"
   },
   {
    "duration": 0,
    "start_time": "2025-04-10T06:24:58.686Z"
   },
   {
    "duration": 0,
    "start_time": "2025-04-10T06:24:58.687Z"
   },
   {
    "duration": 0,
    "start_time": "2025-04-10T06:24:58.688Z"
   },
   {
    "duration": 0,
    "start_time": "2025-04-10T06:24:58.689Z"
   },
   {
    "duration": 0,
    "start_time": "2025-04-10T06:24:58.690Z"
   },
   {
    "duration": 0,
    "start_time": "2025-04-10T06:24:58.691Z"
   },
   {
    "duration": 0,
    "start_time": "2025-04-10T06:24:58.692Z"
   },
   {
    "duration": 10,
    "start_time": "2025-04-10T06:27:41.594Z"
   },
   {
    "duration": 9,
    "start_time": "2025-04-10T06:28:00.013Z"
   },
   {
    "duration": 13,
    "start_time": "2025-04-10T06:28:28.247Z"
   },
   {
    "duration": 7,
    "start_time": "2025-04-10T06:30:18.221Z"
   },
   {
    "duration": 24,
    "start_time": "2025-04-10T06:33:38.890Z"
   },
   {
    "duration": 1271,
    "start_time": "2025-04-10T06:33:59.511Z"
   },
   {
    "duration": 179,
    "start_time": "2025-04-10T06:34:00.784Z"
   },
   {
    "duration": 17,
    "start_time": "2025-04-10T06:34:00.964Z"
   },
   {
    "duration": 23,
    "start_time": "2025-04-10T06:34:00.984Z"
   },
   {
    "duration": 10,
    "start_time": "2025-04-10T06:34:01.009Z"
   },
   {
    "duration": 23,
    "start_time": "2025-04-10T06:34:01.021Z"
   },
   {
    "duration": 11,
    "start_time": "2025-04-10T06:34:01.045Z"
   },
   {
    "duration": 14,
    "start_time": "2025-04-10T06:34:01.058Z"
   },
   {
    "duration": 14,
    "start_time": "2025-04-10T06:34:01.074Z"
   },
   {
    "duration": 4,
    "start_time": "2025-04-10T06:34:01.091Z"
   },
   {
    "duration": 38,
    "start_time": "2025-04-10T06:34:01.097Z"
   },
   {
    "duration": 4,
    "start_time": "2025-04-10T06:34:01.137Z"
   },
   {
    "duration": 115,
    "start_time": "2025-04-10T06:34:01.142Z"
   },
   {
    "duration": 12,
    "start_time": "2025-04-10T06:34:01.259Z"
   },
   {
    "duration": 41,
    "start_time": "2025-04-10T06:34:01.272Z"
   },
   {
    "duration": 10,
    "start_time": "2025-04-10T06:34:01.315Z"
   },
   {
    "duration": 13,
    "start_time": "2025-04-10T06:34:01.326Z"
   },
   {
    "duration": 5,
    "start_time": "2025-04-10T06:34:01.340Z"
   },
   {
    "duration": 4,
    "start_time": "2025-04-10T06:34:01.347Z"
   },
   {
    "duration": 14,
    "start_time": "2025-04-10T06:34:01.352Z"
   },
   {
    "duration": 4,
    "start_time": "2025-04-10T06:34:01.367Z"
   },
   {
    "duration": 42,
    "start_time": "2025-04-10T06:34:01.372Z"
   },
   {
    "duration": 4,
    "start_time": "2025-04-10T06:34:01.416Z"
   },
   {
    "duration": 25,
    "start_time": "2025-04-10T06:34:01.422Z"
   },
   {
    "duration": 5,
    "start_time": "2025-04-10T06:34:01.449Z"
   },
   {
    "duration": 11,
    "start_time": "2025-04-10T06:34:01.456Z"
   },
   {
    "duration": 39,
    "start_time": "2025-04-10T06:34:01.468Z"
   },
   {
    "duration": 18,
    "start_time": "2025-04-10T06:34:01.511Z"
   },
   {
    "duration": 31,
    "start_time": "2025-04-10T06:34:01.530Z"
   },
   {
    "duration": 4,
    "start_time": "2025-04-10T06:34:01.563Z"
   },
   {
    "duration": 55,
    "start_time": "2025-04-10T06:34:01.568Z"
   },
   {
    "duration": 14,
    "start_time": "2025-04-10T06:34:01.625Z"
   },
   {
    "duration": 8,
    "start_time": "2025-04-10T06:34:01.640Z"
   },
   {
    "duration": 19,
    "start_time": "2025-04-10T06:34:01.650Z"
   },
   {
    "duration": 14,
    "start_time": "2025-04-10T06:34:01.671Z"
   },
   {
    "duration": 19,
    "start_time": "2025-04-10T06:34:01.686Z"
   },
   {
    "duration": 42,
    "start_time": "2025-04-10T06:34:01.708Z"
   },
   {
    "duration": 32,
    "start_time": "2025-04-10T06:34:01.752Z"
   },
   {
    "duration": 351,
    "start_time": "2025-04-10T06:34:01.785Z"
   },
   {
    "duration": 351,
    "start_time": "2025-04-10T06:34:02.138Z"
   },
   {
    "duration": 367,
    "start_time": "2025-04-10T06:34:02.491Z"
   },
   {
    "duration": 287,
    "start_time": "2025-04-10T06:34:02.860Z"
   },
   {
    "duration": 317,
    "start_time": "2025-04-10T06:34:03.148Z"
   },
   {
    "duration": 359,
    "start_time": "2025-04-10T06:34:03.466Z"
   },
   {
    "duration": 18,
    "start_time": "2025-04-10T06:34:03.827Z"
   },
   {
    "duration": 236,
    "start_time": "2025-04-10T06:34:03.847Z"
   },
   {
    "duration": 407,
    "start_time": "2025-04-10T06:34:04.135Z"
   },
   {
    "duration": 721,
    "start_time": "2025-04-10T06:34:04.544Z"
   },
   {
    "duration": 0,
    "start_time": "2025-04-10T06:34:05.266Z"
   },
   {
    "duration": 0,
    "start_time": "2025-04-10T06:34:05.267Z"
   },
   {
    "duration": 0,
    "start_time": "2025-04-10T06:34:05.268Z"
   },
   {
    "duration": 0,
    "start_time": "2025-04-10T06:34:05.270Z"
   },
   {
    "duration": 0,
    "start_time": "2025-04-10T06:34:05.270Z"
   },
   {
    "duration": 0,
    "start_time": "2025-04-10T06:34:05.271Z"
   },
   {
    "duration": 0,
    "start_time": "2025-04-10T06:34:05.272Z"
   },
   {
    "duration": 0,
    "start_time": "2025-04-10T06:34:05.273Z"
   },
   {
    "duration": 0,
    "start_time": "2025-04-10T06:34:05.274Z"
   },
   {
    "duration": 9,
    "start_time": "2025-04-10T06:34:40.371Z"
   },
   {
    "duration": 5,
    "start_time": "2025-04-10T06:34:42.404Z"
   },
   {
    "duration": 5,
    "start_time": "2025-04-10T06:34:43.004Z"
   },
   {
    "duration": 7,
    "start_time": "2025-04-10T06:34:43.607Z"
   },
   {
    "duration": 9,
    "start_time": "2025-04-10T06:34:44.475Z"
   },
   {
    "duration": 18,
    "start_time": "2025-04-10T06:34:47.030Z"
   },
   {
    "duration": 1237,
    "start_time": "2025-04-10T06:35:26.160Z"
   },
   {
    "duration": 146,
    "start_time": "2025-04-10T06:35:27.401Z"
   },
   {
    "duration": 17,
    "start_time": "2025-04-10T06:35:27.552Z"
   },
   {
    "duration": 13,
    "start_time": "2025-04-10T06:35:27.571Z"
   },
   {
    "duration": 10,
    "start_time": "2025-04-10T06:35:27.586Z"
   },
   {
    "duration": 44,
    "start_time": "2025-04-10T06:35:27.598Z"
   },
   {
    "duration": 12,
    "start_time": "2025-04-10T06:35:27.644Z"
   },
   {
    "duration": 13,
    "start_time": "2025-04-10T06:35:27.658Z"
   },
   {
    "duration": 13,
    "start_time": "2025-04-10T06:35:27.674Z"
   },
   {
    "duration": 4,
    "start_time": "2025-04-10T06:35:27.688Z"
   },
   {
    "duration": 44,
    "start_time": "2025-04-10T06:35:27.694Z"
   },
   {
    "duration": 4,
    "start_time": "2025-04-10T06:35:27.740Z"
   },
   {
    "duration": 3,
    "start_time": "2025-04-10T06:35:27.745Z"
   },
   {
    "duration": 5,
    "start_time": "2025-04-10T06:35:27.750Z"
   },
   {
    "duration": 10,
    "start_time": "2025-04-10T06:35:27.756Z"
   },
   {
    "duration": 9,
    "start_time": "2025-04-10T06:35:27.768Z"
   },
   {
    "duration": 4,
    "start_time": "2025-04-10T06:35:27.778Z"
   },
   {
    "duration": 5,
    "start_time": "2025-04-10T06:35:27.784Z"
   },
   {
    "duration": 7,
    "start_time": "2025-04-10T06:35:27.790Z"
   },
   {
    "duration": 4,
    "start_time": "2025-04-10T06:35:27.835Z"
   },
   {
    "duration": 7,
    "start_time": "2025-04-10T06:35:27.841Z"
   },
   {
    "duration": 17,
    "start_time": "2025-04-10T06:35:27.849Z"
   },
   {
    "duration": 4,
    "start_time": "2025-04-10T06:35:27.868Z"
   },
   {
    "duration": 10,
    "start_time": "2025-04-10T06:35:27.874Z"
   },
   {
    "duration": 5,
    "start_time": "2025-04-10T06:35:27.886Z"
   },
   {
    "duration": 45,
    "start_time": "2025-04-10T06:35:27.892Z"
   },
   {
    "duration": 6,
    "start_time": "2025-04-10T06:35:27.941Z"
   },
   {
    "duration": 9,
    "start_time": "2025-04-10T06:35:27.948Z"
   },
   {
    "duration": 24,
    "start_time": "2025-04-10T06:35:27.959Z"
   },
   {
    "duration": 11,
    "start_time": "2025-04-10T06:35:27.984Z"
   },
   {
    "duration": 5,
    "start_time": "2025-04-10T06:35:27.997Z"
   },
   {
    "duration": 5,
    "start_time": "2025-04-10T06:35:28.003Z"
   },
   {
    "duration": 25,
    "start_time": "2025-04-10T06:35:28.010Z"
   },
   {
    "duration": 16,
    "start_time": "2025-04-10T06:35:28.037Z"
   },
   {
    "duration": 15,
    "start_time": "2025-04-10T06:35:28.055Z"
   },
   {
    "duration": 4,
    "start_time": "2025-04-10T06:35:28.072Z"
   },
   {
    "duration": 23,
    "start_time": "2025-04-10T06:35:28.078Z"
   },
   {
    "duration": 31,
    "start_time": "2025-04-10T06:35:28.136Z"
   },
   {
    "duration": 356,
    "start_time": "2025-04-10T06:35:28.169Z"
   },
   {
    "duration": 362,
    "start_time": "2025-04-10T06:35:28.526Z"
   },
   {
    "duration": 333,
    "start_time": "2025-04-10T06:35:28.890Z"
   },
   {
    "duration": 277,
    "start_time": "2025-04-10T06:35:29.224Z"
   },
   {
    "duration": 326,
    "start_time": "2025-04-10T06:35:29.503Z"
   },
   {
    "duration": 315,
    "start_time": "2025-04-10T06:35:29.830Z"
   },
   {
    "duration": 11,
    "start_time": "2025-04-10T06:35:30.147Z"
   },
   {
    "duration": 184,
    "start_time": "2025-04-10T06:35:30.159Z"
   },
   {
    "duration": 202,
    "start_time": "2025-04-10T06:35:30.345Z"
   },
   {
    "duration": 407,
    "start_time": "2025-04-10T06:35:30.549Z"
   },
   {
    "duration": 0,
    "start_time": "2025-04-10T06:35:30.957Z"
   },
   {
    "duration": 0,
    "start_time": "2025-04-10T06:35:30.959Z"
   },
   {
    "duration": 0,
    "start_time": "2025-04-10T06:35:30.959Z"
   },
   {
    "duration": 0,
    "start_time": "2025-04-10T06:35:30.960Z"
   },
   {
    "duration": 0,
    "start_time": "2025-04-10T06:35:30.961Z"
   },
   {
    "duration": 0,
    "start_time": "2025-04-10T06:35:30.962Z"
   },
   {
    "duration": 0,
    "start_time": "2025-04-10T06:35:30.964Z"
   },
   {
    "duration": 0,
    "start_time": "2025-04-10T06:35:30.964Z"
   },
   {
    "duration": 0,
    "start_time": "2025-04-10T06:35:30.965Z"
   },
   {
    "duration": 245,
    "start_time": "2025-04-10T06:42:45.453Z"
   },
   {
    "duration": 235,
    "start_time": "2025-04-10T06:50:27.562Z"
   },
   {
    "duration": 222,
    "start_time": "2025-04-10T06:55:17.350Z"
   },
   {
    "duration": 251,
    "start_time": "2025-04-10T06:55:35.393Z"
   },
   {
    "duration": 221,
    "start_time": "2025-04-10T06:56:47.933Z"
   },
   {
    "duration": 256,
    "start_time": "2025-04-10T06:57:14.024Z"
   },
   {
    "duration": 213,
    "start_time": "2025-04-10T06:58:38.658Z"
   },
   {
    "duration": 218,
    "start_time": "2025-04-10T06:58:54.258Z"
   },
   {
    "duration": 122,
    "start_time": "2025-04-10T06:59:05.269Z"
   },
   {
    "duration": 272,
    "start_time": "2025-04-10T06:59:16.691Z"
   },
   {
    "duration": 251,
    "start_time": "2025-04-10T07:00:56.741Z"
   },
   {
    "duration": 344,
    "start_time": "2025-04-10T07:02:33.495Z"
   },
   {
    "duration": 222,
    "start_time": "2025-04-10T07:02:45.984Z"
   },
   {
    "duration": 157,
    "start_time": "2025-04-10T07:03:04.278Z"
   },
   {
    "duration": 258,
    "start_time": "2025-04-10T07:03:09.936Z"
   },
   {
    "duration": 347,
    "start_time": "2025-04-10T07:07:06.708Z"
   },
   {
    "duration": 323,
    "start_time": "2025-04-10T07:07:18.113Z"
   },
   {
    "duration": 1260,
    "start_time": "2025-04-10T07:07:39.851Z"
   },
   {
    "duration": 340,
    "start_time": "2025-04-10T07:07:41.112Z"
   },
   {
    "duration": 15,
    "start_time": "2025-04-10T07:07:41.453Z"
   },
   {
    "duration": 13,
    "start_time": "2025-04-10T07:07:41.470Z"
   },
   {
    "duration": 12,
    "start_time": "2025-04-10T07:07:41.485Z"
   },
   {
    "duration": 13,
    "start_time": "2025-04-10T07:07:41.498Z"
   },
   {
    "duration": 29,
    "start_time": "2025-04-10T07:07:41.512Z"
   },
   {
    "duration": 16,
    "start_time": "2025-04-10T07:07:41.544Z"
   },
   {
    "duration": 16,
    "start_time": "2025-04-10T07:07:41.562Z"
   },
   {
    "duration": 4,
    "start_time": "2025-04-10T07:07:41.579Z"
   },
   {
    "duration": 10,
    "start_time": "2025-04-10T07:07:41.585Z"
   },
   {
    "duration": 3,
    "start_time": "2025-04-10T07:07:41.597Z"
   },
   {
    "duration": 36,
    "start_time": "2025-04-10T07:07:41.601Z"
   },
   {
    "duration": 8,
    "start_time": "2025-04-10T07:07:41.641Z"
   },
   {
    "duration": 10,
    "start_time": "2025-04-10T07:07:41.651Z"
   },
   {
    "duration": 11,
    "start_time": "2025-04-10T07:07:41.662Z"
   },
   {
    "duration": 3,
    "start_time": "2025-04-10T07:07:41.675Z"
   },
   {
    "duration": 6,
    "start_time": "2025-04-10T07:07:41.680Z"
   },
   {
    "duration": 10,
    "start_time": "2025-04-10T07:07:41.688Z"
   },
   {
    "duration": 36,
    "start_time": "2025-04-10T07:07:41.700Z"
   },
   {
    "duration": 5,
    "start_time": "2025-04-10T07:07:41.738Z"
   },
   {
    "duration": 19,
    "start_time": "2025-04-10T07:07:41.745Z"
   },
   {
    "duration": 4,
    "start_time": "2025-04-10T07:07:41.766Z"
   },
   {
    "duration": 9,
    "start_time": "2025-04-10T07:07:41.771Z"
   },
   {
    "duration": 4,
    "start_time": "2025-04-10T07:07:41.782Z"
   },
   {
    "duration": 49,
    "start_time": "2025-04-10T07:07:41.787Z"
   },
   {
    "duration": 12,
    "start_time": "2025-04-10T07:07:41.838Z"
   },
   {
    "duration": 9,
    "start_time": "2025-04-10T07:07:41.851Z"
   },
   {
    "duration": 10,
    "start_time": "2025-04-10T07:07:41.862Z"
   },
   {
    "duration": 4,
    "start_time": "2025-04-10T07:07:41.873Z"
   },
   {
    "duration": 4,
    "start_time": "2025-04-10T07:07:41.879Z"
   },
   {
    "duration": 5,
    "start_time": "2025-04-10T07:07:41.885Z"
   },
   {
    "duration": 60,
    "start_time": "2025-04-10T07:07:41.891Z"
   },
   {
    "duration": 19,
    "start_time": "2025-04-10T07:07:41.953Z"
   },
   {
    "duration": 15,
    "start_time": "2025-04-10T07:07:41.974Z"
   },
   {
    "duration": 3,
    "start_time": "2025-04-10T07:07:41.990Z"
   },
   {
    "duration": 23,
    "start_time": "2025-04-10T07:07:41.995Z"
   },
   {
    "duration": 54,
    "start_time": "2025-04-10T07:07:42.019Z"
   },
   {
    "duration": 364,
    "start_time": "2025-04-10T07:07:42.075Z"
   },
   {
    "duration": 361,
    "start_time": "2025-04-10T07:07:42.442Z"
   },
   {
    "duration": 335,
    "start_time": "2025-04-10T07:07:42.807Z"
   },
   {
    "duration": 246,
    "start_time": "2025-04-10T07:07:43.145Z"
   },
   {
    "duration": 115,
    "start_time": "2025-04-10T07:07:43.392Z"
   },
   {
    "duration": 0,
    "start_time": "2025-04-10T07:07:43.509Z"
   },
   {
    "duration": 0,
    "start_time": "2025-04-10T07:07:43.510Z"
   },
   {
    "duration": 0,
    "start_time": "2025-04-10T07:07:43.511Z"
   },
   {
    "duration": 0,
    "start_time": "2025-04-10T07:07:43.512Z"
   },
   {
    "duration": 0,
    "start_time": "2025-04-10T07:07:43.513Z"
   },
   {
    "duration": 0,
    "start_time": "2025-04-10T07:07:43.514Z"
   },
   {
    "duration": 0,
    "start_time": "2025-04-10T07:07:43.515Z"
   },
   {
    "duration": 0,
    "start_time": "2025-04-10T07:07:43.517Z"
   },
   {
    "duration": 0,
    "start_time": "2025-04-10T07:07:43.536Z"
   },
   {
    "duration": 0,
    "start_time": "2025-04-10T07:07:43.540Z"
   },
   {
    "duration": 0,
    "start_time": "2025-04-10T07:07:43.541Z"
   },
   {
    "duration": 0,
    "start_time": "2025-04-10T07:07:43.543Z"
   },
   {
    "duration": 0,
    "start_time": "2025-04-10T07:07:43.544Z"
   },
   {
    "duration": 0,
    "start_time": "2025-04-10T07:07:43.546Z"
   },
   {
    "duration": 330,
    "start_time": "2025-04-10T07:09:18.007Z"
   },
   {
    "duration": 315,
    "start_time": "2025-04-10T07:09:48.308Z"
   },
   {
    "duration": 320,
    "start_time": "2025-04-10T07:14:15.822Z"
   },
   {
    "duration": 388,
    "start_time": "2025-04-10T07:14:38.268Z"
   },
   {
    "duration": 83,
    "start_time": "2025-04-10T07:15:08.090Z"
   },
   {
    "duration": 337,
    "start_time": "2025-04-10T07:16:39.140Z"
   },
   {
    "duration": 353,
    "start_time": "2025-04-10T07:21:44.768Z"
   },
   {
    "duration": 336,
    "start_time": "2025-04-10T07:22:50.887Z"
   },
   {
    "duration": 352,
    "start_time": "2025-04-10T07:29:25.076Z"
   },
   {
    "duration": 358,
    "start_time": "2025-04-10T07:40:18.178Z"
   },
   {
    "duration": 1488,
    "start_time": "2025-04-10T07:40:47.823Z"
   },
   {
    "duration": 192,
    "start_time": "2025-04-10T07:40:49.313Z"
   },
   {
    "duration": 15,
    "start_time": "2025-04-10T07:40:49.506Z"
   },
   {
    "duration": 23,
    "start_time": "2025-04-10T07:40:49.522Z"
   },
   {
    "duration": 10,
    "start_time": "2025-04-10T07:40:49.547Z"
   },
   {
    "duration": 11,
    "start_time": "2025-04-10T07:40:49.559Z"
   },
   {
    "duration": 29,
    "start_time": "2025-04-10T07:40:49.572Z"
   },
   {
    "duration": 18,
    "start_time": "2025-04-10T07:40:49.603Z"
   },
   {
    "duration": 15,
    "start_time": "2025-04-10T07:40:49.635Z"
   },
   {
    "duration": 6,
    "start_time": "2025-04-10T07:40:49.652Z"
   },
   {
    "duration": 17,
    "start_time": "2025-04-10T07:40:49.660Z"
   },
   {
    "duration": 4,
    "start_time": "2025-04-10T07:40:49.679Z"
   },
   {
    "duration": 6,
    "start_time": "2025-04-10T07:40:49.685Z"
   },
   {
    "duration": 7,
    "start_time": "2025-04-10T07:40:49.695Z"
   },
   {
    "duration": 36,
    "start_time": "2025-04-10T07:40:49.704Z"
   },
   {
    "duration": 11,
    "start_time": "2025-04-10T07:40:49.741Z"
   },
   {
    "duration": 4,
    "start_time": "2025-04-10T07:40:49.753Z"
   },
   {
    "duration": 5,
    "start_time": "2025-04-10T07:40:49.758Z"
   },
   {
    "duration": 14,
    "start_time": "2025-04-10T07:40:49.765Z"
   },
   {
    "duration": 5,
    "start_time": "2025-04-10T07:40:49.780Z"
   },
   {
    "duration": 4,
    "start_time": "2025-04-10T07:40:49.786Z"
   },
   {
    "duration": 15,
    "start_time": "2025-04-10T07:40:49.792Z"
   },
   {
    "duration": 29,
    "start_time": "2025-04-10T07:40:49.809Z"
   },
   {
    "duration": 16,
    "start_time": "2025-04-10T07:40:49.840Z"
   },
   {
    "duration": 7,
    "start_time": "2025-04-10T07:40:49.858Z"
   },
   {
    "duration": 13,
    "start_time": "2025-04-10T07:40:49.867Z"
   },
   {
    "duration": 6,
    "start_time": "2025-04-10T07:40:49.881Z"
   },
   {
    "duration": 47,
    "start_time": "2025-04-10T07:40:49.889Z"
   },
   {
    "duration": 14,
    "start_time": "2025-04-10T07:40:49.938Z"
   },
   {
    "duration": 5,
    "start_time": "2025-04-10T07:40:49.954Z"
   },
   {
    "duration": 5,
    "start_time": "2025-04-10T07:40:49.961Z"
   },
   {
    "duration": 5,
    "start_time": "2025-04-10T07:40:49.968Z"
   },
   {
    "duration": 7,
    "start_time": "2025-04-10T07:40:49.974Z"
   },
   {
    "duration": 15,
    "start_time": "2025-04-10T07:40:49.982Z"
   },
   {
    "duration": 49,
    "start_time": "2025-04-10T07:40:49.999Z"
   },
   {
    "duration": 6,
    "start_time": "2025-04-10T07:40:50.050Z"
   },
   {
    "duration": 25,
    "start_time": "2025-04-10T07:40:50.058Z"
   },
   {
    "duration": 52,
    "start_time": "2025-04-10T07:40:50.085Z"
   },
   {
    "duration": 379,
    "start_time": "2025-04-10T07:40:50.139Z"
   },
   {
    "duration": 369,
    "start_time": "2025-04-10T07:40:50.519Z"
   },
   {
    "duration": 343,
    "start_time": "2025-04-10T07:40:50.892Z"
   },
   {
    "duration": 238,
    "start_time": "2025-04-10T07:40:51.237Z"
   },
   {
    "duration": 349,
    "start_time": "2025-04-10T07:40:51.476Z"
   },
   {
    "duration": 314,
    "start_time": "2025-04-10T07:40:51.827Z"
   },
   {
    "duration": 12,
    "start_time": "2025-04-10T07:40:52.143Z"
   },
   {
    "duration": 191,
    "start_time": "2025-04-10T07:40:52.157Z"
   },
   {
    "duration": 212,
    "start_time": "2025-04-10T07:40:52.350Z"
   },
   {
    "duration": 472,
    "start_time": "2025-04-10T07:40:52.564Z"
   },
   {
    "duration": 0,
    "start_time": "2025-04-10T07:40:53.038Z"
   },
   {
    "duration": 0,
    "start_time": "2025-04-10T07:40:53.039Z"
   },
   {
    "duration": 0,
    "start_time": "2025-04-10T07:40:53.040Z"
   },
   {
    "duration": 0,
    "start_time": "2025-04-10T07:40:53.041Z"
   },
   {
    "duration": 0,
    "start_time": "2025-04-10T07:40:53.042Z"
   },
   {
    "duration": 0,
    "start_time": "2025-04-10T07:40:53.044Z"
   },
   {
    "duration": 0,
    "start_time": "2025-04-10T07:40:53.044Z"
   },
   {
    "duration": 0,
    "start_time": "2025-04-10T07:40:53.045Z"
   },
   {
    "duration": 0,
    "start_time": "2025-04-10T07:40:53.046Z"
   },
   {
    "duration": 371,
    "start_time": "2025-04-10T07:44:35.559Z"
   },
   {
    "duration": 75,
    "start_time": "2025-04-10T07:45:45.351Z"
   },
   {
    "duration": 325,
    "start_time": "2025-04-10T07:45:54.637Z"
   },
   {
    "duration": 353,
    "start_time": "2025-04-10T07:46:20.961Z"
   },
   {
    "duration": 380,
    "start_time": "2025-04-10T07:46:40.557Z"
   },
   {
    "duration": 329,
    "start_time": "2025-04-10T07:47:28.219Z"
   },
   {
    "duration": 5,
    "start_time": "2025-04-10T07:51:45.288Z"
   },
   {
    "duration": 334,
    "start_time": "2025-04-10T07:54:12.330Z"
   },
   {
    "duration": 358,
    "start_time": "2025-04-10T07:54:35.993Z"
   },
   {
    "duration": 359,
    "start_time": "2025-04-10T07:54:53.048Z"
   },
   {
    "duration": 86,
    "start_time": "2025-04-10T07:55:04.783Z"
   },
   {
    "duration": 352,
    "start_time": "2025-04-10T07:55:09.975Z"
   },
   {
    "duration": 413,
    "start_time": "2025-04-10T07:55:28.939Z"
   },
   {
    "duration": 341,
    "start_time": "2025-04-10T07:55:44.469Z"
   },
   {
    "duration": 323,
    "start_time": "2025-04-10T07:56:11.986Z"
   },
   {
    "duration": 727,
    "start_time": "2025-04-10T07:57:46.985Z"
   },
   {
    "duration": 739,
    "start_time": "2025-04-10T07:58:35.598Z"
   },
   {
    "duration": 733,
    "start_time": "2025-04-10T07:59:52.480Z"
   },
   {
    "duration": 113,
    "start_time": "2025-04-10T08:02:37.434Z"
   },
   {
    "duration": 698,
    "start_time": "2025-04-10T08:02:55.769Z"
   },
   {
    "duration": 726,
    "start_time": "2025-04-10T08:04:39.336Z"
   },
   {
    "duration": 356,
    "start_time": "2025-04-10T08:04:57.273Z"
   },
   {
    "duration": 13,
    "start_time": "2025-04-10T08:05:27.217Z"
   },
   {
    "duration": 340,
    "start_time": "2025-04-10T08:06:45.318Z"
   },
   {
    "duration": 77,
    "start_time": "2025-04-10T08:07:05.010Z"
   },
   {
    "duration": 698,
    "start_time": "2025-04-10T08:07:24.954Z"
   },
   {
    "duration": 773,
    "start_time": "2025-04-10T08:11:08.374Z"
   },
   {
    "duration": 15,
    "start_time": "2025-04-10T08:12:47.925Z"
   },
   {
    "duration": 722,
    "start_time": "2025-04-10T08:14:39.133Z"
   },
   {
    "duration": 77,
    "start_time": "2025-04-10T08:15:30.085Z"
   },
   {
    "duration": 720,
    "start_time": "2025-04-10T08:15:52.251Z"
   },
   {
    "duration": 347,
    "start_time": "2025-04-10T08:18:01.805Z"
   },
   {
    "duration": 1230,
    "start_time": "2025-04-10T08:19:29.468Z"
   },
   {
    "duration": 229,
    "start_time": "2025-04-10T08:19:30.700Z"
   },
   {
    "duration": 20,
    "start_time": "2025-04-10T08:19:30.931Z"
   },
   {
    "duration": 41,
    "start_time": "2025-04-10T08:19:30.953Z"
   },
   {
    "duration": 12,
    "start_time": "2025-04-10T08:19:30.996Z"
   },
   {
    "duration": 10,
    "start_time": "2025-04-10T08:19:31.009Z"
   },
   {
    "duration": 11,
    "start_time": "2025-04-10T08:19:31.020Z"
   },
   {
    "duration": 24,
    "start_time": "2025-04-10T08:19:31.033Z"
   },
   {
    "duration": 14,
    "start_time": "2025-04-10T08:19:31.059Z"
   },
   {
    "duration": 5,
    "start_time": "2025-04-10T08:19:31.076Z"
   },
   {
    "duration": 47,
    "start_time": "2025-04-10T08:19:31.083Z"
   },
   {
    "duration": 4,
    "start_time": "2025-04-10T08:19:31.132Z"
   },
   {
    "duration": 7,
    "start_time": "2025-04-10T08:19:31.141Z"
   },
   {
    "duration": 5,
    "start_time": "2025-04-10T08:19:31.151Z"
   },
   {
    "duration": 8,
    "start_time": "2025-04-10T08:19:31.157Z"
   },
   {
    "duration": 8,
    "start_time": "2025-04-10T08:19:31.167Z"
   },
   {
    "duration": 33,
    "start_time": "2025-04-10T08:19:31.177Z"
   },
   {
    "duration": 26,
    "start_time": "2025-04-10T08:19:31.212Z"
   },
   {
    "duration": 13,
    "start_time": "2025-04-10T08:19:31.240Z"
   },
   {
    "duration": 6,
    "start_time": "2025-04-10T08:19:31.255Z"
   },
   {
    "duration": 4,
    "start_time": "2025-04-10T08:19:31.263Z"
   },
   {
    "duration": 16,
    "start_time": "2025-04-10T08:19:31.268Z"
   },
   {
    "duration": 5,
    "start_time": "2025-04-10T08:19:31.286Z"
   },
   {
    "duration": 15,
    "start_time": "2025-04-10T08:19:31.293Z"
   },
   {
    "duration": 28,
    "start_time": "2025-04-10T08:19:31.310Z"
   },
   {
    "duration": 91,
    "start_time": "2025-04-10T08:19:31.339Z"
   },
   {
    "duration": 19,
    "start_time": "2025-04-10T08:19:31.432Z"
   },
   {
    "duration": 100,
    "start_time": "2025-04-10T08:19:31.455Z"
   },
   {
    "duration": 11,
    "start_time": "2025-04-10T08:19:31.557Z"
   },
   {
    "duration": 5,
    "start_time": "2025-04-10T08:19:31.569Z"
   },
   {
    "duration": 5,
    "start_time": "2025-04-10T08:19:31.576Z"
   },
   {
    "duration": 23,
    "start_time": "2025-04-10T08:19:31.583Z"
   },
   {
    "duration": 107,
    "start_time": "2025-04-10T08:19:31.608Z"
   },
   {
    "duration": 21,
    "start_time": "2025-04-10T08:19:31.717Z"
   },
   {
    "duration": 21,
    "start_time": "2025-04-10T08:19:31.739Z"
   },
   {
    "duration": 4,
    "start_time": "2025-04-10T08:19:31.761Z"
   },
   {
    "duration": 21,
    "start_time": "2025-04-10T08:19:31.766Z"
   },
   {
    "duration": 54,
    "start_time": "2025-04-10T08:19:31.788Z"
   },
   {
    "duration": 329,
    "start_time": "2025-04-10T08:19:31.844Z"
   },
   {
    "duration": 388,
    "start_time": "2025-04-10T08:19:32.174Z"
   },
   {
    "duration": 363,
    "start_time": "2025-04-10T08:19:32.563Z"
   },
   {
    "duration": 249,
    "start_time": "2025-04-10T08:19:32.936Z"
   },
   {
    "duration": 371,
    "start_time": "2025-04-10T08:19:33.187Z"
   },
   {
    "duration": 353,
    "start_time": "2025-04-10T08:19:33.560Z"
   },
   {
    "duration": 30,
    "start_time": "2025-04-10T08:19:33.915Z"
   },
   {
    "duration": 177,
    "start_time": "2025-04-10T08:19:33.947Z"
   },
   {
    "duration": 218,
    "start_time": "2025-04-10T08:19:34.125Z"
   },
   {
    "duration": 322,
    "start_time": "2025-04-10T08:19:34.347Z"
   },
   {
    "duration": 9,
    "start_time": "2025-04-10T08:19:34.670Z"
   },
   {
    "duration": 135,
    "start_time": "2025-04-10T08:19:34.680Z"
   },
   {
    "duration": 289,
    "start_time": "2025-04-10T08:19:34.817Z"
   },
   {
    "duration": 47,
    "start_time": "2025-04-10T08:19:35.107Z"
   },
   {
    "duration": 173,
    "start_time": "2025-04-10T08:19:35.156Z"
   },
   {
    "duration": 257,
    "start_time": "2025-04-10T08:19:35.331Z"
   },
   {
    "duration": 14,
    "start_time": "2025-04-10T08:19:35.589Z"
   },
   {
    "duration": 584,
    "start_time": "2025-04-10T08:19:35.604Z"
   },
   {
    "duration": 402,
    "start_time": "2025-04-10T08:19:36.190Z"
   },
   {
    "duration": 663,
    "start_time": "2025-04-10T08:23:07.777Z"
   },
   {
    "duration": 583,
    "start_time": "2025-04-10T08:26:53.111Z"
   },
   {
    "duration": 604,
    "start_time": "2025-04-10T08:28:05.842Z"
   },
   {
    "duration": 1213,
    "start_time": "2025-04-10T08:38:08.285Z"
   },
   {
    "duration": 271,
    "start_time": "2025-04-10T08:38:09.499Z"
   },
   {
    "duration": 15,
    "start_time": "2025-04-10T08:38:09.771Z"
   },
   {
    "duration": 15,
    "start_time": "2025-04-10T08:38:09.787Z"
   },
   {
    "duration": 9,
    "start_time": "2025-04-10T08:38:09.803Z"
   },
   {
    "duration": 10,
    "start_time": "2025-04-10T08:38:09.813Z"
   },
   {
    "duration": 16,
    "start_time": "2025-04-10T08:38:09.824Z"
   },
   {
    "duration": 17,
    "start_time": "2025-04-10T08:38:09.842Z"
   },
   {
    "duration": 22,
    "start_time": "2025-04-10T08:38:09.860Z"
   },
   {
    "duration": 4,
    "start_time": "2025-04-10T08:38:09.883Z"
   },
   {
    "duration": 8,
    "start_time": "2025-04-10T08:38:09.889Z"
   },
   {
    "duration": 4,
    "start_time": "2025-04-10T08:38:09.898Z"
   },
   {
    "duration": 6,
    "start_time": "2025-04-10T08:38:09.903Z"
   },
   {
    "duration": 8,
    "start_time": "2025-04-10T08:38:09.937Z"
   },
   {
    "duration": 13,
    "start_time": "2025-04-10T08:38:09.947Z"
   },
   {
    "duration": 8,
    "start_time": "2025-04-10T08:38:09.962Z"
   },
   {
    "duration": 4,
    "start_time": "2025-04-10T08:38:09.972Z"
   },
   {
    "duration": 9,
    "start_time": "2025-04-10T08:38:09.977Z"
   },
   {
    "duration": 4,
    "start_time": "2025-04-10T08:38:09.988Z"
   },
   {
    "duration": 46,
    "start_time": "2025-04-10T08:38:09.993Z"
   },
   {
    "duration": 9,
    "start_time": "2025-04-10T08:38:10.041Z"
   },
   {
    "duration": 18,
    "start_time": "2025-04-10T08:38:10.052Z"
   },
   {
    "duration": 34,
    "start_time": "2025-04-10T08:38:10.071Z"
   },
   {
    "duration": 4,
    "start_time": "2025-04-10T08:38:10.107Z"
   },
   {
    "duration": 9,
    "start_time": "2025-04-10T08:38:10.113Z"
   },
   {
    "duration": 21,
    "start_time": "2025-04-10T08:38:10.123Z"
   },
   {
    "duration": 20,
    "start_time": "2025-04-10T08:38:10.148Z"
   },
   {
    "duration": 16,
    "start_time": "2025-04-10T08:38:10.170Z"
   },
   {
    "duration": 12,
    "start_time": "2025-04-10T08:38:10.188Z"
   },
   {
    "duration": 11,
    "start_time": "2025-04-10T08:38:10.201Z"
   },
   {
    "duration": 32,
    "start_time": "2025-04-10T08:38:10.213Z"
   },
   {
    "duration": 29,
    "start_time": "2025-04-10T08:38:10.249Z"
   },
   {
    "duration": 367,
    "start_time": "2025-04-10T08:38:10.279Z"
   },
   {
    "duration": 347,
    "start_time": "2025-04-10T08:38:10.648Z"
   },
   {
    "duration": 345,
    "start_time": "2025-04-10T08:38:10.996Z"
   },
   {
    "duration": 254,
    "start_time": "2025-04-10T08:38:11.344Z"
   },
   {
    "duration": 347,
    "start_time": "2025-04-10T08:38:11.599Z"
   },
   {
    "duration": 318,
    "start_time": "2025-04-10T08:38:11.947Z"
   },
   {
    "duration": 11,
    "start_time": "2025-04-10T08:38:12.267Z"
   },
   {
    "duration": 190,
    "start_time": "2025-04-10T08:38:12.279Z"
   },
   {
    "duration": 202,
    "start_time": "2025-04-10T08:38:12.473Z"
   },
   {
    "duration": 352,
    "start_time": "2025-04-10T08:38:12.677Z"
   },
   {
    "duration": 19,
    "start_time": "2025-04-10T08:38:13.030Z"
   },
   {
    "duration": 136,
    "start_time": "2025-04-10T08:38:13.050Z"
   },
   {
    "duration": 320,
    "start_time": "2025-04-10T08:38:13.188Z"
   },
   {
    "duration": 47,
    "start_time": "2025-04-10T08:38:13.510Z"
   },
   {
    "duration": 246,
    "start_time": "2025-04-10T08:38:13.558Z"
   },
   {
    "duration": 266,
    "start_time": "2025-04-10T08:38:13.806Z"
   },
   {
    "duration": 14,
    "start_time": "2025-04-10T08:38:14.074Z"
   },
   {
    "duration": 623,
    "start_time": "2025-04-10T08:38:14.089Z"
   },
   {
    "duration": 387,
    "start_time": "2025-04-10T08:38:14.713Z"
   },
   {
    "duration": 4,
    "start_time": "2025-04-10T08:44:27.494Z"
   },
   {
    "duration": 1190,
    "start_time": "2025-04-10T08:47:54.794Z"
   },
   {
    "duration": 326,
    "start_time": "2025-04-10T08:47:55.986Z"
   },
   {
    "duration": 15,
    "start_time": "2025-04-10T08:47:56.313Z"
   },
   {
    "duration": 13,
    "start_time": "2025-04-10T08:47:56.329Z"
   },
   {
    "duration": 14,
    "start_time": "2025-04-10T08:47:56.344Z"
   },
   {
    "duration": 15,
    "start_time": "2025-04-10T08:47:56.359Z"
   },
   {
    "duration": 10,
    "start_time": "2025-04-10T08:47:56.375Z"
   },
   {
    "duration": 14,
    "start_time": "2025-04-10T08:47:56.387Z"
   },
   {
    "duration": 35,
    "start_time": "2025-04-10T08:47:56.402Z"
   },
   {
    "duration": 5,
    "start_time": "2025-04-10T08:47:56.438Z"
   },
   {
    "duration": 9,
    "start_time": "2025-04-10T08:47:56.445Z"
   },
   {
    "duration": 13,
    "start_time": "2025-04-10T08:47:56.455Z"
   },
   {
    "duration": 7,
    "start_time": "2025-04-10T08:47:56.470Z"
   },
   {
    "duration": 5,
    "start_time": "2025-04-10T08:47:56.480Z"
   },
   {
    "duration": 23,
    "start_time": "2025-04-10T08:47:56.487Z"
   },
   {
    "duration": 31,
    "start_time": "2025-04-10T08:47:56.514Z"
   },
   {
    "duration": 6,
    "start_time": "2025-04-10T08:47:56.548Z"
   },
   {
    "duration": 12,
    "start_time": "2025-04-10T08:47:56.557Z"
   },
   {
    "duration": 7,
    "start_time": "2025-04-10T08:47:56.570Z"
   },
   {
    "duration": 15,
    "start_time": "2025-04-10T08:47:56.579Z"
   },
   {
    "duration": 40,
    "start_time": "2025-04-10T08:47:56.596Z"
   },
   {
    "duration": 8,
    "start_time": "2025-04-10T08:47:56.638Z"
   },
   {
    "duration": 9,
    "start_time": "2025-04-10T08:47:56.648Z"
   },
   {
    "duration": 5,
    "start_time": "2025-04-10T08:47:56.659Z"
   },
   {
    "duration": 7,
    "start_time": "2025-04-10T08:47:56.665Z"
   },
   {
    "duration": 42,
    "start_time": "2025-04-10T08:47:56.673Z"
   },
   {
    "duration": 6,
    "start_time": "2025-04-10T08:47:56.717Z"
   },
   {
    "duration": 20,
    "start_time": "2025-04-10T08:47:56.725Z"
   },
   {
    "duration": 12,
    "start_time": "2025-04-10T08:47:56.747Z"
   },
   {
    "duration": 4,
    "start_time": "2025-04-10T08:47:56.760Z"
   },
   {
    "duration": 20,
    "start_time": "2025-04-10T08:47:56.765Z"
   },
   {
    "duration": 56,
    "start_time": "2025-04-10T08:47:56.786Z"
   },
   {
    "duration": 317,
    "start_time": "2025-04-10T08:47:56.844Z"
   },
   {
    "duration": 389,
    "start_time": "2025-04-10T08:47:57.163Z"
   },
   {
    "duration": 333,
    "start_time": "2025-04-10T08:47:57.553Z"
   },
   {
    "duration": 270,
    "start_time": "2025-04-10T08:47:57.887Z"
   },
   {
    "duration": 358,
    "start_time": "2025-04-10T08:47:58.167Z"
   },
   {
    "duration": 309,
    "start_time": "2025-04-10T08:47:58.526Z"
   },
   {
    "duration": 10,
    "start_time": "2025-04-10T08:47:58.837Z"
   },
   {
    "duration": 176,
    "start_time": "2025-04-10T08:47:58.849Z"
   },
   {
    "duration": 211,
    "start_time": "2025-04-10T08:47:59.029Z"
   },
   {
    "duration": 306,
    "start_time": "2025-04-10T08:47:59.241Z"
   },
   {
    "duration": 9,
    "start_time": "2025-04-10T08:47:59.548Z"
   },
   {
    "duration": 200,
    "start_time": "2025-04-10T08:47:59.558Z"
   },
   {
    "duration": 281,
    "start_time": "2025-04-10T08:47:59.759Z"
   },
   {
    "duration": 29,
    "start_time": "2025-04-10T08:48:00.041Z"
   },
   {
    "duration": 216,
    "start_time": "2025-04-10T08:48:00.072Z"
   },
   {
    "duration": 209,
    "start_time": "2025-04-10T08:48:00.290Z"
   },
   {
    "duration": 42,
    "start_time": "2025-04-10T08:48:00.500Z"
   },
   {
    "duration": 577,
    "start_time": "2025-04-10T08:48:00.544Z"
   },
   {
    "duration": 374,
    "start_time": "2025-04-10T08:48:01.123Z"
   },
   {
    "duration": 347,
    "start_time": "2025-04-10T08:51:05.217Z"
   },
   {
    "duration": 251,
    "start_time": "2025-04-10T08:51:48.328Z"
   },
   {
    "duration": 248,
    "start_time": "2025-04-10T08:52:03.548Z"
   },
   {
    "duration": 240,
    "start_time": "2025-04-10T08:52:14.436Z"
   },
   {
    "duration": 258,
    "start_time": "2025-04-10T08:52:22.417Z"
   },
   {
    "duration": 229,
    "start_time": "2025-04-10T08:52:31.052Z"
   },
   {
    "duration": 195,
    "start_time": "2025-04-10T08:52:35.788Z"
   },
   {
    "duration": 262,
    "start_time": "2025-04-10T08:52:46.992Z"
   },
   {
    "duration": 204,
    "start_time": "2025-04-10T08:53:04.971Z"
   },
   {
    "duration": 261,
    "start_time": "2025-04-10T08:53:20.500Z"
   },
   {
    "duration": 569,
    "start_time": "2025-04-10T08:57:39.935Z"
   },
   {
    "duration": 647,
    "start_time": "2025-04-10T08:59:13.946Z"
   },
   {
    "duration": 556,
    "start_time": "2025-04-10T09:02:16.981Z"
   },
   {
    "duration": 655,
    "start_time": "2025-04-10T09:02:54.526Z"
   },
   {
    "duration": 639,
    "start_time": "2025-04-10T09:03:37.342Z"
   },
   {
    "duration": 554,
    "start_time": "2025-04-10T09:04:19.182Z"
   },
   {
    "duration": 688,
    "start_time": "2025-04-10T09:05:04.087Z"
   },
   {
    "duration": 576,
    "start_time": "2025-04-10T09:05:29.044Z"
   },
   {
    "duration": 605,
    "start_time": "2025-04-10T09:05:37.355Z"
   },
   {
    "duration": 700,
    "start_time": "2025-04-10T09:07:22.905Z"
   },
   {
    "duration": 575,
    "start_time": "2025-04-10T09:08:08.063Z"
   },
   {
    "duration": 1254,
    "start_time": "2025-04-10T09:08:23.554Z"
   },
   {
    "duration": 1655,
    "start_time": "2025-04-10T09:08:24.810Z"
   },
   {
    "duration": 15,
    "start_time": "2025-04-10T09:08:26.467Z"
   },
   {
    "duration": 38,
    "start_time": "2025-04-10T09:08:26.483Z"
   },
   {
    "duration": 9,
    "start_time": "2025-04-10T09:08:26.524Z"
   },
   {
    "duration": 18,
    "start_time": "2025-04-10T09:08:26.534Z"
   },
   {
    "duration": 11,
    "start_time": "2025-04-10T09:08:26.553Z"
   },
   {
    "duration": 13,
    "start_time": "2025-04-10T09:08:26.566Z"
   },
   {
    "duration": 23,
    "start_time": "2025-04-10T09:08:26.580Z"
   },
   {
    "duration": 6,
    "start_time": "2025-04-10T09:08:26.607Z"
   },
   {
    "duration": 14,
    "start_time": "2025-04-10T09:08:26.635Z"
   },
   {
    "duration": 6,
    "start_time": "2025-04-10T09:08:26.651Z"
   },
   {
    "duration": 4,
    "start_time": "2025-04-10T09:08:26.659Z"
   },
   {
    "duration": 6,
    "start_time": "2025-04-10T09:08:26.667Z"
   },
   {
    "duration": 17,
    "start_time": "2025-04-10T09:08:26.675Z"
   },
   {
    "duration": 44,
    "start_time": "2025-04-10T09:08:26.694Z"
   },
   {
    "duration": 7,
    "start_time": "2025-04-10T09:08:26.740Z"
   },
   {
    "duration": 106,
    "start_time": "2025-04-10T09:08:26.749Z"
   },
   {
    "duration": 10,
    "start_time": "2025-04-10T09:08:26.857Z"
   },
   {
    "duration": 14,
    "start_time": "2025-04-10T09:08:26.869Z"
   },
   {
    "duration": 12,
    "start_time": "2025-04-10T09:08:26.885Z"
   },
   {
    "duration": 9,
    "start_time": "2025-04-10T09:08:26.898Z"
   },
   {
    "duration": 10,
    "start_time": "2025-04-10T09:08:26.909Z"
   },
   {
    "duration": 5,
    "start_time": "2025-04-10T09:08:26.921Z"
   },
   {
    "duration": 7,
    "start_time": "2025-04-10T09:08:26.936Z"
   },
   {
    "duration": 109,
    "start_time": "2025-04-10T09:08:26.945Z"
   },
   {
    "duration": 14,
    "start_time": "2025-04-10T09:08:27.056Z"
   },
   {
    "duration": 20,
    "start_time": "2025-04-10T09:08:27.072Z"
   },
   {
    "duration": 14,
    "start_time": "2025-04-10T09:08:27.094Z"
   },
   {
    "duration": 4,
    "start_time": "2025-04-10T09:08:27.109Z"
   },
   {
    "duration": 30,
    "start_time": "2025-04-10T09:08:27.115Z"
   },
   {
    "duration": 32,
    "start_time": "2025-04-10T09:08:27.148Z"
   },
   {
    "duration": 375,
    "start_time": "2025-04-10T09:08:27.182Z"
   },
   {
    "duration": 388,
    "start_time": "2025-04-10T09:08:27.559Z"
   },
   {
    "duration": 319,
    "start_time": "2025-04-10T09:08:27.950Z"
   },
   {
    "duration": 226,
    "start_time": "2025-04-10T09:08:28.271Z"
   },
   {
    "duration": 350,
    "start_time": "2025-04-10T09:08:28.499Z"
   },
   {
    "duration": 353,
    "start_time": "2025-04-10T09:08:28.851Z"
   },
   {
    "duration": 11,
    "start_time": "2025-04-10T09:08:29.206Z"
   },
   {
    "duration": 196,
    "start_time": "2025-04-10T09:08:29.218Z"
   },
   {
    "duration": 200,
    "start_time": "2025-04-10T09:08:29.418Z"
   },
   {
    "duration": 342,
    "start_time": "2025-04-10T09:08:29.619Z"
   },
   {
    "duration": 8,
    "start_time": "2025-04-10T09:08:29.963Z"
   },
   {
    "duration": 136,
    "start_time": "2025-04-10T09:08:29.973Z"
   },
   {
    "duration": 297,
    "start_time": "2025-04-10T09:08:30.110Z"
   },
   {
    "duration": 46,
    "start_time": "2025-04-10T09:08:30.409Z"
   },
   {
    "duration": 205,
    "start_time": "2025-04-10T09:08:30.457Z"
   },
   {
    "duration": 238,
    "start_time": "2025-04-10T09:08:30.663Z"
   },
   {
    "duration": 15,
    "start_time": "2025-04-10T09:08:30.902Z"
   },
   {
    "duration": 638,
    "start_time": "2025-04-10T09:08:30.918Z"
   },
   {
    "duration": 415,
    "start_time": "2025-04-10T09:08:31.558Z"
   },
   {
    "duration": 680,
    "start_time": "2025-04-10T09:08:43.095Z"
   },
   {
    "duration": 605,
    "start_time": "2025-04-10T09:08:55.075Z"
   },
   {
    "duration": 648,
    "start_time": "2025-04-10T09:09:11.901Z"
   },
   {
    "duration": 6,
    "start_time": "2025-04-10T09:10:01.059Z"
   },
   {
    "duration": 397,
    "start_time": "2025-04-10T09:11:25.394Z"
   },
   {
    "duration": 400,
    "start_time": "2025-04-10T09:12:04.176Z"
   },
   {
    "duration": 399,
    "start_time": "2025-04-10T09:12:13.366Z"
   },
   {
    "duration": 402,
    "start_time": "2025-04-10T09:22:35.747Z"
   },
   {
    "duration": 1238,
    "start_time": "2025-04-10T10:45:22.356Z"
   },
   {
    "duration": 201,
    "start_time": "2025-04-10T10:45:23.596Z"
   },
   {
    "duration": 17,
    "start_time": "2025-04-10T10:45:23.799Z"
   },
   {
    "duration": 13,
    "start_time": "2025-04-10T10:45:23.818Z"
   },
   {
    "duration": 9,
    "start_time": "2025-04-10T10:45:23.833Z"
   },
   {
    "duration": 13,
    "start_time": "2025-04-10T10:45:23.844Z"
   },
   {
    "duration": 14,
    "start_time": "2025-04-10T10:45:23.858Z"
   },
   {
    "duration": 16,
    "start_time": "2025-04-10T10:45:23.874Z"
   },
   {
    "duration": 176,
    "start_time": "2025-04-10T10:45:23.892Z"
   },
   {
    "duration": 5,
    "start_time": "2025-04-10T10:45:24.070Z"
   },
   {
    "duration": 12,
    "start_time": "2025-04-10T10:45:24.076Z"
   },
   {
    "duration": 4,
    "start_time": "2025-04-10T10:45:24.090Z"
   },
   {
    "duration": 7,
    "start_time": "2025-04-10T10:45:24.095Z"
   },
   {
    "duration": 10,
    "start_time": "2025-04-10T10:45:24.106Z"
   },
   {
    "duration": 8,
    "start_time": "2025-04-10T10:45:24.117Z"
   },
   {
    "duration": 16,
    "start_time": "2025-04-10T10:45:24.127Z"
   },
   {
    "duration": 7,
    "start_time": "2025-04-10T10:45:24.146Z"
   },
   {
    "duration": 26,
    "start_time": "2025-04-10T10:45:24.156Z"
   },
   {
    "duration": 6,
    "start_time": "2025-04-10T10:45:24.185Z"
   },
   {
    "duration": 20,
    "start_time": "2025-04-10T10:45:24.193Z"
   },
   {
    "duration": 67,
    "start_time": "2025-04-10T10:45:24.215Z"
   },
   {
    "duration": 25,
    "start_time": "2025-04-10T10:45:24.284Z"
   },
   {
    "duration": 11,
    "start_time": "2025-04-10T10:45:24.311Z"
   },
   {
    "duration": 5,
    "start_time": "2025-04-10T10:45:24.324Z"
   },
   {
    "duration": 5,
    "start_time": "2025-04-10T10:45:24.330Z"
   },
   {
    "duration": 7,
    "start_time": "2025-04-10T10:45:24.336Z"
   },
   {
    "duration": 7,
    "start_time": "2025-04-10T10:45:24.345Z"
   },
   {
    "duration": 25,
    "start_time": "2025-04-10T10:45:24.354Z"
   },
   {
    "duration": 14,
    "start_time": "2025-04-10T10:45:24.380Z"
   },
   {
    "duration": 4,
    "start_time": "2025-04-10T10:45:24.396Z"
   },
   {
    "duration": 52,
    "start_time": "2025-04-10T10:45:24.401Z"
   },
   {
    "duration": 31,
    "start_time": "2025-04-10T10:45:24.455Z"
   },
   {
    "duration": 337,
    "start_time": "2025-04-10T10:45:24.488Z"
   },
   {
    "duration": 343,
    "start_time": "2025-04-10T10:45:24.834Z"
   },
   {
    "duration": 349,
    "start_time": "2025-04-10T10:45:25.179Z"
   },
   {
    "duration": 265,
    "start_time": "2025-04-10T10:45:25.530Z"
   },
   {
    "duration": 343,
    "start_time": "2025-04-10T10:45:25.797Z"
   },
   {
    "duration": 327,
    "start_time": "2025-04-10T10:45:26.142Z"
   },
   {
    "duration": 12,
    "start_time": "2025-04-10T10:45:26.470Z"
   },
   {
    "duration": 226,
    "start_time": "2025-04-10T10:45:26.483Z"
   },
   {
    "duration": 198,
    "start_time": "2025-04-10T10:45:26.713Z"
   },
   {
    "duration": 330,
    "start_time": "2025-04-10T10:45:26.913Z"
   },
   {
    "duration": 9,
    "start_time": "2025-04-10T10:45:27.245Z"
   },
   {
    "duration": 146,
    "start_time": "2025-04-10T10:45:27.255Z"
   },
   {
    "duration": 293,
    "start_time": "2025-04-10T10:45:27.403Z"
   },
   {
    "duration": 40,
    "start_time": "2025-04-10T10:45:27.698Z"
   },
   {
    "duration": 196,
    "start_time": "2025-04-10T10:45:27.740Z"
   },
   {
    "duration": 272,
    "start_time": "2025-04-10T10:45:27.938Z"
   },
   {
    "duration": 28,
    "start_time": "2025-04-10T10:45:28.212Z"
   },
   {
    "duration": 602,
    "start_time": "2025-04-10T10:45:28.242Z"
   },
   {
    "duration": 108,
    "start_time": "2025-04-10T10:45:28.845Z"
   },
   {
    "duration": 1237,
    "start_time": "2025-04-10T10:47:43.270Z"
   },
   {
    "duration": 201,
    "start_time": "2025-04-10T10:47:44.509Z"
   },
   {
    "duration": 14,
    "start_time": "2025-04-10T10:47:44.711Z"
   },
   {
    "duration": 12,
    "start_time": "2025-04-10T10:47:44.727Z"
   },
   {
    "duration": 8,
    "start_time": "2025-04-10T10:47:44.741Z"
   },
   {
    "duration": 10,
    "start_time": "2025-04-10T10:47:44.750Z"
   },
   {
    "duration": 11,
    "start_time": "2025-04-10T10:47:44.761Z"
   },
   {
    "duration": 14,
    "start_time": "2025-04-10T10:47:44.774Z"
   },
   {
    "duration": 13,
    "start_time": "2025-04-10T10:47:44.789Z"
   },
   {
    "duration": 34,
    "start_time": "2025-04-10T10:47:44.803Z"
   },
   {
    "duration": 9,
    "start_time": "2025-04-10T10:47:44.839Z"
   },
   {
    "duration": 4,
    "start_time": "2025-04-10T10:47:44.849Z"
   },
   {
    "duration": 5,
    "start_time": "2025-04-10T10:47:44.854Z"
   },
   {
    "duration": 30,
    "start_time": "2025-04-10T10:47:44.861Z"
   },
   {
    "duration": 8,
    "start_time": "2025-04-10T10:47:44.893Z"
   },
   {
    "duration": 9,
    "start_time": "2025-04-10T10:47:44.903Z"
   },
   {
    "duration": 22,
    "start_time": "2025-04-10T10:47:44.914Z"
   },
   {
    "duration": 10,
    "start_time": "2025-04-10T10:47:44.938Z"
   },
   {
    "duration": 9,
    "start_time": "2025-04-10T10:47:44.950Z"
   },
   {
    "duration": 14,
    "start_time": "2025-04-10T10:47:44.960Z"
   },
   {
    "duration": 6,
    "start_time": "2025-04-10T10:47:44.976Z"
   },
   {
    "duration": 8,
    "start_time": "2025-04-10T10:47:44.984Z"
   },
   {
    "duration": 43,
    "start_time": "2025-04-10T10:47:44.993Z"
   },
   {
    "duration": 10,
    "start_time": "2025-04-10T10:47:45.038Z"
   },
   {
    "duration": 32,
    "start_time": "2025-04-10T10:47:45.049Z"
   },
   {
    "duration": 23,
    "start_time": "2025-04-10T10:47:45.082Z"
   },
   {
    "duration": 7,
    "start_time": "2025-04-10T10:47:45.106Z"
   },
   {
    "duration": 32,
    "start_time": "2025-04-10T10:47:45.115Z"
   },
   {
    "duration": 14,
    "start_time": "2025-04-10T10:47:45.148Z"
   },
   {
    "duration": 4,
    "start_time": "2025-04-10T10:47:45.163Z"
   },
   {
    "duration": 34,
    "start_time": "2025-04-10T10:47:45.168Z"
   },
   {
    "duration": 44,
    "start_time": "2025-04-10T10:47:45.204Z"
   },
   {
    "duration": 368,
    "start_time": "2025-04-10T10:47:45.250Z"
   },
   {
    "duration": 352,
    "start_time": "2025-04-10T10:47:45.619Z"
   },
   {
    "duration": 354,
    "start_time": "2025-04-10T10:47:45.973Z"
   },
   {
    "duration": 252,
    "start_time": "2025-04-10T10:47:46.336Z"
   },
   {
    "duration": 366,
    "start_time": "2025-04-10T10:47:46.589Z"
   },
   {
    "duration": 387,
    "start_time": "2025-04-10T10:47:46.957Z"
   },
   {
    "duration": 11,
    "start_time": "2025-04-10T10:47:47.345Z"
   },
   {
    "duration": 210,
    "start_time": "2025-04-10T10:47:47.358Z"
   },
   {
    "duration": 208,
    "start_time": "2025-04-10T10:47:47.572Z"
   },
   {
    "duration": 342,
    "start_time": "2025-04-10T10:47:47.782Z"
   },
   {
    "duration": 17,
    "start_time": "2025-04-10T10:47:48.126Z"
   },
   {
    "duration": 138,
    "start_time": "2025-04-10T10:47:48.144Z"
   },
   {
    "duration": 299,
    "start_time": "2025-04-10T10:47:48.285Z"
   },
   {
    "duration": 27,
    "start_time": "2025-04-10T10:47:48.586Z"
   },
   {
    "duration": 195,
    "start_time": "2025-04-10T10:47:48.615Z"
   },
   {
    "duration": 273,
    "start_time": "2025-04-10T10:47:48.811Z"
   },
   {
    "duration": 15,
    "start_time": "2025-04-10T10:47:49.086Z"
   },
   {
    "duration": 579,
    "start_time": "2025-04-10T10:47:49.103Z"
   },
   {
    "duration": 115,
    "start_time": "2025-04-10T10:47:49.684Z"
   },
   {
    "duration": 1293,
    "start_time": "2025-04-10T16:50:15.889Z"
   },
   {
    "duration": 0,
    "start_time": "2025-04-10T16:50:17.185Z"
   },
   {
    "duration": 0,
    "start_time": "2025-04-10T16:50:17.186Z"
   },
   {
    "duration": 0,
    "start_time": "2025-04-10T16:50:17.187Z"
   },
   {
    "duration": 0,
    "start_time": "2025-04-10T16:50:17.188Z"
   },
   {
    "duration": 0,
    "start_time": "2025-04-10T16:50:17.188Z"
   },
   {
    "duration": 0,
    "start_time": "2025-04-10T16:50:17.189Z"
   },
   {
    "duration": 0,
    "start_time": "2025-04-10T16:50:17.190Z"
   },
   {
    "duration": 0,
    "start_time": "2025-04-10T16:50:17.191Z"
   },
   {
    "duration": 0,
    "start_time": "2025-04-10T16:50:17.192Z"
   },
   {
    "duration": 0,
    "start_time": "2025-04-10T16:50:17.193Z"
   },
   {
    "duration": 0,
    "start_time": "2025-04-10T16:50:17.194Z"
   },
   {
    "duration": 0,
    "start_time": "2025-04-10T16:50:17.195Z"
   },
   {
    "duration": 0,
    "start_time": "2025-04-10T16:50:17.196Z"
   },
   {
    "duration": 0,
    "start_time": "2025-04-10T16:50:17.197Z"
   },
   {
    "duration": 0,
    "start_time": "2025-04-10T16:50:17.198Z"
   },
   {
    "duration": 0,
    "start_time": "2025-04-10T16:50:17.199Z"
   },
   {
    "duration": 0,
    "start_time": "2025-04-10T16:50:17.201Z"
   },
   {
    "duration": 0,
    "start_time": "2025-04-10T16:50:17.201Z"
   },
   {
    "duration": 0,
    "start_time": "2025-04-10T16:50:17.202Z"
   },
   {
    "duration": 0,
    "start_time": "2025-04-10T16:50:17.204Z"
   },
   {
    "duration": 0,
    "start_time": "2025-04-10T16:50:17.205Z"
   },
   {
    "duration": 0,
    "start_time": "2025-04-10T16:50:17.206Z"
   },
   {
    "duration": 0,
    "start_time": "2025-04-10T16:50:17.207Z"
   },
   {
    "duration": 0,
    "start_time": "2025-04-10T16:50:17.208Z"
   },
   {
    "duration": 0,
    "start_time": "2025-04-10T16:50:17.209Z"
   },
   {
    "duration": 0,
    "start_time": "2025-04-10T16:50:17.210Z"
   },
   {
    "duration": 0,
    "start_time": "2025-04-10T16:50:17.211Z"
   },
   {
    "duration": 0,
    "start_time": "2025-04-10T16:50:17.212Z"
   },
   {
    "duration": 0,
    "start_time": "2025-04-10T16:50:17.213Z"
   },
   {
    "duration": 0,
    "start_time": "2025-04-10T16:50:17.214Z"
   },
   {
    "duration": 0,
    "start_time": "2025-04-10T16:50:17.215Z"
   },
   {
    "duration": 0,
    "start_time": "2025-04-10T16:50:17.216Z"
   },
   {
    "duration": 0,
    "start_time": "2025-04-10T16:50:17.217Z"
   },
   {
    "duration": 0,
    "start_time": "2025-04-10T16:50:17.271Z"
   },
   {
    "duration": 0,
    "start_time": "2025-04-10T16:50:17.272Z"
   },
   {
    "duration": 0,
    "start_time": "2025-04-10T16:50:17.274Z"
   },
   {
    "duration": 0,
    "start_time": "2025-04-10T16:50:17.275Z"
   },
   {
    "duration": 0,
    "start_time": "2025-04-10T16:50:17.276Z"
   },
   {
    "duration": 0,
    "start_time": "2025-04-10T16:50:17.277Z"
   },
   {
    "duration": 0,
    "start_time": "2025-04-10T16:50:17.278Z"
   },
   {
    "duration": 0,
    "start_time": "2025-04-10T16:50:17.279Z"
   },
   {
    "duration": 0,
    "start_time": "2025-04-10T16:50:17.280Z"
   },
   {
    "duration": 0,
    "start_time": "2025-04-10T16:50:17.281Z"
   },
   {
    "duration": 0,
    "start_time": "2025-04-10T16:50:17.283Z"
   },
   {
    "duration": 0,
    "start_time": "2025-04-10T16:50:17.283Z"
   },
   {
    "duration": 0,
    "start_time": "2025-04-10T16:50:17.284Z"
   },
   {
    "duration": 0,
    "start_time": "2025-04-10T16:50:17.285Z"
   },
   {
    "duration": 0,
    "start_time": "2025-04-10T16:50:17.286Z"
   },
   {
    "duration": 0,
    "start_time": "2025-04-10T16:50:17.287Z"
   },
   {
    "duration": 0,
    "start_time": "2025-04-10T16:50:17.288Z"
   },
   {
    "duration": 3423,
    "start_time": "2025-04-10T16:51:48.829Z"
   },
   {
    "duration": 1382,
    "start_time": "2025-04-10T16:51:52.255Z"
   },
   {
    "duration": 261,
    "start_time": "2025-04-10T16:51:53.639Z"
   },
   {
    "duration": 16,
    "start_time": "2025-04-10T16:51:53.902Z"
   },
   {
    "duration": 14,
    "start_time": "2025-04-10T16:51:53.921Z"
   },
   {
    "duration": 11,
    "start_time": "2025-04-10T16:51:53.936Z"
   },
   {
    "duration": 10,
    "start_time": "2025-04-10T16:51:53.948Z"
   },
   {
    "duration": 10,
    "start_time": "2025-04-10T16:51:53.971Z"
   },
   {
    "duration": 13,
    "start_time": "2025-04-10T16:51:53.983Z"
   },
   {
    "duration": 18,
    "start_time": "2025-04-10T16:51:53.998Z"
   },
   {
    "duration": 5,
    "start_time": "2025-04-10T16:51:54.017Z"
   },
   {
    "duration": 9,
    "start_time": "2025-04-10T16:51:54.023Z"
   },
   {
    "duration": 5,
    "start_time": "2025-04-10T16:51:54.033Z"
   },
   {
    "duration": 4,
    "start_time": "2025-04-10T16:51:54.072Z"
   },
   {
    "duration": 12,
    "start_time": "2025-04-10T16:51:54.077Z"
   },
   {
    "duration": 10,
    "start_time": "2025-04-10T16:51:54.090Z"
   },
   {
    "duration": 17,
    "start_time": "2025-04-10T16:51:54.101Z"
   },
   {
    "duration": 5,
    "start_time": "2025-04-10T16:51:54.120Z"
   },
   {
    "duration": 11,
    "start_time": "2025-04-10T16:51:54.127Z"
   },
   {
    "duration": 5,
    "start_time": "2025-04-10T16:51:54.140Z"
   },
   {
    "duration": 13,
    "start_time": "2025-04-10T16:51:54.170Z"
   },
   {
    "duration": 8,
    "start_time": "2025-04-10T16:51:54.185Z"
   },
   {
    "duration": 7,
    "start_time": "2025-04-10T16:51:54.195Z"
   },
   {
    "duration": 10,
    "start_time": "2025-04-10T16:51:54.204Z"
   },
   {
    "duration": 5,
    "start_time": "2025-04-10T16:51:54.215Z"
   },
   {
    "duration": 4,
    "start_time": "2025-04-10T16:51:54.222Z"
   },
   {
    "duration": 47,
    "start_time": "2025-04-10T16:51:54.227Z"
   },
   {
    "duration": 6,
    "start_time": "2025-04-10T16:51:54.276Z"
   },
   {
    "duration": 15,
    "start_time": "2025-04-10T16:51:54.284Z"
   },
   {
    "duration": 13,
    "start_time": "2025-04-10T16:51:54.300Z"
   },
   {
    "duration": 4,
    "start_time": "2025-04-10T16:51:54.314Z"
   },
   {
    "duration": 62,
    "start_time": "2025-04-10T16:51:54.320Z"
   },
   {
    "duration": 29,
    "start_time": "2025-04-10T16:51:54.384Z"
   },
   {
    "duration": 348,
    "start_time": "2025-04-10T16:51:54.415Z"
   },
   {
    "duration": 342,
    "start_time": "2025-04-10T16:51:54.770Z"
   },
   {
    "duration": 364,
    "start_time": "2025-04-10T16:51:55.114Z"
   },
   {
    "duration": 236,
    "start_time": "2025-04-10T16:51:55.479Z"
   },
   {
    "duration": 348,
    "start_time": "2025-04-10T16:51:55.717Z"
   },
   {
    "duration": 310,
    "start_time": "2025-04-10T16:51:56.071Z"
   },
   {
    "duration": 12,
    "start_time": "2025-04-10T16:51:56.382Z"
   },
   {
    "duration": 192,
    "start_time": "2025-04-10T16:51:56.397Z"
   },
   {
    "duration": 207,
    "start_time": "2025-04-10T16:51:56.590Z"
   },
   {
    "duration": 352,
    "start_time": "2025-04-10T16:51:56.798Z"
   },
   {
    "duration": 21,
    "start_time": "2025-04-10T16:51:57.152Z"
   },
   {
    "duration": 129,
    "start_time": "2025-04-10T16:51:57.175Z"
   },
   {
    "duration": 316,
    "start_time": "2025-04-10T16:51:57.306Z"
   },
   {
    "duration": 46,
    "start_time": "2025-04-10T16:51:57.624Z"
   },
   {
    "duration": 204,
    "start_time": "2025-04-10T16:51:57.672Z"
   },
   {
    "duration": 242,
    "start_time": "2025-04-10T16:51:57.877Z"
   },
   {
    "duration": 14,
    "start_time": "2025-04-10T16:51:58.121Z"
   },
   {
    "duration": 569,
    "start_time": "2025-04-10T16:51:58.137Z"
   },
   {
    "duration": 123,
    "start_time": "2025-04-10T16:51:58.708Z"
   },
   {
    "duration": 3386,
    "start_time": "2025-09-16T10:30:14.772Z"
   },
   {
    "duration": 1450,
    "start_time": "2025-09-16T10:30:18.161Z"
   },
   {
    "duration": 170,
    "start_time": "2025-09-16T10:30:19.612Z"
   },
   {
    "duration": 16,
    "start_time": "2025-09-16T10:30:19.784Z"
   },
   {
    "duration": 28,
    "start_time": "2025-09-16T10:30:19.801Z"
   },
   {
    "duration": 27,
    "start_time": "2025-09-16T10:30:19.831Z"
   },
   {
    "duration": 28,
    "start_time": "2025-09-16T10:30:19.860Z"
   },
   {
    "duration": 45,
    "start_time": "2025-09-16T10:30:19.889Z"
   },
   {
    "duration": 33,
    "start_time": "2025-09-16T10:30:19.935Z"
   },
   {
    "duration": 22,
    "start_time": "2025-09-16T10:30:19.971Z"
   },
   {
    "duration": 41,
    "start_time": "2025-09-16T10:30:19.995Z"
   },
   {
    "duration": 28,
    "start_time": "2025-09-16T10:30:20.038Z"
   },
   {
    "duration": 11,
    "start_time": "2025-09-16T10:30:20.068Z"
   },
   {
    "duration": 24,
    "start_time": "2025-09-16T10:30:20.081Z"
   },
   {
    "duration": 43,
    "start_time": "2025-09-16T10:30:20.107Z"
   },
   {
    "duration": 46,
    "start_time": "2025-09-16T10:30:20.151Z"
   },
   {
    "duration": 38,
    "start_time": "2025-09-16T10:30:20.199Z"
   },
   {
    "duration": 77,
    "start_time": "2025-09-16T10:30:20.239Z"
   },
   {
    "duration": 50,
    "start_time": "2025-09-16T10:30:20.318Z"
   },
   {
    "duration": 29,
    "start_time": "2025-09-16T10:30:20.370Z"
   },
   {
    "duration": 20,
    "start_time": "2025-09-16T10:30:20.400Z"
   },
   {
    "duration": 22,
    "start_time": "2025-09-16T10:30:20.421Z"
   },
   {
    "duration": 21,
    "start_time": "2025-09-16T10:30:20.445Z"
   },
   {
    "duration": 107,
    "start_time": "2025-09-16T10:30:20.469Z"
   },
   {
    "duration": 7,
    "start_time": "2025-09-16T10:30:20.578Z"
   },
   {
    "duration": 8,
    "start_time": "2025-09-16T10:30:20.587Z"
   },
   {
    "duration": 7,
    "start_time": "2025-09-16T10:30:20.597Z"
   },
   {
    "duration": 63,
    "start_time": "2025-09-16T10:30:20.608Z"
   },
   {
    "duration": 88,
    "start_time": "2025-09-16T10:30:20.673Z"
   },
   {
    "duration": 29,
    "start_time": "2025-09-16T10:30:20.762Z"
   },
   {
    "duration": 21,
    "start_time": "2025-09-16T10:30:20.793Z"
   },
   {
    "duration": 22,
    "start_time": "2025-09-16T10:30:20.816Z"
   },
   {
    "duration": 63,
    "start_time": "2025-09-16T10:30:20.839Z"
   },
   {
    "duration": 437,
    "start_time": "2025-09-16T10:30:20.904Z"
   },
   {
    "duration": 395,
    "start_time": "2025-09-16T10:30:21.343Z"
   },
   {
    "duration": 368,
    "start_time": "2025-09-16T10:30:21.740Z"
   },
   {
    "duration": 248,
    "start_time": "2025-09-16T10:30:22.111Z"
   },
   {
    "duration": 360,
    "start_time": "2025-09-16T10:30:22.361Z"
   },
   {
    "duration": 370,
    "start_time": "2025-09-16T10:30:22.723Z"
   },
   {
    "duration": 12,
    "start_time": "2025-09-16T10:30:23.099Z"
   },
   {
    "duration": 203,
    "start_time": "2025-09-16T10:30:23.113Z"
   },
   {
    "duration": 219,
    "start_time": "2025-09-16T10:30:23.318Z"
   },
   {
    "duration": 387,
    "start_time": "2025-09-16T10:30:23.539Z"
   },
   {
    "duration": 10,
    "start_time": "2025-09-16T10:30:23.928Z"
   },
   {
    "duration": 151,
    "start_time": "2025-09-16T10:30:23.939Z"
   },
   {
    "duration": 297,
    "start_time": "2025-09-16T10:30:24.092Z"
   },
   {
    "duration": 32,
    "start_time": "2025-09-16T10:30:24.399Z"
   },
   {
    "duration": 232,
    "start_time": "2025-09-16T10:30:24.433Z"
   },
   {
    "duration": 289,
    "start_time": "2025-09-16T10:30:24.667Z"
   },
   {
    "duration": 15,
    "start_time": "2025-09-16T10:30:24.957Z"
   },
   {
    "duration": 630,
    "start_time": "2025-09-16T10:30:24.974Z"
   },
   {
    "duration": 120,
    "start_time": "2025-09-16T10:30:25.606Z"
   },
   {
    "duration": 2714,
    "start_time": "2025-09-16T10:33:12.969Z"
   },
   {
    "duration": 1311,
    "start_time": "2025-09-16T10:33:15.685Z"
   },
   {
    "duration": 157,
    "start_time": "2025-09-16T10:33:16.998Z"
   },
   {
    "duration": 18,
    "start_time": "2025-09-16T10:33:17.157Z"
   },
   {
    "duration": 17,
    "start_time": "2025-09-16T10:33:17.177Z"
   },
   {
    "duration": 28,
    "start_time": "2025-09-16T10:33:17.195Z"
   },
   {
    "duration": 23,
    "start_time": "2025-09-16T10:33:17.225Z"
   },
   {
    "duration": 28,
    "start_time": "2025-09-16T10:33:17.249Z"
   },
   {
    "duration": 84,
    "start_time": "2025-09-16T10:33:17.279Z"
   },
   {
    "duration": 21,
    "start_time": "2025-09-16T10:33:17.365Z"
   },
   {
    "duration": 29,
    "start_time": "2025-09-16T10:33:17.388Z"
   },
   {
    "duration": 23,
    "start_time": "2025-09-16T10:33:17.419Z"
   },
   {
    "duration": 5,
    "start_time": "2025-09-16T10:33:17.443Z"
   },
   {
    "duration": 25,
    "start_time": "2025-09-16T10:33:17.451Z"
   },
   {
    "duration": 17,
    "start_time": "2025-09-16T10:33:17.478Z"
   },
   {
    "duration": 10,
    "start_time": "2025-09-16T10:33:17.496Z"
   },
   {
    "duration": 10,
    "start_time": "2025-09-16T10:33:17.508Z"
   },
   {
    "duration": 20,
    "start_time": "2025-09-16T10:33:17.520Z"
   },
   {
    "duration": 22,
    "start_time": "2025-09-16T10:33:17.542Z"
   },
   {
    "duration": 25,
    "start_time": "2025-09-16T10:33:17.566Z"
   },
   {
    "duration": 15,
    "start_time": "2025-09-16T10:33:17.593Z"
   },
   {
    "duration": 6,
    "start_time": "2025-09-16T10:33:17.610Z"
   },
   {
    "duration": 10,
    "start_time": "2025-09-16T10:33:17.618Z"
   },
   {
    "duration": 17,
    "start_time": "2025-09-16T10:33:17.630Z"
   },
   {
    "duration": 5,
    "start_time": "2025-09-16T10:33:17.648Z"
   },
   {
    "duration": 9,
    "start_time": "2025-09-16T10:33:17.655Z"
   },
   {
    "duration": 33,
    "start_time": "2025-09-16T10:33:17.666Z"
   },
   {
    "duration": 8,
    "start_time": "2025-09-16T10:33:17.700Z"
   },
   {
    "duration": 96,
    "start_time": "2025-09-16T10:33:17.710Z"
   },
   {
    "duration": 14,
    "start_time": "2025-09-16T10:33:17.808Z"
   },
   {
    "duration": 4,
    "start_time": "2025-09-16T10:33:17.824Z"
   },
   {
    "duration": 39,
    "start_time": "2025-09-16T10:33:17.829Z"
   },
   {
    "duration": 51,
    "start_time": "2025-09-16T10:33:17.870Z"
   },
   {
    "duration": 381,
    "start_time": "2025-09-16T10:33:17.923Z"
   },
   {
    "duration": 407,
    "start_time": "2025-09-16T10:33:18.305Z"
   },
   {
    "duration": 356,
    "start_time": "2025-09-16T10:33:18.714Z"
   },
   {
    "duration": 272,
    "start_time": "2025-09-16T10:33:19.072Z"
   },
   {
    "duration": 370,
    "start_time": "2025-09-16T10:33:19.346Z"
   },
   {
    "duration": 374,
    "start_time": "2025-09-16T10:33:19.718Z"
   },
   {
    "duration": 12,
    "start_time": "2025-09-16T10:33:20.099Z"
   },
   {
    "duration": 209,
    "start_time": "2025-09-16T10:33:20.115Z"
   },
   {
    "duration": 223,
    "start_time": "2025-09-16T10:33:20.326Z"
   },
   {
    "duration": 369,
    "start_time": "2025-09-16T10:33:20.551Z"
   },
   {
    "duration": 9,
    "start_time": "2025-09-16T10:33:20.922Z"
   },
   {
    "duration": 149,
    "start_time": "2025-09-16T10:33:20.932Z"
   },
   {
    "duration": 288,
    "start_time": "2025-09-16T10:33:21.083Z"
   },
   {
    "duration": 39,
    "start_time": "2025-09-16T10:33:21.373Z"
   },
   {
    "duration": 225,
    "start_time": "2025-09-16T10:33:21.414Z"
   },
   {
    "duration": 227,
    "start_time": "2025-09-16T10:33:21.640Z"
   },
   {
    "duration": 31,
    "start_time": "2025-09-16T10:33:21.869Z"
   },
   {
    "duration": 620,
    "start_time": "2025-09-16T10:33:21.902Z"
   },
   {
    "duration": 117,
    "start_time": "2025-09-16T10:33:22.524Z"
   },
   {
    "duration": 12,
    "start_time": "2025-09-16T10:35:09.857Z"
   },
   {
    "duration": 11,
    "start_time": "2025-09-16T10:35:42.613Z"
   },
   {
    "duration": 23,
    "start_time": "2025-09-16T10:43:48.547Z"
   },
   {
    "duration": 2764,
    "start_time": "2025-09-16T10:43:56.289Z"
   },
   {
    "duration": 1297,
    "start_time": "2025-09-16T10:43:59.055Z"
   },
   {
    "duration": 174,
    "start_time": "2025-09-16T10:44:00.354Z"
   },
   {
    "duration": 18,
    "start_time": "2025-09-16T10:44:00.529Z"
   },
   {
    "duration": 22,
    "start_time": "2025-09-16T10:44:00.550Z"
   },
   {
    "duration": 53,
    "start_time": "2025-09-16T10:44:00.574Z"
   },
   {
    "duration": 46,
    "start_time": "2025-09-16T10:44:00.629Z"
   },
   {
    "duration": 17,
    "start_time": "2025-09-16T10:44:00.698Z"
   },
   {
    "duration": 28,
    "start_time": "2025-09-16T10:44:00.717Z"
   },
   {
    "duration": 112,
    "start_time": "2025-09-16T10:44:00.747Z"
   },
   {
    "duration": 55,
    "start_time": "2025-09-16T10:44:00.860Z"
   },
   {
    "duration": 41,
    "start_time": "2025-09-16T10:44:00.917Z"
   },
   {
    "duration": 23,
    "start_time": "2025-09-16T10:44:00.960Z"
   },
   {
    "duration": 58,
    "start_time": "2025-09-16T10:44:00.987Z"
   },
   {
    "duration": 12,
    "start_time": "2025-09-16T10:44:01.046Z"
   },
   {
    "duration": 27,
    "start_time": "2025-09-16T10:44:01.060Z"
   },
   {
    "duration": 40,
    "start_time": "2025-09-16T10:44:01.089Z"
   },
   {
    "duration": 43,
    "start_time": "2025-09-16T10:44:01.130Z"
   },
   {
    "duration": 72,
    "start_time": "2025-09-16T10:44:01.175Z"
   },
   {
    "duration": 160,
    "start_time": "2025-09-16T10:44:01.249Z"
   },
   {
    "duration": 71,
    "start_time": "2025-09-16T10:44:01.411Z"
   },
   {
    "duration": 55,
    "start_time": "2025-09-16T10:44:01.484Z"
   },
   {
    "duration": 46,
    "start_time": "2025-09-16T10:44:01.541Z"
   },
   {
    "duration": 44,
    "start_time": "2025-09-16T10:44:01.589Z"
   },
   {
    "duration": 50,
    "start_time": "2025-09-16T10:44:01.634Z"
   },
   {
    "duration": 26,
    "start_time": "2025-09-16T10:44:01.686Z"
   },
   {
    "duration": 68,
    "start_time": "2025-09-16T10:44:01.714Z"
   },
   {
    "duration": 95,
    "start_time": "2025-09-16T10:44:01.784Z"
   },
   {
    "duration": 76,
    "start_time": "2025-09-16T10:44:01.881Z"
   },
   {
    "duration": 33,
    "start_time": "2025-09-16T10:44:01.959Z"
   },
   {
    "duration": 18,
    "start_time": "2025-09-16T10:44:01.994Z"
   },
   {
    "duration": 70,
    "start_time": "2025-09-16T10:44:02.013Z"
   },
   {
    "duration": 99,
    "start_time": "2025-09-16T10:44:02.085Z"
   },
   {
    "duration": 416,
    "start_time": "2025-09-16T10:44:02.186Z"
   },
   {
    "duration": 395,
    "start_time": "2025-09-16T10:44:02.604Z"
   },
   {
    "duration": 336,
    "start_time": "2025-09-16T10:44:03.001Z"
   },
   {
    "duration": 224,
    "start_time": "2025-09-16T10:44:03.338Z"
   },
   {
    "duration": 356,
    "start_time": "2025-09-16T10:44:03.598Z"
   },
   {
    "duration": 354,
    "start_time": "2025-09-16T10:44:03.955Z"
   },
   {
    "duration": 13,
    "start_time": "2025-09-16T10:44:04.311Z"
   },
   {
    "duration": 234,
    "start_time": "2025-09-16T10:44:04.328Z"
   },
   {
    "duration": 250,
    "start_time": "2025-09-16T10:44:04.564Z"
   },
   {
    "duration": 373,
    "start_time": "2025-09-16T10:44:04.816Z"
   },
   {
    "duration": 10,
    "start_time": "2025-09-16T10:44:05.200Z"
   },
   {
    "duration": 176,
    "start_time": "2025-09-16T10:44:05.211Z"
   },
   {
    "duration": 372,
    "start_time": "2025-09-16T10:44:05.389Z"
   },
   {
    "duration": 45,
    "start_time": "2025-09-16T10:44:05.763Z"
   },
   {
    "duration": 334,
    "start_time": "2025-09-16T10:44:05.809Z"
   },
   {
    "duration": 216,
    "start_time": "2025-09-16T10:44:06.146Z"
   },
   {
    "duration": 16,
    "start_time": "2025-09-16T10:44:06.364Z"
   },
   {
    "duration": 626,
    "start_time": "2025-09-16T10:44:06.399Z"
   },
   {
    "duration": 129,
    "start_time": "2025-09-16T10:44:07.027Z"
   },
   {
    "duration": 399,
    "start_time": "2025-09-16T10:44:27.739Z"
   }
  ],
  "colab": {
   "provenance": []
  },
  "kernelspec": {
   "display_name": "Python 3 (ipykernel)",
   "language": "python",
   "name": "python3"
  },
  "language_info": {
   "codemirror_mode": {
    "name": "ipython",
    "version": 3
   },
   "file_extension": ".py",
   "mimetype": "text/x-python",
   "name": "python",
   "nbconvert_exporter": "python",
   "pygments_lexer": "ipython3",
   "version": "3.9.5"
  },
  "toc": {
   "base_numbering": 1,
   "nav_menu": {},
   "number_sections": true,
   "sideBar": true,
   "skip_h1_title": true,
   "title_cell": "Table of Contents",
   "title_sidebar": "Contents",
   "toc_cell": false,
   "toc_position": {
    "height": "calc(100% - 180px)",
    "left": "10px",
    "top": "150px",
    "width": "343.594px"
   },
   "toc_section_display": true,
   "toc_window_display": true
  }
 },
 "nbformat": 4,
 "nbformat_minor": 5
}
